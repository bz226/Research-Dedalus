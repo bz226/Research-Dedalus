{
 "cells": [
  {
   "cell_type": "code",
   "execution_count": 1,
   "metadata": {},
   "outputs": [],
   "source": [
    "\"\"\"\n",
    "Plot 2D slice graphs.\n",
    "\n",
    "\"\"\"\n",
    "\n",
    "import h5py\n",
    "import numpy as np\n",
    "import matplotlib\n",
    "matplotlib.use('Agg')\n",
    "import matplotlib.pyplot as plt\n",
    "from dedalus.extras import plot_tools\n",
    "import os\n",
    "from os import listdir\n"
   ]
  },
  {
   "cell_type": "code",
   "execution_count": 7,
   "metadata": {},
   "outputs": [],
   "source": [
    "#parameters\n",
    "\n",
    "Lx=4\n",
    "Ly=4\n",
    "Lz=1\n",
    "x_scale=256\n",
    "y_scale=256\n",
    "z_scale=64\n",
    "y_slice_afterscale=10\n",
    "\n",
    "y_slice_beforescale=y_slice_afterscale/y_scale*Ly"
   ]
  },
  {
   "cell_type": "code",
   "execution_count": 8,
   "metadata": {},
   "outputs": [],
   "source": [
    "folder_dir = \"snapshots\"\n",
    "\n",
    "file_paths = [os.path.join(folder_dir, file) for file in listdir(folder_dir) if os.path.isfile(os.path.join(folder_dir, file)) and file.endswith('.h5')]\n",
    "file_paths.sort()"
   ]
  },
  {
   "cell_type": "code",
   "execution_count": 11,
   "metadata": {},
   "outputs": [
    {
     "name": "stdout",
     "output_type": "stream",
     "text": [
      "t\n",
      "t\n",
      "t\n",
      "t\n"
     ]
    }
   ],
   "source": [
    "n=0\n",
    "for file in file_paths:\n",
    "    with h5py.File(file, mode='r') as file:\n",
    "            b = file['tasks']['buoyancy']\n",
    "            st = b.dims[0]['sim_time']\n",
    "            # Plot data\n",
    "            for t in range(50):\n",
    "                b_phase=b[t,:,y_slice_afterscale,:]\n",
    "                b_phasef=np.transpose(b_phase)\n",
    "                plt.figure(figsize=(20,5), dpi=100)\n",
    "                plt.pcolormesh(b_phasef,cmap='RdBu_r')\n",
    "                plt.colorbar(label='buoyancy')\n",
    "                plt.xlabel('x')\n",
    "                plt.ylabel('z')\n",
    "                x = np.linspace(-2,2,num=9)\n",
    "                z = np.linspace(0,1,num=5)\n",
    "                \n",
    "                # create an index for each tick position\n",
    "                xi = np.linspace(0,256,num=9)\n",
    "                zi = np.linspace(0,64,num=5)\n",
    "                plt.xticks(xi,x)\n",
    "                plt.yticks(zi,z)\n",
    "\n",
    "                # Add time title\n",
    "                title = \"t=\"+str(st[t])\n",
    "                plt.title(title)\n",
    "                # Save figure\n",
    "                savename = \"Plot_\"+\"%04d\"%n+\".png\"\n",
    "                savepath = 'frames/'+savename\n",
    "                n=n+1\n",
    "                plt.savefig(str(savepath), dpi=200)\n",
    "                matplotlib.pyplot.close()\n"
   ]
  },
  {
   "cell_type": "code",
   "execution_count": null,
   "metadata": {},
   "outputs": [],
   "source": []
  }
 ],
 "metadata": {
  "kernelspec": {
   "display_name": "dedalus3",
   "language": "python",
   "name": "dedalus3"
  },
  "language_info": {
   "codemirror_mode": {
    "name": "ipython",
    "version": 3
   },
   "file_extension": ".py",
   "mimetype": "text/x-python",
   "name": "python",
   "nbconvert_exporter": "python",
   "pygments_lexer": "ipython3",
   "version": "3.10.10"
  }
 },
 "nbformat": 4,
 "nbformat_minor": 4
}
