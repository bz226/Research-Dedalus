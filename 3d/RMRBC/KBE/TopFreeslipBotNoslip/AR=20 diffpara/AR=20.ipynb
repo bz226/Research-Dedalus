{
 "cells": [
  {
   "cell_type": "code",
   "execution_count": 1,
   "metadata": {},
   "outputs": [
    {
     "data": {
      "text/plain": [
       "'\\nDedalus script simulating 2D horizontally-periodic Rayleigh-Benard convection.\\nThis script demonstrates solving a 2D Cartesian initial value problem. It can\\nbe ran serially or in parallel, and uses the built-in analysis framework to save\\ndata snapshots to HDF5 files. The `plot_snapshots.py` script can be used to\\nproduce plots from the saved data. It should take about 5 cpu-minutes to run.\\n\\nFor incompressible hydro with two boundaries, we need two tau terms for each the\\nvelocity and buoyancy. Here we choose to use a first-order formulation, putting\\none tau term each on auxiliary first-order gradient variables and the others in\\nthe PDE, and lifting them all to the first derivative basis. This formulation puts\\na tau term in the divergence constraint, as required for this geometry.\\n\\nTo run and plot using e.g. 4 processes:\\n    $ mpiexec -n 4 python3 rayleigh_benard.py\\n    $ mpiexec -n 4 python3 plot_snapshots.py snapshots/*.h5\\n'"
      ]
     },
     "execution_count": 1,
     "metadata": {},
     "output_type": "execute_result"
    }
   ],
   "source": [
    "\"\"\"\n",
    "Dedalus script simulating 2D horizontally-periodic Rayleigh-Benard convection.\n",
    "This script demonstrates solving a 2D Cartesian initial value problem. It can\n",
    "be ran serially or in parallel, and uses the built-in analysis framework to save\n",
    "data snapshots to HDF5 files. The `plot_snapshots.py` script can be used to\n",
    "produce plots from the saved data. It should take about 5 cpu-minutes to run.\n",
    "\n",
    "For incompressible hydro with two boundaries, we need two tau terms for each the\n",
    "velocity and buoyancy. Here we choose to use a first-order formulation, putting\n",
    "one tau term each on auxiliary first-order gradient variables and the others in\n",
    "the PDE, and lifting them all to the first derivative basis. This formulation puts\n",
    "a tau term in the divergence constraint, as required for this geometry.\n",
    "\n",
    "To run and plot using e.g. 4 processes:\n",
    "    $ mpiexec -n 4 python3 rayleigh_benard.py\n",
    "    $ mpiexec -n 4 python3 plot_snapshots.py snapshots/*.h5\n",
    "\"\"\"\n"
   ]
  },
  {
   "cell_type": "code",
   "execution_count": 1,
   "metadata": {},
   "outputs": [],
   "source": [
    "import numpy as np\n",
    "import dedalus.public as d3\n",
    "import logging\n",
    "logger = logging.getLogger(__name__)\n",
    "import copy\n",
    "import h5py\n",
    "import numpy as np\n",
    "import re\n",
    "import matplotlib\n",
    "\n",
    "import matplotlib.pyplot as plt\n",
    "from dedalus.extras import plot_tools\n",
    "\n",
    "from mpl_toolkits.mplot3d import Axes3D\n",
    "from matplotlib.colors import Normalize\n",
    "\n",
    "import os\n",
    "from os import listdir\n"
   ]
  },
  {
   "cell_type": "code",
   "execution_count": 2,
   "metadata": {},
   "outputs": [],
   "source": [
    "# Parameters\n",
    "Lx, Ly, Lz = 20,20,1\n",
    "Nx, Ny, Nz = 640, 640, 32\n",
    "\n",
    "Ra_D = -1.24e5\n",
    "Prandtl = 0.7\n",
    "N_s2 = 3\n",
    "\n",
    "D_0 = 0\n",
    "D_H = 1\n",
    "M_0 = 0\n",
    "M_H = -2\n",
    "f=0.013\n",
    "\n",
    "dealias = 3/2\n",
    "stop_sim_time = 100\n",
    "timestepper = d3.RK222\n",
    "max_timestep = 0.125\n",
    "dtype = np.float64"
   ]
  },
  {
   "cell_type": "code",
   "execution_count": 3,
   "metadata": {},
   "outputs": [],
   "source": [
    "# Bases\n",
    "coords = d3.CartesianCoordinates('x','y', 'z')\n",
    "dist = d3.Distributor(coords, dtype=dtype)\n",
    "xbasis = d3.RealFourier(coords['x'], size=Nx, bounds=(0, Lx), dealias=dealias)\n",
    "ybasis = d3.RealFourier(coords['y'], size=Ny, bounds=(0, Ly), dealias=dealias)\n",
    "zbasis = d3.ChebyshevT(coords['z'], size=Nz, bounds=(0, Lz), dealias=dealias)"
   ]
  },
  {
   "cell_type": "code",
   "execution_count": 4,
   "metadata": {},
   "outputs": [
    {
     "name": "stdout",
     "output_type": "stream",
     "text": [
      "kappa 0.003394221166510653\n",
      "nu 0.002375954816557457\n",
      "248000.0\n",
      "372000.00000000006\n",
      "R_0 108.78565864408422\n"
     ]
    }
   ],
   "source": [
    "# Fields\n",
    "p = dist.Field(name='p', bases=(xbasis,ybasis,zbasis))\n",
    "D = dist.Field(name='D', bases=(xbasis,ybasis,zbasis))\n",
    "M = dist.Field(name='M', bases=(xbasis,ybasis,zbasis))\n",
    "u = dist.VectorField(coords, name='u', bases=(xbasis,ybasis,zbasis))\n",
    "Z = dist.Field(name='Z', bases=zbasis)\n",
    "tau_p = dist.Field(name='tau_p')\n",
    "tau_B1 = dist.Field(name='tau_B1', bases=(xbasis,ybasis))\n",
    "tau_B2 = dist.Field(name='tau_B2', bases=(xbasis,ybasis))\n",
    "tau_D1 = dist.Field(name='tau_D1', bases=(xbasis,ybasis))\n",
    "tau_D2 = dist.Field(name='tau_D2', bases=(xbasis,ybasis))\n",
    "tau_M1 = dist.Field(name='tau_M1', bases=(xbasis,ybasis))\n",
    "tau_M2 = dist.Field(name='tau_M2', bases=(xbasis,ybasis))\n",
    "tau_u1 = dist.VectorField(coords, name='tau_u1', bases=(xbasis,ybasis))\n",
    "tau_u2 = dist.VectorField(coords, name='tau_u2', bases=(xbasis,ybasis))\n",
    "\n",
    "# Substitutions\n",
    "kappa = (Ra_D * Prandtl/((D_0-D_H)*Lz**3))**(-1/2)\n",
    "nu = (Ra_D / (Prandtl*(D_0-D_H)*Lz**3))**(-1/2)\n",
    "print('kappa',kappa)\n",
    "print('nu',nu)\n",
    "      \n",
    "#Kuo_Bretherton Equilibrium\n",
    "\n",
    "#Ra_M\n",
    "Ra_M = Ra_D*(M_0-M_H)/(D_0-D_H)\n",
    "G_D=(D_0-D_H)/Lz\n",
    "G_M=(M_0-M_H)/Lz\n",
    "Ra_BV=N_s2*Lz**4/(nu*kappa)\n",
    "print(Ra_M)\n",
    "print(Ra_BV)\n",
    "Td=Lz**2/(nu*kappa)**(1/2)\n",
    "Tc=(Lz/(M_0-M_H))**(1/2)\n",
    "Tr=1/f\n",
    "R_0=Tr/Tc\n",
    "print('R_0',R_0)\n",
    "\n",
    "x,y,z = dist.local_grids(xbasis,ybasis,zbasis)\n",
    "Z['g']=z\n",
    "Z.change_scales(3/2)\n",
    "\n",
    "ex,ey,ez = coords.unit_vector_fields(dist)\n",
    "lift_basis = zbasis.derivative_basis(1)\n",
    "lift = lambda A: d3.Lift(A, lift_basis, -1)\n",
    "\n",
    "B_op = (np.absolute(D - M - N_s2*Z)+ M + D - N_s2*Z)/2\n",
    "\n",
    "Max = lambda A,B: (abs(A-N_s2*Z-B)+A-N_s2*Z+B)/2\n",
    "eva = lambda A: A.evaluate()\n",
    "\n",
    "dz= lambda A: d3.Differentiate(A, coords['z'])\n",
    "dx= lambda A: d3.Differentiate(A, coords['x'])\n",
    "dy= lambda A: d3.Differentiate(A, Coords['y'])\n",
    "\n",
    "ux=u@ex\n",
    "uy=u@ey\n",
    "uz=u@ez\n",
    "\n",
    "grad_u = d3.grad(u) + ez*lift(tau_u1) # First-order reduction\n",
    "grad_M = d3.grad(M) + ez*lift(tau_M1) # First-order reduction\n",
    "grad_D = d3.grad(D) + ez*lift(tau_D1) # First-order reduction"
   ]
  },
  {
   "cell_type": "code",
   "execution_count": 5,
   "metadata": {},
   "outputs": [
    {
     "data": {
      "text/plain": [
       "{'LHS': Integrate(Integrate(Integrate(<Field 23435549702320>))),\n",
       " 'RHS': 0,\n",
       " 'condition': 'True',\n",
       " 'tensorsig': (),\n",
       " 'dtype': numpy.float64,\n",
       " 'M': 0,\n",
       " 'L': Integrate(Integrate(Integrate(<Field 23435549702320>))),\n",
       " 'F': <Field 23434763638320>,\n",
       " 'domain': <dedalus.core.domain.Domain at 0x1550839d7fd0>,\n",
       " 'matrix_dependence': array([ True,  True,  True]),\n",
       " 'matrix_coupling': array([False, False,  True])}"
      ]
     },
     "execution_count": 5,
     "metadata": {},
     "output_type": "execute_result"
    }
   ],
   "source": [
    "# Problem\n",
    "# First-order form: \"div(f)\" becomes \"trace(grad_f)\"\n",
    "# First-order form: \"lap(f)\" becomes \"div(grad_f)\"\n",
    "problem = d3.IVP([p, M, D, u, tau_p, tau_M1, tau_M2, tau_D1, tau_D2, tau_u1, tau_u2], namespace=locals())\n",
    "problem.add_equation(\"trace(grad_u) + tau_p= 0\")\n",
    "problem.add_equation(\"dt(M) - kappa*div(grad_M) + lift(tau_M2) - G_M*uz= - u@grad(M)\")\n",
    "problem.add_equation(\"dt(D) - kappa*div(grad_D) + lift(tau_D2) - G_D*uz= - u@grad(D)\")\n",
    "problem.add_equation(\"dt(u) - nu*div(grad_u) + grad(p)  + lift(tau_u2)+ CrossProduct(f*ez,u)= - u@grad(u)+ B_op*ez\")\n",
    "problem.add_equation(\"M(z=0) = M_0\")\n",
    "problem.add_equation(\"D(z=0) = D_0\")\n",
    "problem.add_equation(\"u(z=0)= 0\")\n",
    "problem.add_equation(\"uz(z=Lz)= 0\")\n",
    "problem.add_equation(\"dz(ux)(z=Lz)=0\")\n",
    "problem.add_equation(\"dz(uy)(z=Lz)=0\")\n",
    "problem.add_equation(\"M(z=Lz) = M_H\")\n",
    "problem.add_equation(\"D(z=Lz) = D_H\")\n",
    "problem.add_equation(\"integ(p) = 0\") # Pressure gauge"
   ]
  },
  {
   "cell_type": "code",
   "execution_count": null,
   "metadata": {},
   "outputs": [],
   "source": [
    "# Solver\n",
    "solver = problem.build_solver(timestepper)\n",
    "solver.stop_sim_time = stop_sim_time\n"
   ]
  },
  {
   "cell_type": "code",
   "execution_count": 47,
   "metadata": {},
   "outputs": [],
   "source": [
    "D.fill_random('g', seed=42, distribution='normal', scale=1e-3) # Random noise\n",
    "D['g'] *= z * (Lz - z) # Damp noise at walls\n",
    "D['g'] += (D_H-D_0)*z # Add linear background\n",
    "M.fill_random('g', seed=28, distribution='normal', scale=1e-3) # Random noise\n",
    "M['g'] *= z * (Lz - z) # Damp noise at walls\n",
    "M['g'] += (M_H-M_0)*z # Add linear background"
   ]
  },
  {
   "cell_type": "code",
   "execution_count": null,
   "metadata": {},
   "outputs": [],
   "source": [
    "# Analysis\n",
    "snapshots = solver.evaluator.add_file_handler('snapshots', sim_dt=0.25, max_writes=1)\n",
    "snapshots.add_task(M, name='moist buoyancy')\n",
    "snapshots.add_task(D, name='dry buoyancy')\n",
    "snapshots.add_task(u, name='velocity')\n",
    "snapshots.add_tasks(solver.state, layout='g')"
   ]
  },
  {
   "cell_type": "code",
   "execution_count": null,
   "metadata": {},
   "outputs": [],
   "source": [
    "# CFL\n",
    "CFL = d3.CFL(solver, initial_dt=max_timestep, cadence=10, safety=0.5, threshold=0.05,\n",
    "             max_change=1.5, min_change=0.5, max_dt=max_timestep)\n",
    "CFL.add_velocity(u)"
   ]
  },
  {
   "cell_type": "code",
   "execution_count": null,
   "metadata": {},
   "outputs": [],
   "source": [
    "# Flow properties\n",
    "flow = d3.GlobalFlowProperty(solver, cadence=10)\n",
    "flow.add_property(np.sqrt(u@u)/nu, name='Re')\n"
   ]
  },
  {
   "cell_type": "code",
   "execution_count": null,
   "metadata": {},
   "outputs": [],
   "source": [
    "# Main loop\n",
    "startup_iter = 10\n",
    "try:\n",
    "    logger.info('Starting main loop')\n",
    "    while solver.proceed:\n",
    "        timestep = CFL.compute_timestep()\n",
    "        solver.step(timestep)\n",
    "        if (solver.iteration-1) % 10 == 0:\n",
    "            max_Re = flow.max('Re')\n",
    "            logger.info('Iteration=%i, Time=%e, dt=%e, max(Re)=%f' %(solver.iteration, solver.sim_time, timestep, max_Re))\n",
    "except:\n",
    "    logger.error('Exception raised, triggering end of main loop.')\n",
    "    raise\n",
    "finally:\n",
    "    solver.log_stats()"
   ]
  },
  {
   "cell_type": "code",
   "execution_count": 7,
   "metadata": {},
   "outputs": [
    {
     "name": "stdout",
     "output_type": "stream",
     "text": [
      "['snapshots/snapshots_s01.h5', 'snapshots/snapshots_s02.h5', 'snapshots/snapshots_s03.h5', 'snapshots/snapshots_s04.h5', 'snapshots/snapshots_s05.h5', 'snapshots/snapshots_s06.h5', 'snapshots/snapshots_s07.h5', 'snapshots/snapshots_s08.h5', 'snapshots/snapshots_s09.h5', 'snapshots/snapshots_s10.h5', 'snapshots/snapshots_s11.h5', 'snapshots/snapshots_s12.h5', 'snapshots/snapshots_s13.h5', 'snapshots/snapshots_s14.h5', 'snapshots/snapshots_s15.h5', 'snapshots/snapshots_s16.h5']\n"
     ]
    }
   ],
   "source": [
    "folder_dir = \"snapshots\"\n",
    "\n",
    "file_paths = [os.path.join(folder_dir, file) for file in listdir(folder_dir) if os.path.isfile(os.path.join(folder_dir, file)) and file.endswith('.h5')]\n",
    "#sort by the number in the file name\n",
    "file_paths.sort(key=lambda f: int(re.sub('\\D', '', f)))\n",
    "print(file_paths)"
   ]
  },
  {
   "cell_type": "code",
   "execution_count": null,
   "metadata": {},
   "outputs": [],
   "source": [
    "n=0\n",
    "\n",
    "# Plot settings\n",
    "tasks = ['moist buoyancy', 'dry buoyancy', 'vorticity']\n",
    "scale = 1.5\n",
    "dpi = 200\n",
    "title_func = lambda sim_time: 't = {:.3f}'.format(sim_time)\n",
    "savename_func = lambda write: 'write_{:06}.png'.format(write)\n",
    "\n",
    "# Layout\n",
    "nrows, ncols = 2, 2\n",
    "image = plot_tools.Box(4, 1)\n",
    "pad = plot_tools.Frame(0.3, 0, 0, 0)\n",
    "margin = plot_tools.Frame(0.2, 0.1, 0, 0)\n",
    "\n",
    "# Create multifigure\n",
    "mfig = plot_tools.MultiFigure(nrows, ncols, image, pad, margin, scale)\n",
    "fig = mfig.figure\n",
    "\n",
    "\n",
    "for file in file_paths:\n",
    "    with h5py.File(file, mode='r') as file:\n",
    "        \n",
    "            b = file['tasks']['buoyancy']\n",
    "            st = file['scales/sim_time']\n",
    "            xgrid = b.dims[1][0][:]\n",
    "            zgrid = b.dims[3][0][:]\n",
    "            xorder = np.argsort(xgrid)\n",
    "            zorder = np.argsort(zgrid)\n",
    "            xmesh, zmesh = quad_mesh(xgrid[xorder], zgrid[zorder])\n",
    "            # Plot data\n",
    "            for t in range(50):\n",
    "                b_phase=b[t,:,y_slice_afterscale,:]\n",
    "                b_phasef=np.transpose(b_phase)\n",
    "                plt.figure(figsize=(20,5), dpi=200)\n",
    "                plt.pcolormesh(xmesh, zmesh, b_phasef, shading='Auto', cmap='RdBu_r')\n",
    "                plt.tick_params(length=0, width=0)\n",
    "                plt.colorbar(label='buoyancy')\n",
    "                plt.xlabel('x')\n",
    "                plt.ylabel('z')\n",
    "\n",
    "                # Add time title\n",
    "                title = \"t=\"+str(st[t])\n",
    "                plt.title(title)\n",
    "                # Save figure\n",
    "                savename = \"Plot_\"+\"%04d\"%n+\".png\"\n",
    "                savepath = 'frames/'+savename\n",
    "                n=n+1\n",
    "                plt.savefig(str(savepath), dpi=200,bbox_inches='tight')\n",
    "                matplotlib.pyplot.close()"
   ]
  },
  {
   "cell_type": "code",
   "execution_count": null,
   "metadata": {},
   "outputs": [],
   "source": [
    "if not os.path.exists('buoyancygraph'):\n",
    "    os.mkdir('buoyancygraph')\n",
    "n=0\n",
    "for file in file_paths:\n",
    "    with h5py.File(file, mode='r') as file:\n",
    "        moistbuoyancy = file['tasks']['moist buoyancy']\n",
    "        drybuoyancy = file['tasks']['dry buoyancy']\n",
    "        buoyancy=np.maximum(moistbuoyancy,drybuoyancy-N_s2*z)\n",
    "        st = file['scales/sim_time']\n",
    "        for t in range(len(st)):\n",
    "            mb = np.transpose(moistbuoyancy[t,:,10,:])\n",
    "            db = np.transpose(drybuoyancy[t,:,10,:])\n",
    "            bu = np.transpose(buoyancy[t,:,10,:])\n",
    "            plt.contourf(bu, cmap='RdBu_r')\n",
    "            plt.colorbar(label='buoyancy')\n",
    "            plt.xlabel('x')\n",
    "            plt.ylabel('z')\n",
    "            n=n+1\n",
    "            # Add time title\n",
    "            title = \"t=\"+str(st[t])\n",
    "            plt.title(title)\n",
    "            plt.savefig('buoyancygraph/buoyancy_'+\"%04d\"%n+'.png', dpi=200,bbox_inches='tight')\n",
    "            matplotlib.pyplot.close()\n",
    "            \n"
   ]
  },
  {
   "cell_type": "code",
   "execution_count": null,
   "metadata": {},
   "outputs": [],
   "source": [
    "import matplotlib.animation as Animation\n",
    "from PIL import Image\n",
    "\n",
    "\n",
    "folder_dir = 'buoyancygraph'\n",
    "\n",
    "# Get a list of PNG file paths from the directory\n",
    "file_paths = [os.path.join(folder_dir, f) for f in listdir(folder_dir) if os.path.isfile(os.path.join(folder_dir, f)) and f.endswith('.png')]\n",
    "\n",
    "# Sort the list of file paths\n",
    "file_paths.sort()\n",
    "\n",
    "# Read the images using PIL\n",
    "imgs = [Image.open(f) for f in file_paths]\n",
    "\n",
    "fig = plt.figure(figsize=(16,4),dpi=200)\n",
    "fig.patch.set_visible(False)\n",
    "plt.axis('off')\n",
    "\n",
    "# Wrap each image in a list to create a list of sequences of artists\n",
    "imgs = [[plt.imshow(img, animated=True)] for img in imgs]\n",
    "\n",
    "ani = Animation.ArtistAnimation(fig, imgs, interval=250, blit=True, repeat_delay=1000)\n",
    "\n",
    "# Save the animation to a file\n",
    "ani.save('buoyancygraph.gif',dpi=200)\n"
   ]
  },
  {
   "cell_type": "code",
   "execution_count": null,
   "metadata": {},
   "outputs": [],
   "source": [
    "folder_dir = \"snapshots\"\n",
    "\n",
    "file_paths = [os.path.join(folder_dir, file) for file in listdir(folder_dir) if os.path.isfile(os.path.join(folder_dir, file)) and file.endswith('.h5')]\n",
    "#sort by the number in the file name\n",
    "file_paths.sort(key=lambda f: int(re.sub('\\D', '', f)))\n",
    "print(file_paths)"
   ]
  },
  {
   "cell_type": "code",
   "execution_count": 28,
   "metadata": {},
   "outputs": [],
   "source": [
    "if not os.path.exists('liquid water'):    \n",
    "    os.mkdir('liquid water')\n",
    "n=0\n",
    "for file in file_paths:\n",
    "    with h5py.File(file, mode='r') as file:\n",
    "        moistbuoyancy = file['tasks']['moist buoyancy']\n",
    "        drybuoyancy = file['tasks']['dry buoyancy']\n",
    "        ql=np.maximum(moistbuoyancy[:]-drybuoyancy[:]+N_s2*z,0)\n",
    "        st = file['scales/sim_time']\n",
    "        for t in range(50):\n",
    "            qli=np.transpose(ql[t,:,:,16])\n",
    "            plt.contourf(qli, cmap='RdBu_r')\n",
    "            plt.colorbar(label='liquid water')\n",
    "            plt.xlabel('x')\n",
    "            plt.ylabel('y')\n",
    "            n=n+1\n",
    "            # Add time title\n",
    "            title = \"t=\"+str(st[t])\n",
    "            plt.title(title)\n",
    "            plt.savefig('liquid water/liquidwater_'+\"%04d\"%n+'.png', dpi=200,bbox_inches='tight')\n",
    "            matplotlib.pyplot.close()"
   ]
  },
  {
   "cell_type": "code",
   "execution_count": 16,
   "metadata": {},
   "outputs": [
    {
     "name": "stdout",
     "output_type": "stream",
     "text": [
      "2023-06-24 21:18:23,267 matplotlib.animation 0/1 INFO :: Animation.save using <class 'matplotlib.animation.FFMpegWriter'>\n",
      "2023-06-24 21:18:23,270 matplotlib.animation 0/1 INFO :: MovieWriter._run: running command: ffmpeg -f rawvideo -vcodec rawvideo -s 3200x800 -pix_fmt rgba -r 4.0 -i pipe: -filter_complex 'split [a][b];[a] palettegen [p];[b][p] paletteuse' -y liquidwater.gif\n"
     ]
    },
    {
     "data": {
      "image/png": "[encoded data removed]",
      "text/plain": [
       "<Figure size 3200x800 with 1 Axes>"
      ]
     },
     "metadata": {},
     "output_type": "display_data"
    }
   ],
   "source": [
    "import matplotlib.animation as Animation\n",
    "from PIL import Image\n",
    "\n",
    "\n",
    "folder_dir = 'liquid water'\n",
    "\n",
    "# Get a list of PNG file paths from the directory\n",
    "file_paths = [os.path.join(folder_dir, f) for f in listdir(folder_dir) if os.path.isfile(os.path.join(folder_dir, f)) and f.endswith('.png')]\n",
    "\n",
    "# Sort the list of file paths\n",
    "file_paths.sort()\n",
    "\n",
    "# Read the images using PIL\n",
    "imgs = [Image.open(f) for f in file_paths]\n",
    "\n",
    "fig = plt.figure(figsize=(16,4),dpi=200)\n",
    "fig.patch.set_visible(False)\n",
    "plt.axis('off')\n",
    "\n",
    "# Wrap each image in a list to create a list of sequences of artists\n",
    "imgs = [[plt.imshow(img, animated=True)] for img in imgs]\n",
    "\n",
    "ani = Animation.ArtistAnimation(fig, imgs, interval=250, blit=True, repeat_delay=1000)\n",
    "\n",
    "# Save the animation to a file\n",
    "ani.save('liquidwater.gif',dpi=200)"
   ]
  },
  {
   "cell_type": "code",
   "execution_count": 6,
   "metadata": {},
   "outputs": [
    {
     "name": "stdout",
     "output_type": "stream",
     "text": [
      "['snapshots/snapshots_s1.h5', 'snapshots/snapshots_s2.h5', 'snapshots/snapshots_s3.h5', 'snapshots/snapshots_s4.h5', 'snapshots/snapshots_s5.h5', 'snapshots/snapshots_s6.h5', 'snapshots/snapshots_s7.h5', 'snapshots/snapshots_s8.h5', 'snapshots/snapshots_s9.h5', 'snapshots/snapshots_s10.h5', 'snapshots/snapshots_s11.h5', 'snapshots/snapshots_s12.h5', 'snapshots/snapshots_s13.h5', 'snapshots/snapshots_s14.h5', 'snapshots/snapshots_s15.h5', 'snapshots/snapshots_s16.h5']\n"
     ]
    }
   ],
   "source": [
    "folder_dir = \"snapshots\"\n",
    "\n",
    "file_paths = [os.path.join(folder_dir, file) for file in listdir(folder_dir) if os.path.isfile(os.path.join(folder_dir, file)) and file.endswith('.h5')]\n",
    "#sort by the number in the file name\n",
    "file_paths.sort(key=lambda f: int(re.sub('\\D', '', f)))\n",
    "print(file_paths)"
   ]
  },
  {
   "cell_type": "code",
   "execution_count": null,
   "metadata": {},
   "outputs": [],
   "source": [
    "z1=25\n",
    "if not os.path.exists('liquid water z='+str(z1)):    \n",
    "    os.mkdir('liquid water z='+str(z1))\n",
    "n=0\n",
    "for file in file_paths:\n",
    "    with h5py.File(file, mode='r') as file:\n",
    "        moistbuoyancy = file['tasks']['moist buoyancy']\n",
    "        drybuoyancy = file['tasks']['dry buoyancy']\n",
    "        ql=np.maximum(moistbuoyancy[:]-drybuoyancy[:]+N_s2*z,0)\n",
    "        st = file['scales/sim_time']\n",
    "        for t in range(len(st)):\n",
    "            qli=np.transpose(ql[t,:,:,z1])\n",
    "            X_grid, Y_grid= np.meshgrid(x, y)\n",
    "            plt.contourf(Y_grid, X_grid, qli, cmap='RdBu_r')\n",
    "            plt.colorbar(label='liquid water z='+str(z1))\n",
    "            plt.xlabel('x')\n",
    "            plt.ylabel('y')\n",
    "            n=n+1\n",
    "            # Add time title\n",
    "            title = \"t=\"+str(st[t])\n",
    "            plt.title(title)\n",
    "            plt.savefig('liquid water z='+str(z1)+'/liquid water z='+str(z1)+'_'+\"%04d\"%n+'.png', dpi=200,bbox_inches='tight')\n",
    "            matplotlib.pyplot.close()"
   ]
  },
  {
   "cell_type": "code",
   "execution_count": null,
   "metadata": {},
   "outputs": [],
   "source": [
    "import matplotlib.animation as Animation\n",
    "from PIL import Image\n",
    "\n",
    "\n",
    "folder_dir = 'liquid water z='+str(z1)\n",
    "\n",
    "# Get a list of PNG file paths from the directory\n",
    "file_paths = [os.path.join(folder_dir, f) for f in listdir(folder_dir) if os.path.isfile(os.path.join(folder_dir, f)) and f.endswith('.png')]\n",
    "\n",
    "# Sort the list of file paths\n",
    "file_paths.sort()\n",
    "\n",
    "# Read the images using PIL\n",
    "imgs = [Image.open(f) for f in file_paths]\n",
    "\n",
    "fig = plt.figure(figsize=(16,4),dpi=200)\n",
    "fig.patch.set_visible(False)\n",
    "plt.axis('off')\n",
    "\n",
    "# Wrap each image in a list to create a list of sequences of artists\n",
    "imgs = [[plt.imshow(img, animated=True)] for img in imgs]\n",
    "\n",
    "ani = Animation.ArtistAnimation(fig, imgs, interval=250, blit=True, repeat_delay=1000)\n",
    "\n",
    "# Save the animation to a file\n",
    "ani.save('liquidwater z='+str(z1)+'.gif',dpi=200)"
   ]
  },
  {
   "cell_type": "code",
   "execution_count": 6,
   "metadata": {},
   "outputs": [
    {
     "name": "stdout",
     "output_type": "stream",
     "text": [
      "['snapshots/snapshots_s1.h5', 'snapshots/snapshots_s10.h5', 'snapshots/snapshots_s11.h5', 'snapshots/snapshots_s12.h5', 'snapshots/snapshots_s13.h5', 'snapshots/snapshots_s14.h5', 'snapshots/snapshots_s15.h5', 'snapshots/snapshots_s16.h5', 'snapshots/snapshots_s2.h5', 'snapshots/snapshots_s3.h5', 'snapshots/snapshots_s4.h5', 'snapshots/snapshots_s5.h5', 'snapshots/snapshots_s6.h5', 'snapshots/snapshots_s7.h5', 'snapshots/snapshots_s8.h5', 'snapshots/snapshots_s9.h5']\n"
     ]
    }
   ],
   "source": [
    "folder_dir = \"snapshots\"\n",
    "\n",
    "file_paths = [os.path.join(folder_dir, file) for file in listdir(folder_dir) if os.path.isfile(os.path.join(folder_dir, file)) and file.endswith('.h5')]\n",
    "#sort by the number in the file name\n",
    "file_paths.sort(key=lambda f: int(re.sub('\\D', '', f)))\n",
    "print(file_paths)"
   ]
  },
  {
   "cell_type": "code",
   "execution_count": null,
   "metadata": {},
   "outputs": [],
   "source": [
    "if not os.path.exists('3D Scatter liquid'):    \n",
    "    os.mkdir('3D Scatter liquid')\n",
    "n=0\n",
    "for file in file_paths:\n",
    "    with h5py.File(file, mode='r') as file:\n",
    "        moistbuoyancy = file['tasks']['moist buoyancy']\n",
    "        drybuoyancy = file['tasks']['dry buoyancy']\n",
    "        ql=np.maximum(moistbuoyancy[:]-drybuoyancy[:]+N_s2*z,0)\n",
    "        st = file['scales/sim_time']\n",
    "        for t in range(50):\n",
    "            qli=ql[t,:,:,:]\n",
    "            z = z[::-1]\n",
    "            qli = qli[:, :, ::-1]\n",
    "            # Create a 3D grid from X, Y, Z\n",
    "            X_grid, Y_grid, Z_grid = np.meshgrid(x, y, z, indexing='ij')\n",
    "            \n",
    "            \n",
    "            # Flatten the 3D arrays\n",
    "            X_flat = X_grid.flatten()\n",
    "            Y_flat = Y_grid.flatten()\n",
    "            Z_flat = Z_grid.flatten()\n",
    "            qli_flat = qli.flatten()\n",
    "            \n",
    "            # Create a mask where D is not 0\n",
    "            mask = qli_flat != 0\n",
    "\n",
    "            # Apply the mask to X, Y, Z, and D\n",
    "            X_masked = X_flat[mask]\n",
    "            Y_masked = Y_flat[mask]\n",
    "            Z_masked = Z_flat[mask]\n",
    "            qli_masked = qli_flat[mask]\n",
    "            \n",
    "            fig = plt.figure()\n",
    "            ax = fig.add_subplot(111, projection='3d')\n",
    "            \n",
    "            # Create a scatter plot using the flattened arrays\n",
    "            scatter = ax.scatter(X_masked, Y_masked, Z_masked, c=qli_masked, cmap='viridis')\n",
    "\n",
    "            # Add a colorbar and labels\n",
    "            fig.colorbar(scatter)\n",
    "            ax.set_xlabel('x')\n",
    "            ax.set_ylabel('y')\n",
    "            ax.set_zlabel('z')\n",
    "            n=n+1\n",
    "            # Add time title\n",
    "            title = \"t=\"+str(st[t])\n",
    "            plt.title(title)\n",
    "            plt.savefig('3D Scatter liquid/3D Scatter liquid_'+\"%04d\"%n+'.png', dpi=200,bbox_inches='tight')\n",
    "            matplotlib.pyplot.close()"
   ]
  },
  {
   "cell_type": "code",
   "execution_count": null,
   "metadata": {},
   "outputs": [],
   "source": [
    "import matplotlib.animation as Animation\n",
    "from PIL import Image\n",
    "\n",
    "\n",
    "folder_dir = '3D Scatter liquid'\n",
    "\n",
    "# Get a list of PNG file paths from the directory\n",
    "file_paths = [os.path.join(folder_dir, f) for f in listdir(folder_dir) if os.path.isfile(os.path.join(folder_dir, f)) and f.endswith('.png')]\n",
    "\n",
    "# Sort the list of file paths\n",
    "file_paths.sort()\n",
    "\n",
    "# Read the images using PIL\n",
    "imgs = [Image.open(f) for f in file_paths]\n",
    "\n",
    "fig = plt.figure(figsize=(16,4),dpi=200)\n",
    "fig.patch.set_visible(False)\n",
    "plt.axis('off')\n",
    "\n",
    "# Wrap each image in a list to create a list of sequences of artists\n",
    "imgs = [[plt.imshow(img, animated=True)] for img in imgs]\n",
    "\n",
    "ani = Animation.ArtistAnimation(fig, imgs, interval=250, blit=True, repeat_delay=1000)\n",
    "\n",
    "# Save the animation to a file\n",
    "ani.save('3D Scatter liquid.gif',dpi=200)"
   ]
  },
  {
   "cell_type": "code",
   "execution_count": null,
   "metadata": {},
   "outputs": [],
   "source": [
    "if not os.path.exists('3D Scatter'):    \n",
    "    os.mkdir('3D Scatter')\n",
    "n=0\n",
    "for file in file_paths:\n",
    "    with h5py.File(file, mode='r') as file:\n",
    "        moistbuoyancy = file['tasks']['moist buoyancy']\n",
    "        drybuoyancy = file['tasks']['dry buoyancy']\n",
    "        ql=np.maximum(moistbuoyancy[:]-drybuoyancy[:]+N_s2*z,0)\n",
    "        st = file['scales/sim_time']\n",
    "        for t in range(50):\n",
    "            qli=ql[t,:,:,:]\n",
    "            # Create a 3D grid from X, Y, Z\n",
    "            X_grid, Y_grid, Z_grid = np.meshgrid(x, y, z, indexing='ij')\n",
    "            \n",
    "            # Flatten the 3D arrays\n",
    "            X_flat = X_grid.flatten()\n",
    "            Y_flat = Y_grid.flatten()\n",
    "            Z_flat = Z_grid.flatten()\n",
    "            qli_flat = qli.flatten()\n",
    "            \n",
    "           # Create a colormap\n",
    "            cmap = plt.cm.viridis\n",
    "            norm = Normalize(vmin=qli_flat.min(), vmax=D_flat.max())\n",
    "\n",
    "            # Create an RGBA array for colors, and set alpha = 0 where D == 0\n",
    "            rgba = cmap(norm(D_flat))\n",
    "            rgba[D_flat == 0, 3] = 0  # Set the alpha channel to 0 where D is 0\n",
    "\n",
    "            # Sort points by Z coordinate\n",
    "            order = np.argsort(Z_flat)\n",
    "            X_flat = X_flat[order]\n",
    "            Y_flat = Y_flat[order]\n",
    "            Z_flat = Z_flat[order]\n",
    "            rgba = rgba[order]\n",
    "\n",
    "            fig = plt.figure()\n",
    "            ax = fig.add_subplot(111, projection='3d')\n",
    "\n",
    "            # Create a scatter plot using the flattened arrays and the color array\n",
    "            scatter = ax.scatter(X_flat, Y_flat, Z_flat, c=rgba)\n",
    "\n",
    "            # Add a colorbar and labels\n",
    "            fig.colorbar(scatter)\n",
    "            ax.set_xlabel('x')\n",
    "            ax.set_ylabel('y')\n",
    "            ax.set_zlabel('z')\n",
    "            n=n+1\n",
    "            # Add time title\n",
    "            title = \"t=\"+str(st[t])\n",
    "            plt.title(title)\n",
    "            plt.savefig('3D Scatter/3D Scatter_'+\"%04d\"%n+'.png', dpi=200,bbox_inches='tight')\n",
    "            matplotlib.pyplot.close()\n"
   ]
  },
  {
   "cell_type": "code",
   "execution_count": 6,
   "metadata": {},
   "outputs": [
    {
     "name": "stdout",
     "output_type": "stream",
     "text": [
      "['snapshots/snapshots_s1.h5', 'snapshots/snapshots_s2.h5', 'snapshots/snapshots_s3.h5', 'snapshots/snapshots_s4.h5', 'snapshots/snapshots_s5.h5', 'snapshots/snapshots_s6.h5', 'snapshots/snapshots_s7.h5', 'snapshots/snapshots_s8.h5', 'snapshots/snapshots_s9.h5', 'snapshots/snapshots_s10.h5', 'snapshots/snapshots_s11.h5', 'snapshots/snapshots_s12.h5', 'snapshots/snapshots_s13.h5', 'snapshots/snapshots_s14.h5', 'snapshots/snapshots_s15.h5', 'snapshots/snapshots_s16.h5']\n"
     ]
    }
   ],
   "source": [
    "folder_dir = \"snapshots\"\n",
    "\n",
    "file_paths = [os.path.join(folder_dir, file) for file in listdir(folder_dir) if os.path.isfile(os.path.join(folder_dir, file)) and file.endswith('.h5')]\n",
    "#sort by the number in the file name\n",
    "file_paths.sort(key=lambda f: int(re.sub('\\D', '', f)))\n",
    "print(file_paths)"
   ]
  },
  {
   "cell_type": "code",
   "execution_count": null,
   "metadata": {},
   "outputs": [],
   "source": [
    "y1=25\n",
    "if not os.path.exists('liquid water y='+str(y1)):    \n",
    "    os.mkdir('liquid water y='+str(y1))\n",
    "n=0\n",
    "for file in file_paths:\n",
    "    with h5py.File(file, mode='r') as file:\n",
    "        moistbuoyancy = file['tasks']['moist buoyancy']\n",
    "        drybuoyancy = file['tasks']['dry buoyancy']\n",
    "        ql=np.maximum(moistbuoyancy[:]-drybuoyancy[:]+N_s2*z,0)\n",
    "        st = file['scales/sim_time']\n",
    "        for t in range(len(st)):\n",
    "            qli=np.transpose(ql[t,:,y1,:])\n",
    "            X_grid,Z_grid= np.meshgrid(x, z)\n",
    "            plt.contourf( X_grid, Z_grid, qli, cmap='RdBu_r')\n",
    "            plt.colorbar(label='liquid water y='+str(y1))\n",
    "            plt.xlabel('x')\n",
    "            plt.ylabel('z')\n",
    "            n=n+1\n",
    "            # Add time title\n",
    "            title = \"t=\"+str(st[t])\n",
    "            plt.title(title)\n",
    "            plt.savefig('liquid water y='+str(y1)+'/liquid water y='+str(y1)+'_'+\"%04d\"%n+'.png', dpi=200,bbox_inches='tight')\n",
    "            matplotlib.pyplot.close()"
   ]
  },
  {
   "cell_type": "code",
   "execution_count": null,
   "metadata": {},
   "outputs": [],
   "source": [
    "\n",
    "import matplotlib.animation as Animation\n",
    "from PIL import Image\n",
    "\n",
    "\n",
    "folder_dir = 'liquid water y='+str(y1)\n",
    "\n",
    "# Get a list of PNG file paths from the directory\n",
    "file_paths = [os.path.join(folder_dir, f) for f in listdir(folder_dir) if os.path.isfile(os.path.join(folder_dir, f)) and f.endswith('.png')]\n",
    "\n",
    "# Sort the list of file paths\n",
    "file_paths.sort()\n",
    "\n",
    "# Read the images using PIL\n",
    "imgs = [Image.open(f) for f in file_paths]\n",
    "\n",
    "fig = plt.figure(figsize=(16,4),dpi=200)\n",
    "fig.patch.set_visible(False)\n",
    "plt.axis('off')\n",
    "\n",
    "# Wrap each image in a list to create a list of sequences of artists\n",
    "imgs = [[plt.imshow(img, animated=True)] for img in imgs]\n",
    "\n",
    "ani = Animation.ArtistAnimation(fig, imgs, interval=250, blit=True, repeat_delay=1000)\n",
    "\n",
    "# Save the animation to a file\n",
    "ani.save('liquidwater y='+str(y1)+'.gif',dpi=200)"
   ]
  },
  {
   "cell_type": "code",
   "execution_count": null,
   "metadata": {},
   "outputs": [],
   "source": []
  }
 ],
 "metadata": {
  "kernelspec": {
   "display_name": "dedalus3",
   "language": "python",
   "name": "dedalus3"
  },
  "language_info": {
   "codemirror_mode": {
    "name": "ipython",
    "version": 3
   },
   "file_extension": ".py",
   "mimetype": "text/x-python",
   "name": "python",
   "nbconvert_exporter": "python",
   "pygments_lexer": "ipython3",
   "version": "3.10.12"
  }
 },
 "nbformat": 4,
 "nbformat_minor": 4
}
