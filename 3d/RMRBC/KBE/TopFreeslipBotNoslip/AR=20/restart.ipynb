{
 "cells": [
  {
   "cell_type": "code",
   "execution_count": 3,
   "metadata": {},
   "outputs": [],
   "source": [
    "import numpy as np\n",
    "import dedalus.public as d3\n",
    "import logging\n",
    "logger = logging.getLogger(__name__)\n",
    "import copy\n",
    "import h5py\n",
    "import numpy as np\n",
    "import matplotlib\n",
    "import re\n",
    "\n",
    "import matplotlib.pyplot as plt\n",
    "from dedalus.extras import plot_tools\n",
    "\n",
    "from mpl_toolkits.mplot3d import Axes3D\n",
    "from matplotlib.colors import Normalize\n",
    "\n",
    "import os\n",
    "from os import listdir\n"
   ]
  },
  {
   "cell_type": "code",
   "execution_count": 2,
   "metadata": {},
   "outputs": [],
   "source": [
    "# Parameters\n",
    "Lx, Ly, Lz = 20,20,1\n",
    "Nx, Ny, Nz = 640, 640, 32\n",
    "\n",
    "Ra_D = -1.24e5\n",
    "Prandtl = 0.7\n",
    "N_s2 = 3\n",
    "\n",
    "D_0 = 0\n",
    "D_H = 1\n",
    "M_0 = 0\n",
    "M_H = -2\n",
    "f=0.013\n",
    "\n",
    "dealias = 3/2\n",
    "stop_sim_time = 300\n",
    "timestepper = d3.RK222\n",
    "max_timestep = 0.125\n",
    "dtype = np.float64"
   ]
  },
  {
   "cell_type": "code",
   "execution_count": 5,
   "metadata": {},
   "outputs": [],
   "source": [
    "# Bases\n",
    "coords = d3.CartesianCoordinates('x','y', 'z')\n",
    "dist = d3.Distributor(coords, dtype=dtype)\n",
    "xbasis = d3.RealFourier(coords['x'], size=Nx, bounds=(0, Lx), dealias=dealias)\n",
    "ybasis = d3.RealFourier(coords['y'], size=Ny, bounds=(0, Ly), dealias=dealias)\n",
    "zbasis = d3.ChebyshevT(coords['z'], size=Nz, bounds=(0, Lz), dealias=dealias)"
   ]
  },
  {
   "cell_type": "code",
   "execution_count": 6,
   "metadata": {},
   "outputs": [
    {
     "name": "stdout",
     "output_type": "stream",
     "text": [
      "Ra_D -133333.33333333334\n",
      "Ra_M 133333.33333333334\n",
      "Prandtl 0.8333333333333334\n",
      "76.92307692307692\n"
     ]
    }
   ],
   "source": [
    "# Fields\n",
    "p = dist.Field(name='p', bases=(xbasis,ybasis,zbasis))\n",
    "D = dist.Field(name='D', bases=(xbasis,ybasis,zbasis))\n",
    "M = dist.Field(name='M', bases=(xbasis,ybasis,zbasis))\n",
    "u = dist.VectorField(coords, name='u', bases=(xbasis,ybasis,zbasis))\n",
    "Z = dist.Field(name='Z', bases=zbasis)\n",
    "tau_p = dist.Field(name='tau_p')\n",
    "tau_B1 = dist.Field(name='tau_B1', bases=(xbasis,ybasis))\n",
    "tau_B2 = dist.Field(name='tau_B2', bases=(xbasis,ybasis))\n",
    "tau_D1 = dist.Field(name='tau_D1', bases=(xbasis,ybasis))\n",
    "tau_D2 = dist.Field(name='tau_D2', bases=(xbasis,ybasis))\n",
    "tau_M1 = dist.Field(name='tau_M1', bases=(xbasis,ybasis))\n",
    "tau_M2 = dist.Field(name='tau_M2', bases=(xbasis,ybasis))\n",
    "tau_u1 = dist.VectorField(coords, name='tau_u1', bases=(xbasis,ybasis))\n",
    "tau_u2 = dist.VectorField(coords, name='tau_u2', bases=(xbasis,ybasis))\n",
    "\n",
    "# Substitutions\n",
    "kappa = (Ra_D * Prandtl/((D_0-D_H)*Lz**3))**(-1/2)\n",
    "nu = (Ra_D / (Prandtl*(D_0-D_H)*Lz**3))**(-1/2)\n",
    "print('kappa',kappa)\n",
    "print('nu',nu)\n",
    "      \n",
    "#Kuo_Bretherton Equilibrium\n",
    "\n",
    "#Ra_M\n",
    "Ra_M = Ra_D*(M_0-M_H)/(D_0-D_H)\n",
    "G_D=(D_0-D_H)/Lz\n",
    "G_M=(M_0-M_H)/Lz\n",
    "Ra_BV=N_s2*Lz**4/(nu*kappa)\n",
    "print(Ra_M)\n",
    "print(Ra_BV)\n",
    "Td=Lz**2/(nu*kappa)**(1/2)\n",
    "Tc=(Lz/(M_0-M_H))**(1/2)\n",
    "Tr=1/f\n",
    "R_0=Tr/Tc\n",
    "print('R_0',R_0)\n",
    "\n",
    "x,y,z = dist.local_grids(xbasis,ybasis,zbasis)\n",
    "Z['g']=z\n",
    "Z.change_scales(3/2)\n",
    "\n",
    "ex,ey,ez = coords.unit_vector_fields(dist)\n",
    "lift_basis = zbasis.derivative_basis(1)\n",
    "lift = lambda A: d3.Lift(A, lift_basis, -1)\n",
    "\n",
    "B_op = (np.absolute(D - M - N_s2*Z)+ M + D - N_s2*Z)/2\n",
    "\n",
    "Max = lambda A,B: (abs(A-N_s2*Z-B)+A-N_s2*Z+B)/2\n",
    "eva = lambda A: A.evaluate()\n",
    "\n",
    "dz= lambda A: d3.Differentiate(A, coords['z'])\n",
    "dx= lambda A: d3.Differentiate(A, coords['x'])\n",
    "dy= lambda A: d3.Differentiate(A, Coords['y'])\n",
    "\n",
    "ux=u@ex\n",
    "uy=u@ey\n",
    "uz=u@ez\n",
    "\n",
    "grad_u = d3.grad(u) + ez*lift(tau_u1) # First-order reduction\n",
    "grad_M = d3.grad(M) + ez*lift(tau_M1) # First-order reduction\n",
    "grad_D = d3.grad(D) + ez*lift(tau_D1) # First-order reduction"
   ]
  },
  {
   "cell_type": "code",
   "execution_count": 7,
   "metadata": {},
   "outputs": [
    {
     "data": {
      "text/plain": [
       "{'LHS': Integrate(Integrate(Integrate(<Field 23024305455312>))),\n",
       " 'RHS': 0,\n",
       " 'condition': 'True',\n",
       " 'tensorsig': (),\n",
       " 'dtype': numpy.float64,\n",
       " 'M': 0,\n",
       " 'L': Integrate(Integrate(Integrate(<Field 23024305455312>))),\n",
       " 'F': <Field 23024305364736>,\n",
       " 'domain': <dedalus.core.domain.Domain at 0x14f0c38c44c0>,\n",
       " 'matrix_dependence': array([ True,  True,  True]),\n",
       " 'matrix_coupling': array([False, False,  True])}"
      ]
     },
     "execution_count": 7,
     "metadata": {},
     "output_type": "execute_result"
    }
   ],
   "source": [
    "# Problem\n",
    "# First-order form: \"div(f)\" becomes \"trace(grad_f)\"\n",
    "# First-order form: \"lap(f)\" becomes \"div(grad_f)\"\n",
    "problem = d3.IVP([p, M, D, u, tau_p, tau_M1, tau_M2, tau_D1, tau_D2, tau_u1, tau_u2], namespace=locals())\n",
    "problem.add_equation(\"trace(grad_u) + tau_p= 0\")\n",
    "problem.add_equation(\"dt(M) - kappa*div(grad_M) + lift(tau_M2) - G_M*uz= - u@grad(M)\")\n",
    "problem.add_equation(\"dt(D) - kappa*div(grad_D) + lift(tau_D2) - G_D*uz= - u@grad(D)\")\n",
    "problem.add_equation(\"dt(u) - nu*div(grad_u) + grad(p)  + lift(tau_u2)+ CrossProduct(f*ez,u)= - u@grad(u)+ B_op*ez\")\n",
    "problem.add_equation(\"M(z=0) = M_0\")\n",
    "problem.add_equation(\"D(z=0) = D_0\")\n",
    "problem.add_equation(\"M(z=Lz) = M_H\")\n",
    "problem.add_equation(\"D(z=Lz) = D_H\")\n",
    "problem.add_equation(\"u(z=0)= 0\")\n",
    "problem.add_equation(\"uz(z=Lz)= 0\")\n",
    "problem.add_equation(\"dz(ux)(z=Lz)=0\")\n",
    "problem.add_equation(\"dz(uy)(z=Lz)=0\")\n",
    "problem.add_equation(\"integ(p) = 0\") # Pressure gauge"
   ]
  },
  {
   "cell_type": "code",
   "execution_count": null,
   "metadata": {},
   "outputs": [],
   "source": [
    "# Solver\n",
    "solver = problem.build_solver(timestepper)\n",
    "solver.stop_sim_time = stop_sim_time\n",
    "write,dt=solver.load_state('snapshots/snapshots_s16.h5')\n"
   ]
  },
  {
   "cell_type": "code",
   "execution_count": null,
   "metadata": {},
   "outputs": [],
   "source": [
    "# Analysis\n",
    "snapshots = solver.evaluator.add_file_handler('snapshots', sim_dt=0.25, max_writes=1,mode='append')\n",
    "snapshots.add_task(M, name='moist buoyancy')\n",
    "snapshots.add_task(D, name='dry buoyancy')\n",
    "snapshots.add_task(u, name='velocity')\n",
    "snapshots.add_tasks(solver.state, layout='g')"
   ]
  },
  {
   "cell_type": "code",
   "execution_count": null,
   "metadata": {},
   "outputs": [],
   "source": [
    "# CFL\n",
    "CFL = d3.CFL(solver, initial_dt=dt, cadence=10, safety=0.5, threshold=0.05,\n",
    "             max_change=1.5, min_change=0.5, max_dt=max_timestep)\n",
    "CFL.add_velocity(u)"
   ]
  },
  {
   "cell_type": "code",
   "execution_count": null,
   "metadata": {},
   "outputs": [],
   "source": [
    "# Flow properties\n",
    "flow = d3.GlobalFlowProperty(solver, cadence=10)\n",
    "flow.add_property(np.sqrt(u@u)/nu, name='Re')\n"
   ]
  },
  {
   "cell_type": "code",
   "execution_count": null,
   "metadata": {},
   "outputs": [],
   "source": [
    "# Main loop\n",
    "startup_iter = 10\n",
    "try:\n",
    "    logger.info('Starting main loop')\n",
    "    while solver.proceed:\n",
    "        timestep = CFL.compute_timestep()\n",
    "        solver.step(timestep)\n",
    "        if (solver.iteration-1) % 10 == 0:\n",
    "            max_Re = flow.max('Re')\n",
    "            logger.info('Iteration=%i, Time=%e, dt=%e, max(Re)=%f' %(solver.iteration, solver.sim_time, timestep, max_Re))\n",
    "except:\n",
    "    logger.error('Exception raised, triggering end of main loop.')\n",
    "    raise\n",
    "finally:\n",
    "    solver.log_stats()"
   ]
  }
 ],
 "metadata": {
  "kernelspec": {
   "display_name": "dedalus3",
   "language": "python",
   "name": "dedalus3"
  },
  "language_info": {
   "codemirror_mode": {
    "name": "ipython",
    "version": 3
   },
   "file_extension": ".py",
   "mimetype": "text/x-python",
   "name": "python",
   "nbconvert_exporter": "python",
   "pygments_lexer": "ipython3",
   "version": "3.10.12"
  }
 },
 "nbformat": 4,
 "nbformat_minor": 4
}
