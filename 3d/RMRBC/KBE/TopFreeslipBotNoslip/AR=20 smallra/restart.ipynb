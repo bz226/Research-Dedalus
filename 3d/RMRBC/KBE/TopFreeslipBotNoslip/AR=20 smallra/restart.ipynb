{
 "cells": [
  {
   "cell_type": "code",
   "execution_count": 3,
   "metadata": {},
   "outputs": [],
   "source": [
    "import numpy as np\n",
    "import dedalus.public as d3\n",
    "import logging\n",
    "logger = logging.getLogger(__name__)\n",
    "import copy\n",
    "import h5py\n",
    "import numpy as np\n",
    "import matplotlib\n",
    "import re\n",
    "\n",
    "import matplotlib.pyplot as plt\n",
    "from dedalus.extras import plot_tools\n",
    "\n",
    "from mpl_toolkits.mplot3d import Axes3D\n",
    "from matplotlib.colors import Normalize\n",
    "\n",
    "import os\n",
    "from os import listdir\n"
   ]
  },
  {
   "cell_type": "code",
   "execution_count": 4,
   "metadata": {},
   "outputs": [],
   "source": [
    "# Parameters\n",
    "Lx, Ly, Lz = 20,20,1\n",
    "Nx, Ny, Nz = 640, 640, 32\n",
    "\n",
    "nu=0.0025\n",
    "kappa=0.003\n",
    "\n",
    "D_0 = 0\n",
    "D_H = 1\n",
    "M_0 = 0\n",
    "M_H = -D_H\n",
    "f=0.013\n",
    "\n",
    "N_s2 = 2*D_H\n",
    "\n",
    "dealias = 3/2\n",
    "stop_sim_time = 500\n",
    "timestepper = d3.RK222\n",
    "max_timestep = 0.125\n",
    "dtype = np.float64"
   ]
  },
  {
   "cell_type": "code",
   "execution_count": 5,
   "metadata": {},
   "outputs": [],
   "source": [
    "# Bases\n",
    "coords = d3.CartesianCoordinates('x','y', 'z')\n",
    "dist = d3.Distributor(coords, dtype=dtype)\n",
    "xbasis = d3.RealFourier(coords['x'], size=Nx, bounds=(0, Lx), dealias=dealias)\n",
    "ybasis = d3.RealFourier(coords['y'], size=Ny, bounds=(0, Ly), dealias=dealias)\n",
    "zbasis = d3.ChebyshevT(coords['z'], size=Nz, bounds=(0, Lz), dealias=dealias)"
   ]
  },
  {
   "cell_type": "code",
   "execution_count": 6,
   "metadata": {},
   "outputs": [
    {
     "name": "stdout",
     "output_type": "stream",
     "text": [
      "Ra_D -133333.33333333334\n",
      "Ra_M 133333.33333333334\n",
      "Prandtl 0.8333333333333334\n",
      "76.92307692307692\n"
     ]
    }
   ],
   "source": [
    "# Fields\n",
    "p = dist.Field(name='p', bases=(xbasis,ybasis,zbasis))\n",
    "D = dist.Field(name='D', bases=(xbasis,ybasis,zbasis))\n",
    "M = dist.Field(name='M', bases=(xbasis,ybasis,zbasis))\n",
    "u = dist.VectorField(coords, name='u', bases=(xbasis,ybasis,zbasis))\n",
    "Z = dist.Field(name='Z', bases=zbasis)\n",
    "tau_p = dist.Field(name='tau_p')\n",
    "tau_B1 = dist.Field(name='tau_B1', bases=(xbasis,ybasis))\n",
    "tau_B2 = dist.Field(name='tau_B2', bases=(xbasis,ybasis))\n",
    "tau_D1 = dist.Field(name='tau_D1', bases=(xbasis,ybasis))\n",
    "tau_D2 = dist.Field(name='tau_D2', bases=(xbasis,ybasis))\n",
    "tau_M1 = dist.Field(name='tau_M1', bases=(xbasis,ybasis))\n",
    "tau_M2 = dist.Field(name='tau_M2', bases=(xbasis,ybasis))\n",
    "tau_u1 = dist.VectorField(coords, name='tau_u1', bases=(xbasis,ybasis))\n",
    "tau_u2 = dist.VectorField(coords, name='tau_u2', bases=(xbasis,ybasis))\n",
    "\n",
    "Prandtl = nu/kappa\n",
    "# Substitutions\n",
    "Ra_D = (D_0-D_H)*Lz**3/(nu*kappa)\n",
    "Ra_M = (M_0-M_H)*Lz**3/(nu*kappa)\n",
    "print('Ra_D', Ra_D)\n",
    "print('Ra_M', Ra_M)\n",
    "print('Prandtl', Prandtl)\n",
    "\n",
    "G_D=(D_0-D_H)/Lz\n",
    "G_M=(M_0-M_H)/Lz\n",
    "Td=Lz**2/(nu*kappa)**(1/2)\n",
    "Tc=(Lz/(M_0-M_H))**(1/2)\n",
    "Tr=1/f\n",
    "R_0=Tr/Tc\n",
    "print(R_0)\n",
    "\n",
    "x,y,z = dist.local_grids(xbasis,ybasis,zbasis)\n",
    "Z['g']=z\n",
    "Z.change_scales(3/2)\n",
    "\n",
    "ex,ey,ez = coords.unit_vector_fields(dist)\n",
    "lift_basis = zbasis.derivative_basis(1)\n",
    "lift = lambda A: d3.Lift(A, lift_basis, -1)\n",
    "\n",
    "B_op = (np.absolute(D - M - N_s2*Z)+ M + D - N_s2*Z)/2\n",
    "\n",
    "Max = lambda A,B: (abs(A-N_s2*Z-B)+A-N_s2*Z+B)/2\n",
    "eva = lambda A: A.evaluate()\n",
    "\n",
    "dz= lambda A: d3.Differentiate(A, coords['z'])\n",
    "dx= lambda A: d3.Differentiate(A, coords['x'])\n",
    "dy= lambda A: d3.Differentiate(A, coords['y'])\n",
    "\n",
    "ux=u@ex\n",
    "uy=u@ey\n",
    "uz=u@ez\n",
    "\n",
    "grad_u = d3.grad(u) + ez*lift(tau_u1) # First-order reduction\n",
    "grad_M = d3.grad(M) + ez*lift(tau_M1) # First-order reduction\n",
    "grad_D = d3.grad(D) + ez*lift(tau_D1) # First-order reduction"
   ]
  },
  {
   "cell_type": "code",
   "execution_count": 7,
   "metadata": {},
   "outputs": [
    {
     "data": {
      "text/plain": [
       "{'LHS': Integrate(Integrate(Integrate(<Field 23024305455312>))),\n",
       " 'RHS': 0,\n",
       " 'condition': 'True',\n",
       " 'tensorsig': (),\n",
       " 'dtype': numpy.float64,\n",
       " 'M': 0,\n",
       " 'L': Integrate(Integrate(Integrate(<Field 23024305455312>))),\n",
       " 'F': <Field 23024305364736>,\n",
       " 'domain': <dedalus.core.domain.Domain at 0x14f0c38c44c0>,\n",
       " 'matrix_dependence': array([ True,  True,  True]),\n",
       " 'matrix_coupling': array([False, False,  True])}"
      ]
     },
     "execution_count": 7,
     "metadata": {},
     "output_type": "execute_result"
    }
   ],
   "source": [
    "# Problem\n",
    "# First-order form: \"div(f)\" becomes \"trace(grad_f)\"\n",
    "# First-order form: \"lap(f)\" becomes \"div(grad_f)\"\n",
    "problem = d3.IVP([p, M, D, u, tau_p, tau_M1, tau_M2, tau_D1, tau_D2, tau_u1, tau_u2], namespace=locals())\n",
    "problem.add_equation(\"trace(grad_u) + tau_p= 0\")\n",
    "problem.add_equation(\"dt(M) - kappa*div(grad_M) + lift(tau_M2) - G_M*uz= - u@grad(M)\")\n",
    "problem.add_equation(\"dt(D) - kappa*div(grad_D) + lift(tau_D2) - G_D*uz= - u@grad(D)\")\n",
    "problem.add_equation(\"dt(u) - nu*div(grad_u) + grad(p)  + lift(tau_u2)+ CrossProduct(f*ez,u)= - u@grad(u)+ B_op*ez\")\n",
    "problem.add_equation(\"M(z=0) = M_0\")\n",
    "problem.add_equation(\"D(z=0) = D_0\")\n",
    "problem.add_equation(\"M(z=Lz) = M_H\")\n",
    "problem.add_equation(\"D(z=Lz) = D_H\")\n",
    "problem.add_equation(\"u(z=0)= 0\")\n",
    "problem.add_equation(\"uz(z=Lz)= 0\")\n",
    "problem.add_equation(\"dz(ux)(z=Lz)=0\")\n",
    "problem.add_equation(\"dz(uy)(z=Lz)=0\")\n",
    "problem.add_equation(\"integ(p) = 0\") # Pressure gauge"
   ]
  },
  {
   "cell_type": "code",
   "execution_count": 8,
   "metadata": {},
   "outputs": [
    {
     "name": "stdout",
     "output_type": "stream",
     "text": [
      "2023-07-13 19:47:08,951 subsystems 0/1 INFO :: Building subproblem matrices 1/102400 (~0%) Elapsed: 5s, Remaining: 155h 56m 13s, Rate: 1.8e-01/s\n",
      "2023-07-13 19:47:15,018 subsystems 0/1 INFO :: Building subproblem matrices 4/102400 (~0%) Elapsed: 12s, Remaining: 82h 07m 35s, Rate: 3.5e-01/s\n",
      "2023-07-13 19:47:25,049 subsystems 0/1 INFO :: Building subproblem matrices 9/102400 (~0%) Elapsed: 22s, Remaining: 68h 11m 54s, Rate: 4.2e-01/s\n",
      "2023-07-13 19:47:35,084 subsystems 0/1 INFO :: Building subproblem matrices 14/102400 (~0%) Elapsed: 32s, Remaining: 64h 13m 36s, Rate: 4.4e-01/s\n",
      "2023-07-13 19:47:45,111 subsystems 0/1 INFO :: Building subproblem matrices 19/102400 (~0%) Elapsed: 42s, Remaining: 62h 19m 52s, Rate: 4.6e-01/s\n",
      "2023-07-13 19:47:55,152 subsystems 0/1 INFO :: Building subproblem matrices 24/102400 (~0%) Elapsed: 52s, Remaining: 61h 14m 24s, Rate: 4.6e-01/s\n",
      "2023-07-13 19:48:05,155 subsystems 0/1 INFO :: Building subproblem matrices 29/102400 (~0%) Elapsed: 1m 02s, Remaining: 60h 29m 16s, Rate: 4.7e-01/s\n",
      "2023-07-13 19:48:15,251 subsystems 0/1 INFO :: Building subproblem matrices 34/102400 (~0%) Elapsed: 1m 12s, Remaining: 60h 02m 00s, Rate: 4.7e-01/s\n",
      "2023-07-13 19:48:25,303 subsystems 0/1 INFO :: Building subproblem matrices 39/102400 (~0%) Elapsed: 1m 22s, Remaining: 59h 39m 46s, Rate: 4.8e-01/s\n",
      "2023-07-13 19:48:35,291 subsystems 0/1 INFO :: Building subproblem matrices 44/102400 (~0%) Elapsed: 1m 32s, Remaining: 59h 20m 06s, Rate: 4.8e-01/s\n",
      "2023-07-13 19:48:45,377 subsystems 0/1 INFO :: Building subproblem matrices 49/102400 (~0%) Elapsed: 1m 42s, Remaining: 59h 07m 46s, Rate: 4.8e-01/s\n",
      "2023-07-13 19:48:55,439 subsystems 0/1 INFO :: Building subproblem matrices 54/102400 (~0%) Elapsed: 1m 52s, Remaining: 58h 56m 57s, Rate: 4.8e-01/s\n",
      "2023-07-13 19:49:03,469 subsystems 0/1 INFO :: Building subproblem matrices 58/102400 (~0%) Elapsed: 2m 00s, Remaining: 58h 49m 03s, Rate: 4.8e-01/s\n",
      "2023-07-13 19:49:13,482 subsystems 0/1 INFO :: Building subproblem matrices 63/102400 (~0%) Elapsed: 2m 10s, Remaining: 58h 39m 54s, Rate: 4.8e-01/s\n",
      "2023-07-13 19:49:23,490 subsystems 0/1 INFO :: Building subproblem matrices 68/102400 (~0%) Elapsed: 2m 20s, Remaining: 58h 31m 55s, Rate: 4.9e-01/s\n",
      "2023-07-13 19:49:33,935 subsystems 0/1 INFO :: Building subproblem matrices 73/102400 (~0%) Elapsed: 2m 30s, Remaining: 58h 35m 15s, Rate: 4.9e-01/s\n",
      "2023-07-13 19:49:44,029 subsystems 0/1 INFO :: Building subproblem matrices 78/102400 (~0%) Elapsed: 2m 41s, Remaining: 58h 30m 26s, Rate: 4.9e-01/s\n",
      "2023-07-13 19:49:54,108 subsystems 0/1 INFO :: Building subproblem matrices 83/102400 (~0%) Elapsed: 2m 51s, Remaining: 58h 25m 53s, Rate: 4.9e-01/s\n",
      "2023-07-13 19:50:04,166 subsystems 0/1 INFO :: Building subproblem matrices 88/102400 (~0%) Elapsed: 3m 01s, Remaining: 58h 21m 25s, Rate: 4.9e-01/s\n",
      "2023-07-13 19:50:14,236 subsystems 0/1 INFO :: Building subproblem matrices 93/102400 (~0%) Elapsed: 3m 11s, Remaining: 58h 17m 39s, Rate: 4.9e-01/s\n",
      "2023-07-13 19:50:24,318 subsystems 0/1 INFO :: Building subproblem matrices 98/102400 (~0%) Elapsed: 3m 21s, Remaining: 58h 14m 27s, Rate: 4.9e-01/s\n",
      "2023-07-13 19:50:34,408 subsystems 0/1 INFO :: Building subproblem matrices 103/102400 (~0%) Elapsed: 3m 31s, Remaining: 58h 11m 40s, Rate: 4.9e-01/s\n",
      "2023-07-13 19:50:44,533 subsystems 0/1 INFO :: Building subproblem matrices 108/102400 (~0%) Elapsed: 3m 41s, Remaining: 58h 09m 41s, Rate: 4.9e-01/s\n",
      "2023-07-13 19:50:54,599 subsystems 0/1 INFO :: Building subproblem matrices 113/102400 (~0%) Elapsed: 3m 51s, Remaining: 58h 06m 58s, Rate: 4.9e-01/s\n",
      "2023-07-13 19:51:04,648 subsystems 0/1 INFO :: Building subproblem matrices 118/102400 (~0%) Elapsed: 4m 01s, Remaining: 58h 04m 14s, Rate: 4.9e-01/s\n"
     ]
    },
    {
     "ename": "KeyboardInterrupt",
     "evalue": "",
     "output_type": "error",
     "traceback": [
      "\u001b[0;31m---------------------------------------------------------------------------\u001b[0m",
      "\u001b[0;31mKeyboardInterrupt\u001b[0m                         Traceback (most recent call last)",
      "Cell \u001b[0;32mIn[8], line 2\u001b[0m\n\u001b[1;32m      1\u001b[0m \u001b[38;5;66;03m# Solver\u001b[39;00m\n\u001b[0;32m----> 2\u001b[0m solver \u001b[38;5;241m=\u001b[39m \u001b[43mproblem\u001b[49m\u001b[38;5;241;43m.\u001b[39;49m\u001b[43mbuild_solver\u001b[49m\u001b[43m(\u001b[49m\u001b[43mtimestepper\u001b[49m\u001b[43m)\u001b[49m\n\u001b[1;32m      3\u001b[0m solver\u001b[38;5;241m.\u001b[39mstop_sim_time \u001b[38;5;241m=\u001b[39m stop_sim_time\n\u001b[1;32m      4\u001b[0m write,dt\u001b[38;5;241m=\u001b[39msolver\u001b[38;5;241m.\u001b[39mload_state(\u001b[38;5;124m'\u001b[39m\u001b[38;5;124msnapshots\u001b[39m\u001b[38;5;124m'\u001b[39m)\n",
      "File \u001b[0;32m/ext3/miniconda3/lib/python3.10/site-packages/dedalus/core/problems.py:95\u001b[0m, in \u001b[0;36mProblemBase.build_solver\u001b[0;34m(self, *args, **kw)\u001b[0m\n\u001b[1;32m     93\u001b[0m \u001b[38;5;28;01mdef\u001b[39;00m \u001b[38;5;21mbuild_solver\u001b[39m(\u001b[38;5;28mself\u001b[39m, \u001b[38;5;241m*\u001b[39margs, \u001b[38;5;241m*\u001b[39m\u001b[38;5;241m*\u001b[39mkw):\n\u001b[1;32m     94\u001b[0m \u001b[38;5;250m    \u001b[39m\u001b[38;5;124;03m\"\"\"Build corresponding solver class.\"\"\"\u001b[39;00m\n\u001b[0;32m---> 95\u001b[0m     \u001b[38;5;28;01mreturn\u001b[39;00m \u001b[38;5;28;43mself\u001b[39;49m\u001b[38;5;241;43m.\u001b[39;49m\u001b[43msolver_class\u001b[49m\u001b[43m(\u001b[49m\u001b[38;5;28;43mself\u001b[39;49m\u001b[43m,\u001b[49m\u001b[43m \u001b[49m\u001b[38;5;241;43m*\u001b[39;49m\u001b[43margs\u001b[49m\u001b[43m,\u001b[49m\u001b[43m \u001b[49m\u001b[38;5;241;43m*\u001b[39;49m\u001b[38;5;241;43m*\u001b[39;49m\u001b[43mkw\u001b[49m\u001b[43m)\u001b[49m\n",
      "File \u001b[0;32m/ext3/miniconda3/lib/python3.10/site-packages/dedalus/core/solvers.py:527\u001b[0m, in \u001b[0;36mInitialValueSolver.__init__\u001b[0;34m(self, problem, timestepper, enforce_real_cadence, warmup_iterations, **kw)\u001b[0m\n\u001b[1;32m    525\u001b[0m \u001b[38;5;28mself\u001b[39m\u001b[38;5;241m.\u001b[39minit_time \u001b[38;5;241m=\u001b[39m \u001b[38;5;28mself\u001b[39m\u001b[38;5;241m.\u001b[39mworld_time\n\u001b[1;32m    526\u001b[0m \u001b[38;5;66;03m# Build LHS matrices\u001b[39;00m\n\u001b[0;32m--> 527\u001b[0m \u001b[38;5;28;43mself\u001b[39;49m\u001b[38;5;241;43m.\u001b[39;49m\u001b[43mbuild_matrices\u001b[49m\u001b[43m(\u001b[49m\u001b[38;5;28;43mself\u001b[39;49m\u001b[38;5;241;43m.\u001b[39;49m\u001b[43msubproblems\u001b[49m\u001b[43m,\u001b[49m\u001b[43m \u001b[49m\u001b[43m[\u001b[49m\u001b[38;5;124;43m'\u001b[39;49m\u001b[38;5;124;43mM\u001b[39;49m\u001b[38;5;124;43m'\u001b[39;49m\u001b[43m,\u001b[49m\u001b[43m \u001b[49m\u001b[38;5;124;43m'\u001b[39;49m\u001b[38;5;124;43mL\u001b[39;49m\u001b[38;5;124;43m'\u001b[39;49m\u001b[43m]\u001b[49m\u001b[43m)\u001b[49m\n\u001b[1;32m    528\u001b[0m \u001b[38;5;66;03m# Compute total modes\u001b[39;00m\n\u001b[1;32m    529\u001b[0m local_modes \u001b[38;5;241m=\u001b[39m \u001b[38;5;28msum\u001b[39m(ss\u001b[38;5;241m.\u001b[39msubproblem\u001b[38;5;241m.\u001b[39mpre_right\u001b[38;5;241m.\u001b[39mshape[\u001b[38;5;241m1\u001b[39m] \u001b[38;5;28;01mfor\u001b[39;00m ss \u001b[38;5;129;01min\u001b[39;00m \u001b[38;5;28mself\u001b[39m\u001b[38;5;241m.\u001b[39msubsystems)\n",
      "File \u001b[0;32m/ext3/miniconda3/lib/python3.10/site-packages/dedalus/core/solvers.py:119\u001b[0m, in \u001b[0;36mSolverBase.build_matrices\u001b[0;34m(self, subproblems, matrices)\u001b[0m\n\u001b[1;32m    117\u001b[0m \u001b[38;5;28;01mif\u001b[39;00m matrices \u001b[38;5;129;01mis\u001b[39;00m \u001b[38;5;28;01mNone\u001b[39;00m:\n\u001b[1;32m    118\u001b[0m     matrices \u001b[38;5;241m=\u001b[39m \u001b[38;5;28mself\u001b[39m\u001b[38;5;241m.\u001b[39mmatrices\n\u001b[0;32m--> 119\u001b[0m \u001b[43msubsystems\u001b[49m\u001b[38;5;241;43m.\u001b[39;49m\u001b[43mbuild_subproblem_matrices\u001b[49m\u001b[43m(\u001b[49m\u001b[38;5;28;43mself\u001b[39;49m\u001b[43m,\u001b[49m\u001b[43m \u001b[49m\u001b[43msubproblems\u001b[49m\u001b[43m,\u001b[49m\u001b[43m \u001b[49m\u001b[43mmatrices\u001b[49m\u001b[43m)\u001b[49m\n",
      "File \u001b[0;32m/ext3/miniconda3/lib/python3.10/site-packages/dedalus/core/subsystems.py:80\u001b[0m, in \u001b[0;36mbuild_subproblem_matrices\u001b[0;34m(solver, subproblems, matrices)\u001b[0m\n\u001b[1;32m     78\u001b[0m \u001b[38;5;66;03m# Build matrices\u001b[39;00m\n\u001b[1;32m     79\u001b[0m \u001b[38;5;28;01mfor\u001b[39;00m subproblem \u001b[38;5;129;01min\u001b[39;00m log_progress(subproblems, logger, \u001b[38;5;124m'\u001b[39m\u001b[38;5;124minfo\u001b[39m\u001b[38;5;124m'\u001b[39m, desc\u001b[38;5;241m=\u001b[39m\u001b[38;5;124m'\u001b[39m\u001b[38;5;124mBuilding subproblem matrices\u001b[39m\u001b[38;5;124m'\u001b[39m, \u001b[38;5;28miter\u001b[39m\u001b[38;5;241m=\u001b[39mnp\u001b[38;5;241m.\u001b[39minf, frac\u001b[38;5;241m=\u001b[39m\u001b[38;5;241m0.1\u001b[39m, dt\u001b[38;5;241m=\u001b[39m\u001b[38;5;241m10\u001b[39m):\n\u001b[0;32m---> 80\u001b[0m      \u001b[43msubproblem\u001b[49m\u001b[38;5;241;43m.\u001b[39;49m\u001b[43mbuild_matrices\u001b[49m\u001b[43m(\u001b[49m\u001b[43mmatrices\u001b[49m\u001b[43m)\u001b[49m\n",
      "File \u001b[0;32m/ext3/miniconda3/lib/python3.10/site-packages/dedalus/core/subsystems.py:441\u001b[0m, in \u001b[0;36mSubproblem.build_matrices\u001b[0;34m(self, names)\u001b[0m\n\u001b[1;32m    439\u001b[0m \u001b[38;5;28mvars\u001b[39m \u001b[38;5;241m=\u001b[39m \u001b[38;5;28mself\u001b[39m\u001b[38;5;241m.\u001b[39mproblem\u001b[38;5;241m.\u001b[39mLHS_variables\n\u001b[1;32m    440\u001b[0m eqn_conditions \u001b[38;5;241m=\u001b[39m [\u001b[38;5;28mself\u001b[39m\u001b[38;5;241m.\u001b[39mcheck_condition(eqn) \u001b[38;5;28;01mfor\u001b[39;00m eqn \u001b[38;5;129;01min\u001b[39;00m eqns]  \u001b[38;5;66;03m# HACK\u001b[39;00m\n\u001b[0;32m--> 441\u001b[0m eqn_sizes \u001b[38;5;241m=\u001b[39m [\u001b[38;5;28mself\u001b[39m\u001b[38;5;241m.\u001b[39mfield_size(eqn[\u001b[38;5;124m'\u001b[39m\u001b[38;5;124mLHS\u001b[39m\u001b[38;5;124m'\u001b[39m]) \u001b[38;5;28;01mfor\u001b[39;00m eqn \u001b[38;5;129;01min\u001b[39;00m eqns]\n\u001b[1;32m    442\u001b[0m var_sizes \u001b[38;5;241m=\u001b[39m [\u001b[38;5;28mself\u001b[39m\u001b[38;5;241m.\u001b[39mfield_size(var) \u001b[38;5;28;01mfor\u001b[39;00m var \u001b[38;5;129;01min\u001b[39;00m \u001b[38;5;28mvars\u001b[39m]\n\u001b[1;32m    443\u001b[0m I \u001b[38;5;241m=\u001b[39m \u001b[38;5;28msum\u001b[39m(eqn_sizes)\n",
      "File \u001b[0;32m/ext3/miniconda3/lib/python3.10/site-packages/dedalus/core/subsystems.py:441\u001b[0m, in \u001b[0;36m<listcomp>\u001b[0;34m(.0)\u001b[0m\n\u001b[1;32m    439\u001b[0m \u001b[38;5;28mvars\u001b[39m \u001b[38;5;241m=\u001b[39m \u001b[38;5;28mself\u001b[39m\u001b[38;5;241m.\u001b[39mproblem\u001b[38;5;241m.\u001b[39mLHS_variables\n\u001b[1;32m    440\u001b[0m eqn_conditions \u001b[38;5;241m=\u001b[39m [\u001b[38;5;28mself\u001b[39m\u001b[38;5;241m.\u001b[39mcheck_condition(eqn) \u001b[38;5;28;01mfor\u001b[39;00m eqn \u001b[38;5;129;01min\u001b[39;00m eqns]  \u001b[38;5;66;03m# HACK\u001b[39;00m\n\u001b[0;32m--> 441\u001b[0m eqn_sizes \u001b[38;5;241m=\u001b[39m [\u001b[38;5;28;43mself\u001b[39;49m\u001b[38;5;241;43m.\u001b[39;49m\u001b[43mfield_size\u001b[49m\u001b[43m(\u001b[49m\u001b[43meqn\u001b[49m\u001b[43m[\u001b[49m\u001b[38;5;124;43m'\u001b[39;49m\u001b[38;5;124;43mLHS\u001b[39;49m\u001b[38;5;124;43m'\u001b[39;49m\u001b[43m]\u001b[49m\u001b[43m)\u001b[49m \u001b[38;5;28;01mfor\u001b[39;00m eqn \u001b[38;5;129;01min\u001b[39;00m eqns]\n\u001b[1;32m    442\u001b[0m var_sizes \u001b[38;5;241m=\u001b[39m [\u001b[38;5;28mself\u001b[39m\u001b[38;5;241m.\u001b[39mfield_size(var) \u001b[38;5;28;01mfor\u001b[39;00m var \u001b[38;5;129;01min\u001b[39;00m \u001b[38;5;28mvars\u001b[39m]\n\u001b[1;32m    443\u001b[0m I \u001b[38;5;241m=\u001b[39m \u001b[38;5;28msum\u001b[39m(eqn_sizes)\n",
      "File \u001b[0;32m/ext3/miniconda3/lib/python3.10/site-packages/dedalus/core/subsystems.py:278\u001b[0m, in \u001b[0;36mSubproblem.field_size\u001b[0;34m(self, field)\u001b[0m\n\u001b[1;32m    277\u001b[0m \u001b[38;5;28;01mdef\u001b[39;00m \u001b[38;5;21mfield_size\u001b[39m(\u001b[38;5;28mself\u001b[39m, field):\n\u001b[0;32m--> 278\u001b[0m     \u001b[38;5;28;01mreturn\u001b[39;00m \u001b[38;5;28;43mself\u001b[39;49m\u001b[38;5;241;43m.\u001b[39;49m\u001b[43msubsystems\u001b[49m\u001b[43m[\u001b[49m\u001b[38;5;241;43m0\u001b[39;49m\u001b[43m]\u001b[49m\u001b[38;5;241;43m.\u001b[39;49m\u001b[43mfield_size\u001b[49m\u001b[43m(\u001b[49m\u001b[43mfield\u001b[49m\u001b[43m)\u001b[49m\n",
      "File \u001b[0;32m/ext3/miniconda3/lib/python3.10/site-packages/dedalus/tools/cache.py:86\u001b[0m, in \u001b[0;36mCachedFunction.__call__\u001b[0;34m(self, *args, **kw)\u001b[0m\n\u001b[1;32m     84\u001b[0m     \u001b[38;5;28mself\u001b[39m\u001b[38;5;241m.\u001b[39mcache\u001b[38;5;241m.\u001b[39mpopitem(last\u001b[38;5;241m=\u001b[39m\u001b[38;5;28;01mFalse\u001b[39;00m)\n\u001b[1;32m     85\u001b[0m \u001b[38;5;66;03m# Compute and cache result\u001b[39;00m\n\u001b[0;32m---> 86\u001b[0m result \u001b[38;5;241m=\u001b[39m \u001b[38;5;28;43mself\u001b[39;49m\u001b[38;5;241;43m.\u001b[39;49m\u001b[43mfunction\u001b[49m\u001b[43m(\u001b[49m\u001b[38;5;241;43m*\u001b[39;49m\u001b[43margs\u001b[49m\u001b[43m,\u001b[49m\u001b[43m \u001b[49m\u001b[38;5;241;43m*\u001b[39;49m\u001b[38;5;241;43m*\u001b[39;49m\u001b[43mkw\u001b[49m\u001b[43m)\u001b[49m\n\u001b[1;32m     87\u001b[0m \u001b[38;5;28mself\u001b[39m\u001b[38;5;241m.\u001b[39mcache[direct_call] \u001b[38;5;241m=\u001b[39m result\n\u001b[1;32m     88\u001b[0m \u001b[38;5;28mself\u001b[39m\u001b[38;5;241m.\u001b[39mcache[resolved_call] \u001b[38;5;241m=\u001b[39m result\n",
      "File \u001b[0;32m/ext3/miniconda3/lib/python3.10/site-packages/dedalus/core/subsystems.py:165\u001b[0m, in \u001b[0;36mSubsystem.field_size\u001b[0;34m(self, field)\u001b[0m\n\u001b[1;32m    163\u001b[0m \u001b[38;5;129m@CachedMethod\u001b[39m\n\u001b[1;32m    164\u001b[0m \u001b[38;5;28;01mdef\u001b[39;00m \u001b[38;5;21mfield_size\u001b[39m(\u001b[38;5;28mself\u001b[39m, field):\n\u001b[0;32m--> 165\u001b[0m     \u001b[38;5;28;01mreturn\u001b[39;00m np\u001b[38;5;241m.\u001b[39mprod(\u001b[38;5;28;43mself\u001b[39;49m\u001b[38;5;241;43m.\u001b[39;49m\u001b[43mfield_shape\u001b[49m\u001b[43m(\u001b[49m\u001b[43mfield\u001b[49m\u001b[43m)\u001b[49m)\n",
      "File \u001b[0;32m/ext3/miniconda3/lib/python3.10/site-packages/dedalus/tools/cache.py:86\u001b[0m, in \u001b[0;36mCachedFunction.__call__\u001b[0;34m(self, *args, **kw)\u001b[0m\n\u001b[1;32m     84\u001b[0m     \u001b[38;5;28mself\u001b[39m\u001b[38;5;241m.\u001b[39mcache\u001b[38;5;241m.\u001b[39mpopitem(last\u001b[38;5;241m=\u001b[39m\u001b[38;5;28;01mFalse\u001b[39;00m)\n\u001b[1;32m     85\u001b[0m \u001b[38;5;66;03m# Compute and cache result\u001b[39;00m\n\u001b[0;32m---> 86\u001b[0m result \u001b[38;5;241m=\u001b[39m \u001b[38;5;28;43mself\u001b[39;49m\u001b[38;5;241;43m.\u001b[39;49m\u001b[43mfunction\u001b[49m\u001b[43m(\u001b[49m\u001b[38;5;241;43m*\u001b[39;49m\u001b[43margs\u001b[49m\u001b[43m,\u001b[49m\u001b[43m \u001b[49m\u001b[38;5;241;43m*\u001b[39;49m\u001b[38;5;241;43m*\u001b[39;49m\u001b[43mkw\u001b[49m\u001b[43m)\u001b[49m\n\u001b[1;32m     87\u001b[0m \u001b[38;5;28mself\u001b[39m\u001b[38;5;241m.\u001b[39mcache[direct_call] \u001b[38;5;241m=\u001b[39m result\n\u001b[1;32m     88\u001b[0m \u001b[38;5;28mself\u001b[39m\u001b[38;5;241m.\u001b[39mcache[resolved_call] \u001b[38;5;241m=\u001b[39m result\n",
      "File \u001b[0;32m/ext3/miniconda3/lib/python3.10/site-packages/dedalus/core/subsystems.py:160\u001b[0m, in \u001b[0;36mSubsystem.field_shape\u001b[0;34m(self, field)\u001b[0m\n\u001b[1;32m    157\u001b[0m \u001b[38;5;129m@CachedMethod\u001b[39m\n\u001b[1;32m    158\u001b[0m \u001b[38;5;28;01mdef\u001b[39;00m \u001b[38;5;21mfield_shape\u001b[39m(\u001b[38;5;28mself\u001b[39m, field):\n\u001b[1;32m    159\u001b[0m     comp_shape \u001b[38;5;241m=\u001b[39m \u001b[38;5;28mtuple\u001b[39m(cs\u001b[38;5;241m.\u001b[39mdim \u001b[38;5;28;01mfor\u001b[39;00m cs \u001b[38;5;129;01min\u001b[39;00m field\u001b[38;5;241m.\u001b[39mtensorsig)\n\u001b[0;32m--> 160\u001b[0m     coeff_shape \u001b[38;5;241m=\u001b[39m \u001b[38;5;28;43mself\u001b[39;49m\u001b[38;5;241;43m.\u001b[39;49m\u001b[43mcoeff_shape\u001b[49m\u001b[43m(\u001b[49m\u001b[43mfield\u001b[49m\u001b[38;5;241;43m.\u001b[39;49m\u001b[43mdomain\u001b[49m\u001b[43m)\u001b[49m\n\u001b[1;32m    161\u001b[0m     \u001b[38;5;28;01mreturn\u001b[39;00m comp_shape \u001b[38;5;241m+\u001b[39m coeff_shape\n",
      "File \u001b[0;32m/ext3/miniconda3/lib/python3.10/site-packages/dedalus/core/subsystems.py:142\u001b[0m, in \u001b[0;36mSubsystem.coeff_shape\u001b[0;34m(self, domain)\u001b[0m\n\u001b[1;32m    140\u001b[0m shape \u001b[38;5;241m=\u001b[39m []\n\u001b[1;32m    141\u001b[0m \u001b[38;5;66;03m# Extract shape from slices\u001b[39;00m\n\u001b[0;32m--> 142\u001b[0m coeff_slices \u001b[38;5;241m=\u001b[39m \u001b[38;5;28;43mself\u001b[39;49m\u001b[38;5;241;43m.\u001b[39;49m\u001b[43mcoeff_slices\u001b[49m\u001b[43m(\u001b[49m\u001b[43mdomain\u001b[49m\u001b[43m)\u001b[49m\n\u001b[1;32m    143\u001b[0m \u001b[38;5;28;01mfor\u001b[39;00m ax_slice, ax_size \u001b[38;5;129;01min\u001b[39;00m \u001b[38;5;28mzip\u001b[39m(coeff_slices, domain\u001b[38;5;241m.\u001b[39mcoeff_shape):\n\u001b[1;32m    144\u001b[0m     indices \u001b[38;5;241m=\u001b[39m ax_slice\u001b[38;5;241m.\u001b[39mindices(ax_size)\n",
      "File \u001b[0;32m/ext3/miniconda3/lib/python3.10/site-packages/dedalus/core/subsystems.py:131\u001b[0m, in \u001b[0;36mSubsystem.coeff_slices\u001b[0;34m(self, domain)\u001b[0m\n\u001b[1;32m    130\u001b[0m \u001b[38;5;28;01mdef\u001b[39;00m \u001b[38;5;21mcoeff_slices\u001b[39m(\u001b[38;5;28mself\u001b[39m, domain):\n\u001b[0;32m--> 131\u001b[0m     slices \u001b[38;5;241m=\u001b[39m \u001b[38;5;28;43mself\u001b[39;49m\u001b[38;5;241;43m.\u001b[39;49m\u001b[43mdist\u001b[49m\u001b[38;5;241;43m.\u001b[39;49m\u001b[43mcoeff_layout\u001b[49m\u001b[38;5;241;43m.\u001b[39;49m\u001b[43mlocal_groupset_slices\u001b[49m\u001b[43m(\u001b[49m\u001b[38;5;28;43mself\u001b[39;49m\u001b[38;5;241;43m.\u001b[39;49m\u001b[43mgroup\u001b[49m\u001b[43m,\u001b[49m\u001b[43m \u001b[49m\u001b[43mdomain\u001b[49m\u001b[43m,\u001b[49m\u001b[43m \u001b[49m\u001b[43mscales\u001b[49m\u001b[38;5;241;43m=\u001b[39;49m\u001b[38;5;241;43m1\u001b[39;49m\u001b[43m)\u001b[49m\n\u001b[1;32m    132\u001b[0m     \u001b[38;5;28;01mif\u001b[39;00m \u001b[38;5;28mlen\u001b[39m(slices) \u001b[38;5;241m==\u001b[39m \u001b[38;5;241m0\u001b[39m:\n\u001b[1;32m    133\u001b[0m         \u001b[38;5;28;01mreturn\u001b[39;00m (\u001b[38;5;28mslice\u001b[39m(\u001b[38;5;241m0\u001b[39m,\u001b[38;5;241m0\u001b[39m),) \u001b[38;5;241m*\u001b[39m \u001b[38;5;28mself\u001b[39m\u001b[38;5;241m.\u001b[39mdist\u001b[38;5;241m.\u001b[39mdim\n",
      "File \u001b[0;32m/ext3/miniconda3/lib/python3.10/site-packages/dedalus/tools/cache.py:86\u001b[0m, in \u001b[0;36mCachedFunction.__call__\u001b[0;34m(self, *args, **kw)\u001b[0m\n\u001b[1;32m     84\u001b[0m     \u001b[38;5;28mself\u001b[39m\u001b[38;5;241m.\u001b[39mcache\u001b[38;5;241m.\u001b[39mpopitem(last\u001b[38;5;241m=\u001b[39m\u001b[38;5;28;01mFalse\u001b[39;00m)\n\u001b[1;32m     85\u001b[0m \u001b[38;5;66;03m# Compute and cache result\u001b[39;00m\n\u001b[0;32m---> 86\u001b[0m result \u001b[38;5;241m=\u001b[39m \u001b[38;5;28;43mself\u001b[39;49m\u001b[38;5;241;43m.\u001b[39;49m\u001b[43mfunction\u001b[49m\u001b[43m(\u001b[49m\u001b[38;5;241;43m*\u001b[39;49m\u001b[43margs\u001b[49m\u001b[43m,\u001b[49m\u001b[43m \u001b[49m\u001b[38;5;241;43m*\u001b[39;49m\u001b[38;5;241;43m*\u001b[39;49m\u001b[43mkw\u001b[49m\u001b[43m)\u001b[49m\n\u001b[1;32m     87\u001b[0m \u001b[38;5;28mself\u001b[39m\u001b[38;5;241m.\u001b[39mcache[direct_call] \u001b[38;5;241m=\u001b[39m result\n\u001b[1;32m     88\u001b[0m \u001b[38;5;28mself\u001b[39m\u001b[38;5;241m.\u001b[39mcache[resolved_call] \u001b[38;5;241m=\u001b[39m result\n",
      "File \u001b[0;32m/ext3/miniconda3/lib/python3.10/site-packages/dedalus/core/distributor.py:418\u001b[0m, in \u001b[0;36mLayout.local_groupset_slices\u001b[0;34m(self, groupset, domain, scales, rank, broadcast)\u001b[0m\n\u001b[1;32m    416\u001b[0m \u001b[38;5;28;01mfor\u001b[39;00m s \u001b[38;5;129;01min\u001b[39;00m itertools\u001b[38;5;241m.\u001b[39mproduct(\u001b[38;5;241m*\u001b[39mslices):\n\u001b[1;32m    417\u001b[0m     sliced_selections \u001b[38;5;241m=\u001b[39m selections[\u001b[38;5;28mtuple\u001b[39m(s)]\n\u001b[0;32m--> 418\u001b[0m     \u001b[38;5;28;01mif\u001b[39;00m \u001b[43mnp\u001b[49m\u001b[38;5;241;43m.\u001b[39;49m\u001b[43many\u001b[49m\u001b[43m(\u001b[49m\u001b[43msliced_selections\u001b[49m\u001b[43m)\u001b[49m: \u001b[38;5;66;03m# some elements match group\u001b[39;00m\n\u001b[1;32m    419\u001b[0m         \u001b[38;5;66;03m# assume selected groups are cartesian product, find left and right bounds\u001b[39;00m\n\u001b[1;32m    420\u001b[0m         lefts \u001b[38;5;241m=\u001b[39m \u001b[38;5;28mlist\u001b[39m(\u001b[38;5;28mmap\u001b[39m(np\u001b[38;5;241m.\u001b[39mmin, np\u001b[38;5;241m.\u001b[39mwhere(sliced_selections)))\n\u001b[1;32m    421\u001b[0m         rights \u001b[38;5;241m=\u001b[39m \u001b[38;5;28mlist\u001b[39m(\u001b[38;5;28mmap\u001b[39m(np\u001b[38;5;241m.\u001b[39mmax, np\u001b[38;5;241m.\u001b[39mwhere(sliced_selections)))\n",
      "File \u001b[0;32m/ext3/miniconda3/lib/python3.10/site-packages/numpy/core/fromnumeric.py:2412\u001b[0m, in \u001b[0;36many\u001b[0;34m(a, axis, out, keepdims, where)\u001b[0m\n\u001b[1;32m   2322\u001b[0m \u001b[38;5;129m@array_function_dispatch\u001b[39m(_any_dispatcher)\n\u001b[1;32m   2323\u001b[0m \u001b[38;5;28;01mdef\u001b[39;00m \u001b[38;5;21many\u001b[39m(a, axis\u001b[38;5;241m=\u001b[39m\u001b[38;5;28;01mNone\u001b[39;00m, out\u001b[38;5;241m=\u001b[39m\u001b[38;5;28;01mNone\u001b[39;00m, keepdims\u001b[38;5;241m=\u001b[39mnp\u001b[38;5;241m.\u001b[39m_NoValue, \u001b[38;5;241m*\u001b[39m, where\u001b[38;5;241m=\u001b[39mnp\u001b[38;5;241m.\u001b[39m_NoValue):\n\u001b[1;32m   2324\u001b[0m \u001b[38;5;250m    \u001b[39m\u001b[38;5;124;03m\"\"\"\u001b[39;00m\n\u001b[1;32m   2325\u001b[0m \u001b[38;5;124;03m    Test whether any array element along a given axis evaluates to True.\u001b[39;00m\n\u001b[1;32m   2326\u001b[0m \n\u001b[0;32m   (...)\u001b[0m\n\u001b[1;32m   2410\u001b[0m \n\u001b[1;32m   2411\u001b[0m \u001b[38;5;124;03m    \"\"\"\u001b[39;00m\n\u001b[0;32m-> 2412\u001b[0m     \u001b[38;5;28;01mreturn\u001b[39;00m \u001b[43m_wrapreduction\u001b[49m\u001b[43m(\u001b[49m\u001b[43ma\u001b[49m\u001b[43m,\u001b[49m\u001b[43m \u001b[49m\u001b[43mnp\u001b[49m\u001b[38;5;241;43m.\u001b[39;49m\u001b[43mlogical_or\u001b[49m\u001b[43m,\u001b[49m\u001b[43m \u001b[49m\u001b[38;5;124;43m'\u001b[39;49m\u001b[38;5;124;43many\u001b[39;49m\u001b[38;5;124;43m'\u001b[39;49m\u001b[43m,\u001b[49m\u001b[43m \u001b[49m\u001b[43maxis\u001b[49m\u001b[43m,\u001b[49m\u001b[43m \u001b[49m\u001b[38;5;28;43;01mNone\u001b[39;49;00m\u001b[43m,\u001b[49m\u001b[43m \u001b[49m\u001b[43mout\u001b[49m\u001b[43m,\u001b[49m\n\u001b[1;32m   2413\u001b[0m \u001b[43m                          \u001b[49m\u001b[43mkeepdims\u001b[49m\u001b[38;5;241;43m=\u001b[39;49m\u001b[43mkeepdims\u001b[49m\u001b[43m,\u001b[49m\u001b[43m \u001b[49m\u001b[43mwhere\u001b[49m\u001b[38;5;241;43m=\u001b[39;49m\u001b[43mwhere\u001b[49m\u001b[43m)\u001b[49m\n",
      "File \u001b[0;32m/ext3/miniconda3/lib/python3.10/site-packages/numpy/core/fromnumeric.py:88\u001b[0m, in \u001b[0;36m_wrapreduction\u001b[0;34m(obj, ufunc, method, axis, dtype, out, **kwargs)\u001b[0m\n\u001b[1;32m     85\u001b[0m         \u001b[38;5;28;01melse\u001b[39;00m:\n\u001b[1;32m     86\u001b[0m             \u001b[38;5;28;01mreturn\u001b[39;00m reduction(axis\u001b[38;5;241m=\u001b[39maxis, out\u001b[38;5;241m=\u001b[39mout, \u001b[38;5;241m*\u001b[39m\u001b[38;5;241m*\u001b[39mpasskwargs)\n\u001b[0;32m---> 88\u001b[0m \u001b[38;5;28;01mreturn\u001b[39;00m \u001b[43mufunc\u001b[49m\u001b[38;5;241;43m.\u001b[39;49m\u001b[43mreduce\u001b[49m\u001b[43m(\u001b[49m\u001b[43mobj\u001b[49m\u001b[43m,\u001b[49m\u001b[43m \u001b[49m\u001b[43maxis\u001b[49m\u001b[43m,\u001b[49m\u001b[43m \u001b[49m\u001b[43mdtype\u001b[49m\u001b[43m,\u001b[49m\u001b[43m \u001b[49m\u001b[43mout\u001b[49m\u001b[43m,\u001b[49m\u001b[43m \u001b[49m\u001b[38;5;241;43m*\u001b[39;49m\u001b[38;5;241;43m*\u001b[39;49m\u001b[43mpasskwargs\u001b[49m\u001b[43m)\u001b[49m\n",
      "\u001b[0;31mKeyboardInterrupt\u001b[0m: "
     ]
    }
   ],
   "source": [
    "# Solver\n",
    "solver = problem.build_solver(timestepper)\n",
    "solver.stop_sim_time = stop_sim_time\n",
    "write,dt=solver.load_state('snapshots/snapshots_s800.h5')\n"
   ]
  },
  {
   "cell_type": "code",
   "execution_count": null,
   "metadata": {},
   "outputs": [],
   "source": [
    "# Analysis\n",
    "snapshots = solver.evaluator.add_file_handler('snapshots', sim_dt=0.25, max_writes=1,mode='append')\n",
    "snapshots.add_task(M, name='moist buoyancy')\n",
    "snapshots.add_task(D, name='dry buoyancy')\n",
    "snapshots.add_task(u, name='velocity')\n",
    "snapshots.add_tasks(solver.state, layout='g')"
   ]
  },
  {
   "cell_type": "code",
   "execution_count": null,
   "metadata": {},
   "outputs": [],
   "source": [
    "# CFL\n",
    "CFL = d3.CFL(solver, initial_dt=max_timestep, cadence=10, safety=0.5, threshold=0.05,\n",
    "             max_change=1.5, min_change=0.5, max_dt=max_timestep)\n",
    "CFL.add_velocity(u)"
   ]
  },
  {
   "cell_type": "code",
   "execution_count": null,
   "metadata": {},
   "outputs": [],
   "source": [
    "# Flow properties\n",
    "flow = d3.GlobalFlowProperty(solver, cadence=10)\n",
    "flow.add_property(np.sqrt(u@u)/nu, name='Re')\n"
   ]
  },
  {
   "cell_type": "code",
   "execution_count": null,
   "metadata": {},
   "outputs": [],
   "source": [
    "# Main loop\n",
    "startup_iter = 10\n",
    "try:\n",
    "    logger.info('Starting main loop')\n",
    "    while solver.proceed:\n",
    "        timestep = CFL.compute_timestep()\n",
    "        solver.step(timestep)\n",
    "        if (solver.iteration-1) % 10 == 0:\n",
    "            max_Re = flow.max('Re')\n",
    "            logger.info('Iteration=%i, Time=%e, dt=%e, max(Re)=%f' %(solver.iteration, solver.sim_time, timestep, max_Re))\n",
    "except:\n",
    "    logger.error('Exception raised, triggering end of main loop.')\n",
    "    raise\n",
    "finally:\n",
    "    solver.log_stats()"
   ]
  }
 ],
 "metadata": {
  "kernelspec": {
   "display_name": "dedalus3",
   "language": "python",
   "name": "dedalus3"
  },
  "language_info": {
   "codemirror_mode": {
    "name": "ipython",
    "version": 3
   },
   "file_extension": ".py",
   "mimetype": "text/x-python",
   "name": "python",
   "nbconvert_exporter": "python",
   "pygments_lexer": "ipython3",
   "version": "3.10.12"
  }
 },
 "nbformat": 4,
 "nbformat_minor": 4
}
