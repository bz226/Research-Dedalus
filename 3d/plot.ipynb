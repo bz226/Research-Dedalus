{
 "cells": [
  {
   "cell_type": "code",
   "execution_count": 1,
   "metadata": {},
   "outputs": [],
   "source": [
    "\"\"\"\n",
    "Plot 2D slice graphs.\n",
    "\n",
    "\"\"\"\n",
    "\n",
    "import h5py\n",
    "import numpy as np\n",
    "import matplotlib\n",
    "matplotlib.use('Agg')\n",
    "import matplotlib.pyplot as plt\n",
    "from dedalus.extras import plot_tools\n",
    "import os\n",
    "from os import listdir\n"
   ]
  },
  {
   "cell_type": "code",
   "execution_count": 2,
   "metadata": {},
   "outputs": [],
   "source": [
    "#parameters\n",
    "\n",
    "Lx=4\n",
    "Ly=4\n",
    "Lz=1\n",
    "x_scale=256\n",
    "y_scale=256\n",
    "z_scale=64\n",
    "y_slice_afterscale=10\n",
    "\n",
    "y_slice_beforescale=y_slice_afterscale/y_scale*Ly"
   ]
  },
  {
   "cell_type": "code",
   "execution_count": 3,
   "metadata": {},
   "outputs": [
    {
     "name": "stdout",
     "output_type": "stream",
     "text": [
      "['snapshots/snapshots_s1.h5', 'snapshots/snapshots_s2.h5', 'snapshots/snapshots_s3.h5', 'snapshots/snapshots_s4.h5']\n"
     ]
    }
   ],
   "source": [
    "folder_dir = \"snapshots\"\n",
    "\n",
    "file_paths = [os.path.join(folder_dir, file) for file in listdir(folder_dir) if os.path.isfile(os.path.join(folder_dir, file)) and file.endswith('.h5')]\n",
    "file_paths.sort()\n",
    "print(file_paths)"
   ]
  },
  {
   "cell_type": "code",
   "execution_count": 6,
   "metadata": {},
   "outputs": [
    {
     "name": "stdout",
     "output_type": "stream",
     "text": [
      "<HDF5 dataset \"sim_time\": shape (50,), type \"<f8\">\n",
      "<HDF5 dataset \"sim_time\": shape (50,), type \"<f8\">\n",
      "<HDF5 dataset \"sim_time\": shape (50,), type \"<f8\">\n",
      "<HDF5 dataset \"sim_time\": shape (50,), type \"<f8\">\n"
     ]
    }
   ],
   "source": [
    "n=0\n",
    "for file in file_paths:\n",
    "    with h5py.File(file, mode='r') as file:\n",
    "            b = file['tasks']['buoyancy']\n",
    "            st = file['scales/sim_time']\n",
    "            print(st)\n",
    "            # Plot data\n",
    "            for t in range(50):\n",
    "                b_phase=b[t,:,y_slice_afterscale,:]\n",
    "                b_phasef=np.transpose(b_phase)\n",
    "                plt.figure(figsize=(20,5), dpi=200)\n",
    "                plt.pcolormesh(b_phasef,cmap='Reds')\n",
    "                plt.colorbar(label='buoyancy')\n",
    "                plt.xlabel('x')\n",
    "                plt.ylabel('z')\n",
    "                x = np.linspace(-2,2,num=9)\n",
    "                z = np.linspace(0,1,num=5)\n",
    "                \n",
    "                # create an index for each tick position\n",
    "                xi = np.linspace(0,256,num=9)\n",
    "                zi = np.linspace(0,64,num=5)\n",
    "                plt.xticks(xi,x)\n",
    "                plt.yticks(zi,z)\n",
    "\n",
    "                # Add time title\n",
    "                title = \"t=\"+str(st[t])\n",
    "                plt.title(title)\n",
    "                # Save figure\n",
    "                savename = \"Plot_\"+\"%04d\"%n+\".png\"\n",
    "                savepath = 'frames/'+savename\n",
    "                n=n+1\n",
    "                plt.savefig(str(savepath), dpi=200,bbox_inches='tight')\n",
    "                matplotlib.pyplot.close()\n"
   ]
  },
  {
   "cell_type": "code",
   "execution_count": 2,
   "metadata": {},
   "outputs": [
    {
     "name": "stdout",
     "output_type": "stream",
     "text": [
      "2023-06-17 11:05:09,223 matplotlib.animation 0/1 INFO :: Animation.save using <class 'matplotlib.animation.FFMpegWriter'>\n",
      "2023-06-17 11:05:09,227 matplotlib.animation 0/1 INFO :: MovieWriter._run: running command: ffmpeg -f rawvideo -vcodec rawvideo -s 3200x800 -pix_fmt rgba -r 4.0 -i pipe: -vcodec h264 -pix_fmt yuv420p -y dynamic_images.mp4\n"
     ]
    }
   ],
   "source": [
    "import matplotlib.animation as Animation\n",
    "from PIL import Image\n",
    "\n",
    "\n",
    "folder_dir = 'frames'\n",
    "\n",
    "# Get a list of PNG file paths from the directory\n",
    "file_paths = [os.path.join(folder_dir, f) for f in listdir(folder_dir) if os.path.isfile(os.path.join(folder_dir, f)) and f.endswith('.png')]\n",
    "\n",
    "# Sort the list of file paths\n",
    "file_paths.sort()\n",
    "\n",
    "# Read the images using PIL\n",
    "imgs = [Image.open(f) for f in file_paths]\n",
    "\n",
    "fig = plt.figure(figsize=(16,4),dpi=200)\n",
    "fig.patch.set_visible(False)\n",
    "plt.axis('off')\n",
    "\n",
    "# Wrap each image in a list to create a list of sequences of artists\n",
    "imgs = [[plt.imshow(img, animated=True)] for img in imgs]\n",
    "\n",
    "ani = Animation.ArtistAnimation(fig, imgs, interval=250, blit=True, repeat_delay=1000)\n",
    "\n",
    "# Save the animation to a file\n",
    "ani.save('dynamic_images.mp4',dpi=200)\n"
   ]
  },
  {
   "cell_type": "code",
   "execution_count": null,
   "metadata": {},
   "outputs": [],
   "source": []
  }
 ],
 "metadata": {
  "kernelspec": {
   "display_name": "dedalus3",
   "language": "python",
   "name": "dedalus3"
  },
  "language_info": {
   "codemirror_mode": {
    "name": "ipython",
    "version": 3
   },
   "file_extension": ".py",
   "mimetype": "text/x-python",
   "name": "python",
   "nbconvert_exporter": "python",
   "pygments_lexer": "ipython3",
   "version": "3.10.10"
  }
 },
 "nbformat": 4,
 "nbformat_minor": 4
}
