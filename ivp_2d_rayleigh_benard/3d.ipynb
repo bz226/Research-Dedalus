{
 "cells": [
  {
   "cell_type": "code",
   "execution_count": 1,
   "metadata": {},
   "outputs": [
    {
     "data": {
      "text/plain": [
       "'\\nDedalus script simulating 2D horizontally-periodic Rayleigh-Benard convection.\\nThis script demonstrates solving a 2D Cartesian initial value problem. It can\\nbe ran serially or in parallel, and uses the built-in analysis framework to save\\ndata snapshots to HDF5 files. The `plot_snapshots.py` script can be used to\\nproduce plots from the saved data. It should take about 5 cpu-minutes to run.\\n\\nThe problem is non-dimensionalized using the box height and freefall time, so\\nthe resulting thermal diffusivity and viscosity are related to the Prandtl\\nand Rayleigh numbers as:\\n    kappa = (Rayleigh * Prandtl)**(-1/2)\\n    nu = (Rayleigh / Prandtl)**(-1/2)\\n\\nFor incompressible hydro with two boundaries, we need two tau terms for each the\\nvelocity and buoyancy. Here we choose to use a first-order formulation, putting\\none tau term each on auxiliary first-order gradient variables and the others in\\nthe PDE, and lifting them all to the first derivative basis. This formulation puts\\na tau term in the divergence constraint, as required for this geometry.\\n\\nTo run and plot using e.g. 4 processes:\\n    $ mpiexec -n 4 python3 rayleigh_benard.py\\n    $ mpiexec -n 4 python3 plot_snapshots.py snapshots/*.h5\\n'"
      ]
     },
     "execution_count": 1,
     "metadata": {},
     "output_type": "execute_result"
    }
   ],
   "source": [
    "\"\"\"\n",
    "Dedalus script simulating 2D horizontally-periodic Rayleigh-Benard convection.\n",
    "This script demonstrates solving a 2D Cartesian initial value problem. It can\n",
    "be ran serially or in parallel, and uses the built-in analysis framework to save\n",
    "data snapshots to HDF5 files. The `plot_snapshots.py` script can be used to\n",
    "produce plots from the saved data. It should take about 5 cpu-minutes to run.\n",
    "\n",
    "The problem is non-dimensionalized using the box height and freefall time, so\n",
    "the resulting thermal diffusivity and viscosity are related to the Prandtl\n",
    "and Rayleigh numbers as:\n",
    "    kappa = (Rayleigh * Prandtl)**(-1/2)\n",
    "    nu = (Rayleigh / Prandtl)**(-1/2)\n",
    "\n",
    "For incompressible hydro with two boundaries, we need two tau terms for each the\n",
    "velocity and buoyancy. Here we choose to use a first-order formulation, putting\n",
    "one tau term each on auxiliary first-order gradient variables and the others in\n",
    "the PDE, and lifting them all to the first derivative basis. This formulation puts\n",
    "a tau term in the divergence constraint, as required for this geometry.\n",
    "\n",
    "To run and plot using e.g. 4 processes:\n",
    "    $ mpiexec -n 4 python3 rayleigh_benard.py\n",
    "    $ mpiexec -n 4 python3 plot_snapshots.py snapshots/*.h5\n",
    "\"\"\"\n"
   ]
  },
  {
   "cell_type": "code",
   "execution_count": 2,
   "metadata": {},
   "outputs": [],
   "source": [
    "import numpy as np\n",
    "import dedalus.public as d3\n",
    "import logging\n",
    "logger = logging.getLogger(__name__)"
   ]
  },
  {
   "cell_type": "code",
   "execution_count": 3,
   "metadata": {},
   "outputs": [],
   "source": [
    "# Parameters\n",
    "Lx,Ly, Lz = 4,4,1\n",
    "Nx, Nz = 256, 64\n",
    "Rayleigh = 2e6\n",
    "Prandtl = 1\n",
    "dealias = 3/2\n",
    "stop_sim_time = 50\n",
    "timestepper = d3.RK222\n",
    "max_timestep = 0.125\n",
    "dtype = np.float64"
   ]
  },
  {
   "cell_type": "code",
   "execution_count": 4,
   "metadata": {},
   "outputs": [],
   "source": [
    "# Bases\n",
    "coords = d3.CartesianCoordinates('x','y', 'z')\n",
    "dist = d3.Distributor(coords, dtype=dtype)\n",
    "xbasis = d3.RealFourier(coords['x'], size=Nx, bounds=(0, Lx), dealias=dealias)\n",
    "ybasis= d3.RealFourier(coords['y'], size=Nx, bounds=(0, Ly), dealias=dealias)\n",
    "zbasis = d3.ChebyshevT(coords['z'], size=Nz, bounds=(0, Lz), dealias=dealias)"
   ]
  },
  {
   "cell_type": "code",
   "execution_count": 5,
   "metadata": {},
   "outputs": [],
   "source": [
    "# Fields\n",
    "p = dist.Field(name='p', bases=(xbasis,ybasis,zbasis))\n",
    "b = dist.Field(name='b', bases=(xbasis,ybasis,zbasis))\n",
    "u = dist.VectorField(coords, name='u', bases=(xbasis,ybasis,zbasis))\n",
    "tau_p = dist.Field(name='tau_p')\n",
    "tau_b1 = dist.Field(name='tau_b1', bases=(xbasis,ybasis))\n",
    "tau_b2 = dist.Field(name='tau_b2', bases=(xbasis,ybasis))\n",
    "tau_u1 = dist.VectorField(coords, name='tau_u1', bases=(xbasis,ybasis))\n",
    "tau_u2 = dist.VectorField(coords, name='tau_u2', bases=(xbasis,ybasis))\n",
    "# Substitutions\n",
    "kappa = (Rayleigh * Prandtl)**(-1/2)\n",
    "nu = (Rayleigh / Prandtl)**(-1/2)\n",
    "x,y,z = dist.local_grids(xbasis,ybasis,zbasis)\n",
    "ex,ey, ez = coords.unit_vector_fields(dist)\n",
    "lift_basis = zbasis.derivative_basis(1)\n",
    "lift = lambda A: d3.Lift(A, lift_basis, -1)\n",
    "grad_u = d3.grad(u) + ez*lift(tau_u1) # First-order reduction\n",
    "grad_b = d3.grad(b) + ez*lift(tau_b1) # First-order reduction\n"
   ]
  },
  {
   "cell_type": "code",
   "execution_count": 6,
   "metadata": {},
   "outputs": [
    {
     "data": {
      "text/plain": [
       "{'LHS': Integrate(Integrate(Integrate(<Field 5243512144>))),\n",
       " 'RHS': 0,\n",
       " 'condition': 'True',\n",
       " 'tensorsig': (),\n",
       " 'dtype': numpy.float64,\n",
       " 'M': 0,\n",
       " 'L': Integrate(Integrate(Integrate(<Field 5243512144>))),\n",
       " 'F': <Field 5177235984>,\n",
       " 'domain': <dedalus.core.domain.Domain at 0x13889b950>,\n",
       " 'matrix_dependence': array([ True,  True,  True]),\n",
       " 'matrix_coupling': array([False, False,  True])}"
      ]
     },
     "execution_count": 6,
     "metadata": {},
     "output_type": "execute_result"
    }
   ],
   "source": [
    "# Problem\n",
    "# First-order form: \"div(f)\" becomes \"trace(grad_f)\"\n",
    "# First-order form: \"lap(f)\" becomes \"div(grad_f)\"\n",
    "problem = d3.IVP([p, b, u, tau_p, tau_b1, tau_b2, tau_u1, tau_u2], namespace=locals())\n",
    "problem.add_equation(\"trace(grad_u) + tau_p= 0\")\n",
    "problem.add_equation(\"dt(b) - kappa*div(grad_b) + lift(tau_b2) = - u@grad(b)\")\n",
    "problem.add_equation(\"dt(u) - nu*div(grad_u) + grad(p) - b*ez + lift(tau_u2) = - u@grad(u)\")\n",
    "problem.add_equation(\"b(z=0) = Lz\")\n",
    "problem.add_equation(\"u(z=0) = 0\")\n",
    "problem.add_equation(\"b(z=Lz) = 0\")\n",
    "problem.add_equation(\"u(z=Lz)= 0\")\n",
    "problem.add_equation(\"integ(p) = 0\") # Pressure gauge"
   ]
  },
  {
   "cell_type": "code",
   "execution_count": 8,
   "metadata": {},
   "outputs": [
    {
     "name": "stdout",
     "output_type": "stream",
     "text": [
      "2023-06-07 18:40:50,459 subsystems 0/1 INFO :: Building subproblem matrices 1/16384 (~0%) Elapsed: 0s, Remaining: 12m 06s, Rate: 2.3e+01/s\n",
      "2023-06-07 18:41:00,435 subsystems 0/1 INFO :: Building subproblem matrices 255/16384 (~2%) Elapsed: 10s, Remaining: 10m 34s, Rate: 2.5e+01/s\n",
      "2023-06-07 18:41:10,755 subsystems 0/1 INFO :: Building subproblem matrices 394/16384 (~2%) Elapsed: 20s, Remaining: 13m 46s, Rate: 1.9e+01/s\n",
      "2023-06-07 18:41:20,738 subsystems 0/1 INFO :: Building subproblem matrices 422/16384 (~3%) Elapsed: 30s, Remaining: 19m 07s, Rate: 1.4e+01/s\n",
      "2023-06-07 18:41:30,472 subsystems 0/1 INFO :: Building subproblem matrices 449/16384 (~3%) Elapsed: 40s, Remaining: 23m 42s, Rate: 1.1e+01/s\n",
      "2023-06-07 18:41:40,496 subsystems 0/1 INFO :: Building subproblem matrices 477/16384 (~3%) Elapsed: 50s, Remaining: 27m 50s, Rate: 9.5e+00/s\n",
      "2023-06-07 18:41:50,507 subsystems 0/1 INFO :: Building subproblem matrices 505/16384 (~3%) Elapsed: 1m 00s, Remaining: 31m 30s, Rate: 8.4e+00/s\n",
      "2023-06-07 18:42:00,533 subsystems 0/1 INFO :: Building subproblem matrices 533/16384 (~3%) Elapsed: 1m 10s, Remaining: 34m 45s, Rate: 7.6e+00/s\n",
      "2023-06-07 18:42:10,668 subsystems 0/1 INFO :: Building subproblem matrices 561/16384 (~3%) Elapsed: 1m 20s, Remaining: 37m 44s, Rate: 7.0e+00/s\n",
      "2023-06-07 18:42:20,651 subsystems 0/1 INFO :: Building subproblem matrices 589/16384 (~4%) Elapsed: 1m 30s, Remaining: 40m 20s, Rate: 6.5e+00/s\n",
      "2023-06-07 18:42:30,684 subsystems 0/1 INFO :: Building subproblem matrices 617/16384 (~4%) Elapsed: 1m 40s, Remaining: 42m 42s, Rate: 6.2e+00/s\n",
      "2023-06-07 18:42:40,697 subsystems 0/1 INFO :: Building subproblem matrices 645/16384 (~4%) Elapsed: 1m 50s, Remaining: 44m 51s, Rate: 5.8e+00/s\n",
      "2023-06-07 18:42:50,692 subsystems 0/1 INFO :: Building subproblem matrices 673/16384 (~4%) Elapsed: 2m 00s, Remaining: 46m 48s, Rate: 5.6e+00/s\n",
      "2023-06-07 18:43:00,745 subsystems 0/1 INFO :: Building subproblem matrices 701/16384 (~4%) Elapsed: 2m 10s, Remaining: 48m 36s, Rate: 5.4e+00/s\n",
      "2023-06-07 18:43:10,482 subsystems 0/1 INFO :: Building subproblem matrices 728/16384 (~4%) Elapsed: 2m 20s, Remaining: 50m 12s, Rate: 5.2e+00/s\n",
      "2023-06-07 18:43:20,614 subsystems 0/1 INFO :: Building subproblem matrices 756/16384 (~5%) Elapsed: 2m 30s, Remaining: 51m 45s, Rate: 5.0e+00/s\n",
      "2023-06-07 18:43:30,465 subsystems 0/1 INFO :: Building subproblem matrices 783/16384 (~5%) Elapsed: 2m 40s, Remaining: 53m 09s, Rate: 4.9e+00/s\n",
      "2023-06-07 18:43:40,506 subsystems 0/1 INFO :: Building subproblem matrices 811/16384 (~5%) Elapsed: 2m 50s, Remaining: 54m 26s, Rate: 4.8e+00/s\n",
      "2023-06-07 18:43:50,659 subsystems 0/1 INFO :: Building subproblem matrices 839/16384 (~5%) Elapsed: 3m 00s, Remaining: 55m 40s, Rate: 4.7e+00/s\n",
      "2023-06-07 18:44:00,442 subsystems 0/1 INFO :: Building subproblem matrices 866/16384 (~5%) Elapsed: 3m 10s, Remaining: 56m 45s, Rate: 4.6e+00/s\n",
      "2023-06-07 18:44:10,731 subsystems 0/1 INFO :: Building subproblem matrices 894/16384 (~5%) Elapsed: 3m 20s, Remaining: 57m 51s, Rate: 4.5e+00/s\n",
      "2023-06-07 18:44:20,734 subsystems 0/1 INFO :: Building subproblem matrices 922/16384 (~6%) Elapsed: 3m 30s, Remaining: 58m 47s, Rate: 4.4e+00/s\n",
      "2023-06-07 18:44:30,752 subsystems 0/1 INFO :: Building subproblem matrices 950/16384 (~6%) Elapsed: 3m 40s, Remaining: 59m 40s, Rate: 4.3e+00/s\n",
      "2023-06-07 18:44:40,557 subsystems 0/1 INFO :: Building subproblem matrices 977/16384 (~6%) Elapsed: 3m 50s, Remaining: 1h 00m 29s, Rate: 4.2e+00/s\n",
      "2023-06-07 18:44:50,665 subsystems 0/1 INFO :: Building subproblem matrices 1005/16384 (~6%) Elapsed: 4m 00s, Remaining: 1h 01m 16s, Rate: 4.2e+00/s\n",
      "2023-06-07 18:45:00,730 subsystems 0/1 INFO :: Building subproblem matrices 1033/16384 (~6%) Elapsed: 4m 10s, Remaining: 1h 02m 00s, Rate: 4.1e+00/s\n",
      "2023-06-07 18:45:10,573 subsystems 0/1 INFO :: Building subproblem matrices 1060/16384 (~6%) Elapsed: 4m 20s, Remaining: 1h 02m 41s, Rate: 4.1e+00/s\n",
      "2023-06-07 18:45:20,705 subsystems 0/1 INFO :: Building subproblem matrices 1088/16384 (~7%) Elapsed: 4m 30s, Remaining: 1h 03m 20s, Rate: 4.0e+00/s\n",
      "2023-06-07 18:45:30,538 subsystems 0/1 INFO :: Building subproblem matrices 1115/16384 (~7%) Elapsed: 4m 40s, Remaining: 1h 03m 56s, Rate: 4.0e+00/s\n",
      "2023-06-07 18:45:40,744 subsystems 0/1 INFO :: Building subproblem matrices 1143/16384 (~7%) Elapsed: 4m 50s, Remaining: 1h 04m 31s, Rate: 3.9e+00/s\n",
      "2023-06-07 18:45:50,599 subsystems 0/1 INFO :: Building subproblem matrices 1170/16384 (~7%) Elapsed: 5m 00s, Remaining: 1h 05m 03s, Rate: 3.9e+00/s\n",
      "2023-06-07 18:46:00,470 subsystems 0/1 INFO :: Building subproblem matrices 1197/16384 (~7%) Elapsed: 5m 10s, Remaining: 1h 05m 34s, Rate: 3.9e+00/s\n",
      "2023-06-07 18:46:10,668 subsystems 0/1 INFO :: Building subproblem matrices 1225/16384 (~7%) Elapsed: 5m 20s, Remaining: 1h 06m 03s, Rate: 3.8e+00/s\n",
      "2023-06-07 18:46:20,454 subsystems 0/1 INFO :: Building subproblem matrices 1252/16384 (~8%) Elapsed: 5m 30s, Remaining: 1h 06m 29s, Rate: 3.8e+00/s\n",
      "2023-06-07 18:46:30,650 subsystems 0/1 INFO :: Building subproblem matrices 1280/16384 (~8%) Elapsed: 5m 40s, Remaining: 1h 06m 55s, Rate: 3.8e+00/s\n",
      "2023-06-07 18:46:40,517 subsystems 0/1 INFO :: Building subproblem matrices 1306/16384 (~8%) Elapsed: 5m 50s, Remaining: 1h 07m 22s, Rate: 3.7e+00/s\n",
      "2023-06-07 18:46:50,710 subsystems 0/1 INFO :: Building subproblem matrices 1334/16384 (~8%) Elapsed: 6m 00s, Remaining: 1h 07m 45s, Rate: 3.7e+00/s\n",
      "2023-06-07 18:47:00,543 subsystems 0/1 INFO :: Building subproblem matrices 1361/16384 (~8%) Elapsed: 6m 10s, Remaining: 1h 08m 06s, Rate: 3.7e+00/s\n",
      "2023-06-07 18:47:10,587 subsystems 0/1 INFO :: Building subproblem matrices 1389/16384 (~8%) Elapsed: 6m 20s, Remaining: 1h 08m 24s, Rate: 3.7e+00/s\n",
      "2023-06-07 18:47:20,652 subsystems 0/1 INFO :: Building subproblem matrices 1417/16384 (~9%) Elapsed: 6m 30s, Remaining: 1h 08m 42s, Rate: 3.6e+00/s\n",
      "2023-06-07 18:47:30,740 subsystems 0/1 INFO :: Building subproblem matrices 1445/16384 (~9%) Elapsed: 6m 40s, Remaining: 1h 08m 59s, Rate: 3.6e+00/s\n",
      "2023-06-07 18:47:40,453 subsystems 0/1 INFO :: Building subproblem matrices 1472/16384 (~9%) Elapsed: 6m 50s, Remaining: 1h 09m 14s, Rate: 3.6e+00/s\n",
      "2023-06-07 18:47:50,539 subsystems 0/1 INFO :: Building subproblem matrices 1500/16384 (~9%) Elapsed: 7m 00s, Remaining: 1h 09m 29s, Rate: 3.6e+00/s\n",
      "2023-06-07 18:48:00,577 subsystems 0/1 INFO :: Building subproblem matrices 1528/16384 (~9%) Elapsed: 7m 10s, Remaining: 1h 09m 42s, Rate: 3.6e+00/s\n",
      "2023-06-07 18:48:10,654 subsystems 0/1 INFO :: Building subproblem matrices 1556/16384 (~9%) Elapsed: 7m 20s, Remaining: 1h 09m 55s, Rate: 3.5e+00/s\n",
      "2023-06-07 18:48:20,702 subsystems 0/1 INFO :: Building subproblem matrices 1584/16384 (~10%) Elapsed: 7m 30s, Remaining: 1h 10m 07s, Rate: 3.5e+00/s\n",
      "2023-06-07 18:48:30,421 subsystems 0/1 INFO :: Building subproblem matrices 1611/16384 (~10%) Elapsed: 7m 40s, Remaining: 1h 10m 18s, Rate: 3.5e+00/s\n",
      "2023-06-07 18:48:40,586 subsystems 0/1 INFO :: Building subproblem matrices 1639/16384 (~10%) Elapsed: 7m 50s, Remaining: 1h 10m 30s, Rate: 3.5e+00/s\n",
      "2023-06-07 18:48:50,715 subsystems 0/1 INFO :: Building subproblem matrices 1667/16384 (~10%) Elapsed: 8m 00s, Remaining: 1h 10m 40s, Rate: 3.5e+00/s\n",
      "2023-06-07 18:49:00,771 subsystems 0/1 INFO :: Building subproblem matrices 1695/16384 (~10%) Elapsed: 8m 10s, Remaining: 1h 10m 49s, Rate: 3.5e+00/s\n",
      "2023-06-07 18:49:10,502 subsystems 0/1 INFO :: Building subproblem matrices 1722/16384 (~11%) Elapsed: 8m 20s, Remaining: 1h 10m 58s, Rate: 3.4e+00/s\n",
      "2023-06-07 18:49:20,597 subsystems 0/1 INFO :: Building subproblem matrices 1750/16384 (~11%) Elapsed: 8m 30s, Remaining: 1h 11m 06s, Rate: 3.4e+00/s\n",
      "2023-06-07 18:49:30,694 subsystems 0/1 INFO :: Building subproblem matrices 1778/16384 (~11%) Elapsed: 8m 40s, Remaining: 1h 11m 14s, Rate: 3.4e+00/s\n",
      "2023-06-07 18:49:40,753 subsystems 0/1 INFO :: Building subproblem matrices 1805/16384 (~11%) Elapsed: 8m 50s, Remaining: 1h 11m 24s, Rate: 3.4e+00/s\n",
      "2023-06-07 18:49:50,634 subsystems 0/1 INFO :: Building subproblem matrices 1832/16384 (~11%) Elapsed: 9m 00s, Remaining: 1h 11m 31s, Rate: 3.4e+00/s\n",
      "2023-06-07 18:50:00,477 subsystems 0/1 INFO :: Building subproblem matrices 1859/16384 (~11%) Elapsed: 9m 10s, Remaining: 1h 11m 38s, Rate: 3.4e+00/s\n",
      "2023-06-07 18:50:10,720 subsystems 0/1 INFO :: Building subproblem matrices 1887/16384 (~12%) Elapsed: 9m 20s, Remaining: 1h 11m 45s, Rate: 3.4e+00/s\n",
      "2023-06-07 18:50:20,533 subsystems 0/1 INFO :: Building subproblem matrices 1914/16384 (~12%) Elapsed: 9m 30s, Remaining: 1h 11m 50s, Rate: 3.4e+00/s\n",
      "2023-06-07 18:50:30,740 subsystems 0/1 INFO :: Building subproblem matrices 1942/16384 (~12%) Elapsed: 9m 40s, Remaining: 1h 11m 56s, Rate: 3.3e+00/s\n",
      "2023-06-07 18:50:40,535 subsystems 0/1 INFO :: Building subproblem matrices 1969/16384 (~12%) Elapsed: 9m 50s, Remaining: 1h 12m 00s, Rate: 3.3e+00/s\n",
      "2023-06-07 18:50:50,686 subsystems 0/1 INFO :: Building subproblem matrices 1997/16384 (~12%) Elapsed: 10m 00s, Remaining: 1h 12m 05s, Rate: 3.3e+00/s\n",
      "2023-06-07 18:51:00,760 subsystems 0/1 INFO :: Building subproblem matrices 2025/16384 (~12%) Elapsed: 10m 10s, Remaining: 1h 12m 08s, Rate: 3.3e+00/s\n",
      "2023-06-07 18:51:10,507 subsystems 0/1 INFO :: Building subproblem matrices 2052/16384 (~13%) Elapsed: 10m 20s, Remaining: 1h 12m 11s, Rate: 3.3e+00/s\n",
      "2023-06-07 18:51:20,601 subsystems 0/1 INFO :: Building subproblem matrices 2080/16384 (~13%) Elapsed: 10m 30s, Remaining: 1h 12m 14s, Rate: 3.3e+00/s\n",
      "2023-06-07 18:51:30,676 subsystems 0/1 INFO :: Building subproblem matrices 2108/16384 (~13%) Elapsed: 10m 40s, Remaining: 1h 12m 16s, Rate: 3.3e+00/s\n",
      "2023-06-07 18:51:40,768 subsystems 0/1 INFO :: Building subproblem matrices 2136/16384 (~13%) Elapsed: 10m 50s, Remaining: 1h 12m 18s, Rate: 3.3e+00/s\n",
      "2023-06-07 18:51:50,493 subsystems 0/1 INFO :: Building subproblem matrices 2163/16384 (~13%) Elapsed: 11m 00s, Remaining: 1h 12m 20s, Rate: 3.3e+00/s\n",
      "2023-06-07 18:52:00,567 subsystems 0/1 INFO :: Building subproblem matrices 2191/16384 (~13%) Elapsed: 11m 10s, Remaining: 1h 12m 21s, Rate: 3.3e+00/s\n",
      "2023-06-07 18:52:10,650 subsystems 0/1 INFO :: Building subproblem matrices 2219/16384 (~14%) Elapsed: 11m 20s, Remaining: 1h 12m 22s, Rate: 3.3e+00/s\n",
      "2023-06-07 18:52:20,710 subsystems 0/1 INFO :: Building subproblem matrices 2247/16384 (~14%) Elapsed: 11m 30s, Remaining: 1h 12m 23s, Rate: 3.3e+00/s\n",
      "2023-06-07 18:52:30,414 subsystems 0/1 INFO :: Building subproblem matrices 2274/16384 (~14%) Elapsed: 11m 40s, Remaining: 1h 12m 23s, Rate: 3.2e+00/s\n",
      "2023-06-07 18:52:40,518 subsystems 0/1 INFO :: Building subproblem matrices 2302/16384 (~14%) Elapsed: 11m 50s, Remaining: 1h 12m 24s, Rate: 3.2e+00/s\n",
      "2023-06-07 18:52:50,630 subsystems 0/1 INFO :: Building subproblem matrices 2330/16384 (~14%) Elapsed: 12m 00s, Remaining: 1h 12m 24s, Rate: 3.2e+00/s\n",
      "2023-06-07 18:53:00,677 subsystems 0/1 INFO :: Building subproblem matrices 2358/16384 (~14%) Elapsed: 12m 10s, Remaining: 1h 12m 24s, Rate: 3.2e+00/s\n",
      "2023-06-07 18:53:10,755 subsystems 0/1 INFO :: Building subproblem matrices 2386/16384 (~15%) Elapsed: 12m 20s, Remaining: 1h 12m 23s, Rate: 3.2e+00/s\n",
      "2023-06-07 18:53:20,501 subsystems 0/1 INFO :: Building subproblem matrices 2413/16384 (~15%) Elapsed: 12m 30s, Remaining: 1h 12m 23s, Rate: 3.2e+00/s\n",
      "2023-06-07 18:53:30,605 subsystems 0/1 INFO :: Building subproblem matrices 2440/16384 (~15%) Elapsed: 12m 40s, Remaining: 1h 12m 24s, Rate: 3.2e+00/s\n",
      "2023-06-07 18:53:40,741 subsystems 0/1 INFO :: Building subproblem matrices 2468/16384 (~15%) Elapsed: 12m 50s, Remaining: 1h 12m 24s, Rate: 3.2e+00/s\n",
      "2023-06-07 18:53:50,467 subsystems 0/1 INFO :: Building subproblem matrices 2495/16384 (~15%) Elapsed: 13m 00s, Remaining: 1h 12m 22s, Rate: 3.2e+00/s\n",
      "2023-06-07 18:54:00,554 subsystems 0/1 INFO :: Building subproblem matrices 2523/16384 (~15%) Elapsed: 13m 10s, Remaining: 1h 12m 21s, Rate: 3.2e+00/s\n",
      "2023-06-07 18:54:10,639 subsystems 0/1 INFO :: Building subproblem matrices 2551/16384 (~16%) Elapsed: 13m 20s, Remaining: 1h 12m 19s, Rate: 3.2e+00/s\n",
      "2023-06-07 18:54:20,486 subsystems 0/1 INFO :: Building subproblem matrices 2578/16384 (~16%) Elapsed: 13m 30s, Remaining: 1h 12m 18s, Rate: 3.2e+00/s\n",
      "2023-06-07 18:54:30,725 subsystems 0/1 INFO :: Building subproblem matrices 2606/16384 (~16%) Elapsed: 13m 40s, Remaining: 1h 12m 17s, Rate: 3.2e+00/s\n",
      "2023-06-07 18:54:40,559 subsystems 0/1 INFO :: Building subproblem matrices 2633/16384 (~16%) Elapsed: 13m 50s, Remaining: 1h 12m 15s, Rate: 3.2e+00/s\n"
     ]
    },
    {
     "ename": "KeyboardInterrupt",
     "evalue": "",
     "output_type": "error",
     "traceback": [
      "\u001b[0;31m---------------------------------------------------------------------------\u001b[0m",
      "\u001b[0;31mKeyboardInterrupt\u001b[0m                         Traceback (most recent call last)",
      "Cell \u001b[0;32mIn[8], line 2\u001b[0m\n\u001b[1;32m      1\u001b[0m \u001b[39m# Solver\u001b[39;00m\n\u001b[0;32m----> 2\u001b[0m solver \u001b[39m=\u001b[39m problem\u001b[39m.\u001b[39;49mbuild_solver(timestepper)\n\u001b[1;32m      3\u001b[0m solver\u001b[39m.\u001b[39mstop_sim_time \u001b[39m=\u001b[39m stop_sim_time\n",
      "File \u001b[0;32m~/opt/anaconda3/envs/dedalus3/lib/python3.11/site-packages/dedalus/core/problems.py:95\u001b[0m, in \u001b[0;36mProblemBase.build_solver\u001b[0;34m(self, *args, **kw)\u001b[0m\n\u001b[1;32m     93\u001b[0m \u001b[39mdef\u001b[39;00m \u001b[39mbuild_solver\u001b[39m(\u001b[39mself\u001b[39m, \u001b[39m*\u001b[39margs, \u001b[39m*\u001b[39m\u001b[39m*\u001b[39mkw):\n\u001b[1;32m     94\u001b[0m \u001b[39m    \u001b[39m\u001b[39m\"\"\"Build corresponding solver class.\"\"\"\u001b[39;00m\n\u001b[0;32m---> 95\u001b[0m     \u001b[39mreturn\u001b[39;00m \u001b[39mself\u001b[39;49m\u001b[39m.\u001b[39;49msolver_class(\u001b[39mself\u001b[39;49m, \u001b[39m*\u001b[39;49margs, \u001b[39m*\u001b[39;49m\u001b[39m*\u001b[39;49mkw)\n",
      "File \u001b[0;32m~/opt/anaconda3/envs/dedalus3/lib/python3.11/site-packages/dedalus/core/solvers.py:520\u001b[0m, in \u001b[0;36mInitialValueSolver.__init__\u001b[0;34m(self, problem, timestepper, enforce_real_cadence, warmup_iterations, **kw)\u001b[0m\n\u001b[1;32m    518\u001b[0m \u001b[39mself\u001b[39m\u001b[39m.\u001b[39minit_time \u001b[39m=\u001b[39m \u001b[39mself\u001b[39m\u001b[39m.\u001b[39mworld_time\n\u001b[1;32m    519\u001b[0m \u001b[39m# Build LHS matrices\u001b[39;00m\n\u001b[0;32m--> 520\u001b[0m subsystems\u001b[39m.\u001b[39;49mbuild_subproblem_matrices(\u001b[39mself\u001b[39;49m, \u001b[39mself\u001b[39;49m\u001b[39m.\u001b[39;49msubproblems, [\u001b[39m'\u001b[39;49m\u001b[39mM\u001b[39;49m\u001b[39m'\u001b[39;49m, \u001b[39m'\u001b[39;49m\u001b[39mL\u001b[39;49m\u001b[39m'\u001b[39;49m])\n\u001b[1;32m    521\u001b[0m \u001b[39m# Compute total modes\u001b[39;00m\n\u001b[1;32m    522\u001b[0m local_modes \u001b[39m=\u001b[39m \u001b[39msum\u001b[39m(ss\u001b[39m.\u001b[39msubproblem\u001b[39m.\u001b[39mpre_right\u001b[39m.\u001b[39mshape[\u001b[39m1\u001b[39m] \u001b[39mfor\u001b[39;00m ss \u001b[39min\u001b[39;00m \u001b[39mself\u001b[39m\u001b[39m.\u001b[39msubsystems)\n",
      "File \u001b[0;32m~/opt/anaconda3/envs/dedalus3/lib/python3.11/site-packages/dedalus/core/subsystems.py:80\u001b[0m, in \u001b[0;36mbuild_subproblem_matrices\u001b[0;34m(solver, subproblems, matrices)\u001b[0m\n\u001b[1;32m     78\u001b[0m \u001b[39m# Build matrices\u001b[39;00m\n\u001b[1;32m     79\u001b[0m \u001b[39mfor\u001b[39;00m subproblem \u001b[39min\u001b[39;00m log_progress(subproblems, logger, \u001b[39m'\u001b[39m\u001b[39minfo\u001b[39m\u001b[39m'\u001b[39m, desc\u001b[39m=\u001b[39m\u001b[39m'\u001b[39m\u001b[39mBuilding subproblem matrices\u001b[39m\u001b[39m'\u001b[39m, \u001b[39miter\u001b[39m\u001b[39m=\u001b[39mnp\u001b[39m.\u001b[39minf, frac\u001b[39m=\u001b[39m\u001b[39m0.1\u001b[39m, dt\u001b[39m=\u001b[39m\u001b[39m10\u001b[39m):\n\u001b[0;32m---> 80\u001b[0m      subproblem\u001b[39m.\u001b[39;49mbuild_matrices(matrices)\n",
      "File \u001b[0;32m~/opt/anaconda3/envs/dedalus3/lib/python3.11/site-packages/dedalus/core/subsystems.py:492\u001b[0m, in \u001b[0;36mSubproblem.build_matrices\u001b[0;34m(self, names)\u001b[0m\n\u001b[1;32m    489\u001b[0m     \u001b[39mraise\u001b[39;00m \u001b[39mValueError\u001b[39;00m(\u001b[39m\"\u001b[39m\u001b[39mNon-square system: group=\u001b[39m\u001b[39m{}\u001b[39;00m\u001b[39m, I=\u001b[39m\u001b[39m{}\u001b[39;00m\u001b[39m, J=\u001b[39m\u001b[39m{}\u001b[39;00m\u001b[39m\"\u001b[39m\u001b[39m.\u001b[39mformat(\u001b[39mself\u001b[39m\u001b[39m.\u001b[39mgroup, valid_eqn\u001b[39m.\u001b[39mnnz, valid_var\u001b[39m.\u001b[39mnnz))\n\u001b[1;32m    491\u001b[0m \u001b[39m# Permutations\u001b[39;00m\n\u001b[0;32m--> 492\u001b[0m left_perm \u001b[39m=\u001b[39m left_permutation(\u001b[39mself\u001b[39;49m, eqns, bc_top\u001b[39m=\u001b[39;49msolver\u001b[39m.\u001b[39;49mbc_top, interleave_components\u001b[39m=\u001b[39;49msolver\u001b[39m.\u001b[39;49minterleave_components)\u001b[39m.\u001b[39mtocsr()\n\u001b[1;32m    493\u001b[0m right_perm \u001b[39m=\u001b[39m right_permutation(\u001b[39mself\u001b[39m, \u001b[39mvars\u001b[39m, tau_left\u001b[39m=\u001b[39msolver\u001b[39m.\u001b[39mtau_left, interleave_components\u001b[39m=\u001b[39msolver\u001b[39m.\u001b[39minterleave_components)\u001b[39m.\u001b[39mtocsr()\n\u001b[1;32m    495\u001b[0m \u001b[39m# Preconditioners\u001b[39;00m\n",
      "File \u001b[0;32m~/opt/anaconda3/envs/dedalus3/lib/python3.11/site-packages/dedalus/core/subsystems.py:602\u001b[0m, in \u001b[0;36mleft_permutation\u001b[0;34m(subproblem, equations, bc_top, interleave_components)\u001b[0m\n\u001b[1;32m    600\u001b[0m                     indices[dim]\u001b[39m.\u001b[39mappend(L0[n1][n2][n3])\n\u001b[1;32m    601\u001b[0m                 \u001b[39mexcept\u001b[39;00m \u001b[39mIndexError\u001b[39;00m:\n\u001b[0;32m--> 602\u001b[0m                     \u001b[39mcontinue\u001b[39;00m\n\u001b[1;32m    603\u001b[0m \u001b[39m# Combine indices by dimension\u001b[39;00m\n\u001b[1;32m    604\u001b[0m dims \u001b[39m=\u001b[39m \u001b[39msorted\u001b[39m(\u001b[39mlist\u001b[39m(indices\u001b[39m.\u001b[39mkeys()))\n",
      "\u001b[0;31mKeyboardInterrupt\u001b[0m: "
     ]
    }
   ],
   "source": [
    "# Solver\n",
    "solver = problem.build_solver(timestepper)\n",
    "solver.stop_sim_time = stop_sim_time\n"
   ]
  },
  {
   "cell_type": "code",
   "execution_count": null,
   "metadata": {},
   "outputs": [],
   "source": [
    "# Initial conditions\n",
    "b.fill_random('g', seed=42, distribution='normal', scale=1e-3) # Random noise\n",
    "b['g'] *= z * (Lz - z) # Damp noise at walls\n",
    "b['g'] += Lz - z # Add linear background"
   ]
  },
  {
   "cell_type": "code",
   "execution_count": null,
   "metadata": {},
   "outputs": [],
   "source": [
    "# Analysis\n",
    "snapshots = solver.evaluator.add_file_handler('snapshots', sim_dt=0.25, max_writes=50)\n",
    "snapshots.add_task(b, name='buoyancy')"
   ]
  },
  {
   "cell_type": "code",
   "execution_count": null,
   "metadata": {},
   "outputs": [],
   "source": [
    "# CFL\n",
    "CFL = d3.CFL(solver, initial_dt=max_timestep, cadence=10, safety=0.5, threshold=0.05,\n",
    "             max_change=1.5, min_change=0.5, max_dt=max_timestep)\n",
    "CFL.add_velocity(u)"
   ]
  },
  {
   "cell_type": "code",
   "execution_count": null,
   "metadata": {},
   "outputs": [],
   "source": [
    "# Flow properties\n",
    "flow = d3.GlobalFlowProperty(solver, cadence=10)\n",
    "flow.add_property(np.sqrt(u@u)/nu, name='Re')\n"
   ]
  },
  {
   "cell_type": "code",
   "execution_count": null,
   "metadata": {},
   "outputs": [],
   "source": [
    "# Main loop\n",
    "startup_iter = 10\n",
    "try:\n",
    "    logger.info('Starting main loop')\n",
    "    while solver.proceed:\n",
    "        timestep = CFL.compute_timestep()\n",
    "        solver.step(timestep)\n",
    "        if (solver.iteration-1) % 10 == 0:\n",
    "            max_Re = flow.max('Re')\n",
    "            logger.info('Iteration=%i, Time=%e, dt=%e, max(Re)=%f' %(solver.iteration, solver.sim_time, timestep, max_Re))\n",
    "except:\n",
    "    logger.error('Exception raised, triggering end of main loop.')\n",
    "    raise\n",
    "finally:\n",
    "    solver.log_stats()"
   ]
  }
 ],
 "metadata": {
  "kernelspec": {
   "display_name": "dedalus3",
   "language": "python",
   "name": "python3"
  },
  "language_info": {
   "codemirror_mode": {
    "name": "ipython",
    "version": 3
   },
   "file_extension": ".py",
   "mimetype": "text/x-python",
   "name": "python",
   "nbconvert_exporter": "python",
   "pygments_lexer": "ipython3",
   "version": "3.11.3"
  },
  "orig_nbformat": 4
 },
 "nbformat": 4,
 "nbformat_minor": 2
}
