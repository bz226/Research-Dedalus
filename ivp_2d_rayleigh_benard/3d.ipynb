{
 "cells": [
  {
   "cell_type": "code",
   "execution_count": null,
   "metadata": {},
   "outputs": [],
   "source": [
    "\"\"\"\n",
    "Dedalus script simulating 2D horizontally-periodic Rayleigh-Benard convection.\n",
    "This script demonstrates solving a 2D Cartesian initial value problem. It can\n",
    "be ran serially or in parallel, and uses the built-in analysis framework to save\n",
    "data snapshots to HDF5 files. The `plot_snapshots.py` script can be used to\n",
    "produce plots from the saved data. It should take about 5 cpu-minutes to run.\n",
    "\n",
    "The problem is non-dimensionalized using the box height and freefall time, so\n",
    "the resulting thermal diffusivity and viscosity are related to the Prandtl\n",
    "and Rayleigh numbers as:\n",
    "\n",
    "    kappa = (Rayleigh * Prandtl)**(-1/2)\n",
    "    nu = (Rayleigh / Prandtl)**(-1/2)\n",
    "\n",
    "For incompressible hydro with two boundaries, we need two tau terms for each the\n",
    "velocity and buoyancy. Here we choose to use a first-order formulation, putting\n",
    "one tau term each on auxiliary first-order gradient variables and the others in\n",
    "the PDE, and lifting them all to the first derivative basis. This formulation puts\n",
    "a tau term in the divergence constraint, as required for this geometry.\n",
    "\n",
    "To run and plot using e.g. 4 processes:\n",
    "    $ mpiexec -n 4 python3 rayleigh_benard.py\n",
    "    $ mpiexec -n 4 python3 plot_snapshots.py snapshots/*.h5\n",
    "\"\"\"\n"
   ]
  },
  {
   "cell_type": "code",
   "execution_count": 1,
   "metadata": {},
   "outputs": [],
   "source": [
    "import numpy as np\n",
    "import dedalus.public as d3\n",
    "import logging\n",
    "logger = logging.getLogger(__name__)"
   ]
  },
  {
   "cell_type": "code",
   "execution_count": 2,
   "metadata": {},
   "outputs": [],
   "source": [
    "# Parameters\n",
    "Lx,Ly, Lz = 4,4,1\n",
    "Nx, Nz = 256, 64\n",
    "Rayleigh = 2e6\n",
    "Prandtl = 1\n",
    "dealias = 3/2\n",
    "stop_sim_time = 50\n",
    "timestepper = d3.RK222\n",
    "max_timestep = 0.125\n",
    "dtype = np.float64"
   ]
  },
  {
   "cell_type": "code",
   "execution_count": 3,
   "metadata": {},
   "outputs": [],
   "source": [
    "# Bases\n",
    "coords = d3.CartesianCoordinates('x','y', 'z')\n",
    "dist = d3.Distributor(coords, dtype=dtype)\n",
    "xbasis = d3.RealFourier(coords['x'], size=Nx, bounds=(0, Lx), dealias=dealias)\n",
    "ybasis= d3.RealFourier(coords['y'], size=Nx, bounds=(0, Ly), dealias=dealias)\n",
    "zbasis = d3.ChebyshevT(coords['z'], size=Nz, bounds=(0, Lz), dealias=dealias)"
   ]
  },
  {
   "cell_type": "code",
   "execution_count": 4,
   "metadata": {},
   "outputs": [],
   "source": [
    "# Fields\n",
    "p = dist.Field(name='p', bases=(xbasis,ybasis,zbasis))\n",
    "b = dist.Field(name='b', bases=(xbasis,ybasis,zbasis))\n",
    "u = dist.VectorField(coords, name='u', bases=(xbasis,ybasis,zbasis))\n",
    "tau_p = dist.Field(name='tau_p')\n",
    "tau_b1 = dist.Field(name='tau_b1', bases=(xbasis,ybasis))\n",
    "tau_b2 = dist.Field(name='tau_b2', bases=(xbasis,ybasis))\n",
    "tau_u1 = dist.VectorField(coords, name='tau_u1', bases=(xbasis,ybasis))\n",
    "tau_u2 = dist.VectorField(coords, name='tau_u2', bases=(xbasis,ybasis))\n",
    "# Substitutions\n",
    "kappa = (Rayleigh * Prandtl)**(-1/2)\n",
    "nu = (Rayleigh / Prandtl)**(-1/2)\n",
    "x,y,z = dist.local_grids(xbasis,ybasis,zbasis)\n",
    "ex,ey, ez = coords.unit_vector_fields(dist)\n",
    "lift_basis = zbasis.derivative_basis(1)\n",
    "lift = lambda A: d3.Lift(A, lift_basis, -1)\n",
    "grad_u = d3.grad(u) + ez*lift(tau_u1) # First-order reduction\n",
    "grad_b = d3.grad(b) + ez*lift(tau_b1) # First-order reduction\n"
   ]
  },
  {
   "cell_type": "code",
   "execution_count": 5,
   "metadata": {},
   "outputs": [
    {
     "data": {
      "text/plain": [
       "{'LHS': Integrate(Integrate(Integrate(<Field 5285577488>))),\n",
       " 'RHS': 0,\n",
       " 'condition': 'True',\n",
       " 'tensorsig': (),\n",
       " 'dtype': numpy.float64,\n",
       " 'M': 0,\n",
       " 'L': Integrate(Integrate(Integrate(<Field 5285577488>))),\n",
       " 'F': <Field 4763098064>,\n",
       " 'domain': <dedalus.core.domain.Domain at 0x13b0b96d0>,\n",
       " 'matrix_dependence': array([ True,  True,  True]),\n",
       " 'matrix_coupling': array([False, False,  True])}"
      ]
     },
     "execution_count": 5,
     "metadata": {},
     "output_type": "execute_result"
    }
   ],
   "source": [
    "# Problem\n",
    "# First-order form: \"div(f)\" becomes \"trace(grad_f)\"\n",
    "# First-order form: \"lap(f)\" becomes \"div(grad_f)\"\n",
    "problem = d3.IVP([p, b, u, tau_p, tau_b1, tau_b2, tau_u1, tau_u2], namespace=locals())\n",
    "problem.add_equation(\"trace(grad_u) + tau_p= 0\")\n",
    "problem.add_equation(\"dt(b) - kappa*div(grad_b) + lift(tau_b2) = - u@grad(b)\")\n",
    "problem.add_equation(\"dt(u) - nu*div(grad_u) + grad(p) - b*ez + lift(tau_u2) = - u@grad(u)\")\n",
    "problem.add_equation(\"b(z=0) = Lz\")\n",
    "problem.add_equation(\"u(z=0) = 0\")\n",
    "problem.add_equation(\"b(z=Lz) = 0\")\n",
    "problem.add_equation(\"u(z=Lz)= 0\")\n",
    "problem.add_equation(\"integ(p) = 0\") # Pressure gauge"
   ]
  },
  {
   "cell_type": "code",
   "execution_count": 6,
   "metadata": {},
   "outputs": [
    {
     "name": "stdout",
     "output_type": "stream",
     "text": [
      "2023-06-07 14:43:22,380 subsystems 0/1 INFO :: Building subproblem matrices 1/16384 (~0%) Elapsed: 1s, Remaining: 3h 32m 10s, Rate: 1.3e+00/s\n",
      "2023-06-07 14:43:31,696 subsystems 0/1 INFO :: Building subproblem matrices 27/16384 (~0%) Elapsed: 10s, Remaining: 1h 41m 55s, Rate: 2.7e+00/s\n",
      "2023-06-07 14:43:41,891 subsystems 0/1 INFO :: Building subproblem matrices 56/16384 (~0%) Elapsed: 20s, Remaining: 1h 38m 36s, Rate: 2.8e+00/s\n",
      "2023-06-07 14:43:51,754 subsystems 0/1 INFO :: Building subproblem matrices 84/16384 (~1%) Elapsed: 30s, Remaining: 1h 37m 31s, Rate: 2.8e+00/s\n",
      "2023-06-07 14:44:01,842 subsystems 0/1 INFO :: Building subproblem matrices 113/16384 (~1%) Elapsed: 40s, Remaining: 1h 36m 34s, Rate: 2.8e+00/s\n",
      "2023-06-07 14:44:11,909 subsystems 0/1 INFO :: Building subproblem matrices 142/16384 (~1%) Elapsed: 50s, Remaining: 1h 35m 54s, Rate: 2.8e+00/s\n"
     ]
    },
    {
     "ename": "KeyboardInterrupt",
     "evalue": "",
     "output_type": "error",
     "traceback": [
      "\u001b[0;31m---------------------------------------------------------------------------\u001b[0m",
      "\u001b[0;31mKeyboardInterrupt\u001b[0m                         Traceback (most recent call last)",
      "Cell \u001b[0;32mIn[6], line 2\u001b[0m\n\u001b[1;32m      1\u001b[0m \u001b[39m# Solver\u001b[39;00m\n\u001b[0;32m----> 2\u001b[0m solver \u001b[39m=\u001b[39m problem\u001b[39m.\u001b[39;49mbuild_solver(timestepper)\n\u001b[1;32m      3\u001b[0m solver\u001b[39m.\u001b[39mstop_sim_time \u001b[39m=\u001b[39m stop_sim_time\n",
      "File \u001b[0;32m~/opt/anaconda3/envs/dedalus3/lib/python3.11/site-packages/dedalus/core/problems.py:95\u001b[0m, in \u001b[0;36mProblemBase.build_solver\u001b[0;34m(self, *args, **kw)\u001b[0m\n\u001b[1;32m     93\u001b[0m \u001b[39mdef\u001b[39;00m \u001b[39mbuild_solver\u001b[39m(\u001b[39mself\u001b[39m, \u001b[39m*\u001b[39margs, \u001b[39m*\u001b[39m\u001b[39m*\u001b[39mkw):\n\u001b[1;32m     94\u001b[0m \u001b[39m    \u001b[39m\u001b[39m\"\"\"Build corresponding solver class.\"\"\"\u001b[39;00m\n\u001b[0;32m---> 95\u001b[0m     \u001b[39mreturn\u001b[39;00m \u001b[39mself\u001b[39;49m\u001b[39m.\u001b[39;49msolver_class(\u001b[39mself\u001b[39;49m, \u001b[39m*\u001b[39;49margs, \u001b[39m*\u001b[39;49m\u001b[39m*\u001b[39;49mkw)\n",
      "File \u001b[0;32m~/opt/anaconda3/envs/dedalus3/lib/python3.11/site-packages/dedalus/core/solvers.py:520\u001b[0m, in \u001b[0;36mInitialValueSolver.__init__\u001b[0;34m(self, problem, timestepper, enforce_real_cadence, warmup_iterations, **kw)\u001b[0m\n\u001b[1;32m    518\u001b[0m \u001b[39mself\u001b[39m\u001b[39m.\u001b[39minit_time \u001b[39m=\u001b[39m \u001b[39mself\u001b[39m\u001b[39m.\u001b[39mworld_time\n\u001b[1;32m    519\u001b[0m \u001b[39m# Build LHS matrices\u001b[39;00m\n\u001b[0;32m--> 520\u001b[0m subsystems\u001b[39m.\u001b[39;49mbuild_subproblem_matrices(\u001b[39mself\u001b[39;49m, \u001b[39mself\u001b[39;49m\u001b[39m.\u001b[39;49msubproblems, [\u001b[39m'\u001b[39;49m\u001b[39mM\u001b[39;49m\u001b[39m'\u001b[39;49m, \u001b[39m'\u001b[39;49m\u001b[39mL\u001b[39;49m\u001b[39m'\u001b[39;49m])\n\u001b[1;32m    521\u001b[0m \u001b[39m# Compute total modes\u001b[39;00m\n\u001b[1;32m    522\u001b[0m local_modes \u001b[39m=\u001b[39m \u001b[39msum\u001b[39m(ss\u001b[39m.\u001b[39msubproblem\u001b[39m.\u001b[39mpre_right\u001b[39m.\u001b[39mshape[\u001b[39m1\u001b[39m] \u001b[39mfor\u001b[39;00m ss \u001b[39min\u001b[39;00m \u001b[39mself\u001b[39m\u001b[39m.\u001b[39msubsystems)\n",
      "File \u001b[0;32m~/opt/anaconda3/envs/dedalus3/lib/python3.11/site-packages/dedalus/core/subsystems.py:80\u001b[0m, in \u001b[0;36mbuild_subproblem_matrices\u001b[0;34m(solver, subproblems, matrices)\u001b[0m\n\u001b[1;32m     78\u001b[0m \u001b[39m# Build matrices\u001b[39;00m\n\u001b[1;32m     79\u001b[0m \u001b[39mfor\u001b[39;00m subproblem \u001b[39min\u001b[39;00m log_progress(subproblems, logger, \u001b[39m'\u001b[39m\u001b[39minfo\u001b[39m\u001b[39m'\u001b[39m, desc\u001b[39m=\u001b[39m\u001b[39m'\u001b[39m\u001b[39mBuilding subproblem matrices\u001b[39m\u001b[39m'\u001b[39m, \u001b[39miter\u001b[39m\u001b[39m=\u001b[39mnp\u001b[39m.\u001b[39minf, frac\u001b[39m=\u001b[39m\u001b[39m0.1\u001b[39m, dt\u001b[39m=\u001b[39m\u001b[39m10\u001b[39m):\n\u001b[0;32m---> 80\u001b[0m      subproblem\u001b[39m.\u001b[39;49mbuild_matrices(matrices)\n",
      "File \u001b[0;32m~/opt/anaconda3/envs/dedalus3/lib/python3.11/site-packages/dedalus/core/subsystems.py:442\u001b[0m, in \u001b[0;36mSubproblem.build_matrices\u001b[0;34m(self, names)\u001b[0m\n\u001b[1;32m    440\u001b[0m eqn_conditions \u001b[39m=\u001b[39m [\u001b[39mself\u001b[39m\u001b[39m.\u001b[39mcheck_condition(eqn) \u001b[39mfor\u001b[39;00m eqn \u001b[39min\u001b[39;00m eqns]  \u001b[39m# HACK\u001b[39;00m\n\u001b[1;32m    441\u001b[0m eqn_sizes \u001b[39m=\u001b[39m [\u001b[39mself\u001b[39m\u001b[39m.\u001b[39mfield_size(eqn[\u001b[39m'\u001b[39m\u001b[39mLHS\u001b[39m\u001b[39m'\u001b[39m]) \u001b[39mfor\u001b[39;00m eqn \u001b[39min\u001b[39;00m eqns]\n\u001b[0;32m--> 442\u001b[0m var_sizes \u001b[39m=\u001b[39m [\u001b[39mself\u001b[39;49m\u001b[39m.\u001b[39;49mfield_size(var) \u001b[39mfor\u001b[39;49;00m var \u001b[39min\u001b[39;49;00m \u001b[39mvars\u001b[39;49m]\n\u001b[1;32m    443\u001b[0m I \u001b[39m=\u001b[39m \u001b[39msum\u001b[39m(eqn_sizes)\n\u001b[1;32m    444\u001b[0m J \u001b[39m=\u001b[39m \u001b[39msum\u001b[39m(var_sizes)\n",
      "File \u001b[0;32m~/opt/anaconda3/envs/dedalus3/lib/python3.11/site-packages/dedalus/core/subsystems.py:442\u001b[0m, in \u001b[0;36m<listcomp>\u001b[0;34m(.0)\u001b[0m\n\u001b[1;32m    440\u001b[0m eqn_conditions \u001b[39m=\u001b[39m [\u001b[39mself\u001b[39m\u001b[39m.\u001b[39mcheck_condition(eqn) \u001b[39mfor\u001b[39;00m eqn \u001b[39min\u001b[39;00m eqns]  \u001b[39m# HACK\u001b[39;00m\n\u001b[1;32m    441\u001b[0m eqn_sizes \u001b[39m=\u001b[39m [\u001b[39mself\u001b[39m\u001b[39m.\u001b[39mfield_size(eqn[\u001b[39m'\u001b[39m\u001b[39mLHS\u001b[39m\u001b[39m'\u001b[39m]) \u001b[39mfor\u001b[39;00m eqn \u001b[39min\u001b[39;00m eqns]\n\u001b[0;32m--> 442\u001b[0m var_sizes \u001b[39m=\u001b[39m [\u001b[39mself\u001b[39;49m\u001b[39m.\u001b[39;49mfield_size(var) \u001b[39mfor\u001b[39;00m var \u001b[39min\u001b[39;00m \u001b[39mvars\u001b[39m]\n\u001b[1;32m    443\u001b[0m I \u001b[39m=\u001b[39m \u001b[39msum\u001b[39m(eqn_sizes)\n\u001b[1;32m    444\u001b[0m J \u001b[39m=\u001b[39m \u001b[39msum\u001b[39m(var_sizes)\n",
      "File \u001b[0;32m~/opt/anaconda3/envs/dedalus3/lib/python3.11/site-packages/dedalus/core/subsystems.py:278\u001b[0m, in \u001b[0;36mSubproblem.field_size\u001b[0;34m(self, field)\u001b[0m\n\u001b[1;32m    277\u001b[0m \u001b[39mdef\u001b[39;00m \u001b[39mfield_size\u001b[39m(\u001b[39mself\u001b[39m, field):\n\u001b[0;32m--> 278\u001b[0m     \u001b[39mreturn\u001b[39;00m \u001b[39mself\u001b[39;49m\u001b[39m.\u001b[39;49msubsystems[\u001b[39m0\u001b[39;49m]\u001b[39m.\u001b[39;49mfield_size(field)\n",
      "File \u001b[0;32m~/opt/anaconda3/envs/dedalus3/lib/python3.11/site-packages/dedalus/tools/cache.py:86\u001b[0m, in \u001b[0;36mCachedFunction.__call__\u001b[0;34m(self, *args, **kw)\u001b[0m\n\u001b[1;32m     84\u001b[0m     \u001b[39mself\u001b[39m\u001b[39m.\u001b[39mcache\u001b[39m.\u001b[39mpopitem(last\u001b[39m=\u001b[39m\u001b[39mFalse\u001b[39;00m)\n\u001b[1;32m     85\u001b[0m \u001b[39m# Compute and cache result\u001b[39;00m\n\u001b[0;32m---> 86\u001b[0m result \u001b[39m=\u001b[39m \u001b[39mself\u001b[39;49m\u001b[39m.\u001b[39;49mfunction(\u001b[39m*\u001b[39;49margs, \u001b[39m*\u001b[39;49m\u001b[39m*\u001b[39;49mkw)\n\u001b[1;32m     87\u001b[0m \u001b[39mself\u001b[39m\u001b[39m.\u001b[39mcache[direct_call] \u001b[39m=\u001b[39m result\n\u001b[1;32m     88\u001b[0m \u001b[39mself\u001b[39m\u001b[39m.\u001b[39mcache[resolved_call] \u001b[39m=\u001b[39m result\n",
      "File \u001b[0;32m~/opt/anaconda3/envs/dedalus3/lib/python3.11/site-packages/dedalus/core/subsystems.py:165\u001b[0m, in \u001b[0;36mSubsystem.field_size\u001b[0;34m(self, field)\u001b[0m\n\u001b[1;32m    163\u001b[0m \u001b[39m@CachedMethod\u001b[39m\n\u001b[1;32m    164\u001b[0m \u001b[39mdef\u001b[39;00m \u001b[39mfield_size\u001b[39m(\u001b[39mself\u001b[39m, field):\n\u001b[0;32m--> 165\u001b[0m     \u001b[39mreturn\u001b[39;00m np\u001b[39m.\u001b[39mprod(\u001b[39mself\u001b[39;49m\u001b[39m.\u001b[39;49mfield_shape(field))\n",
      "File \u001b[0;32m~/opt/anaconda3/envs/dedalus3/lib/python3.11/site-packages/dedalus/tools/cache.py:86\u001b[0m, in \u001b[0;36mCachedFunction.__call__\u001b[0;34m(self, *args, **kw)\u001b[0m\n\u001b[1;32m     84\u001b[0m     \u001b[39mself\u001b[39m\u001b[39m.\u001b[39mcache\u001b[39m.\u001b[39mpopitem(last\u001b[39m=\u001b[39m\u001b[39mFalse\u001b[39;00m)\n\u001b[1;32m     85\u001b[0m \u001b[39m# Compute and cache result\u001b[39;00m\n\u001b[0;32m---> 86\u001b[0m result \u001b[39m=\u001b[39m \u001b[39mself\u001b[39;49m\u001b[39m.\u001b[39;49mfunction(\u001b[39m*\u001b[39;49margs, \u001b[39m*\u001b[39;49m\u001b[39m*\u001b[39;49mkw)\n\u001b[1;32m     87\u001b[0m \u001b[39mself\u001b[39m\u001b[39m.\u001b[39mcache[direct_call] \u001b[39m=\u001b[39m result\n\u001b[1;32m     88\u001b[0m \u001b[39mself\u001b[39m\u001b[39m.\u001b[39mcache[resolved_call] \u001b[39m=\u001b[39m result\n",
      "File \u001b[0;32m~/opt/anaconda3/envs/dedalus3/lib/python3.11/site-packages/dedalus/core/subsystems.py:160\u001b[0m, in \u001b[0;36mSubsystem.field_shape\u001b[0;34m(self, field)\u001b[0m\n\u001b[1;32m    157\u001b[0m \u001b[39m@CachedMethod\u001b[39m\n\u001b[1;32m    158\u001b[0m \u001b[39mdef\u001b[39;00m \u001b[39mfield_shape\u001b[39m(\u001b[39mself\u001b[39m, field):\n\u001b[1;32m    159\u001b[0m     comp_shape \u001b[39m=\u001b[39m \u001b[39mtuple\u001b[39m(cs\u001b[39m.\u001b[39mdim \u001b[39mfor\u001b[39;00m cs \u001b[39min\u001b[39;00m field\u001b[39m.\u001b[39mtensorsig)\n\u001b[0;32m--> 160\u001b[0m     coeff_shape \u001b[39m=\u001b[39m \u001b[39mself\u001b[39;49m\u001b[39m.\u001b[39;49mcoeff_shape(field\u001b[39m.\u001b[39;49mdomain)\n\u001b[1;32m    161\u001b[0m     \u001b[39mreturn\u001b[39;00m comp_shape \u001b[39m+\u001b[39m coeff_shape\n",
      "File \u001b[0;32m~/opt/anaconda3/envs/dedalus3/lib/python3.11/site-packages/dedalus/core/subsystems.py:142\u001b[0m, in \u001b[0;36mSubsystem.coeff_shape\u001b[0;34m(self, domain)\u001b[0m\n\u001b[1;32m    140\u001b[0m shape \u001b[39m=\u001b[39m []\n\u001b[1;32m    141\u001b[0m \u001b[39m# Extract shape from slices\u001b[39;00m\n\u001b[0;32m--> 142\u001b[0m coeff_slices \u001b[39m=\u001b[39m \u001b[39mself\u001b[39;49m\u001b[39m.\u001b[39;49mcoeff_slices(domain)\n\u001b[1;32m    143\u001b[0m \u001b[39mfor\u001b[39;00m ax_slice, ax_size \u001b[39min\u001b[39;00m \u001b[39mzip\u001b[39m(coeff_slices, domain\u001b[39m.\u001b[39mcoeff_shape):\n\u001b[1;32m    144\u001b[0m     indices \u001b[39m=\u001b[39m ax_slice\u001b[39m.\u001b[39mindices(ax_size)\n",
      "File \u001b[0;32m~/opt/anaconda3/envs/dedalus3/lib/python3.11/site-packages/dedalus/core/subsystems.py:131\u001b[0m, in \u001b[0;36mSubsystem.coeff_slices\u001b[0;34m(self, domain)\u001b[0m\n\u001b[1;32m    130\u001b[0m \u001b[39mdef\u001b[39;00m \u001b[39mcoeff_slices\u001b[39m(\u001b[39mself\u001b[39m, domain):\n\u001b[0;32m--> 131\u001b[0m     slices \u001b[39m=\u001b[39m \u001b[39mself\u001b[39;49m\u001b[39m.\u001b[39;49mdist\u001b[39m.\u001b[39;49mcoeff_layout\u001b[39m.\u001b[39;49mlocal_groupset_slices(\u001b[39mself\u001b[39;49m\u001b[39m.\u001b[39;49mgroup, domain, scales\u001b[39m=\u001b[39;49m\u001b[39m1\u001b[39;49m)\n\u001b[1;32m    132\u001b[0m     \u001b[39mif\u001b[39;00m \u001b[39mlen\u001b[39m(slices) \u001b[39m==\u001b[39m \u001b[39m0\u001b[39m:\n\u001b[1;32m    133\u001b[0m         \u001b[39mreturn\u001b[39;00m (\u001b[39mslice\u001b[39m(\u001b[39m0\u001b[39m,\u001b[39m0\u001b[39m),) \u001b[39m*\u001b[39m \u001b[39mself\u001b[39m\u001b[39m.\u001b[39mdist\u001b[39m.\u001b[39mdim\n",
      "File \u001b[0;32m~/opt/anaconda3/envs/dedalus3/lib/python3.11/site-packages/dedalus/tools/cache.py:86\u001b[0m, in \u001b[0;36mCachedFunction.__call__\u001b[0;34m(self, *args, **kw)\u001b[0m\n\u001b[1;32m     84\u001b[0m     \u001b[39mself\u001b[39m\u001b[39m.\u001b[39mcache\u001b[39m.\u001b[39mpopitem(last\u001b[39m=\u001b[39m\u001b[39mFalse\u001b[39;00m)\n\u001b[1;32m     85\u001b[0m \u001b[39m# Compute and cache result\u001b[39;00m\n\u001b[0;32m---> 86\u001b[0m result \u001b[39m=\u001b[39m \u001b[39mself\u001b[39;49m\u001b[39m.\u001b[39;49mfunction(\u001b[39m*\u001b[39;49margs, \u001b[39m*\u001b[39;49m\u001b[39m*\u001b[39;49mkw)\n\u001b[1;32m     87\u001b[0m \u001b[39mself\u001b[39m\u001b[39m.\u001b[39mcache[direct_call] \u001b[39m=\u001b[39m result\n\u001b[1;32m     88\u001b[0m \u001b[39mself\u001b[39m\u001b[39m.\u001b[39mcache[resolved_call] \u001b[39m=\u001b[39m result\n",
      "File \u001b[0;32m~/opt/anaconda3/envs/dedalus3/lib/python3.11/site-packages/dedalus/core/distributor.py:418\u001b[0m, in \u001b[0;36mLayout.local_groupset_slices\u001b[0;34m(self, groupset, domain, scales, rank, broadcast)\u001b[0m\n\u001b[1;32m    416\u001b[0m \u001b[39mfor\u001b[39;00m s \u001b[39min\u001b[39;00m itertools\u001b[39m.\u001b[39mproduct(\u001b[39m*\u001b[39mslices):\n\u001b[1;32m    417\u001b[0m     sliced_selections \u001b[39m=\u001b[39m selections[\u001b[39mtuple\u001b[39m(s)]\n\u001b[0;32m--> 418\u001b[0m     \u001b[39mif\u001b[39;00m np\u001b[39m.\u001b[39;49many(sliced_selections): \u001b[39m# some elements match group\u001b[39;00m\n\u001b[1;32m    419\u001b[0m         \u001b[39m# assume selected groups are cartesian product, find left and right bounds\u001b[39;00m\n\u001b[1;32m    420\u001b[0m         lefts \u001b[39m=\u001b[39m \u001b[39mlist\u001b[39m(\u001b[39mmap\u001b[39m(np\u001b[39m.\u001b[39mmin, np\u001b[39m.\u001b[39mwhere(sliced_selections)))\n\u001b[1;32m    421\u001b[0m         rights \u001b[39m=\u001b[39m \u001b[39mlist\u001b[39m(\u001b[39mmap\u001b[39m(np\u001b[39m.\u001b[39mmax, np\u001b[39m.\u001b[39mwhere(sliced_selections)))\n",
      "File \u001b[0;32m<__array_function__ internals>:200\u001b[0m, in \u001b[0;36many\u001b[0;34m(*args, **kwargs)\u001b[0m\n",
      "File \u001b[0;32m~/opt/anaconda3/envs/dedalus3/lib/python3.11/site-packages/numpy/core/fromnumeric.py:2423\u001b[0m, in \u001b[0;36many\u001b[0;34m(a, axis, out, keepdims, where)\u001b[0m\n\u001b[1;32m   2333\u001b[0m \u001b[39m@array_function_dispatch\u001b[39m(_any_dispatcher)\n\u001b[1;32m   2334\u001b[0m \u001b[39mdef\u001b[39;00m \u001b[39many\u001b[39m(a, axis\u001b[39m=\u001b[39m\u001b[39mNone\u001b[39;00m, out\u001b[39m=\u001b[39m\u001b[39mNone\u001b[39;00m, keepdims\u001b[39m=\u001b[39mnp\u001b[39m.\u001b[39m_NoValue, \u001b[39m*\u001b[39m, where\u001b[39m=\u001b[39mnp\u001b[39m.\u001b[39m_NoValue):\n\u001b[1;32m   2335\u001b[0m \u001b[39m    \u001b[39m\u001b[39m\"\"\"\u001b[39;00m\n\u001b[1;32m   2336\u001b[0m \u001b[39m    Test whether any array element along a given axis evaluates to True.\u001b[39;00m\n\u001b[1;32m   2337\u001b[0m \n\u001b[0;32m   (...)\u001b[0m\n\u001b[1;32m   2421\u001b[0m \n\u001b[1;32m   2422\u001b[0m \u001b[39m    \"\"\"\u001b[39;00m\n\u001b[0;32m-> 2423\u001b[0m     \u001b[39mreturn\u001b[39;00m _wrapreduction(a, np\u001b[39m.\u001b[39;49mlogical_or, \u001b[39m'\u001b[39;49m\u001b[39many\u001b[39;49m\u001b[39m'\u001b[39;49m, axis, \u001b[39mNone\u001b[39;49;00m, out,\n\u001b[1;32m   2424\u001b[0m                           keepdims\u001b[39m=\u001b[39;49mkeepdims, where\u001b[39m=\u001b[39;49mwhere)\n",
      "File \u001b[0;32m~/opt/anaconda3/envs/dedalus3/lib/python3.11/site-packages/numpy/core/fromnumeric.py:86\u001b[0m, in \u001b[0;36m_wrapreduction\u001b[0;34m(obj, ufunc, method, axis, dtype, out, **kwargs)\u001b[0m\n\u001b[1;32m     83\u001b[0m         \u001b[39melse\u001b[39;00m:\n\u001b[1;32m     84\u001b[0m             \u001b[39mreturn\u001b[39;00m reduction(axis\u001b[39m=\u001b[39maxis, out\u001b[39m=\u001b[39mout, \u001b[39m*\u001b[39m\u001b[39m*\u001b[39mpasskwargs)\n\u001b[0;32m---> 86\u001b[0m \u001b[39mreturn\u001b[39;00m ufunc\u001b[39m.\u001b[39;49mreduce(obj, axis, dtype, out, \u001b[39m*\u001b[39;49m\u001b[39m*\u001b[39;49mpasskwargs)\n",
      "\u001b[0;31mKeyboardInterrupt\u001b[0m: "
     ]
    }
   ],
   "source": [
    "# Solver\n",
    "solver = problem.build_solver(timestepper)\n",
    "solver.stop_sim_time = stop_sim_time\n"
   ]
  },
  {
   "cell_type": "code",
   "execution_count": null,
   "metadata": {},
   "outputs": [],
   "source": [
    "# Initial conditions\n",
    "b.fill_random('g', seed=42, distribution='normal', scale=1e-3) # Random noise\n",
    "b['g'] *= z * (Lz - z) # Damp noise at walls\n",
    "b['g'] += Lz - z # Add linear background"
   ]
  },
  {
   "cell_type": "code",
   "execution_count": null,
   "metadata": {},
   "outputs": [],
   "source": [
    "# Analysis\n",
    "snapshots = solver.evaluator.add_file_handler('snapshots', sim_dt=0.25, max_writes=50)\n",
    "snapshots.add_task(b, name='buoyancy')\n",
    "snapshots.add_task(-d3.div(d3.skew(u)), name='vorticity')"
   ]
  },
  {
   "cell_type": "code",
   "execution_count": null,
   "metadata": {},
   "outputs": [],
   "source": [
    "# CFL\n",
    "CFL = d3.CFL(solver, initial_dt=max_timestep, cadence=10, safety=0.5, threshold=0.05,\n",
    "             max_change=1.5, min_change=0.5, max_dt=max_timestep)\n",
    "CFL.add_velocity(u)"
   ]
  },
  {
   "cell_type": "code",
   "execution_count": null,
   "metadata": {},
   "outputs": [],
   "source": [
    "# Flow properties\n",
    "flow = d3.GlobalFlowProperty(solver, cadence=10)\n",
    "flow.add_property(np.sqrt(u@u)/nu, name='Re')\n"
   ]
  },
  {
   "cell_type": "code",
   "execution_count": null,
   "metadata": {},
   "outputs": [],
   "source": [
    "# Main loop\n",
    "startup_iter = 10\n",
    "try:\n",
    "    logger.info('Starting main loop')\n",
    "    while solver.proceed:\n",
    "        timestep = CFL.compute_timestep()\n",
    "        solver.step(timestep)\n",
    "        if (solver.iteration-1) % 10 == 0:\n",
    "            max_Re = flow.max('Re')\n",
    "            logger.info('Iteration=%i, Time=%e, dt=%e, max(Re)=%f' %(solver.iteration, solver.sim_time, timestep, max_Re))\n",
    "except:\n",
    "    logger.error('Exception raised, triggering end of main loop.')\n",
    "    raise\n",
    "finally:\n",
    "    solver.log_stats()"
   ]
  }
 ],
 "metadata": {
  "kernelspec": {
   "display_name": "dedalus3",
   "language": "python",
   "name": "python3"
  },
  "language_info": {
   "codemirror_mode": {
    "name": "ipython",
    "version": 3
   },
   "file_extension": ".py",
   "mimetype": "text/x-python",
   "name": "python",
   "nbconvert_exporter": "python",
   "pygments_lexer": "ipython3",
   "version": "3.11.3"
  },
  "orig_nbformat": 4
 },
 "nbformat": 4,
 "nbformat_minor": 2
}
