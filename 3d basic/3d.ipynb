{
 "cells": [
  {
   "cell_type": "code",
   "execution_count": 2,
   "metadata": {},
   "outputs": [
    {
     "data": {
      "text/plain": [
       "'\\nDedalus script simulating 2D horizontally-periodic Rayleigh-Benard convection.\\nThis script demonstrates solving a 2D Cartesian initial value problem. It can\\nbe ran serially or in parallel, and uses the built-in analysis framework to save\\ndata snapshots to HDF5 files. The `plot_snapshots.py` script can be used to\\nproduce plots from the saved data. It should take about 5 cpu-minutes to run.\\n\\nThe problem is non-dimensionalized using the box height and freefall time, so\\nthe resulting thermal diffusivity and viscosity are related to the Prandtl\\nand Rayleigh numbers as:\\n    kappa = (Rayleigh * Prandtl)**(-1/2)\\n    nu = (Rayleigh / Prandtl)**(-1/2)\\n\\nFor incompressible hydro with two boundaries, we need two tau terms for each the\\nvelocity and buoyancy. Here we choose to use a first-order formulation, putting\\none tau term each on auxiliary first-order gradient variables and the others in\\nthe PDE, and lifting them all to the first derivative basis. This formulation puts\\na tau term in the divergence constraint, as required for this geometry.\\n\\nTo run and plot using e.g. 4 processes:\\n    $ mpiexec -n 4 python3 rayleigh_benard.py\\n    $ mpiexec -n 4 python3 plot_snapshots.py snapshots/*.h5\\n'"
      ]
     },
     "execution_count": 2,
     "metadata": {},
     "output_type": "execute_result"
    }
   ],
   "source": [
    "\"\"\"\n",
    "Dedalus script simulating 2D horizontally-periodic Rayleigh-Benard convection.\n",
    "This script demonstrates solving a 2D Cartesian initial value problem. It can\n",
    "be ran serially or in parallel, and uses the built-in analysis framework to save\n",
    "data snapshots to HDF5 files. The `plot_snapshots.py` script can be used to\n",
    "produce plots from the saved data. It should take about 5 cpu-minutes to run.\n",
    "\n",
    "The problem is non-dimensionalized using the box height and freefall time, so\n",
    "the resulting thermal diffusivity and viscosity are related to the Prandtl\n",
    "and Rayleigh numbers as:\n",
    "    kappa = (Rayleigh * Prandtl)**(-1/2)\n",
    "    nu = (Rayleigh / Prandtl)**(-1/2)\n",
    "\n",
    "For incompressible hydro with two boundaries, we need two tau terms for each the\n",
    "velocity and buoyancy. Here we choose to use a first-order formulation, putting\n",
    "one tau term each on auxiliary first-order gradient variables and the others in\n",
    "the PDE, and lifting them all to the first derivative basis. This formulation puts\n",
    "a tau term in the divergence constraint, as required for this geometry.\n",
    "\n",
    "To run and plot using e.g. 4 processes:\n",
    "    $ mpiexec -n 4 python3 rayleigh_benard.py\n",
    "    $ mpiexec -n 4 python3 plot_snapshots.py snapshots/*.h5\n",
    "\"\"\"\n"
   ]
  },
  {
   "cell_type": "code",
   "execution_count": 3,
   "metadata": {},
   "outputs": [],
   "source": [
    "import numpy as np\n",
    "import dedalus.public as d3\n",
    "import logging\n",
    "logger = logging.getLogger(__name__)"
   ]
  },
  {
   "cell_type": "code",
   "execution_count": 4,
   "metadata": {},
   "outputs": [],
   "source": [
    "# Parameters\n",
    "Lx,Ly, Lz = 4,4,1\n",
    "Nx, Nz = 256, 64\n",
    "Rayleigh = 2e6\n",
    "Prandtl = 1\n",
    "dealias = 3/2\n",
    "stop_sim_time = 50\n",
    "timestepper = d3.RK222\n",
    "max_timestep = 0.125\n",
    "dtype = np.float64"
   ]
  },
  {
   "cell_type": "code",
   "execution_count": 5,
   "metadata": {},
   "outputs": [],
   "source": [
    "# Bases\n",
    "coords = d3.CartesianCoordinates('x','y', 'z')\n",
    "dist = d3.Distributor(coords, dtype=dtype)\n",
    "xbasis = d3.RealFourier(coords['x'], size=Nx, bounds=(0, Lx), dealias=dealias)\n",
    "ybasis= d3.RealFourier(coords['y'], size=Nx, bounds=(0, Ly), dealias=dealias)\n",
    "zbasis = d3.ChebyshevT(coords['z'], size=Nz, bounds=(0, Lz), dealias=dealias)"
   ]
  },
  {
   "cell_type": "code",
   "execution_count": 6,
   "metadata": {},
   "outputs": [],
   "source": [
    "# Fields\n",
    "p = dist.Field(name='p', bases=(xbasis,ybasis,zbasis))\n",
    "b = dist.Field(name='b', bases=(xbasis,ybasis,zbasis))\n",
    "u = dist.VectorField(coords, name='u', bases=(xbasis,ybasis,zbasis))\n",
    "tau_p = dist.Field(name='tau_p')\n",
    "tau_b1 = dist.Field(name='tau_b1', bases=(xbasis,ybasis))\n",
    "tau_b2 = dist.Field(name='tau_b2', bases=(xbasis,ybasis))\n",
    "tau_u1 = dist.VectorField(coords, name='tau_u1', bases=(xbasis,ybasis))\n",
    "tau_u2 = dist.VectorField(coords, name='tau_u2', bases=(xbasis,ybasis))\n",
    "# Substitutions\n",
    "kappa = (Rayleigh * Prandtl)**(-1/2)\n",
    "nu = (Rayleigh / Prandtl)**(-1/2)\n",
    "x,y,z = dist.local_grids(xbasis,ybasis,zbasis)\n",
    "ex,ey, ez = coords.unit_vector_fields(dist)\n",
    "lift_basis = zbasis.derivative_basis(1)\n",
    "lift = lambda A: d3.Lift(A, lift_basis, -1)\n",
    "grad_u = d3.grad(u) + ez*lift(tau_u1) # First-order reduction\n",
    "grad_b = d3.grad(b) + ez*lift(tau_b1) # First-order reduction\n"
   ]
  },
  {
   "cell_type": "code",
   "execution_count": 7,
   "metadata": {},
   "outputs": [
    {
     "data": {
      "text/plain": [
       "{'LHS': Integrate(Integrate(Integrate(<Field 22623195880688>))),\n",
       " 'RHS': 0,\n",
       " 'condition': 'True',\n",
       " 'tensorsig': (),\n",
       " 'dtype': numpy.float64,\n",
       " 'M': 0,\n",
       " 'L': Integrate(Integrate(Integrate(<Field 22623195880688>))),\n",
       " 'F': <Field 22623195675760>,\n",
       " 'domain': <dedalus.core.domain.Domain at 0x14935f8dc310>,\n",
       " 'matrix_dependence': array([ True,  True,  True]),\n",
       " 'matrix_coupling': array([False, False,  True])}"
      ]
     },
     "execution_count": 7,
     "metadata": {},
     "output_type": "execute_result"
    }
   ],
   "source": [
    "# Problem\n",
    "# First-order form: \"div(f)\" becomes \"trace(grad_f)\"\n",
    "# First-order form: \"lap(f)\" becomes \"div(grad_f)\"\n",
    "problem = d3.IVP([p, b, u, tau_p, tau_b1, tau_b2, tau_u1, tau_u2], namespace=locals())\n",
    "problem.add_equation(\"trace(grad_u) + tau_p= 0\")\n",
    "problem.add_equation(\"dt(b) - kappa*div(grad_b) + lift(tau_b2) = - u@grad(b)\")\n",
    "problem.add_equation(\"dt(u) - nu*div(grad_u) + grad(p) - b*ez + lift(tau_u2) = - u@grad(u)\")\n",
    "problem.add_equation(\"b(z=0) = Lz\")\n",
    "problem.add_equation(\"u(z=0) = 0\")\n",
    "problem.add_equation(\"b(z=Lz) = 0\")\n",
    "problem.add_equation(\"u(z=Lz)= 0\")\n",
    "problem.add_equation(\"integ(p) = 0\") # Pressure gauge"
   ]
  },
  {
   "cell_type": "code",
   "execution_count": 8,
   "metadata": {},
   "outputs": [
    {
     "name": "stdout",
     "output_type": "stream",
     "text": [
      "2023-06-09 18:22:53,794 subsystems 0/1 INFO :: Building subproblem matrices 1/16384 (~0%) Elapsed: 2s, Remaining: 9h 30m 03s, Rate: 4.8e-01/s\n",
      "2023-06-09 18:23:01,723 subsystems 0/1 INFO :: Building subproblem matrices 15/16384 (~0%) Elapsed: 10s, Remaining: 3h 02m 11s, Rate: 1.5e+00/s\n",
      "2023-06-09 18:23:11,966 subsystems 0/1 INFO :: Building subproblem matrices 33/16384 (~0%) Elapsed: 20s, Remaining: 2h 47m 18s, Rate: 1.6e+00/s\n",
      "2023-06-09 18:23:22,079 subsystems 0/1 INFO :: Building subproblem matrices 51/16384 (~0%) Elapsed: 30s, Remaining: 2h 42m 07s, Rate: 1.7e+00/s\n",
      "2023-06-09 18:23:32,232 subsystems 0/1 INFO :: Building subproblem matrices 69/16384 (~0%) Elapsed: 41s, Remaining: 2h 39m 42s, Rate: 1.7e+00/s\n",
      "2023-06-09 18:23:41,831 subsystems 0/1 INFO :: Building subproblem matrices 86/16384 (~1%) Elapsed: 50s, Remaining: 2h 38m 19s, Rate: 1.7e+00/s\n"
     ]
    },
    {
     "ename": "KeyboardInterrupt",
     "evalue": "",
     "output_type": "error",
     "traceback": [
      "\u001b[0;31m---------------------------------------------------------------------------\u001b[0m",
      "\u001b[0;31mKeyboardInterrupt\u001b[0m                         Traceback (most recent call last)",
      "Cell \u001b[0;32mIn[8], line 2\u001b[0m\n\u001b[1;32m      1\u001b[0m \u001b[38;5;66;03m# Solver\u001b[39;00m\n\u001b[0;32m----> 2\u001b[0m solver \u001b[38;5;241m=\u001b[39m \u001b[43mproblem\u001b[49m\u001b[38;5;241;43m.\u001b[39;49m\u001b[43mbuild_solver\u001b[49m\u001b[43m(\u001b[49m\u001b[43mtimestepper\u001b[49m\u001b[43m)\u001b[49m\n\u001b[1;32m      3\u001b[0m solver\u001b[38;5;241m.\u001b[39mstop_sim_time \u001b[38;5;241m=\u001b[39m stop_sim_time\n",
      "File \u001b[0;32m/ext3/miniconda3/lib/python3.10/site-packages/dedalus/core/problems.py:95\u001b[0m, in \u001b[0;36mProblemBase.build_solver\u001b[0;34m(self, *args, **kw)\u001b[0m\n\u001b[1;32m     93\u001b[0m \u001b[38;5;28;01mdef\u001b[39;00m \u001b[38;5;21mbuild_solver\u001b[39m(\u001b[38;5;28mself\u001b[39m, \u001b[38;5;241m*\u001b[39margs, \u001b[38;5;241m*\u001b[39m\u001b[38;5;241m*\u001b[39mkw):\n\u001b[1;32m     94\u001b[0m \u001b[38;5;250m    \u001b[39m\u001b[38;5;124;03m\"\"\"Build corresponding solver class.\"\"\"\u001b[39;00m\n\u001b[0;32m---> 95\u001b[0m     \u001b[38;5;28;01mreturn\u001b[39;00m \u001b[38;5;28;43mself\u001b[39;49m\u001b[38;5;241;43m.\u001b[39;49m\u001b[43msolver_class\u001b[49m\u001b[43m(\u001b[49m\u001b[38;5;28;43mself\u001b[39;49m\u001b[43m,\u001b[49m\u001b[43m \u001b[49m\u001b[38;5;241;43m*\u001b[39;49m\u001b[43margs\u001b[49m\u001b[43m,\u001b[49m\u001b[43m \u001b[49m\u001b[38;5;241;43m*\u001b[39;49m\u001b[38;5;241;43m*\u001b[39;49m\u001b[43mkw\u001b[49m\u001b[43m)\u001b[49m\n",
      "File \u001b[0;32m/ext3/miniconda3/lib/python3.10/site-packages/dedalus/core/solvers.py:504\u001b[0m, in \u001b[0;36mInitialValueSolver.__init__\u001b[0;34m(self, problem, timestepper, enforce_real_cadence, warmup_iterations, **kw)\u001b[0m\n\u001b[1;32m    502\u001b[0m \u001b[38;5;28mself\u001b[39m\u001b[38;5;241m.\u001b[39minit_time \u001b[38;5;241m=\u001b[39m \u001b[38;5;28mself\u001b[39m\u001b[38;5;241m.\u001b[39mget_wall_time()\n\u001b[1;32m    503\u001b[0m \u001b[38;5;66;03m# Build LHS matrices\u001b[39;00m\n\u001b[0;32m--> 504\u001b[0m \u001b[43msubsystems\u001b[49m\u001b[38;5;241;43m.\u001b[39;49m\u001b[43mbuild_subproblem_matrices\u001b[49m\u001b[43m(\u001b[49m\u001b[38;5;28;43mself\u001b[39;49m\u001b[43m,\u001b[49m\u001b[43m \u001b[49m\u001b[38;5;28;43mself\u001b[39;49m\u001b[38;5;241;43m.\u001b[39;49m\u001b[43msubproblems\u001b[49m\u001b[43m,\u001b[49m\u001b[43m \u001b[49m\u001b[43m[\u001b[49m\u001b[38;5;124;43m'\u001b[39;49m\u001b[38;5;124;43mM\u001b[39;49m\u001b[38;5;124;43m'\u001b[39;49m\u001b[43m,\u001b[49m\u001b[43m \u001b[49m\u001b[38;5;124;43m'\u001b[39;49m\u001b[38;5;124;43mL\u001b[39;49m\u001b[38;5;124;43m'\u001b[39;49m\u001b[43m]\u001b[49m\u001b[43m)\u001b[49m\n\u001b[1;32m    505\u001b[0m \u001b[38;5;66;03m# Compute total modes\u001b[39;00m\n\u001b[1;32m    506\u001b[0m local_modes \u001b[38;5;241m=\u001b[39m \u001b[38;5;28msum\u001b[39m(ss\u001b[38;5;241m.\u001b[39msubproblem\u001b[38;5;241m.\u001b[39mpre_right\u001b[38;5;241m.\u001b[39mshape[\u001b[38;5;241m1\u001b[39m] \u001b[38;5;28;01mfor\u001b[39;00m ss \u001b[38;5;129;01min\u001b[39;00m \u001b[38;5;28mself\u001b[39m\u001b[38;5;241m.\u001b[39msubsystems)\n",
      "File \u001b[0;32m/ext3/miniconda3/lib/python3.10/site-packages/dedalus/core/subsystems.py:80\u001b[0m, in \u001b[0;36mbuild_subproblem_matrices\u001b[0;34m(solver, subproblems, matrices)\u001b[0m\n\u001b[1;32m     78\u001b[0m \u001b[38;5;66;03m# Build matrices\u001b[39;00m\n\u001b[1;32m     79\u001b[0m \u001b[38;5;28;01mfor\u001b[39;00m subproblem \u001b[38;5;129;01min\u001b[39;00m log_progress(subproblems, logger, \u001b[38;5;124m'\u001b[39m\u001b[38;5;124minfo\u001b[39m\u001b[38;5;124m'\u001b[39m, desc\u001b[38;5;241m=\u001b[39m\u001b[38;5;124m'\u001b[39m\u001b[38;5;124mBuilding subproblem matrices\u001b[39m\u001b[38;5;124m'\u001b[39m, \u001b[38;5;28miter\u001b[39m\u001b[38;5;241m=\u001b[39mnp\u001b[38;5;241m.\u001b[39minf, frac\u001b[38;5;241m=\u001b[39m\u001b[38;5;241m0.1\u001b[39m, dt\u001b[38;5;241m=\u001b[39m\u001b[38;5;241m10\u001b[39m):\n\u001b[0;32m---> 80\u001b[0m      \u001b[43msubproblem\u001b[49m\u001b[38;5;241;43m.\u001b[39;49m\u001b[43mbuild_matrices\u001b[49m\u001b[43m(\u001b[49m\u001b[43mmatrices\u001b[49m\u001b[43m)\u001b[49m\n",
      "File \u001b[0;32m/ext3/miniconda3/lib/python3.10/site-packages/dedalus/core/subsystems.py:441\u001b[0m, in \u001b[0;36mSubproblem.build_matrices\u001b[0;34m(self, names)\u001b[0m\n\u001b[1;32m    439\u001b[0m \u001b[38;5;28mvars\u001b[39m \u001b[38;5;241m=\u001b[39m \u001b[38;5;28mself\u001b[39m\u001b[38;5;241m.\u001b[39mproblem\u001b[38;5;241m.\u001b[39mLHS_variables\n\u001b[1;32m    440\u001b[0m eqn_conditions \u001b[38;5;241m=\u001b[39m [\u001b[38;5;28mself\u001b[39m\u001b[38;5;241m.\u001b[39mcheck_condition(eqn) \u001b[38;5;28;01mfor\u001b[39;00m eqn \u001b[38;5;129;01min\u001b[39;00m eqns]  \u001b[38;5;66;03m# HACK\u001b[39;00m\n\u001b[0;32m--> 441\u001b[0m eqn_sizes \u001b[38;5;241m=\u001b[39m [\u001b[38;5;28mself\u001b[39m\u001b[38;5;241m.\u001b[39mfield_size(eqn[\u001b[38;5;124m'\u001b[39m\u001b[38;5;124mLHS\u001b[39m\u001b[38;5;124m'\u001b[39m]) \u001b[38;5;28;01mfor\u001b[39;00m eqn \u001b[38;5;129;01min\u001b[39;00m eqns]\n\u001b[1;32m    442\u001b[0m var_sizes \u001b[38;5;241m=\u001b[39m [\u001b[38;5;28mself\u001b[39m\u001b[38;5;241m.\u001b[39mfield_size(var) \u001b[38;5;28;01mfor\u001b[39;00m var \u001b[38;5;129;01min\u001b[39;00m \u001b[38;5;28mvars\u001b[39m]\n\u001b[1;32m    443\u001b[0m I \u001b[38;5;241m=\u001b[39m \u001b[38;5;28msum\u001b[39m(eqn_sizes)\n",
      "File \u001b[0;32m/ext3/miniconda3/lib/python3.10/site-packages/dedalus/core/subsystems.py:441\u001b[0m, in \u001b[0;36m<listcomp>\u001b[0;34m(.0)\u001b[0m\n\u001b[1;32m    439\u001b[0m \u001b[38;5;28mvars\u001b[39m \u001b[38;5;241m=\u001b[39m \u001b[38;5;28mself\u001b[39m\u001b[38;5;241m.\u001b[39mproblem\u001b[38;5;241m.\u001b[39mLHS_variables\n\u001b[1;32m    440\u001b[0m eqn_conditions \u001b[38;5;241m=\u001b[39m [\u001b[38;5;28mself\u001b[39m\u001b[38;5;241m.\u001b[39mcheck_condition(eqn) \u001b[38;5;28;01mfor\u001b[39;00m eqn \u001b[38;5;129;01min\u001b[39;00m eqns]  \u001b[38;5;66;03m# HACK\u001b[39;00m\n\u001b[0;32m--> 441\u001b[0m eqn_sizes \u001b[38;5;241m=\u001b[39m [\u001b[38;5;28;43mself\u001b[39;49m\u001b[38;5;241;43m.\u001b[39;49m\u001b[43mfield_size\u001b[49m\u001b[43m(\u001b[49m\u001b[43meqn\u001b[49m\u001b[43m[\u001b[49m\u001b[38;5;124;43m'\u001b[39;49m\u001b[38;5;124;43mLHS\u001b[39;49m\u001b[38;5;124;43m'\u001b[39;49m\u001b[43m]\u001b[49m\u001b[43m)\u001b[49m \u001b[38;5;28;01mfor\u001b[39;00m eqn \u001b[38;5;129;01min\u001b[39;00m eqns]\n\u001b[1;32m    442\u001b[0m var_sizes \u001b[38;5;241m=\u001b[39m [\u001b[38;5;28mself\u001b[39m\u001b[38;5;241m.\u001b[39mfield_size(var) \u001b[38;5;28;01mfor\u001b[39;00m var \u001b[38;5;129;01min\u001b[39;00m \u001b[38;5;28mvars\u001b[39m]\n\u001b[1;32m    443\u001b[0m I \u001b[38;5;241m=\u001b[39m \u001b[38;5;28msum\u001b[39m(eqn_sizes)\n",
      "File \u001b[0;32m/ext3/miniconda3/lib/python3.10/site-packages/dedalus/core/subsystems.py:278\u001b[0m, in \u001b[0;36mSubproblem.field_size\u001b[0;34m(self, field)\u001b[0m\n\u001b[1;32m    277\u001b[0m \u001b[38;5;28;01mdef\u001b[39;00m \u001b[38;5;21mfield_size\u001b[39m(\u001b[38;5;28mself\u001b[39m, field):\n\u001b[0;32m--> 278\u001b[0m     \u001b[38;5;28;01mreturn\u001b[39;00m \u001b[38;5;28;43mself\u001b[39;49m\u001b[38;5;241;43m.\u001b[39;49m\u001b[43msubsystems\u001b[49m\u001b[43m[\u001b[49m\u001b[38;5;241;43m0\u001b[39;49m\u001b[43m]\u001b[49m\u001b[38;5;241;43m.\u001b[39;49m\u001b[43mfield_size\u001b[49m\u001b[43m(\u001b[49m\u001b[43mfield\u001b[49m\u001b[43m)\u001b[49m\n",
      "File \u001b[0;32m/ext3/miniconda3/lib/python3.10/site-packages/dedalus/tools/cache.py:86\u001b[0m, in \u001b[0;36mCachedFunction.__call__\u001b[0;34m(self, *args, **kw)\u001b[0m\n\u001b[1;32m     84\u001b[0m     \u001b[38;5;28mself\u001b[39m\u001b[38;5;241m.\u001b[39mcache\u001b[38;5;241m.\u001b[39mpopitem(last\u001b[38;5;241m=\u001b[39m\u001b[38;5;28;01mFalse\u001b[39;00m)\n\u001b[1;32m     85\u001b[0m \u001b[38;5;66;03m# Compute and cache result\u001b[39;00m\n\u001b[0;32m---> 86\u001b[0m result \u001b[38;5;241m=\u001b[39m \u001b[38;5;28;43mself\u001b[39;49m\u001b[38;5;241;43m.\u001b[39;49m\u001b[43mfunction\u001b[49m\u001b[43m(\u001b[49m\u001b[38;5;241;43m*\u001b[39;49m\u001b[43margs\u001b[49m\u001b[43m,\u001b[49m\u001b[43m \u001b[49m\u001b[38;5;241;43m*\u001b[39;49m\u001b[38;5;241;43m*\u001b[39;49m\u001b[43mkw\u001b[49m\u001b[43m)\u001b[49m\n\u001b[1;32m     87\u001b[0m \u001b[38;5;28mself\u001b[39m\u001b[38;5;241m.\u001b[39mcache[direct_call] \u001b[38;5;241m=\u001b[39m result\n\u001b[1;32m     88\u001b[0m \u001b[38;5;28mself\u001b[39m\u001b[38;5;241m.\u001b[39mcache[resolved_call] \u001b[38;5;241m=\u001b[39m result\n",
      "File \u001b[0;32m/ext3/miniconda3/lib/python3.10/site-packages/dedalus/core/subsystems.py:165\u001b[0m, in \u001b[0;36mSubsystem.field_size\u001b[0;34m(self, field)\u001b[0m\n\u001b[1;32m    163\u001b[0m \u001b[38;5;129m@CachedMethod\u001b[39m\n\u001b[1;32m    164\u001b[0m \u001b[38;5;28;01mdef\u001b[39;00m \u001b[38;5;21mfield_size\u001b[39m(\u001b[38;5;28mself\u001b[39m, field):\n\u001b[0;32m--> 165\u001b[0m     \u001b[38;5;28;01mreturn\u001b[39;00m np\u001b[38;5;241m.\u001b[39mprod(\u001b[38;5;28;43mself\u001b[39;49m\u001b[38;5;241;43m.\u001b[39;49m\u001b[43mfield_shape\u001b[49m\u001b[43m(\u001b[49m\u001b[43mfield\u001b[49m\u001b[43m)\u001b[49m)\n",
      "File \u001b[0;32m/ext3/miniconda3/lib/python3.10/site-packages/dedalus/tools/cache.py:86\u001b[0m, in \u001b[0;36mCachedFunction.__call__\u001b[0;34m(self, *args, **kw)\u001b[0m\n\u001b[1;32m     84\u001b[0m     \u001b[38;5;28mself\u001b[39m\u001b[38;5;241m.\u001b[39mcache\u001b[38;5;241m.\u001b[39mpopitem(last\u001b[38;5;241m=\u001b[39m\u001b[38;5;28;01mFalse\u001b[39;00m)\n\u001b[1;32m     85\u001b[0m \u001b[38;5;66;03m# Compute and cache result\u001b[39;00m\n\u001b[0;32m---> 86\u001b[0m result \u001b[38;5;241m=\u001b[39m \u001b[38;5;28;43mself\u001b[39;49m\u001b[38;5;241;43m.\u001b[39;49m\u001b[43mfunction\u001b[49m\u001b[43m(\u001b[49m\u001b[38;5;241;43m*\u001b[39;49m\u001b[43margs\u001b[49m\u001b[43m,\u001b[49m\u001b[43m \u001b[49m\u001b[38;5;241;43m*\u001b[39;49m\u001b[38;5;241;43m*\u001b[39;49m\u001b[43mkw\u001b[49m\u001b[43m)\u001b[49m\n\u001b[1;32m     87\u001b[0m \u001b[38;5;28mself\u001b[39m\u001b[38;5;241m.\u001b[39mcache[direct_call] \u001b[38;5;241m=\u001b[39m result\n\u001b[1;32m     88\u001b[0m \u001b[38;5;28mself\u001b[39m\u001b[38;5;241m.\u001b[39mcache[resolved_call] \u001b[38;5;241m=\u001b[39m result\n",
      "File \u001b[0;32m/ext3/miniconda3/lib/python3.10/site-packages/dedalus/core/subsystems.py:160\u001b[0m, in \u001b[0;36mSubsystem.field_shape\u001b[0;34m(self, field)\u001b[0m\n\u001b[1;32m    157\u001b[0m \u001b[38;5;129m@CachedMethod\u001b[39m\n\u001b[1;32m    158\u001b[0m \u001b[38;5;28;01mdef\u001b[39;00m \u001b[38;5;21mfield_shape\u001b[39m(\u001b[38;5;28mself\u001b[39m, field):\n\u001b[1;32m    159\u001b[0m     comp_shape \u001b[38;5;241m=\u001b[39m \u001b[38;5;28mtuple\u001b[39m(cs\u001b[38;5;241m.\u001b[39mdim \u001b[38;5;28;01mfor\u001b[39;00m cs \u001b[38;5;129;01min\u001b[39;00m field\u001b[38;5;241m.\u001b[39mtensorsig)\n\u001b[0;32m--> 160\u001b[0m     coeff_shape \u001b[38;5;241m=\u001b[39m \u001b[38;5;28;43mself\u001b[39;49m\u001b[38;5;241;43m.\u001b[39;49m\u001b[43mcoeff_shape\u001b[49m\u001b[43m(\u001b[49m\u001b[43mfield\u001b[49m\u001b[38;5;241;43m.\u001b[39;49m\u001b[43mdomain\u001b[49m\u001b[43m)\u001b[49m\n\u001b[1;32m    161\u001b[0m     \u001b[38;5;28;01mreturn\u001b[39;00m comp_shape \u001b[38;5;241m+\u001b[39m coeff_shape\n",
      "File \u001b[0;32m/ext3/miniconda3/lib/python3.10/site-packages/dedalus/core/subsystems.py:142\u001b[0m, in \u001b[0;36mSubsystem.coeff_shape\u001b[0;34m(self, domain)\u001b[0m\n\u001b[1;32m    140\u001b[0m shape \u001b[38;5;241m=\u001b[39m []\n\u001b[1;32m    141\u001b[0m \u001b[38;5;66;03m# Extract shape from slices\u001b[39;00m\n\u001b[0;32m--> 142\u001b[0m coeff_slices \u001b[38;5;241m=\u001b[39m \u001b[38;5;28;43mself\u001b[39;49m\u001b[38;5;241;43m.\u001b[39;49m\u001b[43mcoeff_slices\u001b[49m\u001b[43m(\u001b[49m\u001b[43mdomain\u001b[49m\u001b[43m)\u001b[49m\n\u001b[1;32m    143\u001b[0m \u001b[38;5;28;01mfor\u001b[39;00m ax_slice, ax_size \u001b[38;5;129;01min\u001b[39;00m \u001b[38;5;28mzip\u001b[39m(coeff_slices, domain\u001b[38;5;241m.\u001b[39mcoeff_shape):\n\u001b[1;32m    144\u001b[0m     indices \u001b[38;5;241m=\u001b[39m ax_slice\u001b[38;5;241m.\u001b[39mindices(ax_size)\n",
      "File \u001b[0;32m/ext3/miniconda3/lib/python3.10/site-packages/dedalus/core/subsystems.py:131\u001b[0m, in \u001b[0;36mSubsystem.coeff_slices\u001b[0;34m(self, domain)\u001b[0m\n\u001b[1;32m    130\u001b[0m \u001b[38;5;28;01mdef\u001b[39;00m \u001b[38;5;21mcoeff_slices\u001b[39m(\u001b[38;5;28mself\u001b[39m, domain):\n\u001b[0;32m--> 131\u001b[0m     slices \u001b[38;5;241m=\u001b[39m \u001b[38;5;28;43mself\u001b[39;49m\u001b[38;5;241;43m.\u001b[39;49m\u001b[43mdist\u001b[49m\u001b[38;5;241;43m.\u001b[39;49m\u001b[43mcoeff_layout\u001b[49m\u001b[38;5;241;43m.\u001b[39;49m\u001b[43mlocal_groupset_slices\u001b[49m\u001b[43m(\u001b[49m\u001b[38;5;28;43mself\u001b[39;49m\u001b[38;5;241;43m.\u001b[39;49m\u001b[43mgroup\u001b[49m\u001b[43m,\u001b[49m\u001b[43m \u001b[49m\u001b[43mdomain\u001b[49m\u001b[43m,\u001b[49m\u001b[43m \u001b[49m\u001b[43mscales\u001b[49m\u001b[38;5;241;43m=\u001b[39;49m\u001b[38;5;241;43m1\u001b[39;49m\u001b[43m)\u001b[49m\n\u001b[1;32m    132\u001b[0m     \u001b[38;5;28;01mif\u001b[39;00m \u001b[38;5;28mlen\u001b[39m(slices) \u001b[38;5;241m==\u001b[39m \u001b[38;5;241m0\u001b[39m:\n\u001b[1;32m    133\u001b[0m         \u001b[38;5;28;01mreturn\u001b[39;00m (\u001b[38;5;28mslice\u001b[39m(\u001b[38;5;241m0\u001b[39m,\u001b[38;5;241m0\u001b[39m),) \u001b[38;5;241m*\u001b[39m \u001b[38;5;28mself\u001b[39m\u001b[38;5;241m.\u001b[39mdist\u001b[38;5;241m.\u001b[39mdim\n",
      "File \u001b[0;32m/ext3/miniconda3/lib/python3.10/site-packages/dedalus/tools/cache.py:86\u001b[0m, in \u001b[0;36mCachedFunction.__call__\u001b[0;34m(self, *args, **kw)\u001b[0m\n\u001b[1;32m     84\u001b[0m     \u001b[38;5;28mself\u001b[39m\u001b[38;5;241m.\u001b[39mcache\u001b[38;5;241m.\u001b[39mpopitem(last\u001b[38;5;241m=\u001b[39m\u001b[38;5;28;01mFalse\u001b[39;00m)\n\u001b[1;32m     85\u001b[0m \u001b[38;5;66;03m# Compute and cache result\u001b[39;00m\n\u001b[0;32m---> 86\u001b[0m result \u001b[38;5;241m=\u001b[39m \u001b[38;5;28;43mself\u001b[39;49m\u001b[38;5;241;43m.\u001b[39;49m\u001b[43mfunction\u001b[49m\u001b[43m(\u001b[49m\u001b[38;5;241;43m*\u001b[39;49m\u001b[43margs\u001b[49m\u001b[43m,\u001b[49m\u001b[43m \u001b[49m\u001b[38;5;241;43m*\u001b[39;49m\u001b[38;5;241;43m*\u001b[39;49m\u001b[43mkw\u001b[49m\u001b[43m)\u001b[49m\n\u001b[1;32m     87\u001b[0m \u001b[38;5;28mself\u001b[39m\u001b[38;5;241m.\u001b[39mcache[direct_call] \u001b[38;5;241m=\u001b[39m result\n\u001b[1;32m     88\u001b[0m \u001b[38;5;28mself\u001b[39m\u001b[38;5;241m.\u001b[39mcache[resolved_call] \u001b[38;5;241m=\u001b[39m result\n",
      "File \u001b[0;32m/ext3/miniconda3/lib/python3.10/site-packages/dedalus/core/distributor.py:418\u001b[0m, in \u001b[0;36mLayout.local_groupset_slices\u001b[0;34m(self, groupset, domain, scales, rank, broadcast)\u001b[0m\n\u001b[1;32m    416\u001b[0m \u001b[38;5;28;01mfor\u001b[39;00m s \u001b[38;5;129;01min\u001b[39;00m itertools\u001b[38;5;241m.\u001b[39mproduct(\u001b[38;5;241m*\u001b[39mslices):\n\u001b[1;32m    417\u001b[0m     sliced_selections \u001b[38;5;241m=\u001b[39m selections[\u001b[38;5;28mtuple\u001b[39m(s)]\n\u001b[0;32m--> 418\u001b[0m     \u001b[38;5;28;01mif\u001b[39;00m \u001b[43mnp\u001b[49m\u001b[38;5;241;43m.\u001b[39;49m\u001b[43many\u001b[49m\u001b[43m(\u001b[49m\u001b[43msliced_selections\u001b[49m\u001b[43m)\u001b[49m: \u001b[38;5;66;03m# some elements match group\u001b[39;00m\n\u001b[1;32m    419\u001b[0m         \u001b[38;5;66;03m# assume selected groups are cartesian product, find left and right bounds\u001b[39;00m\n\u001b[1;32m    420\u001b[0m         lefts \u001b[38;5;241m=\u001b[39m \u001b[38;5;28mlist\u001b[39m(\u001b[38;5;28mmap\u001b[39m(np\u001b[38;5;241m.\u001b[39mmin, np\u001b[38;5;241m.\u001b[39mwhere(sliced_selections)))\n\u001b[1;32m    421\u001b[0m         rights \u001b[38;5;241m=\u001b[39m \u001b[38;5;28mlist\u001b[39m(\u001b[38;5;28mmap\u001b[39m(np\u001b[38;5;241m.\u001b[39mmax, np\u001b[38;5;241m.\u001b[39mwhere(sliced_selections)))\n",
      "File \u001b[0;32m<__array_function__ internals>:180\u001b[0m, in \u001b[0;36many\u001b[0;34m(*args, **kwargs)\u001b[0m\n",
      "File \u001b[0;32m/ext3/miniconda3/lib/python3.10/site-packages/numpy/core/fromnumeric.py:2397\u001b[0m, in \u001b[0;36many\u001b[0;34m(a, axis, out, keepdims, where)\u001b[0m\n\u001b[1;32m   2307\u001b[0m \u001b[38;5;129m@array_function_dispatch\u001b[39m(_any_dispatcher)\n\u001b[1;32m   2308\u001b[0m \u001b[38;5;28;01mdef\u001b[39;00m \u001b[38;5;21many\u001b[39m(a, axis\u001b[38;5;241m=\u001b[39m\u001b[38;5;28;01mNone\u001b[39;00m, out\u001b[38;5;241m=\u001b[39m\u001b[38;5;28;01mNone\u001b[39;00m, keepdims\u001b[38;5;241m=\u001b[39mnp\u001b[38;5;241m.\u001b[39m_NoValue, \u001b[38;5;241m*\u001b[39m, where\u001b[38;5;241m=\u001b[39mnp\u001b[38;5;241m.\u001b[39m_NoValue):\n\u001b[1;32m   2309\u001b[0m \u001b[38;5;250m    \u001b[39m\u001b[38;5;124;03m\"\"\"\u001b[39;00m\n\u001b[1;32m   2310\u001b[0m \u001b[38;5;124;03m    Test whether any array element along a given axis evaluates to True.\u001b[39;00m\n\u001b[1;32m   2311\u001b[0m \n\u001b[0;32m   (...)\u001b[0m\n\u001b[1;32m   2395\u001b[0m \n\u001b[1;32m   2396\u001b[0m \u001b[38;5;124;03m    \"\"\"\u001b[39;00m\n\u001b[0;32m-> 2397\u001b[0m     \u001b[38;5;28;01mreturn\u001b[39;00m \u001b[43m_wrapreduction\u001b[49m\u001b[43m(\u001b[49m\u001b[43ma\u001b[49m\u001b[43m,\u001b[49m\u001b[43m \u001b[49m\u001b[43mnp\u001b[49m\u001b[38;5;241;43m.\u001b[39;49m\u001b[43mlogical_or\u001b[49m\u001b[43m,\u001b[49m\u001b[43m \u001b[49m\u001b[38;5;124;43m'\u001b[39;49m\u001b[38;5;124;43many\u001b[39;49m\u001b[38;5;124;43m'\u001b[39;49m\u001b[43m,\u001b[49m\u001b[43m \u001b[49m\u001b[43maxis\u001b[49m\u001b[43m,\u001b[49m\u001b[43m \u001b[49m\u001b[38;5;28;43;01mNone\u001b[39;49;00m\u001b[43m,\u001b[49m\u001b[43m \u001b[49m\u001b[43mout\u001b[49m\u001b[43m,\u001b[49m\n\u001b[1;32m   2398\u001b[0m \u001b[43m                          \u001b[49m\u001b[43mkeepdims\u001b[49m\u001b[38;5;241;43m=\u001b[39;49m\u001b[43mkeepdims\u001b[49m\u001b[43m,\u001b[49m\u001b[43m \u001b[49m\u001b[43mwhere\u001b[49m\u001b[38;5;241;43m=\u001b[39;49m\u001b[43mwhere\u001b[49m\u001b[43m)\u001b[49m\n",
      "File \u001b[0;32m/ext3/miniconda3/lib/python3.10/site-packages/numpy/core/fromnumeric.py:86\u001b[0m, in \u001b[0;36m_wrapreduction\u001b[0;34m(obj, ufunc, method, axis, dtype, out, **kwargs)\u001b[0m\n\u001b[1;32m     83\u001b[0m         \u001b[38;5;28;01melse\u001b[39;00m:\n\u001b[1;32m     84\u001b[0m             \u001b[38;5;28;01mreturn\u001b[39;00m reduction(axis\u001b[38;5;241m=\u001b[39maxis, out\u001b[38;5;241m=\u001b[39mout, \u001b[38;5;241m*\u001b[39m\u001b[38;5;241m*\u001b[39mpasskwargs)\n\u001b[0;32m---> 86\u001b[0m \u001b[38;5;28;01mreturn\u001b[39;00m \u001b[43mufunc\u001b[49m\u001b[38;5;241;43m.\u001b[39;49m\u001b[43mreduce\u001b[49m\u001b[43m(\u001b[49m\u001b[43mobj\u001b[49m\u001b[43m,\u001b[49m\u001b[43m \u001b[49m\u001b[43maxis\u001b[49m\u001b[43m,\u001b[49m\u001b[43m \u001b[49m\u001b[43mdtype\u001b[49m\u001b[43m,\u001b[49m\u001b[43m \u001b[49m\u001b[43mout\u001b[49m\u001b[43m,\u001b[49m\u001b[43m \u001b[49m\u001b[38;5;241;43m*\u001b[39;49m\u001b[38;5;241;43m*\u001b[39;49m\u001b[43mpasskwargs\u001b[49m\u001b[43m)\u001b[49m\n",
      "\u001b[0;31mKeyboardInterrupt\u001b[0m: "
     ]
    }
   ],
   "source": [
    "# Solver\n",
    "solver = problem.build_solver(timestepper)\n",
    "solver.stop_sim_time = stop_sim_time\n"
   ]
  },
  {
   "cell_type": "code",
   "execution_count": null,
   "metadata": {},
   "outputs": [],
   "source": [
    "# Initial conditio\n",
    "b.fill_random('g', seed=42, distribution='normal', scale=1e-3) # Random noise\n",
    "b['g'] *= z * (Lz - z) # Damp noise at walls\n",
    "b['g'] += Lz - z # Add linear background"
   ]
  },
  {
   "cell_type": "code",
   "execution_count": null,
   "metadata": {},
   "outputs": [],
   "source": [
    "# Analysis\n",
    "snapshots = solver.evaluator.add_file_handler('snapshots', sim_dt=0.25, max_writes=50)\n",
    "snapshots.add_task(d3.Average(u,'y'), name='average buoyancy')"
   ]
  },
  {
   "cell_type": "code",
   "execution_count": null,
   "metadata": {},
   "outputs": [],
   "source": [
    "# CFL\n",
    "CFL = d3.CFL(solver, initial_dt=max_timestep, cadence=10, safety=0.5, threshold=0.05,\n",
    "             max_change=1.5, min_change=0.5, max_dt=max_timestep)\n",
    "CFL.add_velocity(u)"
   ]
  },
  {
   "cell_type": "code",
   "execution_count": null,
   "metadata": {},
   "outputs": [],
   "source": [
    "# Flow properties\n",
    "flow = d3.GlobalFlowProperty(solver, cadence=10)\n",
    "flow.add_property(np.sqrt(u@u)/nu, name='Re')\n"
   ]
  },
  {
   "cell_type": "code",
   "execution_count": null,
   "metadata": {},
   "outputs": [],
   "source": [
    "# Main loop\n",
    "startup_iter = 10\n",
    "try:\n",
    "    logger.info('Starting main loop')\n",
    "    while solver.proceed:\n",
    "        timestep = CFL.compute_timestep()\n",
    "        solver.step(timestep)\n",
    "        if (solver.iteration-1) % 10 == 0:\n",
    "            max_Re = flow.max('Re')\n",
    "            logger.info('Iteration=%i, Time=%e, dt=%e, max(Re)=%f' %(solver.iteration, solver.sim_time, timestep, max_Re))\n",
    "except:\n",
    "    logger.error('Exception raised, triggering end of main loop.')\n",
    "    raise\n",
    "finally:\n",
    "    solver.log_stats()"
   ]
  }
 ],
 "metadata": {
  "kernelspec": {
   "display_name": "dedalus3",
   "language": "python",
   "name": "dedalus3"
  },
  "language_info": {
   "codemirror_mode": {
    "name": "ipython",
    "version": 3
   },
   "file_extension": ".py",
   "mimetype": "text/x-python",
   "name": "python",
   "nbconvert_exporter": "python",
   "pygments_lexer": "ipython3",
   "version": "3.10.10"
  }
 },
 "nbformat": 4,
 "nbformat_minor": 4
}
