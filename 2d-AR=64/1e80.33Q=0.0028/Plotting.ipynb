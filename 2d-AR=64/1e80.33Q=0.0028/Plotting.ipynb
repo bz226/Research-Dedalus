{
 "cells": [
  {
   "cell_type": "code",
   "execution_count": 2,
   "metadata": {},
   "outputs": [
    {
     "name": "stdout",
     "output_type": "stream",
     "text": [
      "kappa 0.0001\n",
      "nu 0.0001\n",
      "T_d 10000.0\n"
     ]
    }
   ],
   "source": [
    "# %%\n",
    "\"\"\"\n",
    "Dedalus script simulating 2D horizontally-periodic Rayleigh-Benard convection.\n",
    "This script demonstrates solving a 2D Cartesian initial value problem. It can\n",
    "be ran serially or in parallel, and uses the built-in analysis framework to save\n",
    "data snapshots to HDF5 files. The `plot_snapshots.py` script can be used to\n",
    "produce plots from the saved data. It should take about 5 cpu-minutes to run.\n",
    "\n",
    "For incompressible hydro with two boundaries, we need two tau terms for each the\n",
    "velocity and buoyancy. Here we choose to use a first-order formulation, putting\n",
    "one tau term each on auxiliary first-order gradient variables and the others in\n",
    "the PDE, and lifting them all to the first derivative basis. This formulation puts\n",
    "a tau term in the divergence constraint, as required for this geometry.\n",
    "\n",
    "To run and plot using e.g. 4 processes:\n",
    "    $ mpiexec -n 4 python3 rayleigh_benard.py\n",
    "    $ mpiexec -n 4 python3 plot_snapshots.py snapshots/*.h5\n",
    "\"\"\"\n",
    "\n",
    "\n",
    "# %%\n",
    "import numpy as np\n",
    "import dedalus.public as d3\n",
    "import logging\n",
    "logger = logging.getLogger(__name__)\n",
    "import copy\n",
    "import h5py\n",
    "import numpy as np\n",
    "import matplotlib\n",
    "import re\n",
    "\n",
    "import matplotlib.pyplot as plt\n",
    "from dedalus.extras import plot_tools\n",
    "\n",
    "from mpl_toolkits.mplot3d import Axes3D\n",
    "from matplotlib.colors import Normalize\n",
    "\n",
    "import os\n",
    "from os import listdir\n",
    "\n",
    "save_dir= \"/scratch/zb2113/DedalusData/1e80.33Q=0.0028\"\n",
    "\n",
    "#if not os.path.exists(save_dir):\n",
    "#    os.mkdir(save_dir)\n",
    "\n",
    "# %%\n",
    "# Parameters\n",
    "Lx, Lz = 64,1\n",
    "Nx, Nz = 8192, 128\n",
    "Ra_M = 1e8\n",
    "D_0 = 0\n",
    "D_H = 1/3\n",
    "M_0 = 0\n",
    "M_H = -1\n",
    "N_s2=4/3\n",
    "Qrad=0.0014\n",
    "\n",
    "Prandtl = 1\n",
    "dealias = 3/2\n",
    "stop_sim_time = 1500\n",
    "timestepper = d3.RK222\n",
    "max_timestep = 0.125\n",
    "dtype = np.float64\n",
    "\n",
    "# %%\n",
    "# Bases\n",
    "coords = d3.CartesianCoordinates('x','z')\n",
    "dist = d3.Distributor(coords, dtype=dtype)\n",
    "xbasis = d3.RealFourier(coords['x'], size=Nx, bounds=(0, Lx), dealias=dealias)\n",
    "zbasis = d3.ChebyshevT(coords['z'], size=Nz, bounds=(0, Lz), dealias=dealias)\n",
    "\n",
    "# Fields\n",
    "p = dist.Field(name='p', bases=(xbasis,zbasis))\n",
    "D = dist.Field(name='D', bases=(xbasis,zbasis))\n",
    "M = dist.Field(name='M', bases=(xbasis,zbasis))\n",
    "u = dist.VectorField(coords, name='u', bases=(xbasis,zbasis))\n",
    "Z = dist.Field(name='Z', bases=zbasis)\n",
    "T = dist.Field(name='T', bases=(xbasis,zbasis))\n",
    "C = dist.Field(name='C', bases=(xbasis,zbasis))\n",
    "\n",
    "tau_p = dist.Field(name='tau_p')\n",
    "tau_B1 = dist.Field(name='tau_B1', bases=xbasis)\n",
    "tau_B2 = dist.Field(name='tau_B2', bases=xbasis)\n",
    "tau_D1 = dist.Field(name='tau_D1', bases=xbasis)\n",
    "tau_D2 = dist.Field(name='tau_D2', bases=xbasis)\n",
    "tau_M1 = dist.Field(name='tau_M1', bases=xbasis)\n",
    "tau_M2 = dist.Field(name='tau_M2', bases=xbasis)\n",
    "tau_u1 = dist.VectorField(coords,name='tau_u1', bases=xbasis)\n",
    "tau_u2 = dist.VectorField(coords,name='tau_u2', bases=xbasis)\n",
    "tau_u3 = dist.Field(name='tau_u3', bases=xbasis)\n",
    "tau_u4 = dist.Field(name='tau_u4', bases=xbasis)\n",
    "tau_T1 = dist.Field(name='tau_t1', bases=xbasis)\n",
    "tau_T2 = dist.Field(name='tau_t2', bases=xbasis)\n",
    "tau_C1 = dist.Field(name='tau_c1', bases=xbasis)\n",
    "tau_C2 = dist.Field(name='tau_c2', bases=xbasis)\n",
    "\n",
    "# Substitutions    \n",
    "#Kuo_Bretherton Equilibrium\n",
    "kappa = (Ra_M * Prandtl/((M_0-M_H)*Lz**3))**(-1/2)\n",
    "nu = (Ra_M / (Prandtl*(M_0-M_H)*Lz**3))**(-1/2)\n",
    "print('kappa',kappa)\n",
    "print('nu',nu)\n",
    "\n",
    "\n",
    "\n",
    "x,z = dist.local_grids(xbasis,zbasis)\n",
    "Z['g']=z\n",
    "Z.change_scales(3/2)\n",
    "\n",
    "ex,ez = coords.unit_vector_fields(dist)\n",
    "lift_basis = zbasis.derivative_basis(1)\n",
    "lift = lambda A: d3.Lift(A, lift_basis, -1)\n",
    "\n",
    "B_op = (np.absolute(D - M - N_s2*Z)+ M + D - N_s2*Z)/2\n",
    "lq = B_op/2 + np.absolute(B_op)\n",
    "\n",
    "\n",
    "\n",
    "Max = lambda A,B: (abs(A-N_s2*Z-B)+A-N_s2*Z+B)/2\n",
    "eva = lambda A: A.evaluate()\n",
    "\n",
    "dz= lambda A: d3.Differentiate(A, coords['z'])\n",
    "dx= lambda A: d3.Differentiate(A, coords['x'])\n",
    "\n",
    "\n",
    "ux=u@ex\n",
    "uz=u@ez\n",
    "dxux=dx(ux)\n",
    "dzux=dz(ux)\n",
    "dxuz=dx(uz)\n",
    "dzuz=dz(uz)\n",
    "\n",
    "grad_u = d3.grad(u) + ez* lift(tau_u1) # First-order reduction\n",
    "grad_ux = grad_u@ex # First-order reduction\n",
    "grad_uz = grad_u@ez # First-order reduction\n",
    "grad_M = d3.grad(M) + ez*lift(tau_M1) # First-order reduction\n",
    "grad_D = d3.grad(D) + ez*lift(tau_D1) # First-order reduction\n",
    "grad_T = d3.grad(T) + ez*lift(tau_T1)\n",
    "grad_C = d3.grad(C) + ez*lift(tau_C1)\n",
    "\n",
    "T_d=(Lz)**2/(nu*kappa)**(1/2)\n",
    "print(\"T_d\", T_d)"
   ]
  },
  {
   "cell_type": "code",
   "execution_count": 3,
   "metadata": {},
   "outputs": [],
   "source": [
    "post_dir= \"/home/zb2113/Dedalus-Postanalysis/2D\"\n",
    "plot_dir = post_dir+ \"/1e80.33Q=0.0028\"\n",
    "if not os.path.exists(plot_dir):\n",
    "    os.mkdir(plot_dir)"
   ]
  },
  {
   "cell_type": "code",
   "execution_count": 3,
   "metadata": {},
   "outputs": [
    {
     "ename": "KeyboardInterrupt",
     "evalue": "",
     "output_type": "error",
     "traceback": [
      "\u001b[0;31m---------------------------------------------------------------------------\u001b[0m",
      "\u001b[0;31mKeyboardInterrupt\u001b[0m                         Traceback (most recent call last)",
      "Cell \u001b[0;32mIn[3], line 16\u001b[0m\n\u001b[1;32m     14\u001b[0m         simtime \u001b[38;5;241m=\u001b[39m np\u001b[38;5;241m.\u001b[39marray(st)\n\u001b[1;32m     15\u001b[0m         \u001b[38;5;28;01mfor\u001b[39;00m t \u001b[38;5;129;01min\u001b[39;00m \u001b[38;5;28mrange\u001b[39m(\u001b[38;5;241m0\u001b[39m, \u001b[38;5;28mlen\u001b[39m(simtime)):\n\u001b[0;32m---> 16\u001b[0m             all_tot_ke\u001b[38;5;241m.\u001b[39mappend(np\u001b[38;5;241m.\u001b[39msum(\u001b[43mtot_ke\u001b[49m\u001b[43m[\u001b[49m\u001b[43mt\u001b[49m\u001b[43m]\u001b[49m))\n\u001b[1;32m     17\u001b[0m \u001b[38;5;28mprint\u001b[39m(all_tot_ke[:\u001b[38;5;241m10\u001b[39m])\n\u001b[1;32m     18\u001b[0m \u001b[38;5;28mprint\u001b[39m(\u001b[38;5;28mmax\u001b[39m(all_tot_ke))\n",
      "File \u001b[0;32mh5py/_objects.pyx:54\u001b[0m, in \u001b[0;36mh5py._objects.with_phil.wrapper\u001b[0;34m()\u001b[0m\n",
      "File \u001b[0;32mh5py/_objects.pyx:55\u001b[0m, in \u001b[0;36mh5py._objects.with_phil.wrapper\u001b[0;34m()\u001b[0m\n",
      "File \u001b[0;32m/ext3/miniconda3/lib/python3.10/site-packages/h5py/_hl/dataset.py:756\u001b[0m, in \u001b[0;36mDataset.__getitem__\u001b[0;34m(self, args, new_dtype)\u001b[0m\n\u001b[1;32m    744\u001b[0m \u001b[38;5;250m\u001b[39m\u001b[38;5;124;03m\"\"\" Read a slice from the HDF5 dataset.\u001b[39;00m\n\u001b[1;32m    745\u001b[0m \n\u001b[1;32m    746\u001b[0m \u001b[38;5;124;03mTakes slices and recarray-style field names (more than one is\u001b[39;00m\n\u001b[0;32m   (...)\u001b[0m\n\u001b[1;32m    752\u001b[0m \u001b[38;5;124;03m* Boolean \"mask\" array indexing\u001b[39;00m\n\u001b[1;32m    753\u001b[0m \u001b[38;5;124;03m\"\"\"\u001b[39;00m\n\u001b[1;32m    754\u001b[0m args \u001b[38;5;241m=\u001b[39m args \u001b[38;5;28;01mif\u001b[39;00m \u001b[38;5;28misinstance\u001b[39m(args, \u001b[38;5;28mtuple\u001b[39m) \u001b[38;5;28;01melse\u001b[39;00m (args,)\n\u001b[0;32m--> 756\u001b[0m \u001b[38;5;28;01mif\u001b[39;00m \u001b[38;5;28;43mself\u001b[39;49m\u001b[38;5;241;43m.\u001b[39;49m\u001b[43m_fast_read_ok\u001b[49m \u001b[38;5;129;01mand\u001b[39;00m (new_dtype \u001b[38;5;129;01mis\u001b[39;00m \u001b[38;5;28;01mNone\u001b[39;00m):\n\u001b[1;32m    757\u001b[0m     \u001b[38;5;28;01mtry\u001b[39;00m:\n\u001b[1;32m    758\u001b[0m         \u001b[38;5;28;01mreturn\u001b[39;00m \u001b[38;5;28mself\u001b[39m\u001b[38;5;241m.\u001b[39m_fast_reader\u001b[38;5;241m.\u001b[39mread(args)\n",
      "File \u001b[0;32m/ext3/miniconda3/lib/python3.10/site-packages/h5py/_hl/base.py:536\u001b[0m, in \u001b[0;36mcached_property.__get__\u001b[0;34m(self, obj, cls)\u001b[0m\n\u001b[1;32m    533\u001b[0m \u001b[38;5;28;01mif\u001b[39;00m obj \u001b[38;5;129;01mis\u001b[39;00m \u001b[38;5;28;01mNone\u001b[39;00m:\n\u001b[1;32m    534\u001b[0m     \u001b[38;5;28;01mreturn\u001b[39;00m \u001b[38;5;28mself\u001b[39m\n\u001b[0;32m--> 536\u001b[0m value \u001b[38;5;241m=\u001b[39m obj\u001b[38;5;241m.\u001b[39m\u001b[38;5;18m__dict__\u001b[39m[\u001b[38;5;28mself\u001b[39m\u001b[38;5;241m.\u001b[39mfunc\u001b[38;5;241m.\u001b[39m\u001b[38;5;18m__name__\u001b[39m] \u001b[38;5;241m=\u001b[39m \u001b[38;5;28;43mself\u001b[39;49m\u001b[38;5;241;43m.\u001b[39;49m\u001b[43mfunc\u001b[49m\u001b[43m(\u001b[49m\u001b[43mobj\u001b[49m\u001b[43m)\u001b[49m\n\u001b[1;32m    537\u001b[0m \u001b[38;5;28;01mreturn\u001b[39;00m value\n",
      "File \u001b[0;32m/ext3/miniconda3/lib/python3.10/site-packages/h5py/_hl/dataset.py:738\u001b[0m, in \u001b[0;36mDataset._fast_read_ok\u001b[0;34m(self)\u001b[0m\n\u001b[1;32m    734\u001b[0m \u001b[38;5;129m@cached_property\u001b[39m\n\u001b[1;32m    735\u001b[0m \u001b[38;5;28;01mdef\u001b[39;00m \u001b[38;5;21m_fast_read_ok\u001b[39m(\u001b[38;5;28mself\u001b[39m):\n\u001b[1;32m    736\u001b[0m \u001b[38;5;250m    \u001b[39m\u001b[38;5;124;03m\"\"\"Is this dataset suitable for simple reading\"\"\"\u001b[39;00m\n\u001b[1;32m    737\u001b[0m     \u001b[38;5;28;01mreturn\u001b[39;00m (\n\u001b[0;32m--> 738\u001b[0m         \u001b[38;5;28;43mself\u001b[39;49m\u001b[38;5;241;43m.\u001b[39;49m\u001b[43m_extent_type\u001b[49m \u001b[38;5;241m==\u001b[39m h5s\u001b[38;5;241m.\u001b[39mSIMPLE\n\u001b[1;32m    739\u001b[0m         \u001b[38;5;129;01mand\u001b[39;00m \u001b[38;5;28misinstance\u001b[39m(\u001b[38;5;28mself\u001b[39m\u001b[38;5;241m.\u001b[39mid\u001b[38;5;241m.\u001b[39mget_type(), (h5t\u001b[38;5;241m.\u001b[39mTypeIntegerID, h5t\u001b[38;5;241m.\u001b[39mTypeFloatID))\n\u001b[1;32m    740\u001b[0m     )\n",
      "File \u001b[0;32m/ext3/miniconda3/lib/python3.10/site-packages/h5py/_hl/base.py:536\u001b[0m, in \u001b[0;36mcached_property.__get__\u001b[0;34m(self, obj, cls)\u001b[0m\n\u001b[1;32m    533\u001b[0m \u001b[38;5;28;01mif\u001b[39;00m obj \u001b[38;5;129;01mis\u001b[39;00m \u001b[38;5;28;01mNone\u001b[39;00m:\n\u001b[1;32m    534\u001b[0m     \u001b[38;5;28;01mreturn\u001b[39;00m \u001b[38;5;28mself\u001b[39m\n\u001b[0;32m--> 536\u001b[0m value \u001b[38;5;241m=\u001b[39m obj\u001b[38;5;241m.\u001b[39m\u001b[38;5;18m__dict__\u001b[39m[\u001b[38;5;28mself\u001b[39m\u001b[38;5;241m.\u001b[39mfunc\u001b[38;5;241m.\u001b[39m\u001b[38;5;18m__name__\u001b[39m] \u001b[38;5;241m=\u001b[39m \u001b[38;5;28;43mself\u001b[39;49m\u001b[38;5;241;43m.\u001b[39;49m\u001b[43mfunc\u001b[49m\u001b[43m(\u001b[49m\u001b[43mobj\u001b[49m\u001b[43m)\u001b[49m\n\u001b[1;32m    537\u001b[0m \u001b[38;5;28;01mreturn\u001b[39;00m value\n",
      "File \u001b[0;32mh5py/_objects.pyx:54\u001b[0m, in \u001b[0;36mh5py._objects.with_phil.wrapper\u001b[0;34m()\u001b[0m\n",
      "File \u001b[0;32mh5py/_objects.pyx:55\u001b[0m, in \u001b[0;36mh5py._objects.with_phil.wrapper\u001b[0;34m()\u001b[0m\n",
      "File \u001b[0;32m/ext3/miniconda3/lib/python3.10/site-packages/h5py/_hl/dataset.py:629\u001b[0m, in \u001b[0;36mDataset._extent_type\u001b[0;34m(self)\u001b[0m\n\u001b[1;32m    625\u001b[0m \u001b[38;5;129m@cached_property\u001b[39m\n\u001b[1;32m    626\u001b[0m \u001b[38;5;129m@with_phil\u001b[39m\n\u001b[1;32m    627\u001b[0m \u001b[38;5;28;01mdef\u001b[39;00m \u001b[38;5;21m_extent_type\u001b[39m(\u001b[38;5;28mself\u001b[39m):\n\u001b[1;32m    628\u001b[0m \u001b[38;5;250m    \u001b[39m\u001b[38;5;124;03m\"\"\"Get extent type for this dataset - SIMPLE, SCALAR or NULL\"\"\"\u001b[39;00m\n\u001b[0;32m--> 629\u001b[0m     \u001b[38;5;28;01mreturn\u001b[39;00m \u001b[38;5;28;43mself\u001b[39;49m\u001b[38;5;241;43m.\u001b[39;49m\u001b[43mid\u001b[49m\u001b[38;5;241;43m.\u001b[39;49m\u001b[43mget_space\u001b[49m\u001b[43m(\u001b[49m\u001b[43m)\u001b[49m\u001b[38;5;241m.\u001b[39mget_simple_extent_type()\n",
      "\u001b[0;31mKeyboardInterrupt\u001b[0m: "
     ]
    }
   ],
   "source": [
    "folder_dir = save_dir+\"/snapshots\"\n",
    "\n",
    "file_paths = [os.path.join(folder_dir, file) for file in listdir(folder_dir) if os.path.isfile(os.path.join(folder_dir, file)) and file.endswith('.h5')]\n",
    "#sort by the number in the file name\n",
    "file_paths.sort(key=lambda f: int(re.sub('\\D', '', f)))\n",
    "\n",
    "#plot the function of total KE\n",
    "all_tot_ke = []\n",
    "\n",
    "for file in file_paths:\n",
    "    with h5py.File(file, mode='r') as file:\n",
    "        tot_ke = file['tasks']['total KE']\n",
    "        st = file['scales/sim_time']\n",
    "        simtime = np.array(st)\n",
    "        for t in range(0, len(simtime)):\n",
    "            all_tot_ke.append(np.sum(tot_ke[t]))\n",
    "print(all_tot_ke[:10])\n",
    "print(max(all_tot_ke))\n",
    "\n",
    "print(len(all_tot_ke))\n",
    "figure_x_axis = np.array([(x*nu/(1**2)) for x in range(1, len(all_tot_ke)+1)])\n",
    "print(len(figure_x_axis))\n",
    "plt.plot(figure_x_axis, np.log(all_tot_ke), color = 'blue')\n",
    "plt.xlabel('Normalized Time')\n",
    "plt.ylabel('Total Kinetic Energy')\n",
    "plt.title('Total Kinetic Energy vs normalized time')\n",
    "plt.savefig(plot_dir+'/Total norm KE.png', dpi=200, bbox_inches='tight')\n",
    "plt.show()\n",
    "plt.clf()\n",
    "\n",
    "plt.plot(np.array(range(len(figure_x_axis))), np.log(all_tot_ke), color = 'blue')\n",
    "plt.xlabel('time')\n",
    "plt.ylabel('log Total Kinetic Energy')\n",
    "plt.title('log Total Kinetic Energy vs regular time')\n",
    "plt.savefig(plot_dir+'/Total KE.png', dpi=200, bbox_inches='tight')\n",
    "plt.show()\n",
    "plt.clf()"
   ]
  },
  {
   "cell_type": "code",
   "execution_count": 4,
   "metadata": {},
   "outputs": [
    {
     "name": "stdout",
     "output_type": "stream",
     "text": [
      "[nan nan nan nan nan nan nan nan nan nan nan nan nan nan nan nan nan nan\n",
      " nan nan nan nan nan nan nan nan nan nan nan nan nan nan nan nan nan nan\n",
      " nan nan nan nan nan nan nan nan nan nan nan nan nan nan nan nan nan nan\n",
      " nan nan nan nan nan nan nan nan nan nan nan nan nan nan nan nan nan nan\n",
      " nan nan nan nan nan nan nan nan nan nan nan nan nan nan nan nan nan nan\n",
      " nan nan nan nan nan nan nan nan nan nan nan nan nan nan nan nan nan nan\n",
      " nan nan nan nan nan nan nan nan nan nan nan nan nan nan nan nan nan nan\n",
      " nan nan]\n",
      "2024-05-02 15:50:16,420 matplotlib.text 0/1 WARNING :: posx and posy should be finite values\n",
      "2024-05-02 15:50:16,517 matplotlib.text 0/1 WARNING :: posx and posy should be finite values\n",
      "2024-05-02 15:50:16,611 matplotlib.text 0/1 WARNING :: posx and posy should be finite values\n",
      "2024-05-02 15:50:16,648 matplotlib.text 0/1 WARNING :: posx and posy should be finite values\n",
      "2024-05-02 15:50:16,739 matplotlib.text 0/1 WARNING :: posx and posy should be finite values\n"
     ]
    },
    {
     "data": {
      "image/png": "[encoded data removed]",
      "text/plain": [
       "<Figure size 640x480 with 1 Axes>"
      ]
     },
     "metadata": {},
     "output_type": "display_data"
    },
    {
     "data": {
      "text/plain": [
       "<Figure size 640x480 with 0 Axes>"
      ]
     },
     "metadata": {},
     "output_type": "display_data"
    }
   ],
   "source": [
    "#Plot horizontal avg C\n",
    "folder_dir = save_dir + \"/snapshots\"\n",
    "\n",
    "file_paths = [os.path.join(folder_dir, file) for file in os.listdir(folder_dir) if os.path.isfile(os.path.join(folder_dir, file)) and file.endswith('.h5')]\n",
    "# Sort by the number in the file name\n",
    "file_paths.sort(key=lambda f: int(re.sub('\\D', '', f)))\n",
    "# Read the last file in the file path\n",
    "file = file_paths[-1]\n",
    "with h5py.File(file, mode='r') as file:\n",
    "    avgC = file['tasks']['horizontal avg C'][-1, 0, :]\n",
    "    avgC = np.array(avgC)\n",
    "    print(avgC)\n",
    "    avgC = avgC*nu/(1**2) #Normalization\n",
    "    z = z.reshape(-1)\n",
    "    # Plot the horizontal avg C\n",
    "    plt.plot(avgC, z, color='blue', label='C')\n",
    "    \n",
    "    maxC = max(avgC)\n",
    "    plt.axvline(x=maxC, color='black', linestyle='--', label='max C')\n",
    "    \n",
    "    # Find the z value corresponding to max C and add a horizontal line\n",
    "    maxC_index = np.argmax(avgC)\n",
    "    z_maxC = z[maxC_index]\n",
    "    plt.axhline(y=z_maxC, color='green', linestyle='--', label='z at max C')\n",
    "    \n",
    "    # Annotate the max C and its corresponding z value\n",
    "    plt.text(maxC, 0, f'max C: {maxC:.2f}', horizontalalignment='right', verticalalignment='bottom')\n",
    "    plt.text(0, z_maxC, f'z: {z_maxC:.2f}', horizontalalignment='left', verticalalignment='bottom')\n",
    "    \n",
    "    plt.xlabel('C')\n",
    "    plt.ylabel('z')\n",
    "    plt.title('Horizontal avg Clock Tracer')\n",
    "    plt.legend()\n",
    "    plt.savefig(plot_dir + '/Horizontal avg C.png', dpi=200, bbox_inches='tight')\n",
    "    plt.show()\n",
    "    plt.clf()\n",
    "    "
   ]
  },
  {
   "cell_type": "code",
   "execution_count": 5,
   "metadata": {},
   "outputs": [
    {
     "name": "stdout",
     "output_type": "stream",
     "text": [
      "['scales', 'tasks']\n",
      "['constant', 'iteration', 'sim_time', 'timestep', 'wall_time', 'world_time', 'write_number', 'x_hash_8b84e684ac946d7200c357d51eb5fb618b081e51', 'z_hash_d284f597a983ade9304b26b4bf92bfe0a3d1d846']\n",
      "['C', 'D', 'Dry derivative', 'M', 'Moist derivative', 'Nusselt Number', 'T', 'horizontal avg B', 'horizontal avg C', 'horizontal avg D', 'horizontal avg M', 'horizontal avg T', 'horizontal avg liquid', 'p', 'tau_D1', 'tau_D2', 'tau_M1', 'tau_M2', 'tau_c1', 'tau_c2', 'tau_p', 'tau_t1', 'tau_t2', 'tau_u1', 'tau_u2', 'total KE', 'u', 'uz']\n"
     ]
    }
   ],
   "source": [
    "folder_dir = save_dir+\"/snapshots\"\n",
    "\n",
    "file_paths = [os.path.join(folder_dir, file) for file in listdir(folder_dir) if os.path.isfile(os.path.join(folder_dir, file)) and file.endswith('.h5')]\n",
    "#sort by the number in the file name\n",
    "file_paths.sort(key=lambda f: int(re.sub('\\D', '', f)))\n",
    "file = file_paths[-1]\n",
    "with h5py.File(file, mode='r') as file:\n",
    "    print(list(file.keys()))\n",
    "    scalekeys=list(file['scales'].keys())\n",
    "    taskkeys=list(file['tasks'].keys())\n",
    "    print(scalekeys)\n",
    "    print(taskkeys)\n",
    "    #automatic read x y zhash: testing feature\n",
    "    xhash=scalekeys[-2]\n",
    "    zhash=scalekeys[-1]\n",
    "    x=file['scales'][xhash]\n",
    "    z=file['scales'][zhash]\n",
    "    x=np.array(x)\n",
    "    z=np.array(z)"
   ]
  },
  {
   "cell_type": "code",
   "execution_count": 6,
   "metadata": {},
   "outputs": [
    {
     "name": "stderr",
     "output_type": "stream",
     "text": [
      "/ext3/miniconda3/lib/python3.10/site-packages/matplotlib/contour.py:1454: UserWarning: Warning: converting a masked element to nan.\n",
      "  self.zmax = float(z.max())\n",
      "/ext3/miniconda3/lib/python3.10/site-packages/matplotlib/contour.py:1455: UserWarning: Warning: converting a masked element to nan.\n",
      "  self.zmin = float(z.min())\n"
     ]
    },
    {
     "data": {
      "image/png": "[encoded data removed]",
      "text/plain": [
       "<Figure size 640x480 with 2 Axes>"
      ]
     },
     "metadata": {},
     "output_type": "display_data"
    },
    {
     "data": {
      "text/plain": [
       "<Figure size 640x480 with 0 Axes>"
      ]
     },
     "metadata": {},
     "output_type": "display_data"
    }
   ],
   "source": [
    "#Plot C\n",
    "folder_dir = save_dir+\"/snapshots\"\n",
    "\n",
    "file_paths = [os.path.join(folder_dir, file) for file in listdir(folder_dir) if os.path.isfile(os.path.join(folder_dir, file)) and file.endswith('.h5')]\n",
    "#sort by the number in the file name\n",
    "file_paths.sort(key=lambda f: int(re.sub('\\D', '', f)))\n",
    "#read the last file in the file path\n",
    "file = file_paths[-1]\n",
    "with h5py.File(file, mode='r') as file:\n",
    "    C = np.transpose(file['tasks']['C'][-1,:,:])\n",
    "    plt.contourf(x, z , C, cmap='RdBu_r')\n",
    "    plt.colorbar(label='Clock Time')\n",
    "    plt.xlabel('x')\n",
    "    plt.ylabel('z')\n",
    "    plt.title('Clock Time at t=2400')\n",
    "    plt.show()\n",
    "    plt.savefig(plot_dir+'/C.png', dpi=200, bbox_inches='tight')\n",
    "    plt.clf()\n"
   ]
  },
  {
   "cell_type": "code",
   "execution_count": 7,
   "metadata": {},
   "outputs": [
    {
     "ename": "KeyboardInterrupt",
     "evalue": "",
     "output_type": "error",
     "traceback": [
      "\u001b[0;31m---------------------------------------------------------------------------\u001b[0m",
      "\u001b[0;31mKeyboardInterrupt\u001b[0m                         Traceback (most recent call last)",
      "Cell \u001b[0;32mIn[7], line 15\u001b[0m\n\u001b[1;32m     13\u001b[0m moistbuoyancy \u001b[38;5;241m=\u001b[39m file[\u001b[38;5;124m'\u001b[39m\u001b[38;5;124mtasks\u001b[39m\u001b[38;5;124m'\u001b[39m][\u001b[38;5;124m'\u001b[39m\u001b[38;5;124mM\u001b[39m\u001b[38;5;124m'\u001b[39m]\n\u001b[1;32m     14\u001b[0m drybuoyancy \u001b[38;5;241m=\u001b[39m file[\u001b[38;5;124m'\u001b[39m\u001b[38;5;124mtasks\u001b[39m\u001b[38;5;124m'\u001b[39m][\u001b[38;5;124m'\u001b[39m\u001b[38;5;124mD\u001b[39m\u001b[38;5;124m'\u001b[39m]\n\u001b[0;32m---> 15\u001b[0m buoyancy\u001b[38;5;241m=\u001b[39mnp\u001b[38;5;241m.\u001b[39mmaximum(moistbuoyancy,\u001b[43mdrybuoyancy\u001b[49m\u001b[38;5;241;43m-\u001b[39;49m\u001b[43mN_s2\u001b[49m\u001b[38;5;241;43m*\u001b[39;49m\u001b[43mz\u001b[49m)\n\u001b[1;32m     16\u001b[0m st \u001b[38;5;241m=\u001b[39m file[\u001b[38;5;124m'\u001b[39m\u001b[38;5;124mscales/sim_time\u001b[39m\u001b[38;5;124m'\u001b[39m]\n\u001b[1;32m     17\u001b[0m \u001b[38;5;28;01mfor\u001b[39;00m t \u001b[38;5;129;01min\u001b[39;00m \u001b[38;5;28mrange\u001b[39m(\u001b[38;5;28mlen\u001b[39m(st)):\n",
      "File \u001b[0;32mh5py/_objects.pyx:54\u001b[0m, in \u001b[0;36mh5py._objects.with_phil.wrapper\u001b[0;34m()\u001b[0m\n",
      "File \u001b[0;32mh5py/_objects.pyx:55\u001b[0m, in \u001b[0;36mh5py._objects.with_phil.wrapper\u001b[0;34m()\u001b[0m\n",
      "File \u001b[0;32m/ext3/miniconda3/lib/python3.10/site-packages/h5py/_hl/dataset.py:1057\u001b[0m, in \u001b[0;36mDataset.__array__\u001b[0;34m(self, dtype)\u001b[0m\n\u001b[1;32m   1051\u001b[0m \u001b[38;5;129m@with_phil\u001b[39m\n\u001b[1;32m   1052\u001b[0m \u001b[38;5;28;01mdef\u001b[39;00m \u001b[38;5;21m__array__\u001b[39m(\u001b[38;5;28mself\u001b[39m, dtype\u001b[38;5;241m=\u001b[39m\u001b[38;5;28;01mNone\u001b[39;00m):\n\u001b[1;32m   1053\u001b[0m \u001b[38;5;250m    \u001b[39m\u001b[38;5;124;03m\"\"\" Create a Numpy array containing the whole dataset.  DON'T THINK\u001b[39;00m\n\u001b[1;32m   1054\u001b[0m \u001b[38;5;124;03m    THIS MEANS DATASETS ARE INTERCHANGEABLE WITH ARRAYS.  For one thing,\u001b[39;00m\n\u001b[1;32m   1055\u001b[0m \u001b[38;5;124;03m    you have to read the whole dataset every time this method is called.\u001b[39;00m\n\u001b[1;32m   1056\u001b[0m \u001b[38;5;124;03m    \"\"\"\u001b[39;00m\n\u001b[0;32m-> 1057\u001b[0m     arr \u001b[38;5;241m=\u001b[39m numpy\u001b[38;5;241m.\u001b[39mzeros(\u001b[38;5;28;43mself\u001b[39;49m\u001b[38;5;241;43m.\u001b[39;49m\u001b[43mshape\u001b[49m, dtype\u001b[38;5;241m=\u001b[39m\u001b[38;5;28mself\u001b[39m\u001b[38;5;241m.\u001b[39mdtype \u001b[38;5;28;01mif\u001b[39;00m dtype \u001b[38;5;129;01mis\u001b[39;00m \u001b[38;5;28;01mNone\u001b[39;00m \u001b[38;5;28;01melse\u001b[39;00m dtype)\n\u001b[1;32m   1059\u001b[0m     \u001b[38;5;66;03m# Special case for (0,)*-shape datasets\u001b[39;00m\n\u001b[1;32m   1060\u001b[0m     \u001b[38;5;28;01mif\u001b[39;00m \u001b[38;5;28mself\u001b[39m\u001b[38;5;241m.\u001b[39msize \u001b[38;5;241m==\u001b[39m \u001b[38;5;241m0\u001b[39m:\n",
      "File \u001b[0;32m/ext3/miniconda3/lib/python3.10/site-packages/h5py/_hl/dataset.py:468\u001b[0m, in \u001b[0;36mDataset.shape\u001b[0;34m(self)\u001b[0m\n\u001b[1;32m    465\u001b[0m \u001b[38;5;28;01mif\u001b[39;00m \u001b[38;5;124m'\u001b[39m\u001b[38;5;124mshape\u001b[39m\u001b[38;5;124m'\u001b[39m \u001b[38;5;129;01min\u001b[39;00m \u001b[38;5;28mself\u001b[39m\u001b[38;5;241m.\u001b[39m_cache_props:\n\u001b[1;32m    466\u001b[0m     \u001b[38;5;28;01mreturn\u001b[39;00m \u001b[38;5;28mself\u001b[39m\u001b[38;5;241m.\u001b[39m_cache_props[\u001b[38;5;124m'\u001b[39m\u001b[38;5;124mshape\u001b[39m\u001b[38;5;124m'\u001b[39m]\n\u001b[0;32m--> 468\u001b[0m \u001b[38;5;28;01mwith\u001b[39;00m phil:\n\u001b[1;32m    469\u001b[0m     shape \u001b[38;5;241m=\u001b[39m \u001b[38;5;28mself\u001b[39m\u001b[38;5;241m.\u001b[39mid\u001b[38;5;241m.\u001b[39mshape\n\u001b[1;32m    471\u001b[0m \u001b[38;5;66;03m# If the file is read-only, cache the shape to speed-up future uses.\u001b[39;00m\n\u001b[1;32m    472\u001b[0m \u001b[38;5;66;03m# This cache is invalidated by .refresh() when using SWMR.\u001b[39;00m\n",
      "\u001b[0;31mKeyboardInterrupt\u001b[0m: "
     ]
    }
   ],
   "source": [
    "folder_dir = save_dir+\"/snapshots\"\n",
    "if not os.path.exists(plot_dir+'/buoyancygraph'):\n",
    "    os.mkdir(plot_dir+'/buoyancygraph')\n",
    "n=0\n",
    "\n",
    "folder_dir = save_dir+\"/snapshots\"\n",
    "\n",
    "file_paths = [os.path.join(folder_dir, file) for file in listdir(folder_dir) if os.path.isfile(os.path.join(folder_dir, file)) and file.endswith('.h5')]\n",
    "#sort by the number in the file name\n",
    "file_paths.sort(key=lambda f: int(re.sub('\\D', '', f)))\n",
    "for file in file_paths:\n",
    "    with h5py.File(file, mode='r') as file:\n",
    "        moistbuoyancy = file['tasks']['M']\n",
    "        drybuoyancy = file['tasks']['D']\n",
    "        buoyancy=np.maximum(moistbuoyancy,drybuoyancy-N_s2*z)\n",
    "        st = file['scales/sim_time']\n",
    "        for t in range(len(st)):\n",
    "            mb = np.transpose(moistbuoyancy[t,:,:])\n",
    "            db = np.transpose(drybuoyancy[t,:,:])\n",
    "            bu = np.transpose(buoyancy[t,:,:])\n",
    "            X_grid,Z_grid= np.meshgrid(x, z)\n",
    "            plt.contourf(X_grid,Z_grid,bu, cmap='RdBu_r')\n",
    "            plt.colorbar(label='buoyancy')\n",
    "            plt.xlabel('x')\n",
    "            plt.ylabel('z')\n",
    "            n=n+1\n",
    "            # Add time title\n",
    "            title = \"t=\"+str(st[t])\n",
    "            plt.title(title)\n",
    "            plt.savefig(plot_dir+'/buoyancygraph/buoyancy_'+\"%04d\"%n+'.png', dpi=200,bbox_inches='tight')\n",
    "            matplotlib.pyplot.close()\n",
    "            "
   ]
  },
  {
   "cell_type": "code",
   "execution_count": null,
   "metadata": {},
   "outputs": [],
   "source": [
    "#time evolution of horizontal avg clock tracer\n",
    "folder_dir = save_dir+\"/snapshots\"\n",
    "if not os.path.exists(plot_dir+'/horizontalavgCgraph'):\n",
    "    os.mkdir(plot_dir+'/horizontalavgCgraph')\n",
    "\n",
    "file_paths = [os.path.join(folder_dir, file) for file in listdir(folder_dir) if os.path.isfile(os.path.join(folder_dir, file)) and file.endswith('.h5')]\n",
    "#sort by the number in the file name\n",
    "file_paths.sort(key=lambda f: int(re.sub('\\D', '', f)))\n",
    "C=[]\n",
    "stime=[]\n",
    "for file in file_paths:\n",
    "    with h5py.File(file, mode='r') as file:\n",
    "        avgC = file['tasks']['horizontal avg C']\n",
    "        st = np.array(file['scales/sim_time'])\n",
    "        stime.append(st)\n",
    "        avgC = avgC[:,0,:]\n",
    "        C.append(avgC)\n",
    "# contour plot of horizontal avg C with z and time\n",
    "stime=np.array(stime)\n",
    "stime = np.concatenate(stime).flatten()\n",
    "C = np.concatenate(C, axis=0)\n",
    "C = np.transpose(C)\n",
    "C = C*nu/(1**2) #Normalization\n",
    "print(stime)\n",
    "t_grid, Z_grid = np.meshgrid(stime, z)\n",
    "plt.figure(figsize=(64, 8), dpi=300)\n",
    "plt.contourf(t_grid,Z_grid,C, cmap='RdBu_r',levels=100)\n",
    "plt.colorbar(label='C')\n",
    "plt.xlabel('t')\n",
    "plt.ylabel('z')\n",
    "plt.title('Horizontal avg Clock Tracer')\n",
    "plt.savefig(plot_dir+'/horizontalavgCgraph/tevoC.png', dpi=300, bbox_inches='tight')\n",
    "plt.show()"
   ]
  },
  {
   "cell_type": "code",
   "execution_count": null,
   "metadata": {},
   "outputs": [],
   "source": [
    "folder_dir = save_dir+\"/snapshots\"\n",
    "\n",
    "file_paths = [os.path.join(folder_dir, file) for file in listdir(folder_dir) if os.path.isfile(os.path.join(folder_dir, file)) and file.endswith('.h5')]\n",
    "#sort by the number in the file name\n",
    "file_paths.sort(key=lambda f: int(re.sub('\\D', '', f)))\n",
    "file=file_paths[2500]\n",
    "with h5py.File(file, mode='r') as file:\n",
    "    moistbuoyancy = file['tasks']['M']\n",
    "    drybuoyancy = file['tasks']['D']\n",
    "    avgC = file['tasks']['horizontal avg C']\n",
    "    C= file['tasks']['C']\n",
    "    buoyancy=np.maximum(moistbuoyancy,drybuoyancy-N_s2*z)\n",
    "    st = file['scales/sim_time']\n",
    "    mb = np.transpose(moistbuoyancy[0,:,:])\n",
    "    db = np.transpose(drybuoyancy[0,:,:])\n",
    "    bu = np.transpose(buoyancy[0,:,:])\n",
    "    c= np.transpose(C[0,:,:])\n",
    "    X_grid,Z_grid= np.meshgrid(x, z)\n",
    "    plt.contourf(X_grid,Z_grid,c, cmap='RdBu_r')\n",
    "    plt.colorbar(label=' moist buoyancy')\n",
    "    plt.xlabel('x')\n",
    "    plt.ylabel('z')\n",
    "    plt.show()\n",
    "    print(avgC[0,0,:])"
   ]
  },
  {
   "cell_type": "code",
   "execution_count": 17,
   "metadata": {},
   "outputs": [
    {
     "name": "stdout",
     "output_type": "stream",
     "text": [
      "[[-6.68589918e-04 -6.63752009e-04 -6.61356601e-04 ... -6.83012846e-04\n",
      "  -6.78322929e-04 -6.72143609e-04]\n",
      " [-6.00973445e-03 -5.97399641e-03 -5.94601099e-03 ... -6.16154899e-03\n",
      "  -6.10223434e-03 -6.05068128e-03]\n",
      " [-1.66844417e-02 -1.65870806e-02 -1.65077056e-02 ... -1.71127247e-02\n",
      "  -1.69431541e-02 -1.68006682e-02]\n",
      " ...\n",
      " [-9.92355517e-01 -9.90008419e-01 -9.90449532e-01 ... -9.94549511e-01\n",
      "  -9.94827613e-01 -9.92400000e-01]\n",
      " [-9.97257020e-01 -9.96389867e-01 -9.96570163e-01 ... -9.98025693e-01\n",
      "  -9.98147649e-01 -9.97251794e-01]\n",
      " [-9.99696123e-01 -9.99598516e-01 -9.99619641e-01 ... -9.99778608e-01\n",
      "  -9.99794502e-01 -9.99694155e-01]]\n"
     ]
    }
   ],
   "source": [
    "folder_dir = save_dir+\"/snapshots\"\n",
    "file_paths = [os.path.join(folder_dir, file) for file in os.listdir(folder_dir) if os.path.isfile(os.path.join(folder_dir, file)) and file.endswith('.h5')]\n",
    "# Sort by the number in the file name\n",
    "file_paths.sort(key=lambda f: int(re.sub('\\D', '', f)))\n",
    "# Read the last file in the file path\n",
    "file = file_paths[-1]\n",
    "with h5py.File(file, mode='r') as file:\n",
    "    moistbuoyancy = file['tasks']['M']\n",
    "    drybuoyancy = file['tasks']['D']\n",
    "    clock = file['tasks']['T']\n",
    "\n",
    "    buoyancy=np.maximum(moistbuoyancy,drybuoyancy-N_s2*z)\n",
    "    st = file['scales/sim_time']\n",
    "    for t in range(len(st)):\n",
    "        mb = np.transpose(moistbuoyancy[t,:,:])\n",
    "        db = np.transpose(drybuoyancy[t,:,:])\n",
    "        bu = np.transpose(buoyancy[t,:,:])\n",
    "        cl = np.transpose(clock[t,:,:])\n",
    "        print(mb)\n",
    "        "
   ]
  },
  {
   "cell_type": "code",
   "execution_count": 14,
   "metadata": {},
   "outputs": [
    {
     "ename": "ValueError",
     "evalue": "Invalid dataset identifier (invalid dataset identifier)",
     "output_type": "error",
     "traceback": [
      "\u001b[0;31m---------------------------------------------------------------------------\u001b[0m",
      "\u001b[0;31mValueError\u001b[0m                                Traceback (most recent call last)",
      "Cell \u001b[0;32mIn[14], line 1\u001b[0m\n\u001b[0;32m----> 1\u001b[0m \u001b[43mclock\u001b[49m\u001b[38;5;241;43m.\u001b[39;49m\u001b[43mshape\u001b[49m\n",
      "File \u001b[0;32m/ext3/miniconda3/lib/python3.10/site-packages/h5py/_hl/dataset.py:469\u001b[0m, in \u001b[0;36mDataset.shape\u001b[0;34m(self)\u001b[0m\n\u001b[1;32m    466\u001b[0m     \u001b[38;5;28;01mreturn\u001b[39;00m \u001b[38;5;28mself\u001b[39m\u001b[38;5;241m.\u001b[39m_cache_props[\u001b[38;5;124m'\u001b[39m\u001b[38;5;124mshape\u001b[39m\u001b[38;5;124m'\u001b[39m]\n\u001b[1;32m    468\u001b[0m \u001b[38;5;28;01mwith\u001b[39;00m phil:\n\u001b[0;32m--> 469\u001b[0m     shape \u001b[38;5;241m=\u001b[39m \u001b[38;5;28;43mself\u001b[39;49m\u001b[38;5;241;43m.\u001b[39;49m\u001b[43mid\u001b[49m\u001b[38;5;241;43m.\u001b[39;49m\u001b[43mshape\u001b[49m\n\u001b[1;32m    471\u001b[0m \u001b[38;5;66;03m# If the file is read-only, cache the shape to speed-up future uses.\u001b[39;00m\n\u001b[1;32m    472\u001b[0m \u001b[38;5;66;03m# This cache is invalidated by .refresh() when using SWMR.\u001b[39;00m\n\u001b[1;32m    473\u001b[0m \u001b[38;5;28;01mif\u001b[39;00m \u001b[38;5;28mself\u001b[39m\u001b[38;5;241m.\u001b[39m_readonly:\n",
      "File \u001b[0;32mh5py/h5d.pyx:193\u001b[0m, in \u001b[0;36mh5py.h5d.DatasetID.shape.__get__\u001b[0;34m()\u001b[0m\n",
      "File \u001b[0;32mh5py/h5d.pyx:194\u001b[0m, in \u001b[0;36mh5py.h5d.DatasetID.shape.__get__\u001b[0;34m()\u001b[0m\n",
      "File \u001b[0;32mh5py/_objects.pyx:54\u001b[0m, in \u001b[0;36mh5py._objects.with_phil.wrapper\u001b[0;34m()\u001b[0m\n",
      "File \u001b[0;32mh5py/_objects.pyx:55\u001b[0m, in \u001b[0;36mh5py._objects.with_phil.wrapper\u001b[0;34m()\u001b[0m\n",
      "File \u001b[0;32mh5py/h5d.pyx:350\u001b[0m, in \u001b[0;36mh5py.h5d.DatasetID.get_space\u001b[0;34m()\u001b[0m\n",
      "\u001b[0;31mValueError\u001b[0m: Invalid dataset identifier (invalid dataset identifier)"
     ]
    }
   ],
   "source": [
    "clock.shape"
   ]
  },
  {
   "cell_type": "code",
   "execution_count": 19,
   "metadata": {},
   "outputs": [
    {
     "data": {
      "text/plain": [
       "<matplotlib.colorbar.Colorbar at 0x1501331afc40>"
      ]
     },
     "execution_count": 19,
     "metadata": {},
     "output_type": "execute_result"
    },
    {
     "data": {
      "image/png": "[encoded data removed]",
      "text/plain": [
       "<Figure size 640x480 with 2 Axes>"
      ]
     },
     "metadata": {},
     "output_type": "display_data"
    }
   ],
   "source": [
    "plt.contourf(cl)\n",
    "plt.colorbar()"
   ]
  },
  {
   "cell_type": "code",
   "execution_count": null,
   "metadata": {},
   "outputs": [],
   "source": []
  }
 ],
 "metadata": {
  "kernelspec": {
   "display_name": "dedalus3",
   "language": "python",
   "name": "dedalus3"
  },
  "language_info": {
   "codemirror_mode": {
    "name": "ipython",
    "version": 3
   },
   "file_extension": ".py",
   "mimetype": "text/x-python",
   "name": "python",
   "nbconvert_exporter": "python",
   "pygments_lexer": "ipython3",
   "version": "3.10.12"
  }
 },
 "nbformat": 4,
 "nbformat_minor": 4
}
