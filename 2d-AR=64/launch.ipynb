{
 "cells": [
  {
   "cell_type": "code",
   "execution_count": 36,
   "metadata": {
    "editable": true,
    "slideshow": {
     "slide_type": ""
    },
    "tags": []
   },
   "outputs": [],
   "source": [
    "import sys\n",
    "import os\n",
    "import numpy as np\n",
    "import shutil"
   ]
  },
  {
   "cell_type": "code",
   "execution_count": 37,
   "metadata": {},
   "outputs": [],
   "source": [
    "output_root = '/scratch/zb2113/DedalusData/2D/' # Replace this by the location where you want the output to be produced\n",
    "exec_file = '/home/zb2113/Research-Dedalus/2d-AR=64/Template.py' # This should be the location of the python file. "
   ]
  },
  {
   "cell_type": "code",
   "execution_count": 38,
   "metadata": {},
   "outputs": [],
   "source": [
    "param_name = 'Qrad'\n",
    "\n",
    "param_values = ['0.0014','0.0028','0.0042','0.0056','0.0070'] \n",
    "# param_values = ['0.0014']\n",
    "#param_values = ['0.0006']"
   ]
  },
  {
   "cell_type": "code",
   "execution_count": 39,
   "metadata": {
    "jp-MarkdownHeadingCollapsed": true
   },
   "outputs": [],
   "source": [
    "namelist = \\\n",
    "    \"Lx, Lz = 64, 1\\n\"+\\\n",
    "    \"Nx, Nz = 8192, 128\\n\"+\\\n",
    "    \"Ra_M=5e6\\n\"+\\\n",
    "    \"Prandtl = 1\\n\"+\\\n",
    "    \"D_0 = 0\\n\"+\\\n",
    "    \"D_H = 1/3\\n\"+\\\n",
    "    \"M_0 = 0\\n\"+\\\n",
    "    \"M_H = -1\\n\"+\\\n",
    "    \"N_s2 = 4/3\\n\"+\\\n",
    "    \"Qrad = 0.0002\\n\"+\\\n",
    "    \"stop_sim_time = 2500.0\\n\"\n",
    "exec(namelist)"
   ]
  },
  {
   "cell_type": "code",
   "execution_count": 40,
   "metadata": {},
   "outputs": [],
   "source": [
    "script_start = [  \\\n",
    "    \"#!/bin/bash\\n\",\\\n",
    "    \"#SBATCH --nodes=8\\n\",\\\n",
    "    \"#SBATCH --tasks-per-node=32\\n\",\\\n",
    "    \"#SBATCH --cpus-per-task=1\\n\",\\\n",
    "    \"#SBATCH --mem=64GB\\n\",\\\n",
    "    \"#SBATCH --time=24:00:00\\n\",\\\n",
    "    \"#SBATCH --job-name=MRBC_TR\\n\",\\\n",
    "    \"#SBATCH --mail-type=ALL\\n\",\\\n",
    "    \"#SBATCH --mail-user=zb2113@nyu.edu\\n\",\\\n",
    "    \"#SBATCH --output=slurm_%j.out\\n\",\n",
    "    \"module purge\\n\"]\n",
    "\n",
    "script_end = [ \\\n",
    "              \"srun /scratch/work/public/singularity/run-dedalus-3.0.0a0.bash python exec.py\"]\n"
   ]
  },
  {
   "cell_type": "code",
   "execution_count": 41,
   "metadata": {},
   "outputs": [
    {
     "name": "stdout",
     "output_type": "stream",
     "text": [
      "Jobs can be submitted to the queue by going to the directory:\n",
      "/scratch/zb2113/DedalusData/2D/\n",
      "and enter the command: \n",
      "source launch_slurm.sh\n"
     ]
    }
   ],
   "source": [
    "file_launch = output_root + 'launch_slurm.sh'\n",
    "launcher = open(file_launch,'w')\n",
    "for value in param_values:\n",
    "    exec(param_name + '=' + value)\n",
    "    expname = 'MRBC_2D_RaM_'+\"{:.1e}\".format(Ra_M)  +'_Pr_'+\"{:.1e}\".format(Prandtl) \\\n",
    "    +'_QR_'+\"{:.1e}\".format(Qrad) \\\n",
    "            +'_DH_'+\"{:.1e}\".format(D_H) \\\n",
    "            +  '_Lx_'+\"{:.1e}\".format(Lx) \\\n",
    "            +   '_Nz_'+\"{:d}\".format(Nz)\n",
    "    exp_dir = output_root + expname\n",
    "    if (not os.path.exists(exp_dir)):\n",
    "        os.makedirs(exp_dir, exist_ok = True)\n",
    "    os.chdir(exp_dir)\n",
    "    shutil.copyfile(exec_file,exp_dir+'/exec.py')\n",
    "    nml_filename = 'MRBC2D_param.py'\n",
    "    nml_file = open(nml_filename, 'w')\n",
    "    nml_file.writelines(namelist)\n",
    "    nml_file.writelines(param_name + '=' + value +'\\n')\n",
    "    nml_file.close()\n",
    "    script_name = 'run_MRBC.slurm'\n",
    "    script = open(script_name,'w')\n",
    "    script.writelines(script_start)\n",
    "    script.writelines('cd '+exp_dir+'\\n')\n",
    "    script.writelines(script_end)\n",
    "    script.close()\n",
    "    launcher.writelines(\"cd \" + output_root + expname +'\\n')\n",
    "    launcher.writelines(\"sbatch ./\" + script_name +'\\n')\n",
    "launcher.writelines(\"cd \" + output_root + '\\n')\n",
    "\n",
    "launcher.close()\n",
    "print('Jobs can be submitted to the queue by going to the directory:\\n' + output_root)\n",
    "print('and enter the command: \\nsource launch_slurm.sh')\n"
   ]
  },
  {
   "cell_type": "code",
   "execution_count": 42,
   "metadata": {},
   "outputs": [
    {
     "name": "stdout",
     "output_type": "stream",
     "text": [
      "MRBC_2D_RaM_5.0e+06_Pr_1.0e+00_QR_7.0e-03_DH_3.3e-01_Lx_6.4e+01_Nz_128\n"
     ]
    }
   ],
   "source": [
    "print(expname)"
   ]
  },
  {
   "cell_type": "code",
   "execution_count": null,
   "metadata": {},
   "outputs": [],
   "source": []
  },
  {
   "cell_type": "code",
   "execution_count": null,
   "metadata": {},
   "outputs": [],
   "source": []
  }
 ],
 "metadata": {
  "kernelspec": {
   "display_name": "dedalus3",
   "language": "python",
   "name": "dedalus3"
  },
  "language_info": {
   "codemirror_mode": {
    "name": "ipython",
    "version": 3
   },
   "file_extension": ".py",
   "mimetype": "text/x-python",
   "name": "python",
   "nbconvert_exporter": "python",
   "pygments_lexer": "ipython3",
   "version": "3.10.12"
  }
 },
 "nbformat": 4,
 "nbformat_minor": 4
}
