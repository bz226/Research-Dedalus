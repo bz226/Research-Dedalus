{
 "cells": [
  {
   "cell_type": "code",
   "execution_count": 13,
   "metadata": {},
   "outputs": [
    {
     "data": {
      "text/plain": [
       "'\\nDedalus script simulating 2D horizontally-periodic Rayleigh-Benard convection.\\nThis script demonstrates solving a 2D Cartesian initial value problem. It can\\nbe ran serially or in parallel, and uses the built-in analysis framework to save\\ndata snapshots to HDF5 files. The `plot_snapshots.py` script can be used to\\nproduce plots from the saved data. It should take about 5 cpu-minutes to run.\\n\\nFor incompressible hydro with two boundaries, we need two tau terms for each the\\nvelocity and buoyancy. Here we choose to use a first-order formulation, putting\\none tau term each on auxiliary first-order gradient variables and the others in\\nthe PDE, and lifting them all to the first derivative basis. This formulation puts\\na tau term in the divergence constraint, as required for this geometry.\\n\\nTo run and plot using e.g. 4 processes:\\n    $ mpiexec -n 4 python3 rayleigh_benard.py\\n    $ mpiexec -n 4 python3 plot_snapshots.py snapshots/*.h5\\n'"
      ]
     },
     "execution_count": 13,
     "metadata": {},
     "output_type": "execute_result"
    }
   ],
   "source": [
    "\"\"\"\n",
    "Dedalus script simulating 2D horizontally-periodic Rayleigh-Benard convection.\n",
    "This script demonstrates solving a 2D Cartesian initial value problem. It can\n",
    "be ran serially or in parallel, and uses the built-in analysis framework to save\n",
    "data snapshots to HDF5 files. The `plot_snapshots.py` script can be used to\n",
    "produce plots from the saved data. It should take about 5 cpu-minutes to run.\n",
    "\n",
    "For incompressible hydro with two boundaries, we need two tau terms for each the\n",
    "velocity and buoyancy. Here we choose to use a first-order formulation, putting\n",
    "one tau term each on auxiliary first-order gradient variables and the others in\n",
    "the PDE, and lifting them all to the first derivative basis. This formulation puts\n",
    "a tau term in the divergence constraint, as required for this geometry.\n",
    "\n",
    "To run and plot using e.g. 4 processes:\n",
    "    $ mpiexec -n 4 python3 rayleigh_benard.py\n",
    "    $ mpiexec -n 4 python3 plot_snapshots.py snapshots/*.h5\n",
    "\"\"\"\n"
   ]
  },
  {
   "cell_type": "code",
   "execution_count": 14,
   "metadata": {},
   "outputs": [],
   "source": [
    "import numpy as np\n",
    "import dedalus.public as d3\n",
    "import logging\n",
    "logger = logging.getLogger(__name__)\n",
    "import copy\n",
    "import h5py\n",
    "import numpy as np\n",
    "import matplotlib\n",
    "import re\n",
    "\n",
    "import matplotlib.pyplot as plt\n",
    "from dedalus.extras import plot_tools\n",
    "\n",
    "from mpl_toolkits.mplot3d import Axes3D\n",
    "from matplotlib.colors import Normalize\n",
    "\n",
    "import os\n",
    "from os import listdir"
   ]
  },
  {
   "cell_type": "code",
   "execution_count": 15,
   "metadata": {},
   "outputs": [],
   "source": [
    "# Parameters\n",
    "Lx, Lz = 20,1\n",
    "Nx, Nz = 640, 32\n",
    "Ra_M = 4.5e5\n",
    "D_0 = 0\n",
    "D_H = 1/3\n",
    "M_0 = 0\n",
    "M_H = -1\n",
    "N_s2=4/3\n",
    "f=0.1\n",
    "\n",
    "Prandtl = 0.7\n",
    "dealias = 3/2\n",
    "stop_sim_time = 100\n",
    "timestepper = d3.RK222\n",
    "max_timestep = 0.125\n",
    "dtype = np.float64"
   ]
  },
  {
   "cell_type": "code",
   "execution_count": 16,
   "metadata": {},
   "outputs": [],
   "source": [
    "# Bases\n",
    "coords = d3.CartesianCoordinates('x','z')\n",
    "dist = d3.Distributor(coords, dtype=dtype)\n",
    "xbasis = d3.RealFourier(coords['x'], size=Nx, bounds=(0, Lx), dealias=dealias)\n",
    "zbasis = d3.ChebyshevT(coords['z'], size=Nz, bounds=(0, Lz), dealias=dealias)"
   ]
  },
  {
   "cell_type": "code",
   "execution_count": 17,
   "metadata": {},
   "outputs": [
    {
     "name": "stdout",
     "output_type": "stream",
     "text": [
      "kappa 0.001781741612749496\n",
      "nu 0.0012472191289246471\n"
     ]
    }
   ],
   "source": [
    "# Fields\n",
    "p = dist.Field(name='p', bases=(xbasis,zbasis))\n",
    "D = dist.Field(name='D', bases=(xbasis,zbasis))\n",
    "M = dist.Field(name='M', bases=(xbasis,zbasis))\n",
    "u = dist.VectorField(coords, name='u', bases=(xbasis,zbasis))\n",
    "uy = dist.Field(name='uy', bases=(xbasis,zbasis))\n",
    "Z = dist.Field(name='Z', bases=zbasis)\n",
    "tau_p = dist.Field(name='tau_p')\n",
    "tau_B1 = dist.Field(name='tau_B1', bases=xbasis)\n",
    "tau_B2 = dist.Field(name='tau_B2', bases=xbasis)\n",
    "tau_D1 = dist.Field(name='tau_D1', bases=xbasis)\n",
    "tau_D2 = dist.Field(name='tau_D2', bases=xbasis)\n",
    "tau_M1 = dist.Field(name='tau_M1', bases=xbasis)\n",
    "tau_M2 = dist.Field(name='tau_M2', bases=xbasis)\n",
    "tau_u1 = dist.VectorField(coords,name='tau_u1', bases=xbasis)\n",
    "tau_u2 = dist.VectorField(coords,name='tau_u2', bases=xbasis)\n",
    "tau_u3 = dist.VectorField(coords,name='tau_u3', bases=xbasis)\n",
    "tau_u4 = dist.Field(name='tau_u4', bases=xbasis)\n",
    "\n",
    "# Substitutions    \n",
    "#Kuo_Bretherton Equilibrium\n",
    "kappa = (Ra_M * Prandtl/((M_0-M_H)*Lz**3))**(-1/2)\n",
    "nu = (Ra_M / (Prandtl*(M_0-M_H)*Lz**3))**(-1/2)\n",
    "print('kappa',kappa)\n",
    "print('nu',nu)\n",
    "\n",
    "\n",
    "x,z = dist.local_grids(xbasis,zbasis)\n",
    "Z['g']=z\n",
    "Z.change_scales(3/2)\n",
    "\n",
    "ex,ez = coords.unit_vector_fields(dist)\n",
    "lift_basis = zbasis.derivative_basis(1)\n",
    "lift = lambda A: d3.Lift(A, lift_basis, -1)\n",
    "\n",
    "B_op = (np.absolute(D - M - N_s2*Z)+ M + D - N_s2*Z)/2\n",
    "\n",
    "Max = lambda A,B: (abs(A-N_s2*Z-B)+A-N_s2*Z+B)/2\n",
    "eva = lambda A: A.evaluate()\n",
    "\n",
    "dz= lambda A: d3.Differentiate(A, coords['z'])\n",
    "dx= lambda A: d3.Differentiate(A, coords['x'])\n",
    "\n",
    "ux=u@ex\n",
    "uz=u@ez\n",
    "dxux=dx(ux)\n",
    "dzux=dz(ux)\n",
    "dxuz=dx(uz)\n",
    "dzuz=dz(uz)\n",
    "\n",
    "grad_u = d3.grad(u) + ez* lift(tau_u1) # First-order reduction\n",
    "grad_ux = grad_u@ex # First-order reduction\n",
    "grad_uz = grad_u@ez # First-order reduction\n",
    "grad_M = d3.grad(M) + ez*lift(tau_M1) # First-order reduction\n",
    "grad_D = d3.grad(D) + ez*lift(tau_D1) # First-order reduction"
   ]
  },
  {
   "cell_type": "code",
   "execution_count": 18,
   "metadata": {},
   "outputs": [
    {
     "data": {
      "text/plain": [
       "{'LHS': Integrate(Integrate(<Field 5340981200>)),\n",
       " 'RHS': 0,\n",
       " 'condition': 'True',\n",
       " 'tensorsig': (),\n",
       " 'dtype': numpy.float64,\n",
       " 'M': 0,\n",
       " 'L': Integrate(Integrate(<Field 5340981200>)),\n",
       " 'F': <Field 5351575632>,\n",
       " 'domain': <dedalus.core.domain.Domain at 0x13efdda90>,\n",
       " 'matrix_dependence': array([ True,  True]),\n",
       " 'matrix_coupling': array([False,  True])}"
      ]
     },
     "execution_count": 18,
     "metadata": {},
     "output_type": "execute_result"
    }
   ],
   "source": [
    "# Problem\n",
    "# First-order form: \"div(f)\" becomes \"trace(grad_f)\"\n",
    "# First-order form: \"lap(f)\" becomes \"div(grad_f)\"\n",
    "problem = d3.IVP([p, M, D, u, uy, tau_p, tau_M1, tau_M2, tau_D1, tau_D2, tau_u1, tau_u2], namespace=locals())\n",
    "problem.add_equation(\"trace(grad_u) + tau_p= 0\")\n",
    "problem.add_equation(\"dt(M) - kappa*div(grad_M) + lift(tau_M2) = - u@grad(M)\")\n",
    "problem.add_equation(\"dt(D) - kappa*div(grad_D) + lift(tau_D2) = - u@grad(D)\")\n",
    "problem.add_equation(\"dt(ux) + dx(p) - nu*div(grad_ux) + lift(tau_u2)@ex = - u@grad(ux)+f*uy\")\n",
    "problem.add_equation(\"dt(uz) + dz(p) - nu*div(grad_uz) + lift(tau_u2)@ez = - u@grad(uz) + B_op\")\n",
    "problem.add_equation(\"dt(uy) - nu*div(grad(uy)) = -u@grad(uy) -f*ux\")\n",
    "problem.add_equation(\"u(z=0) = 0\")\n",
    "problem.add_equation(\"u(z=Lz) = 0\")\n",
    "problem.add_equation(\"M(z=0) = M_0\")\n",
    "problem.add_equation(\"D(z=0) = D_0\")\n",
    "problem.add_equation(\"M(z=Lz) = M_H\")\n",
    "problem.add_equation(\"D(z=Lz) = D_H\")\n",
    "problem.add_equation(\"integ(p) = 0\") # Pressure gauge"
   ]
  },
  {
   "cell_type": "code",
   "execution_count": 19,
   "metadata": {},
   "outputs": [
    {
     "name": "stdout",
     "output_type": "stream",
     "text": [
      "2023-09-22 10:43:31,201 subsystems 0/1 INFO :: Building subproblem matrices 1/320 (~0%) Elapsed: 0s, Remaining: 27s, Rate: 1.2e+01/s\n",
      "2023-09-22 10:43:32,747 subsystems 0/1 INFO :: Building subproblem matrices 32/320 (~10%) Elapsed: 2s, Remaining: 15s, Rate: 2.0e+01/s\n",
      "2023-09-22 10:43:34,364 subsystems 0/1 INFO :: Building subproblem matrices 64/320 (~20%) Elapsed: 3s, Remaining: 13s, Rate: 2.0e+01/s\n",
      "2023-09-22 10:43:36,025 subsystems 0/1 INFO :: Building subproblem matrices 96/320 (~30%) Elapsed: 5s, Remaining: 11s, Rate: 2.0e+01/s\n",
      "2023-09-22 10:43:37,652 subsystems 0/1 INFO :: Building subproblem matrices 128/320 (~40%) Elapsed: 7s, Remaining: 10s, Rate: 2.0e+01/s\n",
      "2023-09-22 10:43:39,451 subsystems 0/1 INFO :: Building subproblem matrices 160/320 (~50%) Elapsed: 8s, Remaining: 8s, Rate: 1.9e+01/s\n",
      "2023-09-22 10:43:41,054 subsystems 0/1 INFO :: Building subproblem matrices 192/320 (~60%) Elapsed: 10s, Remaining: 7s, Rate: 1.9e+01/s\n",
      "2023-09-22 10:43:41,158 subsystems 0/1 INFO :: Building subproblem matrices 194/320 (~61%) Elapsed: 10s, Remaining: 7s, Rate: 1.9e+01/s\n",
      "2023-09-22 10:43:42,672 subsystems 0/1 INFO :: Building subproblem matrices 224/320 (~70%) Elapsed: 12s, Remaining: 5s, Rate: 1.9e+01/s\n",
      "2023-09-22 10:43:44,284 subsystems 0/1 INFO :: Building subproblem matrices 256/320 (~80%) Elapsed: 13s, Remaining: 3s, Rate: 1.9e+01/s\n",
      "2023-09-22 10:43:45,878 subsystems 0/1 INFO :: Building subproblem matrices 288/320 (~90%) Elapsed: 15s, Remaining: 2s, Rate: 2.0e+01/s\n",
      "2023-09-22 10:43:47,483 subsystems 0/1 INFO :: Building subproblem matrices 320/320 (~100%) Elapsed: 16s, Remaining: 0s, Rate: 2.0e+01/s\n"
     ]
    }
   ],
   "source": [
    "# Solver\n",
    "solver = problem.build_solver(timestepper)\n",
    "solver.stop_sim_time = stop_sim_time\n"
   ]
  },
  {
   "cell_type": "code",
   "execution_count": 20,
   "metadata": {},
   "outputs": [],
   "source": [
    "# Initial condition\n",
    "D.fill_random('g', seed=42, distribution='normal', scale=1e-3) # Random noise\n",
    "D['g'] *= z * (Lz - z) # Damp noise at walls\n",
    "D['g'] += (D_H-D_0)*z # Add linear background\n",
    "M.fill_random('g', seed=28, distribution='normal', scale=1e-3) # Random noise\n",
    "M['g'] *= z * (Lz - z) # Damp noise at walls\n",
    "M['g'] += (M_H-M_0)*z # Add linear background"
   ]
  },
  {
   "cell_type": "code",
   "execution_count": 21,
   "metadata": {},
   "outputs": [],
   "source": [
    "# Analysis\n",
    "snapshots = solver.evaluator.add_file_handler('snapshots', sim_dt=0.25, max_writes=50)\n",
    "snapshots.add_tasks(solver.state,layout='g')"
   ]
  },
  {
   "cell_type": "code",
   "execution_count": 22,
   "metadata": {},
   "outputs": [],
   "source": [
    "# CFL\n",
    "CFL = d3.CFL(solver, initial_dt=0.1, cadence=10, safety=0.5, threshold=0.05,\n",
    "             max_change=1.1, min_change=0.5, max_dt=max_timestep)\n",
    "CFL.add_velocity(u)"
   ]
  },
  {
   "cell_type": "code",
   "execution_count": 23,
   "metadata": {},
   "outputs": [],
   "source": [
    "# Flow properties\n",
    "flow = d3.GlobalFlowProperty(solver, cadence=10)\n",
    "flow.add_property(np.sqrt(u@u)/nu, name='Re')\n"
   ]
  },
  {
   "cell_type": "code",
   "execution_count": 24,
   "metadata": {},
   "outputs": [
    {
     "name": "stdout",
     "output_type": "stream",
     "text": [
      "2023-09-22 10:43:47,522 __main__ 0/1 INFO :: Starting main loop\n",
      "2023-09-22 10:43:48,303 __main__ 0/1 INFO :: Iteration=1, Time=1.000000e-01, dt=1.000000e-01, max(Re)=0.000000\n",
      "2023-09-22 10:43:49,121 __main__ 0/1 INFO :: Iteration=11, Time=1.100000e+00, dt=1.000000e-01, max(Re)=0.211175\n",
      "2023-09-22 10:43:50,252 __main__ 0/1 INFO :: Iteration=21, Time=2.200000e+00, dt=1.100000e-01, max(Re)=693.284150\n",
      "2023-09-22 10:43:51,350 __main__ 0/1 INFO :: Iteration=31, Time=2.750000e+00, dt=5.500000e-02, max(Re)=nan\n",
      "2023-09-22 10:43:52,158 __main__ 0/1 INFO :: Iteration=41, Time=3.300000e+00, dt=5.500000e-02, max(Re)=nan\n",
      "2023-09-22 10:43:52,944 __main__ 0/1 INFO :: Iteration=51, Time=3.850000e+00, dt=5.500000e-02, max(Re)=nan\n",
      "2023-09-22 10:43:53,721 __main__ 0/1 INFO :: Iteration=61, Time=4.400000e+00, dt=5.500000e-02, max(Re)=nan\n",
      "2023-09-22 10:43:54,499 __main__ 0/1 INFO :: Iteration=71, Time=4.950000e+00, dt=5.500000e-02, max(Re)=nan\n",
      "2023-09-22 10:43:55,299 __main__ 0/1 INFO :: Iteration=81, Time=5.500000e+00, dt=5.500000e-02, max(Re)=nan\n",
      "2023-09-22 10:43:56,086 __main__ 0/1 INFO :: Iteration=91, Time=6.050000e+00, dt=5.500000e-02, max(Re)=nan\n",
      "2023-09-22 10:43:56,872 __main__ 0/1 INFO :: Iteration=101, Time=6.600000e+00, dt=5.500000e-02, max(Re)=nan\n",
      "2023-09-22 10:43:57,661 __main__ 0/1 INFO :: Iteration=111, Time=7.150000e+00, dt=5.500000e-02, max(Re)=nan\n",
      "2023-09-22 10:43:58,252 __main__ 0/1 ERROR :: Exception raised, triggering end of main loop.\n",
      "2023-09-22 10:43:58,252 solvers 0/1 INFO :: Final iteration: 118\n",
      "2023-09-22 10:43:58,253 solvers 0/1 INFO :: Final sim time: 7.534999999999988\n",
      "2023-09-22 10:43:58,253 solvers 0/1 INFO :: Setup time (init - iter 0): 16.42 sec\n",
      "2023-09-22 10:43:58,253 solvers 0/1 INFO :: Warmup time (iter 0-10): 1.501 sec\n",
      "2023-09-22 10:43:58,254 solvers 0/1 INFO :: Run time (iter 10-end): 9.22 sec\n",
      "2023-09-22 10:43:58,254 solvers 0/1 INFO :: CPU time (iter 10-end): 0.002561 cpu-hr\n",
      "2023-09-22 10:43:58,254 solvers 0/1 INFO :: Speed: 2.994e+06 mode-stages/cpu-sec\n"
     ]
    },
    {
     "ename": "KeyboardInterrupt",
     "evalue": "",
     "output_type": "error",
     "traceback": [
      "\u001b[0;31m---------------------------------------------------------------------------\u001b[0m",
      "\u001b[0;31mKeyboardInterrupt\u001b[0m                         Traceback (most recent call last)",
      "\u001b[1;32m/Users/bobby/Documents/GitHub/Research-Dedalus/2d/RMRBC/Freeslip/2d RMBRC KBE.ipynb Cell 12\u001b[0m line \u001b[0;36m7\n\u001b[1;32m      <a href='vscode-notebook-cell:/Users/bobby/Documents/GitHub/Research-Dedalus/2d/RMRBC/Freeslip/2d%20RMBRC%20KBE.ipynb#X14sZmlsZQ%3D%3D?line=4'>5</a>\u001b[0m \u001b[39mwhile\u001b[39;00m solver\u001b[39m.\u001b[39mproceed:\n\u001b[1;32m      <a href='vscode-notebook-cell:/Users/bobby/Documents/GitHub/Research-Dedalus/2d/RMRBC/Freeslip/2d%20RMBRC%20KBE.ipynb#X14sZmlsZQ%3D%3D?line=5'>6</a>\u001b[0m     timestep \u001b[39m=\u001b[39m CFL\u001b[39m.\u001b[39mcompute_timestep()\n\u001b[0;32m----> <a href='vscode-notebook-cell:/Users/bobby/Documents/GitHub/Research-Dedalus/2d/RMRBC/Freeslip/2d%20RMBRC%20KBE.ipynb#X14sZmlsZQ%3D%3D?line=6'>7</a>\u001b[0m     solver\u001b[39m.\u001b[39;49mstep(timestep)\n\u001b[1;32m      <a href='vscode-notebook-cell:/Users/bobby/Documents/GitHub/Research-Dedalus/2d/RMRBC/Freeslip/2d%20RMBRC%20KBE.ipynb#X14sZmlsZQ%3D%3D?line=7'>8</a>\u001b[0m     \u001b[39mif\u001b[39;00m (solver\u001b[39m.\u001b[39miteration\u001b[39m-\u001b[39m\u001b[39m1\u001b[39m) \u001b[39m%\u001b[39m \u001b[39m10\u001b[39m \u001b[39m==\u001b[39m \u001b[39m0\u001b[39m:\n\u001b[1;32m      <a href='vscode-notebook-cell:/Users/bobby/Documents/GitHub/Research-Dedalus/2d/RMRBC/Freeslip/2d%20RMBRC%20KBE.ipynb#X14sZmlsZQ%3D%3D?line=8'>9</a>\u001b[0m         max_Re \u001b[39m=\u001b[39m flow\u001b[39m.\u001b[39mmax(\u001b[39m'\u001b[39m\u001b[39mRe\u001b[39m\u001b[39m'\u001b[39m)\n",
      "File \u001b[0;32m~/opt/anaconda3/envs/dedalus3/lib/python3.11/site-packages/dedalus/core/solvers.py:642\u001b[0m, in \u001b[0;36mInitialValueSolver.step\u001b[0;34m(self, dt)\u001b[0m\n\u001b[1;32m    640\u001b[0m     \u001b[39mself\u001b[39m\u001b[39m.\u001b[39mwarmup_time \u001b[39m=\u001b[39m wall_time\n\u001b[1;32m    641\u001b[0m \u001b[39m# Advance using timestepper\u001b[39;00m\n\u001b[0;32m--> 642\u001b[0m \u001b[39mself\u001b[39;49m\u001b[39m.\u001b[39;49mtimestepper\u001b[39m.\u001b[39;49mstep(dt, wall_time)\n\u001b[1;32m    643\u001b[0m \u001b[39m# Update iteration\u001b[39;00m\n\u001b[1;32m    644\u001b[0m \u001b[39mself\u001b[39m\u001b[39m.\u001b[39miteration \u001b[39m+\u001b[39m\u001b[39m=\u001b[39m \u001b[39m1\u001b[39m\n",
      "File \u001b[0;32m~/opt/anaconda3/envs/dedalus3/lib/python3.11/site-packages/dedalus/core/timesteppers.py:604\u001b[0m, in \u001b[0;36mRungeKuttaIMEX.step\u001b[0;34m(self, dt, wall_time)\u001b[0m\n\u001b[1;32m    601\u001b[0m \u001b[39mfor\u001b[39;00m sp \u001b[39min\u001b[39;00m subproblems:\n\u001b[1;32m    602\u001b[0m     \u001b[39m# F fields should be in coeff space from evaluator\u001b[39;00m\n\u001b[1;32m    603\u001b[0m     spX \u001b[39m=\u001b[39m sp\u001b[39m.\u001b[39mgather(F_fields)  \u001b[39m# CREATES TEMPORARY\u001b[39;00m\n\u001b[0;32m--> 604\u001b[0m     csr_matvecs(sp\u001b[39m.\u001b[39;49mpre_left, spX, Fi\u001b[39m.\u001b[39;49mget_subdata(sp))  \u001b[39m# Rectangular dot product skipping shape checks\u001b[39;00m\n\u001b[1;32m    606\u001b[0m \u001b[39m# Construct RHS(n,i)\u001b[39;00m\n\u001b[1;32m    607\u001b[0m \u001b[39mif\u001b[39;00m RHS\u001b[39m.\u001b[39mdata\u001b[39m.\u001b[39msize:\n",
      "File \u001b[0;32m~/opt/anaconda3/envs/dedalus3/lib/python3.11/site-packages/dedalus/tools/array.py:221\u001b[0m, in \u001b[0;36mcsr_matvecs\u001b[0;34m(A_csr, x_vec, out_vec)\u001b[0m\n\u001b[1;32m    219\u001b[0m         _sparsetools\u001b[39m.\u001b[39mcsr_matvec(M, N, A_csr\u001b[39m.\u001b[39mindptr, A_csr\u001b[39m.\u001b[39mindices, A_csr\u001b[39m.\u001b[39mdata, x_vec[:,k], out_vec[:,k])\n\u001b[1;32m    220\u001b[0m \u001b[39melse\u001b[39;00m:\n\u001b[0;32m--> 221\u001b[0m     _sparsetools\u001b[39m.\u001b[39;49mcsr_matvecs(M, N, kx, A_csr\u001b[39m.\u001b[39;49mindptr, A_csr\u001b[39m.\u001b[39;49mindices, A_csr\u001b[39m.\u001b[39;49mdata, x_vec, out_vec)\n\u001b[1;32m    222\u001b[0m \u001b[39mreturn\u001b[39;00m out_vec\n",
      "\u001b[0;31mKeyboardInterrupt\u001b[0m: "
     ]
    }
   ],
   "source": [
    "# Main loop\n",
    "startup_iter = 10\n",
    "try:\n",
    "    logger.info('Starting main loop')\n",
    "    while solver.proceed:\n",
    "        timestep = CFL.compute_timestep()\n",
    "        solver.step(timestep)\n",
    "        if (solver.iteration-1) % 10 == 0:\n",
    "            max_Re = flow.max('Re')\n",
    "            logger.info('Iteration=%i, Time=%e, dt=%e, max(Re)=%f' %(solver.iteration, solver.sim_time, timestep, max_Re))\n",
    "except:\n",
    "    logger.error('Exception raised, triggering end of main loop.')\n",
    "    raise\n",
    "finally:\n",
    "    solver.log_stats()"
   ]
  }
 ],
 "metadata": {
  "kernelspec": {
   "display_name": "dedalus3",
   "language": "python",
   "name": "python3"
  },
  "language_info": {
   "codemirror_mode": {
    "name": "ipython",
    "version": 3
   },
   "file_extension": ".py",
   "mimetype": "text/x-python",
   "name": "python",
   "nbconvert_exporter": "python",
   "pygments_lexer": "ipython3",
   "version": "3.11.3"
  }
 },
 "nbformat": 4,
 "nbformat_minor": 4
}
