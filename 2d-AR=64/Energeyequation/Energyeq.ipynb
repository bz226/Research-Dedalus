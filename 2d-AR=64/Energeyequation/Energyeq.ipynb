{
 "cells": [
  {
   "cell_type": "code",
   "execution_count": 70,
   "metadata": {},
   "outputs": [
    {
     "data": {
      "text/plain": [
       "'\\nDedalus script simulating 2D horizontally-periodic Rayleigh-Benard convection.\\nThis script demonstrates solving a 2D Cartesian initial value problem. It can\\nbe ran serially or in parallel, and uses the built-in analysis framework to save\\ndata snapshots to HDF5 files. The `plot_snapshots.py` script can be used to\\nproduce plots from the saved data. It should take about 5 cpu-minutes to run.\\n\\nFor incompressible hydro with two boundaries, we need two tau terms for each the\\nvelocity and buoyancy. Here we choose to use a first-order formulation, putting\\none tau term each on auxiliary first-order gradient variables and the others in\\nthe PDE, and lifting them all to the first derivative basis. This formulation puts\\na tau term in the divergence constraint, as required for this geometry.\\n\\nTo run and plot using e.g. 4 processes:\\n    $ mpiexec -n 4 python3 rayleigh_benard.py\\n    $ mpiexec -n 4 python3 plot_snapshots.py snapshots/*.h5\\n'"
      ]
     },
     "execution_count": 70,
     "metadata": {},
     "output_type": "execute_result"
    }
   ],
   "source": [
    "\"\"\"\n",
    "Dedalus script simulating 2D horizontally-periodic Rayleigh-Benard convection.\n",
    "This script demonstrates solving a 2D Cartesian initial value problem. It can\n",
    "be ran serially or in parallel, and uses the built-in analysis framework to save\n",
    "data snapshots to HDF5 files. The `plot_snapshots.py` script can be used to\n",
    "produce plots from the saved data. It should take about 5 cpu-minutes to run.\n",
    "\n",
    "For incompressible hydro with two boundaries, we need two tau terms for each the\n",
    "velocity and buoyancy. Here we choose to use a first-order formulation, putting\n",
    "one tau term each on auxiliary first-order gradient variables and the others in\n",
    "the PDE, and lifting them all to the first derivative basis. This formulation puts\n",
    "a tau term in the divergence constraint, as required for this geometry.\n",
    "\n",
    "To run and plot using e.g. 4 processes:\n",
    "    $ mpiexec -n 4 python3 rayleigh_benard.py\n",
    "    $ mpiexec -n 4 python3 plot_snapshots.py snapshots/*.h5\n",
    "\"\"\"\n"
   ]
  },
  {
   "cell_type": "code",
   "execution_count": 71,
   "metadata": {},
   "outputs": [],
   "source": [
    "import numpy as np\n",
    "import dedalus.public as d3\n",
    "import logging\n",
    "logger = logging.getLogger(__name__)"
   ]
  },
  {
   "cell_type": "code",
   "execution_count": 1,
   "metadata": {},
   "outputs": [
    {
     "ename": "NameError",
     "evalue": "name 'd3' is not defined",
     "output_type": "error",
     "traceback": [
      "\u001b[0;31m---------------------------------------------------------------------------\u001b[0m",
      "\u001b[0;31mNameError\u001b[0m                                 Traceback (most recent call last)",
      "\u001b[1;32m/Users/bobby/Documents/GitHub/Research-Dedalus/2d/Energeyequation/Energyeq.ipynb Cell 3\u001b[0m line \u001b[0;36m1\n\u001b[1;32m     <a href='vscode-notebook-cell:/Users/bobby/Documents/GitHub/Research-Dedalus/2d/Energeyequation/Energyeq.ipynb#W2sZmlsZQ%3D%3D?line=11'>12</a>\u001b[0m dealias \u001b[39m=\u001b[39m \u001b[39m3\u001b[39m\u001b[39m/\u001b[39m\u001b[39m2\u001b[39m\n\u001b[1;32m     <a href='vscode-notebook-cell:/Users/bobby/Documents/GitHub/Research-Dedalus/2d/Energeyequation/Energyeq.ipynb#W2sZmlsZQ%3D%3D?line=12'>13</a>\u001b[0m stop_sim_time \u001b[39m=\u001b[39m \u001b[39m50\u001b[39m\n\u001b[0;32m---> <a href='vscode-notebook-cell:/Users/bobby/Documents/GitHub/Research-Dedalus/2d/Energeyequation/Energyeq.ipynb#W2sZmlsZQ%3D%3D?line=13'>14</a>\u001b[0m timestepper \u001b[39m=\u001b[39m d3\u001b[39m.\u001b[39mRK222\n\u001b[1;32m     <a href='vscode-notebook-cell:/Users/bobby/Documents/GitHub/Research-Dedalus/2d/Energeyequation/Energyeq.ipynb#W2sZmlsZQ%3D%3D?line=14'>15</a>\u001b[0m max_timestep \u001b[39m=\u001b[39m \u001b[39m0.125\u001b[39m\n\u001b[1;32m     <a href='vscode-notebook-cell:/Users/bobby/Documents/GitHub/Research-Dedalus/2d/Energeyequation/Energyeq.ipynb#W2sZmlsZQ%3D%3D?line=15'>16</a>\u001b[0m dtype \u001b[39m=\u001b[39m np\u001b[39m.\u001b[39mfloat64\n",
      "\u001b[0;31mNameError\u001b[0m: name 'd3' is not defined"
     ]
    }
   ],
   "source": [
    "# Parameters\n",
    "Lx, Lz = 20,1\n",
    "Nx, Nz = 640, 32\n",
    "Ra_M = 4.5e5\n",
    "D_0 = 1/3\n",
    "D_H = 1\n",
    "M_0 = 0\n",
    "M_H = -1\n",
    "N_s2=4/3\n",
    "\n",
    "Prandtl = 0.7\n",
    "dealias = 3/2\n",
    "stop_sim_time = 50\n",
    "timestepper = d3.RK222\n",
    "max_timestep = 0.125\n",
    "dtype = np.float64"
   ]
  },
  {
   "cell_type": "code",
   "execution_count": 73,
   "metadata": {},
   "outputs": [],
   "source": [
    "# Bases\n",
    "coords = d3.CartesianCoordinates('x','z')\n",
    "dist = d3.Distributor(coords, dtype=dtype)\n",
    "xbasis = d3.RealFourier(coords['x'], size=Nx, bounds=(0, Lx), dealias=dealias)\n",
    "zbasis = d3.ChebyshevT(coords['z'], size=Nz, bounds=(0, Lz), dealias=dealias)"
   ]
  },
  {
   "cell_type": "code",
   "execution_count": 74,
   "metadata": {},
   "outputs": [
    {
     "name": "stdout",
     "output_type": "stream",
     "text": [
      "kappa 0.001781741612749496\n",
      "nu 0.0012472191289246471\n"
     ]
    }
   ],
   "source": [
    "# Fields\n",
    "p = dist.Field(name='p', bases=(xbasis,zbasis))\n",
    "D = dist.Field(name='D', bases=(xbasis,zbasis))\n",
    "M = dist.Field(name='M', bases=(xbasis,zbasis))\n",
    "u = dist.VectorField(coords, name='u', bases=(xbasis,zbasis))\n",
    "uy = dist.Field(name='uy', bases=(xbasis,zbasis))\n",
    "Z = dist.Field(name='Z', bases=zbasis)\n",
    "tau_p = dist.Field(name='tau_p')\n",
    "tau_B1 = dist.Field(name='tau_B1', bases=xbasis)\n",
    "tau_B2 = dist.Field(name='tau_B2', bases=xbasis)\n",
    "tau_D1 = dist.Field(name='tau_D1', bases=xbasis)\n",
    "tau_D2 = dist.Field(name='tau_D2', bases=xbasis)\n",
    "tau_M1 = dist.Field(name='tau_M1', bases=xbasis)\n",
    "tau_M2 = dist.Field(name='tau_M2', bases=xbasis)\n",
    "tau_u1 = dist.VectorField(coords,name='tau_u1', bases=xbasis)\n",
    "tau_u2 = dist.VectorField(coords,name='tau_u2', bases=xbasis)\n",
    "tau_u3 = dist.VectorField(coords,name='tau_u3', bases=xbasis)\n",
    "tau_u4 = dist.Field(name='tau_u4', bases=xbasis)\n",
    "tau_u5 = dist.VectorField(coords,name='tau_u5', bases=xbasis)\n",
    "\n",
    "# Substitutions    \n",
    "#Kuo_Bretherton Equilibrium\n",
    "kappa = (Ra_M * Prandtl/((M_0-M_H)*Lz**3))**(-1/2)\n",
    "nu = (Ra_M / (Prandtl*(M_0-M_H)*Lz**3))**(-1/2)\n",
    "print('kappa',kappa)\n",
    "print('nu',nu)\n",
    "\n",
    "\n",
    "x,z = dist.local_grids(xbasis,zbasis)\n",
    "Z['g']=z\n",
    "Z.change_scales(3/2)\n",
    "\n",
    "ex,ez = coords.unit_vector_fields(dist)\n",
    "lift_basis = zbasis.derivative_basis(1)\n",
    "lift = lambda A: d3.Lift(A, lift_basis, -1)\n",
    "\n",
    "B_op = (np.absolute(D - M - N_s2*Z)+ M + D - N_s2*Z)/2\n",
    "\n",
    "Max = lambda A,B: (abs(A-N_s2*Z-B)+A-N_s2*Z+B)/2\n",
    "eva = lambda A: A.evaluate()\n",
    "\n",
    "dz= lambda A: d3.Differentiate(A, coords['z'])\n",
    "dx= lambda A: d3.Differentiate(A, coords['x'])\n",
    "\n",
    "ux=u@ex\n",
    "uz=u@ez\n",
    "dxux=dx(ux)\n",
    "dzux=dz(ux)\n",
    "dxuz=dx(uz)\n",
    "dzuz=dz(uz)\n",
    "\n",
    "grad_u = d3.grad(u) + ez* lift(tau_u1) # First-order reduction\n",
    "grad_ux = grad_u@ex # First-order reduction\n",
    "grad_uz = grad_u@ez # First-order reduction\n",
    "grad_M = d3.grad(M) + ez*lift(tau_M1) # First-order reduction\n",
    "grad_D = d3.grad(D) + ez*lift(tau_D1) # First-order reduction"
   ]
  },
  {
   "cell_type": "code",
   "execution_count": 75,
   "metadata": {},
   "outputs": [
    {
     "data": {
      "text/plain": [
       "{'LHS': Integrate(Integrate(<Field 5235206352>)),\n",
       " 'RHS': 0,\n",
       " 'condition': 'True',\n",
       " 'tensorsig': (),\n",
       " 'dtype': numpy.float64,\n",
       " 'M': 0,\n",
       " 'L': Integrate(Integrate(<Field 5235206352>)),\n",
       " 'F': <Field 5320216912>,\n",
       " 'domain': <dedalus.core.domain.Domain at 0x13d0bfe10>,\n",
       " 'matrix_dependence': array([ True,  True]),\n",
       " 'matrix_coupling': array([False,  True])}"
      ]
     },
     "execution_count": 75,
     "metadata": {},
     "output_type": "execute_result"
    }
   ],
   "source": [
    "# Problem\n",
    "# First-order form: \"div(f)\" becomes \"trace(grad_f)\"\n",
    "# First-order form: \"lap(f)\" becomes \"div(grad_f)\"\n",
    "problem = d3.IVP([p, M, D, u, uy, tau_p, tau_M1, tau_M2, tau_D1, tau_D2, tau_u1, tau_u2], namespace=locals())\n",
    "problem.add_equation(\"trace(grad_u) + tau_p= 0\")\n",
    "problem.add_equation(\"dt(M) - kappa*div(grad_M) + lift(tau_M2) = - u@grad(M)\")\n",
    "problem.add_equation(\"dt(D) - kappa*div(grad_D) + lift(tau_D2) = - u@grad(D)\")\n",
    "problem.add_equation(\"dt(ux) + dx(p) - nu*div(grad_ux) + lift(tau_u2)@ex = - u@grad(ux)\")\n",
    "problem.add_equation(\"dt(uz) + dz(p) - nu*div(grad_uz) + lift(tau_u2)@ez = - u@grad(uz) + B_op\")\n",
    "problem.add_equation(\"dt(uy) = 0\")\n",
    "problem.add_equation(\"u(z=0) = 0\")\n",
    "problem.add_equation(\"u(z=Lz) = 0\")\n",
    "problem.add_equation(\"M(z=0) = M_0\")\n",
    "problem.add_equation(\"D(z=0) = D_0\")\n",
    "problem.add_equation(\"M(z=Lz) = M_H\")\n",
    "problem.add_equation(\"D(z=Lz) = D_H\")\n",
    "problem.add_equation(\"integ(p) = 0\") # Pressure gauge"
   ]
  },
  {
   "cell_type": "code",
   "execution_count": 76,
   "metadata": {},
   "outputs": [
    {
     "name": "stdout",
     "output_type": "stream",
     "text": [
      "2023-09-21 23:54:11,205 subsystems 0/1 INFO :: Building subproblem matrices 1/320 (~0%) Elapsed: 0s, Remaining: 26s, Rate: 1.2e+01/s\n",
      "2023-09-21 23:54:12,641 subsystems 0/1 INFO :: Building subproblem matrices 32/320 (~10%) Elapsed: 2s, Remaining: 14s, Rate: 2.1e+01/s\n",
      "2023-09-21 23:54:14,073 subsystems 0/1 INFO :: Building subproblem matrices 64/320 (~20%) Elapsed: 3s, Remaining: 12s, Rate: 2.2e+01/s\n",
      "2023-09-21 23:54:15,757 subsystems 0/1 INFO :: Building subproblem matrices 96/320 (~30%) Elapsed: 5s, Remaining: 11s, Rate: 2.1e+01/s\n",
      "2023-09-21 23:54:17,180 subsystems 0/1 INFO :: Building subproblem matrices 128/320 (~40%) Elapsed: 6s, Remaining: 9s, Rate: 2.1e+01/s\n",
      "2023-09-21 23:54:18,669 subsystems 0/1 INFO :: Building subproblem matrices 160/320 (~50%) Elapsed: 8s, Remaining: 8s, Rate: 2.1e+01/s\n",
      "2023-09-21 23:54:20,093 subsystems 0/1 INFO :: Building subproblem matrices 192/320 (~60%) Elapsed: 9s, Remaining: 6s, Rate: 2.1e+01/s\n",
      "2023-09-21 23:54:21,128 subsystems 0/1 INFO :: Building subproblem matrices 215/320 (~67%) Elapsed: 10s, Remaining: 5s, Rate: 2.1e+01/s\n",
      "2023-09-21 23:54:21,536 subsystems 0/1 INFO :: Building subproblem matrices 224/320 (~70%) Elapsed: 10s, Remaining: 4s, Rate: 2.2e+01/s\n",
      "2023-09-21 23:54:22,975 subsystems 0/1 INFO :: Building subproblem matrices 256/320 (~80%) Elapsed: 12s, Remaining: 3s, Rate: 2.2e+01/s\n",
      "2023-09-21 23:54:24,418 subsystems 0/1 INFO :: Building subproblem matrices 288/320 (~90%) Elapsed: 13s, Remaining: 1s, Rate: 2.2e+01/s\n",
      "2023-09-21 23:54:26,024 subsystems 0/1 INFO :: Building subproblem matrices 320/320 (~100%) Elapsed: 15s, Remaining: 0s, Rate: 2.1e+01/s\n"
     ]
    }
   ],
   "source": [
    "# Solver\n",
    "solver = problem.build_solver(timestepper)\n",
    "solver.stop_sim_time = stop_sim_time\n"
   ]
  },
  {
   "cell_type": "code",
   "execution_count": 77,
   "metadata": {},
   "outputs": [],
   "source": [
    "# Initial condition\n",
    "D.fill_random('g', seed=42, distribution='normal', scale=1e-3) # Random noise\n",
    "D['g'] *= z * (Lz - z) # Damp noise at walls\n",
    "D['g'] += (D_H-D_0)*z # Add linear background\n",
    "M.fill_random('g', seed=28, distribution='normal', scale=1e-3) # Random noise\n",
    "M['g'] *= z * (Lz - z) # Damp noise at walls\n",
    "M['g'] += (M_H-M_0)*z # Add linear background"
   ]
  },
  {
   "cell_type": "code",
   "execution_count": 78,
   "metadata": {},
   "outputs": [],
   "source": [
    "# Analysis\n",
    "snapshots = solver.evaluator.add_file_handler('snapshots', sim_dt=0.25, max_writes=50)\n",
    "snapshots.add_tasks(solver.state,layout='g')"
   ]
  },
  {
   "cell_type": "code",
   "execution_count": 79,
   "metadata": {},
   "outputs": [],
   "source": [
    "# CFL\n",
    "CFL = d3.CFL(solver, initial_dt=0.1, cadence=10, safety=0.5, threshold=0.05,\n",
    "             max_change=1.1, min_change=0, max_dt=max_timestep)\n",
    "CFL.add_velocity(u)"
   ]
  },
  {
   "cell_type": "code",
   "execution_count": 80,
   "metadata": {},
   "outputs": [],
   "source": [
    "# Flow properties\n",
    "flow = d3.GlobalFlowProperty(solver, cadence=10)\n",
    "flow.add_property(np.sqrt(u@u)/nu, name='Re')\n"
   ]
  },
  {
   "cell_type": "code",
   "execution_count": 81,
   "metadata": {},
   "outputs": [
    {
     "name": "stdout",
     "output_type": "stream",
     "text": [
      "2023-09-21 23:54:26,055 __main__ 0/1 INFO :: Starting main loop\n",
      "2023-09-21 23:54:26,542 __main__ 0/1 INFO :: Iteration=1, Time=1.000000e-01, dt=1.000000e-01, max(Re)=0.000000\n",
      "2023-09-21 23:54:27,304 __main__ 0/1 INFO :: Iteration=11, Time=1.100000e+00, dt=1.000000e-01, max(Re)=0.071000\n",
      "2023-09-21 23:54:28,293 __main__ 0/1 INFO :: Iteration=21, Time=2.200000e+00, dt=1.100000e-01, max(Re)=0.066214\n",
      "2023-09-21 23:54:29,280 __main__ 0/1 INFO :: Iteration=31, Time=3.410000e+00, dt=1.210000e-01, max(Re)=0.038823\n",
      "2023-09-21 23:54:30,007 __main__ 0/1 INFO :: Iteration=41, Time=4.620000e+00, dt=1.210000e-01, max(Re)=0.029611\n",
      "2023-09-21 23:54:30,734 __main__ 0/1 INFO :: Iteration=51, Time=5.830000e+00, dt=1.210000e-01, max(Re)=0.025759\n",
      "2023-09-21 23:54:31,494 __main__ 0/1 INFO :: Iteration=61, Time=7.040000e+00, dt=1.210000e-01, max(Re)=0.025390\n",
      "2023-09-21 23:54:32,286 __main__ 0/1 INFO :: Iteration=71, Time=8.250000e+00, dt=1.210000e-01, max(Re)=0.025829\n",
      "2023-09-21 23:54:33,087 __main__ 0/1 INFO :: Iteration=81, Time=9.460000e+00, dt=1.210000e-01, max(Re)=0.025036\n",
      "2023-09-21 23:54:33,896 __main__ 0/1 INFO :: Iteration=91, Time=1.067000e+01, dt=1.210000e-01, max(Re)=0.023656\n",
      "2023-09-21 23:54:34,684 __main__ 0/1 INFO :: Iteration=101, Time=1.188000e+01, dt=1.210000e-01, max(Re)=0.022436\n",
      "2023-09-21 23:54:35,495 __main__ 0/1 INFO :: Iteration=111, Time=1.309000e+01, dt=1.210000e-01, max(Re)=0.022001\n",
      "2023-09-21 23:54:36,210 __main__ 0/1 INFO :: Iteration=121, Time=1.430000e+01, dt=1.210000e-01, max(Re)=0.022149\n",
      "2023-09-21 23:54:36,893 __main__ 0/1 INFO :: Iteration=131, Time=1.551000e+01, dt=1.210000e-01, max(Re)=0.021260\n",
      "2023-09-21 23:54:37,568 __main__ 0/1 INFO :: Iteration=141, Time=1.672000e+01, dt=1.210000e-01, max(Re)=0.020409\n",
      "2023-09-21 23:54:38,251 __main__ 0/1 INFO :: Iteration=151, Time=1.793000e+01, dt=1.210000e-01, max(Re)=0.019344\n",
      "2023-09-21 23:54:38,931 __main__ 0/1 INFO :: Iteration=161, Time=1.914000e+01, dt=1.210000e-01, max(Re)=0.018008\n",
      "2023-09-21 23:54:39,604 __main__ 0/1 INFO :: Iteration=171, Time=2.035000e+01, dt=1.210000e-01, max(Re)=0.016859\n",
      "2023-09-21 23:54:40,266 __main__ 0/1 INFO :: Iteration=181, Time=2.156000e+01, dt=1.210000e-01, max(Re)=0.015689\n",
      "2023-09-21 23:54:40,937 __main__ 0/1 INFO :: Iteration=191, Time=2.277000e+01, dt=1.210000e-01, max(Re)=0.014189\n",
      "2023-09-21 23:54:41,611 __main__ 0/1 INFO :: Iteration=201, Time=2.398000e+01, dt=1.210000e-01, max(Re)=0.012391\n",
      "2023-09-21 23:54:42,363 __main__ 0/1 INFO :: Iteration=211, Time=2.519000e+01, dt=1.210000e-01, max(Re)=0.010443\n",
      "2023-09-21 23:54:43,127 __main__ 0/1 INFO :: Iteration=221, Time=2.640000e+01, dt=1.210000e-01, max(Re)=0.008929\n",
      "2023-09-21 23:54:43,866 __main__ 0/1 INFO :: Iteration=231, Time=2.761000e+01, dt=1.210000e-01, max(Re)=0.007522\n",
      "2023-09-21 23:54:44,605 __main__ 0/1 INFO :: Iteration=241, Time=2.882000e+01, dt=1.210000e-01, max(Re)=0.005974\n",
      "2023-09-21 23:54:45,334 __main__ 0/1 INFO :: Iteration=251, Time=3.003000e+01, dt=1.210000e-01, max(Re)=0.005057\n",
      "2023-09-21 23:54:46,064 __main__ 0/1 INFO :: Iteration=261, Time=3.124000e+01, dt=1.210000e-01, max(Re)=0.005074\n",
      "2023-09-21 23:54:46,794 __main__ 0/1 INFO :: Iteration=271, Time=3.245000e+01, dt=1.210000e-01, max(Re)=0.004662\n",
      "2023-09-21 23:54:47,532 __main__ 0/1 INFO :: Iteration=281, Time=3.366000e+01, dt=1.210000e-01, max(Re)=0.004134\n",
      "2023-09-21 23:54:48,283 __main__ 0/1 INFO :: Iteration=291, Time=3.487000e+01, dt=1.210000e-01, max(Re)=0.003701\n",
      "2023-09-21 23:54:49,041 __main__ 0/1 INFO :: Iteration=301, Time=3.608000e+01, dt=1.210000e-01, max(Re)=0.003675\n",
      "2023-09-21 23:54:49,758 __main__ 0/1 INFO :: Iteration=311, Time=3.729000e+01, dt=1.210000e-01, max(Re)=0.003057\n",
      "2023-09-21 23:54:50,529 __main__ 0/1 INFO :: Iteration=321, Time=3.850000e+01, dt=1.210000e-01, max(Re)=0.002978\n",
      "2023-09-21 23:54:51,287 __main__ 0/1 INFO :: Iteration=331, Time=3.971000e+01, dt=1.210000e-01, max(Re)=0.002400\n",
      "2023-09-21 23:54:52,017 __main__ 0/1 INFO :: Iteration=341, Time=4.092000e+01, dt=1.210000e-01, max(Re)=0.002791\n",
      "2023-09-21 23:54:52,743 __main__ 0/1 INFO :: Iteration=351, Time=4.213000e+01, dt=1.210000e-01, max(Re)=0.002542\n",
      "2023-09-21 23:54:53,485 __main__ 0/1 INFO :: Iteration=361, Time=4.334000e+01, dt=1.210000e-01, max(Re)=0.001933\n",
      "2023-09-21 23:54:54,216 __main__ 0/1 INFO :: Iteration=371, Time=4.455000e+01, dt=1.210000e-01, max(Re)=0.001609\n",
      "2023-09-21 23:54:55,001 __main__ 0/1 INFO :: Iteration=381, Time=4.576000e+01, dt=1.210000e-01, max(Re)=0.001372\n",
      "2023-09-21 23:54:55,777 __main__ 0/1 INFO :: Iteration=391, Time=4.697000e+01, dt=1.210000e-01, max(Re)=0.001925\n",
      "2023-09-21 23:54:56,530 __main__ 0/1 INFO :: Iteration=401, Time=4.818000e+01, dt=1.210000e-01, max(Re)=0.002300\n",
      "2023-09-21 23:54:57,264 __main__ 0/1 INFO :: Iteration=411, Time=4.939000e+01, dt=1.210000e-01, max(Re)=0.002363\n",
      "2023-09-21 23:54:57,731 solvers 0/1 INFO :: Simulation stop time reached.\n",
      "2023-09-21 23:54:57,732 solvers 0/1 INFO :: Final iteration: 417\n",
      "2023-09-21 23:54:57,732 solvers 0/1 INFO :: Final sim time: 50.1160000000002\n",
      "2023-09-21 23:54:57,732 solvers 0/1 INFO :: Setup time (init - iter 0): 14.94 sec\n",
      "2023-09-21 23:54:57,732 solvers 0/1 INFO :: Warmup time (iter 0-10): 1.163 sec\n",
      "2023-09-21 23:54:57,733 solvers 0/1 INFO :: Run time (iter 10-end): 30.51 sec\n",
      "2023-09-21 23:54:57,733 solvers 0/1 INFO :: CPU time (iter 10-end): 0.008474 cpu-hr\n",
      "2023-09-21 23:54:57,733 solvers 0/1 INFO :: Speed: 3.41e+06 mode-stages/cpu-sec\n"
     ]
    }
   ],
   "source": [
    "# Main loop\n",
    "startup_iter = 10\n",
    "try:\n",
    "    logger.info('Starting main loop')\n",
    "    while solver.proceed:\n",
    "        timestep = CFL.compute_timestep()\n",
    "        solver.step(timestep)\n",
    "        if (solver.iteration-1) % 10 == 0:\n",
    "            max_Re = flow.max('Re')\n",
    "            logger.info('Iteration=%i, Time=%e, dt=%e, max(Re)=%f' %(solver.iteration, solver.sim_time, timestep, max_Re))\n",
    "except:\n",
    "    logger.error('Exception raised, triggering end of main loop.')\n",
    "    raise\n",
    "finally:\n",
    "    solver.log_stats()"
   ]
  }
 ],
 "metadata": {
  "kernelspec": {
   "display_name": "dedalus3",
   "language": "python",
   "name": "python3"
  },
  "language_info": {
   "codemirror_mode": {
    "name": "ipython",
    "version": 3
   },
   "file_extension": ".py",
   "mimetype": "text/x-python",
   "name": "python",
   "nbconvert_exporter": "python",
   "pygments_lexer": "ipython3",
   "version": "3.11.3"
  }
 },
 "nbformat": 4,
 "nbformat_minor": 4
}
