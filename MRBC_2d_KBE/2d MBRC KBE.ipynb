{
 "cells": [
  {
   "cell_type": "code",
   "execution_count": 1,
   "metadata": {},
   "outputs": [
    {
     "data": {
      "text/plain": [
       "'\\nDedalus script simulating 2D horizontally-periodic Rayleigh-Benard convection.\\nThis script demonstrates solving a 2D Cartesian initial value problem. It can\\nbe ran serially or in parallel, and uses the built-in analysis framework to save\\ndata snapshots to HDF5 files. The `plot_snapshots.py` script can be used to\\nproduce plots from the saved data. It should take about 5 cpu-minutes to run.\\n\\nThe problem is non-dimensionalized using the box height and freefall time, so\\nthe resulting thermal diffusivity and viscosity are related to the Prandtl\\nand Rayleigh numbers as:\\n    kappa = (Rayleigh * Prandtl)**(-1/2)\\n    nu = (Rayleigh / Prandtl)**(-1/2)\\n\\nFor incompressible hydro with two boundaries, we need two tau terms for each the\\nvelocity and buoyancy. Here we choose to use a first-order formulation, putting\\none tau term each on auxiliary first-order gradient variables and the others in\\nthe PDE, and lifting them all to the first derivative basis. This formulation puts\\na tau term in the divergence constraint, as required for this geometry.\\n\\nTo run and plot using e.g. 4 processes:\\n    $ mpiexec -n 4 python3 rayleigh_benard.py\\n    $ mpiexec -n 4 python3 plot_snapshots.py snapshots/*.h5\\n'"
      ]
     },
     "execution_count": 1,
     "metadata": {},
     "output_type": "execute_result"
    }
   ],
   "source": [
    "\"\"\"\n",
    "Dedalus script simulating 2D horizontally-periodic Rayleigh-Benard convection.\n",
    "This script demonstrates solving a 2D Cartesian initial value problem. It can\n",
    "be ran serially or in parallel, and uses the built-in analysis framework to save\n",
    "data snapshots to HDF5 files. The `plot_snapshots.py` script can be used to\n",
    "produce plots from the saved data. It should take about 5 cpu-minutes to run.\n",
    "\n",
    "For incompressible hydro with two boundaries, we need two tau terms for each the\n",
    "velocity and buoyancy. Here we choose to use a first-order formulation, putting\n",
    "one tau term each on auxiliary first-order gradient variables and the others in\n",
    "the PDE, and lifting them all to the first derivative basis. This formulation puts\n",
    "a tau term in the divergence constraint, as required for this geometry.\n",
    "\n",
    "To run and plot using e.g. 4 processes:\n",
    "    $ mpiexec -n 4 python3 rayleigh_benard.py\n",
    "    $ mpiexec -n 4 python3 plot_snapshots.py snapshots/*.h5\n",
    "\"\"\"\n"
   ]
  },
  {
   "cell_type": "code",
   "execution_count": 1,
   "metadata": {},
   "outputs": [],
   "source": [
    "import numpy as np\n",
    "import dedalus.public as d3\n",
    "import logging\n",
    "logger = logging.getLogger(__name__)"
   ]
  },
  {
   "cell_type": "code",
   "execution_count": 2,
   "metadata": {},
   "outputs": [],
   "source": [
    "# Parameters\n",
    "Lx, Lz = 4,1\n",
    "Nx, Nz = 128, 32\n",
    "Ra_D= -1.24e5\n",
    "D_0 = 0\n",
    "D_H = 2\n",
    "M_0 = 0\n",
    "M_H = -6\n",
    "N_s2=8\n",
    "\n",
    "Prandtl = 0.7\n",
    "dealias = 3/2\n",
    "stop_sim_time = 200\n",
    "timestepper = d3.RK222\n",
    "max_timestep = 0.125\n",
    "dtype = np.float64"
   ]
  },
  {
   "cell_type": "code",
   "execution_count": 3,
   "metadata": {},
   "outputs": [],
   "source": [
    "# Bases\n",
    "coords = d3.CartesianCoordinates('x','z')\n",
    "dist = d3.Distributor(coords, dtype=dtype)\n",
    "xbasis = d3.RealFourier(coords['x'], size=Nx, bounds=(0, Lx), dealias=dealias)\n",
    "zbasis = d3.ChebyshevT(coords['z'], size=Nz, bounds=(0, Lz), dealias=dealias)"
   ]
  },
  {
   "cell_type": "code",
   "execution_count": 4,
   "metadata": {},
   "outputs": [
    {
     "name": "stdout",
     "output_type": "stream",
     "text": [
      "372000.0\n",
      "496000.00000000006\n"
     ]
    }
   ],
   "source": [
    "# Fields\n",
    "p = dist.Field(name='p', bases=(xbasis,zbasis))\n",
    "D = dist.Field(name='D', bases=(xbasis,zbasis))\n",
    "M = dist.Field(name='M', bases=(xbasis,zbasis))\n",
    "u = dist.VectorField(coords, name='u', bases=(xbasis,zbasis))\n",
    "Z = dist.Field(name='Z', bases=zbasis)\n",
    "tau_p = dist.Field(name='tau_p')\n",
    "tau_B1 = dist.Field(name='tau_B1', bases=xbasis)\n",
    "tau_B2 = dist.Field(name='tau_B2', bases=xbasis)\n",
    "tau_D1 = dist.Field(name='tau_D1', bases=xbasis)\n",
    "tau_D2 = dist.Field(name='tau_D2', bases=xbasis)\n",
    "tau_M1 = dist.Field(name='tau_M1', bases=xbasis)\n",
    "tau_M2 = dist.Field(name='tau_M2', bases=xbasis)\n",
    "tau_u1 = dist.VectorField(coords, name='tau_u1', bases=xbasis)\n",
    "tau_u2 = dist.VectorField(coords, name='tau_u2', bases=xbasis)\n",
    "\n",
    "\n",
    "# Substitutions\n",
    "\n",
    "kappa = (Ra_D * Prandtl/((D_0-D_H)*Lz**3))**(-1/2)\n",
    "nu = (Ra_D / (Prandtl*(D_0-D_H)*Lz**3))**(-1/2)\n",
    "      \n",
    "#Kuo_Bretherton Equilibrium\n",
    "Ra_M = Ra_D*(M_0-M_H)/(D_0-D_H)\n",
    "G_D=(D_0-D_H)/Lz\n",
    "G_M=(M_0-M_H)/Lz\n",
    "Ra_BV=N_s2*Lz**4/(nu*kappa)\n",
    "print(Ra_M)\n",
    "print(Ra_BV)\n",
    "\n",
    "x,z = dist.local_grids(xbasis,zbasis)\n",
    "Z['g']=z\n",
    "Z.change_scales(3/2)\n",
    "\n",
    "ex,ez = coords.unit_vector_fields(dist)\n",
    "lift_basis = zbasis.derivative_basis(1)\n",
    "lift = lambda A: d3.Lift(A, lift_basis, -1)\n",
    "\n",
    "B_op = (np.absolute(D - M - N_s2*Z)+ M + D - N_s2*Z)/2\n",
    "\n",
    "Max = lambda A,B: (abs(A-N_s2*Z-B)+A-N_s2*Z+B)/2\n",
    "eva = lambda A: A.evaluate()\n",
    "\n",
    "dz= lambda A: d3.Differentiate(A, coords['z'])\n",
    "dx= lambda A: d3.Differentiate(A, coords['x'])\n",
    "\n",
    "ux=u@ex\n",
    "uz=u@ez\n",
    "\n",
    "grad_u = d3.grad(u) + ez*lift(tau_u1) # First-order reduction\n",
    "grad_M = d3.grad(M) + ez*lift(tau_M1) # First-order reduction\n",
    "grad_D = d3.grad(D) + ez*lift(tau_D1) # First-order reduction"
   ]
  },
  {
   "cell_type": "code",
   "execution_count": 5,
   "metadata": {},
   "outputs": [
    {
     "data": {
      "text/plain": [
       "{'LHS': Integrate(Integrate(<Field 5288700368>)),\n",
       " 'RHS': 0,\n",
       " 'condition': 'True',\n",
       " 'tensorsig': (),\n",
       " 'dtype': numpy.float64,\n",
       " 'M': 0,\n",
       " 'L': Integrate(Integrate(<Field 5288700368>)),\n",
       " 'F': <Field 4775935760>,\n",
       " 'domain': <dedalus.core.domain.Domain at 0x13b3b3f50>,\n",
       " 'matrix_dependence': array([ True,  True]),\n",
       " 'matrix_coupling': array([False,  True])}"
      ]
     },
     "execution_count": 5,
     "metadata": {},
     "output_type": "execute_result"
    }
   ],
   "source": [
    "# Problem\n",
    "# First-order form: \"div(f)\" becomes \"trace(grad_f)\"\n",
    "# First-order form: \"lap(f)\" becomes \"div(grad_f)\"\n",
    "problem = d3.IVP([p, M, D, u, tau_p, tau_M1, tau_M2, tau_D1, tau_D2, tau_u1, tau_u2], namespace=locals())\n",
    "problem.add_equation(\"trace(grad_u) + tau_p= 0\")\n",
    "problem.add_equation(\"dt(M) - kappa*div(grad_M) + lift(tau_M2) - G_M*uz= - u@grad(M)\")\n",
    "problem.add_equation(\"dt(D) - kappa*div(grad_D) + lift(tau_D2) - G_D*uz= - u@grad(D)\")\n",
    "problem.add_equation(\"dt(u) - nu*div(grad_u) + grad(p)  + lift(tau_u2) = - u@grad(u)+ B_op*ez\")\n",
    "problem.add_equation(\"M(z=0) = M_0\")\n",
    "problem.add_equation(\"D(z=0) = D_0\")\n",
    "problem.add_equation(\"dz(u)(z=Lz)@ex = 0\")\n",
    "problem.add_equation(\"u(z=Lz)@ez = 0\")\n",
    "problem.add_equation(\"u(z=0) = 0\")\n",
    "problem.add_equation(\"M(z=Lz) = M_H\")\n",
    "problem.add_equation(\"D(z=Lz) = D_H\")\n",
    "problem.add_equation(\"integ(p) = 0\") # Pressure gauge"
   ]
  },
  {
   "cell_type": "code",
   "execution_count": 6,
   "metadata": {},
   "outputs": [
    {
     "name": "stdout",
     "output_type": "stream",
     "text": [
      "2023-09-20 18:06:34,327 subsystems 0/1 INFO :: Building subproblem matrices 1/64 (~2%) Elapsed: 0s, Remaining: 7s, Rate: 9.0e+00/s\n",
      "2023-09-20 18:06:34,544 subsystems 0/1 INFO :: Building subproblem matrices 7/64 (~11%) Elapsed: 0s, Remaining: 3s, Rate: 2.1e+01/s\n",
      "2023-09-20 18:06:34,798 subsystems 0/1 INFO :: Building subproblem matrices 14/64 (~22%) Elapsed: 1s, Remaining: 2s, Rate: 2.4e+01/s\n",
      "2023-09-20 18:06:35,052 subsystems 0/1 INFO :: Building subproblem matrices 21/64 (~33%) Elapsed: 1s, Remaining: 2s, Rate: 2.5e+01/s\n",
      "2023-09-20 18:06:35,305 subsystems 0/1 INFO :: Building subproblem matrices 28/64 (~44%) Elapsed: 1s, Remaining: 1s, Rate: 2.6e+01/s\n",
      "2023-09-20 18:06:35,553 subsystems 0/1 INFO :: Building subproblem matrices 35/64 (~55%) Elapsed: 1s, Remaining: 1s, Rate: 2.6e+01/s\n",
      "2023-09-20 18:06:35,802 subsystems 0/1 INFO :: Building subproblem matrices 42/64 (~66%) Elapsed: 2s, Remaining: 1s, Rate: 2.6e+01/s\n",
      "2023-09-20 18:06:36,049 subsystems 0/1 INFO :: Building subproblem matrices 49/64 (~77%) Elapsed: 2s, Remaining: 1s, Rate: 2.7e+01/s\n",
      "2023-09-20 18:06:36,298 subsystems 0/1 INFO :: Building subproblem matrices 56/64 (~88%) Elapsed: 2s, Remaining: 0s, Rate: 2.7e+01/s\n",
      "2023-09-20 18:06:36,544 subsystems 0/1 INFO :: Building subproblem matrices 63/64 (~98%) Elapsed: 2s, Remaining: 0s, Rate: 2.7e+01/s\n",
      "2023-09-20 18:06:36,581 subsystems 0/1 INFO :: Building subproblem matrices 64/64 (~100%) Elapsed: 2s, Remaining: 0s, Rate: 2.7e+01/s\n"
     ]
    }
   ],
   "source": [
    "# Solver\n",
    "solver = problem.build_solver(timestepper)\n",
    "solver.stop_sim_time = stop_sim_time\n"
   ]
  },
  {
   "cell_type": "code",
   "execution_count": 7,
   "metadata": {},
   "outputs": [],
   "source": [
    "# Initial condition\n",
    "D.fill_random('g', seed=42, distribution='normal', scale=1e-3) # Random noise\n",
    "D['g'] *= z * (Lz - z) # Damp noise at walls\n",
    "D['g'] += (D_H-D_0)*z # Add linear background\n",
    "M.fill_random('g', seed=28, distribution='normal', scale=1e-3) # Random noise\n",
    "M['g'] *= z * (Lz - z) # Damp noise at walls\n",
    "M['g'] += (M_H-M_0)*z # Add linear background"
   ]
  },
  {
   "cell_type": "code",
   "execution_count": 8,
   "metadata": {},
   "outputs": [],
   "source": [
    "# Analysis\n",
    "snapshots = solver.evaluator.add_file_handler('snapshots', sim_dt=0.25, max_writes=50)\n",
    "snapshots.add_tasks(solver.state,layout='g')"
   ]
  },
  {
   "cell_type": "code",
   "execution_count": 9,
   "metadata": {},
   "outputs": [],
   "source": [
    "# CFL\n",
    "CFL = d3.CFL(solver, initial_dt=0.0001, cadence=10, safety=0.5, threshold=0.05,\n",
    "             max_change=1.1, min_change=0.5, max_dt=max_timestep)\n",
    "CFL.add_velocity(u)"
   ]
  },
  {
   "cell_type": "code",
   "execution_count": 10,
   "metadata": {},
   "outputs": [],
   "source": [
    "# Flow properties\n",
    "flow = d3.GlobalFlowProperty(solver, cadence=10)\n",
    "flow.add_property(np.sqrt(u@u)/nu, name='Re')\n"
   ]
  },
  {
   "cell_type": "code",
   "execution_count": 11,
   "metadata": {},
   "outputs": [
    {
     "name": "stdout",
     "output_type": "stream",
     "text": [
      "2023-09-20 18:06:54,368 __main__ 0/1 INFO :: Starting main loop\n",
      "2023-09-20 18:06:55,399 __main__ 0/1 INFO :: Iteration=1, Time=1.000000e-04, dt=1.000000e-04, max(Re)=0.000000\n",
      "2023-09-20 18:06:55,525 __main__ 0/1 INFO :: Iteration=11, Time=1.100000e-03, dt=1.000000e-04, max(Re)=0.000096\n",
      "2023-09-20 18:06:55,710 __main__ 0/1 INFO :: Iteration=21, Time=2.200000e-03, dt=1.100000e-04, max(Re)=0.000199\n",
      "2023-09-20 18:06:55,895 __main__ 0/1 INFO :: Iteration=31, Time=3.410000e-03, dt=1.210000e-04, max(Re)=0.000308\n",
      "2023-09-20 18:06:56,074 __main__ 0/1 INFO :: Iteration=41, Time=4.741000e-03, dt=1.331000e-04, max(Re)=0.000425\n",
      "2023-09-20 18:06:56,253 __main__ 0/1 INFO :: Iteration=51, Time=6.205100e-03, dt=1.464100e-04, max(Re)=0.000550\n",
      "2023-09-20 18:06:56,432 __main__ 0/1 INFO :: Iteration=61, Time=7.815610e-03, dt=1.610510e-04, max(Re)=0.000684\n",
      "2023-09-20 18:06:56,615 __main__ 0/1 INFO :: Iteration=71, Time=9.587171e-03, dt=1.771561e-04, max(Re)=0.000825\n",
      "2023-09-20 18:06:56,793 __main__ 0/1 INFO :: Iteration=81, Time=1.153589e-02, dt=1.948717e-04, max(Re)=0.000975\n",
      "2023-09-20 18:06:56,974 __main__ 0/1 INFO :: Iteration=91, Time=1.367948e-02, dt=2.143589e-04, max(Re)=0.001133\n",
      "2023-09-20 18:06:57,167 __main__ 0/1 INFO :: Iteration=101, Time=1.603742e-02, dt=2.357948e-04, max(Re)=0.001309\n",
      "2023-09-20 18:06:57,346 __main__ 0/1 INFO :: Iteration=111, Time=1.863117e-02, dt=2.593742e-04, max(Re)=0.001508\n",
      "2023-09-20 18:06:57,524 __main__ 0/1 INFO :: Iteration=121, Time=2.148428e-02, dt=2.853117e-04, max(Re)=0.001722\n",
      "2023-09-20 18:06:57,712 __main__ 0/1 INFO :: Iteration=131, Time=2.462271e-02, dt=3.138428e-04, max(Re)=0.001948\n",
      "2023-09-20 18:06:57,912 __main__ 0/1 INFO :: Iteration=141, Time=2.807498e-02, dt=3.452271e-04, max(Re)=0.002189\n",
      "2023-09-20 18:06:58,100 __main__ 0/1 INFO :: Iteration=151, Time=3.187248e-02, dt=3.797498e-04, max(Re)=0.002441\n",
      "2023-09-20 18:06:58,294 __main__ 0/1 INFO :: Iteration=161, Time=3.604973e-02, dt=4.177248e-04, max(Re)=0.002703\n",
      "2023-09-20 18:06:58,475 __main__ 0/1 INFO :: Iteration=171, Time=4.064470e-02, dt=4.594973e-04, max(Re)=0.002973\n",
      "2023-09-20 18:06:58,661 __main__ 0/1 INFO :: Iteration=181, Time=4.569917e-02, dt=5.054470e-04, max(Re)=0.003245\n",
      "2023-09-20 18:06:58,845 __main__ 0/1 INFO :: Iteration=191, Time=5.125909e-02, dt=5.559917e-04, max(Re)=0.003519\n",
      "2023-09-20 18:06:59,026 __main__ 0/1 INFO :: Iteration=201, Time=5.737500e-02, dt=6.115909e-04, max(Re)=0.003791\n",
      "2023-09-20 18:06:59,204 __main__ 0/1 INFO :: Iteration=211, Time=6.410250e-02, dt=6.727500e-04, max(Re)=0.004058\n",
      "2023-09-20 18:06:59,390 __main__ 0/1 INFO :: Iteration=221, Time=7.150275e-02, dt=7.400250e-04, max(Re)=0.004318\n",
      "2023-09-20 18:06:59,570 __main__ 0/1 INFO :: Iteration=231, Time=7.964302e-02, dt=8.140275e-04, max(Re)=0.004566\n",
      "2023-09-20 18:06:59,595 __main__ 0/1 ERROR :: Exception raised, triggering end of main loop.\n",
      "2023-09-20 18:06:59,596 solvers 0/1 INFO :: Final iteration: 231\n",
      "2023-09-20 18:06:59,596 solvers 0/1 INFO :: Final sim time: 0.07964302432552381\n",
      "2023-09-20 18:06:59,596 solvers 0/1 INFO :: Setup time (init - iter 0): 20.92 sec\n",
      "2023-09-20 18:06:59,596 solvers 0/1 INFO :: Warmup time (iter 0-10): 0.3799 sec\n",
      "2023-09-20 18:06:59,597 solvers 0/1 INFO :: Run time (iter 10-end): 4.082 sec\n",
      "2023-09-20 18:06:59,597 solvers 0/1 INFO :: CPU time (iter 10-end): 0.001134 cpu-hr\n",
      "2023-09-20 18:06:59,597 solvers 0/1 INFO :: Speed: 2.31e+06 mode-stages/cpu-sec\n"
     ]
    },
    {
     "ename": "KeyboardInterrupt",
     "evalue": "",
     "output_type": "error",
     "traceback": [
      "\u001b[0;31m---------------------------------------------------------------------------\u001b[0m",
      "\u001b[0;31mKeyboardInterrupt\u001b[0m                         Traceback (most recent call last)",
      "\u001b[1;32m/Users/bobby/Documents/GitHub/Research-Dedalus/MRBC_2d_KBE/2d MBRC KBE.ipynb Cell 12\u001b[0m line \u001b[0;36m7\n\u001b[1;32m      <a href='vscode-notebook-cell:/Users/bobby/Documents/GitHub/Research-Dedalus/MRBC_2d_KBE/2d%20MBRC%20KBE.ipynb#X14sZmlsZQ%3D%3D?line=4'>5</a>\u001b[0m \u001b[39mwhile\u001b[39;00m solver\u001b[39m.\u001b[39mproceed:\n\u001b[1;32m      <a href='vscode-notebook-cell:/Users/bobby/Documents/GitHub/Research-Dedalus/MRBC_2d_KBE/2d%20MBRC%20KBE.ipynb#X14sZmlsZQ%3D%3D?line=5'>6</a>\u001b[0m     timestep \u001b[39m=\u001b[39m CFL\u001b[39m.\u001b[39mcompute_timestep()\n\u001b[0;32m----> <a href='vscode-notebook-cell:/Users/bobby/Documents/GitHub/Research-Dedalus/MRBC_2d_KBE/2d%20MBRC%20KBE.ipynb#X14sZmlsZQ%3D%3D?line=6'>7</a>\u001b[0m     solver\u001b[39m.\u001b[39;49mstep(timestep)\n\u001b[1;32m      <a href='vscode-notebook-cell:/Users/bobby/Documents/GitHub/Research-Dedalus/MRBC_2d_KBE/2d%20MBRC%20KBE.ipynb#X14sZmlsZQ%3D%3D?line=7'>8</a>\u001b[0m     \u001b[39mif\u001b[39;00m (solver\u001b[39m.\u001b[39miteration\u001b[39m-\u001b[39m\u001b[39m1\u001b[39m) \u001b[39m%\u001b[39m \u001b[39m10\u001b[39m \u001b[39m==\u001b[39m \u001b[39m0\u001b[39m:\n\u001b[1;32m      <a href='vscode-notebook-cell:/Users/bobby/Documents/GitHub/Research-Dedalus/MRBC_2d_KBE/2d%20MBRC%20KBE.ipynb#X14sZmlsZQ%3D%3D?line=8'>9</a>\u001b[0m         max_Re \u001b[39m=\u001b[39m flow\u001b[39m.\u001b[39mmax(\u001b[39m'\u001b[39m\u001b[39mRe\u001b[39m\u001b[39m'\u001b[39m)\n",
      "File \u001b[0;32m~/opt/anaconda3/envs/dedalus3/lib/python3.11/site-packages/dedalus/core/solvers.py:642\u001b[0m, in \u001b[0;36mInitialValueSolver.step\u001b[0;34m(self, dt)\u001b[0m\n\u001b[1;32m    640\u001b[0m     \u001b[39mself\u001b[39m\u001b[39m.\u001b[39mwarmup_time \u001b[39m=\u001b[39m wall_time\n\u001b[1;32m    641\u001b[0m \u001b[39m# Advance using timestepper\u001b[39;00m\n\u001b[0;32m--> 642\u001b[0m \u001b[39mself\u001b[39;49m\u001b[39m.\u001b[39;49mtimestepper\u001b[39m.\u001b[39;49mstep(dt, wall_time)\n\u001b[1;32m    643\u001b[0m \u001b[39m# Update iteration\u001b[39;00m\n\u001b[1;32m    644\u001b[0m \u001b[39mself\u001b[39m\u001b[39m.\u001b[39miteration \u001b[39m+\u001b[39m\u001b[39m=\u001b[39m \u001b[39m1\u001b[39m\n",
      "File \u001b[0;32m~/opt/anaconda3/envs/dedalus3/lib/python3.11/site-packages/dedalus/core/timesteppers.py:626\u001b[0m, in \u001b[0;36mRungeKuttaIMEX.step\u001b[0;34m(self, dt, wall_time)\u001b[0m\n\u001b[1;32m    624\u001b[0m     \u001b[39melse\u001b[39;00m:\n\u001b[1;32m    625\u001b[0m         sp\u001b[39m.\u001b[39mLHS \u001b[39m=\u001b[39m (sp\u001b[39m.\u001b[39mM_min \u001b[39m+\u001b[39m (k\u001b[39m*\u001b[39mH[i,i])\u001b[39m*\u001b[39msp\u001b[39m.\u001b[39mL_min) \u001b[39m@\u001b[39m sp\u001b[39m.\u001b[39mpre_right  \u001b[39m# CREATES TEMPORARY\u001b[39;00m\n\u001b[0;32m--> 626\u001b[0m     sp\u001b[39m.\u001b[39mLHS_solvers[i] \u001b[39m=\u001b[39m solver\u001b[39m.\u001b[39;49mmatsolver(sp\u001b[39m.\u001b[39;49mLHS, solver)\n\u001b[1;32m    627\u001b[0m \u001b[39m# Slice out valid subdata, skipping invalid components\u001b[39;00m\n\u001b[1;32m    628\u001b[0m spRHS \u001b[39m=\u001b[39m RHS\u001b[39m.\u001b[39mget_subdata(sp)[:sp\u001b[39m.\u001b[39mLHS\u001b[39m.\u001b[39mshape[\u001b[39m0\u001b[39m]]\n",
      "File \u001b[0;32m~/opt/anaconda3/envs/dedalus3/lib/python3.11/site-packages/dedalus/libraries/matsolvers.py:129\u001b[0m, in \u001b[0;36mSuperluNaturalFactorizedTranspose.__init__\u001b[0;34m(self, matrix, solver)\u001b[0m\n\u001b[1;32m    128\u001b[0m \u001b[39mdef\u001b[39;00m \u001b[39m__init__\u001b[39m(\u001b[39mself\u001b[39m, matrix, solver\u001b[39m=\u001b[39m\u001b[39mNone\u001b[39;00m):\n\u001b[0;32m--> 129\u001b[0m     \u001b[39mself\u001b[39m\u001b[39m.\u001b[39mLU \u001b[39m=\u001b[39m spla\u001b[39m.\u001b[39;49msplu(matrix\u001b[39m.\u001b[39;49mT\u001b[39m.\u001b[39;49mtocsc(), permc_spec\u001b[39m=\u001b[39;49m\u001b[39m'\u001b[39;49m\u001b[39mNATURAL\u001b[39;49m\u001b[39m'\u001b[39;49m)\n",
      "File \u001b[0;32m~/opt/anaconda3/envs/dedalus3/lib/python3.11/site-packages/scipy/sparse/linalg/_dsolve/linsolve.py:413\u001b[0m, in \u001b[0;36msplu\u001b[0;34m(A, permc_spec, diag_pivot_thresh, relax, panel_size, options)\u001b[0m\n\u001b[1;32m    410\u001b[0m \u001b[39mif\u001b[39;00m (_options[\u001b[39m\"\u001b[39m\u001b[39mColPerm\u001b[39m\u001b[39m\"\u001b[39m] \u001b[39m==\u001b[39m \u001b[39m\"\u001b[39m\u001b[39mNATURAL\u001b[39m\u001b[39m\"\u001b[39m):\n\u001b[1;32m    411\u001b[0m     _options[\u001b[39m\"\u001b[39m\u001b[39mSymmetricMode\u001b[39m\u001b[39m\"\u001b[39m] \u001b[39m=\u001b[39m \u001b[39mTrue\u001b[39;00m\n\u001b[0;32m--> 413\u001b[0m \u001b[39mreturn\u001b[39;00m _superlu\u001b[39m.\u001b[39;49mgstrf(N, A\u001b[39m.\u001b[39;49mnnz, A\u001b[39m.\u001b[39;49mdata, A\u001b[39m.\u001b[39;49mindices, A\u001b[39m.\u001b[39;49mindptr,\n\u001b[1;32m    414\u001b[0m                       csc_construct_func\u001b[39m=\u001b[39;49mcsc_construct_func,\n\u001b[1;32m    415\u001b[0m                       ilu\u001b[39m=\u001b[39;49m\u001b[39mFalse\u001b[39;49;00m, options\u001b[39m=\u001b[39;49m_options)\n",
      "\u001b[0;31mKeyboardInterrupt\u001b[0m: "
     ]
    }
   ],
   "source": [
    "# Main loop\n",
    "startup_iter = 10\n",
    "try:\n",
    "    logger.info('Starting main loop')\n",
    "    while solver.proceed:\n",
    "        timestep = CFL.compute_timestep()\n",
    "        solver.step(timestep)\n",
    "        if (solver.iteration-1) % 10 == 0:\n",
    "            max_Re = flow.max('Re')\n",
    "            logger.info('Iteration=%i, Time=%e, dt=%e, max(Re)=%f' %(solver.iteration, solver.sim_time, timestep, max_Re))\n",
    "except:\n",
    "    logger.error('Exception raised, triggering end of main loop.')\n",
    "    raise\n",
    "finally:\n",
    "    solver.log_stats()"
   ]
  },
  {
   "cell_type": "code",
   "execution_count": null,
   "metadata": {},
   "outputs": [],
   "source": []
  }
 ],
 "metadata": {
  "kernelspec": {
   "display_name": "Python 3",
   "language": "python",
   "name": "python3"
  },
  "language_info": {
   "codemirror_mode": {
    "name": "ipython",
    "version": 3
   },
   "file_extension": ".py",
   "mimetype": "text/x-python",
   "name": "python",
   "nbconvert_exporter": "python",
   "pygments_lexer": "ipython3",
   "version": "3.8.6"
  }
 },
 "nbformat": 4,
 "nbformat_minor": 4
}
