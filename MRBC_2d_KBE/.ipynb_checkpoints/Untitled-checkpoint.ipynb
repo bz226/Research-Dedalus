{
 "cells": [
  {
   "cell_type": "code",
   "execution_count": 1,
   "metadata": {},
   "outputs": [],
   "source": [
    "import numpy as np\n",
    "import dedalus.public as d3\n",
    "import logging\n",
    "logger = logging.getLogger(__name__)"
   ]
  },
  {
   "cell_type": "code",
   "execution_count": 2,
   "metadata": {},
   "outputs": [],
   "source": [
    "# Parameters\n",
    "Lx, Lz = 4,1\n",
    "Nx, Nz = 128, 32\n",
    "Ra_D= -1.24e5\n",
    "D_0 = 0\n",
    "D_H = 2\n",
    "M_0 = 0\n",
    "M_H = -6\n",
    "N_s2=8\n",
    "\n",
    "Prandtl = 0.7\n",
    "dealias = 3/2\n",
    "stop_sim_time = 250\n",
    "timestepper = d3.RK222\n",
    "max_timestep = 0.125\n",
    "dtype = np.float64"
   ]
  },
  {
   "cell_type": "code",
   "execution_count": 3,
   "metadata": {},
   "outputs": [],
   "source": [
    "# Bases\n",
    "coords = d3.CartesianCoordinates('x','z')\n",
    "dist = d3.Distributor(coords, dtype=dtype)\n",
    "xbasis = d3.RealFourier(coords['x'], size=Nx, bounds=(0, Lx), dealias=dealias)\n",
    "zbasis = d3.ChebyshevT(coords['z'], size=Nz, bounds=(0, Lz), dealias=dealias)"
   ]
  },
  {
   "cell_type": "code",
   "execution_count": 4,
   "metadata": {},
   "outputs": [
    {
     "name": "stdout",
     "output_type": "stream",
     "text": [
      "372000.0\n",
      "496000.00000000006\n"
     ]
    }
   ],
   "source": [
    "# Fields\n",
    "p = dist.Field(name='p', bases=(xbasis,zbasis))\n",
    "D = dist.Field(name='D', bases=(xbasis,zbasis))\n",
    "M = dist.Field(name='M', bases=(xbasis,zbasis))\n",
    "u = dist.VectorField(coords, name='u', bases=(xbasis,zbasis))\n",
    "Z = dist.Field(name='Z', bases=zbasis)\n",
    "tau_p = dist.Field(name='tau_p')\n",
    "tau_B1 = dist.Field(name='tau_B1', bases=xbasis)\n",
    "tau_B2 = dist.Field(name='tau_B2', bases=xbasis)\n",
    "tau_D1 = dist.Field(name='tau_D1', bases=xbasis)\n",
    "tau_D2 = dist.Field(name='tau_D2', bases=xbasis)\n",
    "tau_M1 = dist.Field(name='tau_M1', bases=xbasis)\n",
    "tau_M2 = dist.Field(name='tau_M2', bases=xbasis)\n",
    "tau_u1 = dist.VectorField(coords, name='tau_u1', bases=xbasis)\n",
    "tau_u2 = dist.VectorField(coords, name='tau_u2', bases=xbasis)\n",
    "\n",
    "\n",
    "# Substitutions\n",
    "\n",
    "kappa = (Ra_D * Prandtl/((D_0-D_H)*Lz**3))**(-1/2)\n",
    "nu = (Ra_D / (Prandtl*(D_0-D_H)*Lz**3))**(-1/2)\n",
    "      \n",
    "#Kuo_Bretherton Equilibrium\n",
    "Ra_M = Ra_D*(M_0-M_H)/(D_0-D_H)\n",
    "G_D=(D_0-D_H)/Lz\n",
    "G_M=(M_0-M_H)/Lz\n",
    "Ra_BV=N_s2*Lz**4/(nu*kappa)\n",
    "print(Ra_M)\n",
    "print(Ra_BV)\n",
    "\n",
    "x,z = dist.local_grids(xbasis,zbasis)\n",
    "Z['g']=z\n",
    "Z.change_scales(3/2)\n",
    "\n",
    "ex,ez = coords.unit_vector_fields(dist)\n",
    "lift_basis = zbasis.derivative_basis(1)\n",
    "lift = lambda A: d3.Lift(A, lift_basis, -1)\n",
    "\n",
    "B_op = (np.absolute(D - M - N_s2*Z)+ M + D - N_s2*Z)/2\n",
    "\n",
    "Max = lambda A,B: (abs(A-N_s2*Z-B)+A-N_s2*Z+B)/2\n",
    "eva = lambda A: A.evaluate()\n",
    "\n",
    "dz= lambda A: d3.Differentiate(A, coords['z'])\n",
    "dx= lambda A: d3.Differentiate(A, coords['x'])\n",
    "\n",
    "ux=u@ex\n",
    "uz=u@ez\n",
    "\n",
    "grad_u = d3.grad(u) + ez*lift(tau_u1) # First-order reduction\n",
    "grad_M = d3.grad(M) + ez*lift(tau_M1) # First-order reduction\n",
    "grad_D = d3.grad(D) + ez*lift(tau_D1) # First-order reduction"
   ]
  },
  {
   "cell_type": "code",
   "execution_count": 5,
   "metadata": {},
   "outputs": [
    {
     "data": {
      "text/plain": [
       "{'LHS': Integrate(Integrate(<Field 23084198173600>)),\n",
       " 'RHS': 0,\n",
       " 'condition': 'True',\n",
       " 'tensorsig': (),\n",
       " 'dtype': numpy.float64,\n",
       " 'M': 0,\n",
       " 'L': Integrate(Integrate(<Field 23084198173600>)),\n",
       " 'F': <Field 23083435585360>,\n",
       " 'domain': <dedalus.core.domain.Domain at 0x14feb56eb940>,\n",
       " 'matrix_dependence': array([ True,  True]),\n",
       " 'matrix_coupling': array([False,  True])}"
      ]
     },
     "execution_count": 5,
     "metadata": {},
     "output_type": "execute_result"
    }
   ],
   "source": [
    "# Problem\n",
    "# First-order form: \"div(f)\" becomes \"trace(grad_f)\"\n",
    "# First-order form: \"lap(f)\" becomes \"div(grad_f)\"\n",
    "problem = d3.IVP([p, M, D, u, tau_p, tau_M1, tau_M2, tau_D1, tau_D2, tau_u1, tau_u2], namespace=locals())\n",
    "problem.add_equation(\"trace(grad_u) + tau_p= 0\")\n",
    "problem.add_equation(\"dt(M) - kappa*div(grad_M) + lift(tau_M2) - G_M*uz= - u@grad(M)\")\n",
    "problem.add_equation(\"dt(D) - kappa*div(grad_D) + lift(tau_D2) - G_D*uz= - u@grad(D)\")\n",
    "problem.add_equation(\"dt(u) - nu*div(grad_u) + grad(p)  + lift(tau_u2) = - u@grad(u)+ B_op*ez\")\n",
    "problem.add_equation(\"M(z=0) = M_0\")\n",
    "problem.add_equation(\"D(z=0) = D_0\")\n",
    "problem.add_equation(\"dz(u)(z=Lz)@ex = 0\")\n",
    "problem.add_equation(\"u(z=Lz)@ez = 0\")\n",
    "problem.add_equation(\"u(z=0) = 0\")\n",
    "problem.add_equation(\"M(z=Lz) = M_H\")\n",
    "problem.add_equation(\"D(z=Lz) = D_H\")\n",
    "problem.add_equation(\"integ(p) = 0\") # Pressure gauge"
   ]
  },
  {
   "cell_type": "code",
   "execution_count": 8,
   "metadata": {},
   "outputs": [
    {
     "name": "stdout",
     "output_type": "stream",
     "text": [
      "2023-07-13 20:18:37,421 subsystems 0/1 INFO :: Building subproblem matrices 1/64 (~2%) Elapsed: 0s, Remaining: 4s, Rate: 1.6e+01/s\n",
      "2023-07-13 20:18:37,804 subsystems 0/1 INFO :: Building subproblem matrices 7/64 (~11%) Elapsed: 0s, Remaining: 4s, Rate: 1.6e+01/s\n",
      "2023-07-13 20:18:38,254 subsystems 0/1 INFO :: Building subproblem matrices 14/64 (~22%) Elapsed: 1s, Remaining: 3s, Rate: 1.6e+01/s\n",
      "2023-07-13 20:18:38,708 subsystems 0/1 INFO :: Building subproblem matrices 21/64 (~33%) Elapsed: 1s, Remaining: 3s, Rate: 1.6e+01/s\n",
      "2023-07-13 20:18:39,154 subsystems 0/1 INFO :: Building subproblem matrices 28/64 (~44%) Elapsed: 2s, Remaining: 2s, Rate: 1.6e+01/s\n",
      "2023-07-13 20:18:39,597 subsystems 0/1 INFO :: Building subproblem matrices 35/64 (~55%) Elapsed: 2s, Remaining: 2s, Rate: 1.6e+01/s\n",
      "2023-07-13 20:18:40,040 subsystems 0/1 INFO :: Building subproblem matrices 42/64 (~66%) Elapsed: 3s, Remaining: 1s, Rate: 1.6e+01/s\n",
      "2023-07-13 20:18:40,592 subsystems 0/1 INFO :: Building subproblem matrices 49/64 (~77%) Elapsed: 3s, Remaining: 1s, Rate: 1.5e+01/s\n",
      "2023-07-13 20:18:41,042 subsystems 0/1 INFO :: Building subproblem matrices 56/64 (~88%) Elapsed: 4s, Remaining: 1s, Rate: 1.5e+01/s\n",
      "2023-07-13 20:18:41,489 subsystems 0/1 INFO :: Building subproblem matrices 63/64 (~98%) Elapsed: 4s, Remaining: 0s, Rate: 1.5e+01/s\n",
      "2023-07-13 20:18:41,554 subsystems 0/1 INFO :: Building subproblem matrices 64/64 (~100%) Elapsed: 4s, Remaining: 0s, Rate: 1.5e+01/s\n",
      "2023-07-13 20:18:41,559 solvers 0/1 INFO :: Loading solver state from: snapshots/snapshots_s17.h5\n",
      "2023-07-13 20:18:41,575 solvers 0/1 INFO :: Loading iteration: 2947\n",
      "2023-07-13 20:18:41,577 solvers 0/1 INFO :: Loading write: 801\n",
      "2023-07-13 20:18:41,579 solvers 0/1 INFO :: Loading sim time: 199.9642846068156\n",
      "2023-07-13 20:18:41,581 solvers 0/1 INFO :: Loading timestep: 0.12379212192325022\n"
     ]
    }
   ],
   "source": [
    "# Solver\n",
    "solver = problem.build_solver(timestepper)\n",
    "solver.stop_sim_time = stop_sim_time\n",
    "write,dt=solver.load_state('snapshots/snapshots_s17.h5')"
   ]
  },
  {
   "cell_type": "code",
   "execution_count": 9,
   "metadata": {},
   "outputs": [],
   "source": [
    "# Analysis\n",
    "snapshots = solver.evaluator.add_file_handler('snapshots', sim_dt=0.25, max_writes=50)\n",
    "snapshots.add_tasks(solver.state,layout='g')"
   ]
  },
  {
   "cell_type": "code",
   "execution_count": 10,
   "metadata": {},
   "outputs": [],
   "source": [
    "# CFL\n",
    "CFL = d3.CFL(solver, initial_dt=dt, cadence=10, safety=0.5, threshold=0.05,\n",
    "             max_change=1.1, min_change=0.5, max_dt=max_timestep)\n",
    "CFL.add_velocity(u)"
   ]
  },
  {
   "cell_type": "code",
   "execution_count": 11,
   "metadata": {},
   "outputs": [],
   "source": [
    "# Flow properties\n",
    "flow = d3.GlobalFlowProperty(solver, cadence=10)\n",
    "flow.add_property(np.sqrt(u@u)/nu, name='Re')\n"
   ]
  },
  {
   "cell_type": "code",
   "execution_count": 12,
   "metadata": {},
   "outputs": [
    {
     "name": "stdout",
     "output_type": "stream",
     "text": [
      "2023-07-13 20:19:01,822 __main__ 0/1 INFO :: Starting main loop\n",
      "2023-07-13 20:19:02,450 __main__ 0/1 INFO :: Iteration=2951, Time=2.004595e+02, dt=1.237921e-01, max(Re)=0.342305\n",
      "2023-07-13 20:19:02,759 __main__ 0/1 INFO :: Iteration=2961, Time=2.016974e+02, dt=1.237921e-01, max(Re)=0.338808\n",
      "2023-07-13 20:19:03,077 __main__ 0/1 INFO :: Iteration=2971, Time=2.029353e+02, dt=1.237921e-01, max(Re)=0.335347\n",
      "2023-07-13 20:19:03,393 __main__ 0/1 INFO :: Iteration=2981, Time=2.041732e+02, dt=1.237921e-01, max(Re)=0.331923\n",
      "2023-07-13 20:19:03,703 __main__ 0/1 INFO :: Iteration=2991, Time=2.054111e+02, dt=1.237921e-01, max(Re)=0.328532\n",
      "2023-07-13 20:19:04,033 __main__ 0/1 INFO :: Iteration=3001, Time=2.066491e+02, dt=1.237921e-01, max(Re)=0.325176\n",
      "2023-07-13 20:19:04,354 __main__ 0/1 INFO :: Iteration=3011, Time=2.078870e+02, dt=1.237921e-01, max(Re)=0.321856\n",
      "2023-07-13 20:19:04,672 __main__ 0/1 INFO :: Iteration=3021, Time=2.091249e+02, dt=1.237921e-01, max(Re)=0.318568\n",
      "2023-07-13 20:19:04,973 __main__ 0/1 INFO :: Iteration=3031, Time=2.103628e+02, dt=1.237921e-01, max(Re)=0.315315\n",
      "2023-07-13 20:19:05,273 __main__ 0/1 INFO :: Iteration=3041, Time=2.116007e+02, dt=1.237921e-01, max(Re)=0.312095\n",
      "2023-07-13 20:19:05,616 __main__ 0/1 INFO :: Iteration=3051, Time=2.128387e+02, dt=1.237921e-01, max(Re)=0.308907\n",
      "2023-07-13 20:19:05,932 __main__ 0/1 INFO :: Iteration=3061, Time=2.140766e+02, dt=1.237921e-01, max(Re)=0.305753\n",
      "2023-07-13 20:19:06,255 __main__ 0/1 INFO :: Iteration=3071, Time=2.153145e+02, dt=1.237921e-01, max(Re)=0.302630\n",
      "2023-07-13 20:19:06,569 __main__ 0/1 INFO :: Iteration=3081, Time=2.165524e+02, dt=1.237921e-01, max(Re)=0.299540\n",
      "2023-07-13 20:19:06,882 __main__ 0/1 INFO :: Iteration=3091, Time=2.177904e+02, dt=1.237921e-01, max(Re)=0.296481\n",
      "2023-07-13 20:19:07,188 __main__ 0/1 INFO :: Iteration=3101, Time=2.190283e+02, dt=1.237921e-01, max(Re)=0.293453\n",
      "2023-07-13 20:19:07,491 __main__ 0/1 INFO :: Iteration=3111, Time=2.202662e+02, dt=1.237921e-01, max(Re)=0.290456\n",
      "2023-07-13 20:19:07,800 __main__ 0/1 INFO :: Iteration=3121, Time=2.215041e+02, dt=1.237921e-01, max(Re)=0.287490\n",
      "2023-07-13 20:19:08,111 __main__ 0/1 INFO :: Iteration=3131, Time=2.227420e+02, dt=1.237921e-01, max(Re)=0.284555\n",
      "2023-07-13 20:19:08,415 __main__ 0/1 INFO :: Iteration=3141, Time=2.239800e+02, dt=1.237921e-01, max(Re)=0.281649\n",
      "2023-07-13 20:19:08,772 __main__ 0/1 INFO :: Iteration=3151, Time=2.252179e+02, dt=1.237921e-01, max(Re)=0.278773\n",
      "2023-07-13 20:19:09,099 __main__ 0/1 INFO :: Iteration=3161, Time=2.264558e+02, dt=1.237921e-01, max(Re)=0.275926\n",
      "2023-07-13 20:19:09,409 __main__ 0/1 INFO :: Iteration=3171, Time=2.276937e+02, dt=1.237921e-01, max(Re)=0.273108\n",
      "2023-07-13 20:19:09,721 __main__ 0/1 INFO :: Iteration=3181, Time=2.289316e+02, dt=1.237921e-01, max(Re)=0.270320\n",
      "2023-07-13 20:19:10,027 __main__ 0/1 INFO :: Iteration=3191, Time=2.301696e+02, dt=1.237921e-01, max(Re)=0.267559\n",
      "2023-07-13 20:19:10,342 __main__ 0/1 INFO :: Iteration=3201, Time=2.314075e+02, dt=1.237921e-01, max(Re)=0.264827\n",
      "2023-07-13 20:19:10,651 __main__ 0/1 INFO :: Iteration=3211, Time=2.326454e+02, dt=1.237921e-01, max(Re)=0.262123\n",
      "2023-07-13 20:19:10,971 __main__ 0/1 INFO :: Iteration=3221, Time=2.338833e+02, dt=1.237921e-01, max(Re)=0.259446\n",
      "2023-07-13 20:19:11,291 __main__ 0/1 INFO :: Iteration=3231, Time=2.351212e+02, dt=1.237921e-01, max(Re)=0.256797\n",
      "2023-07-13 20:19:11,598 __main__ 0/1 INFO :: Iteration=3241, Time=2.363592e+02, dt=1.237921e-01, max(Re)=0.254175\n",
      "2023-07-13 20:19:11,926 __main__ 0/1 INFO :: Iteration=3251, Time=2.375971e+02, dt=1.237921e-01, max(Re)=0.251579\n",
      "2023-07-13 20:19:12,237 __main__ 0/1 INFO :: Iteration=3261, Time=2.388350e+02, dt=1.237921e-01, max(Re)=0.249011\n",
      "2023-07-13 20:19:12,552 __main__ 0/1 INFO :: Iteration=3271, Time=2.400729e+02, dt=1.237921e-01, max(Re)=0.246468\n",
      "2023-07-13 20:19:12,855 __main__ 0/1 INFO :: Iteration=3281, Time=2.413109e+02, dt=1.237921e-01, max(Re)=0.243951\n",
      "2023-07-13 20:19:13,170 __main__ 0/1 INFO :: Iteration=3291, Time=2.425488e+02, dt=1.237921e-01, max(Re)=0.241460\n",
      "2023-07-13 20:19:13,496 __main__ 0/1 INFO :: Iteration=3301, Time=2.437867e+02, dt=1.237921e-01, max(Re)=0.238995\n",
      "2023-07-13 20:19:13,814 __main__ 0/1 INFO :: Iteration=3311, Time=2.450246e+02, dt=1.237921e-01, max(Re)=0.236554\n",
      "2023-07-13 20:19:14,120 __main__ 0/1 INFO :: Iteration=3321, Time=2.462625e+02, dt=1.237921e-01, max(Re)=0.234139\n",
      "2023-07-13 20:19:14,423 __main__ 0/1 INFO :: Iteration=3331, Time=2.475005e+02, dt=1.237921e-01, max(Re)=0.231748\n",
      "2023-07-13 20:19:14,726 __main__ 0/1 INFO :: Iteration=3341, Time=2.487384e+02, dt=1.237921e-01, max(Re)=0.229382\n",
      "2023-07-13 20:19:15,038 __main__ 0/1 INFO :: Iteration=3351, Time=2.499763e+02, dt=1.237921e-01, max(Re)=0.227039\n",
      "2023-07-13 20:19:15,116 solvers 0/1 INFO :: Simulation stop time reached.\n",
      "2023-07-13 20:19:15,118 solvers 0/1 INFO :: Final iteration: 3352\n",
      "2023-07-13 20:19:15,120 solvers 0/1 INFO :: Final sim time: 250.10009398573547\n",
      "2023-07-13 20:19:15,122 solvers 0/1 INFO :: Setup time (init - iter 0): 24.47 sec\n",
      "2023-07-13 20:19:15,124 solvers 0/1 INFO :: Warmup time (iter 0-10): 0.8159 sec\n",
      "2023-07-13 20:19:15,126 solvers 0/1 INFO :: Run time (iter 10-end): 12.48 sec\n",
      "2023-07-13 20:19:15,127 solvers 0/1 INFO :: CPU time (iter 10-end): 0.003466 cpu-hr\n",
      "2023-07-13 20:19:15,129 solvers 0/1 INFO :: Speed: 1.351e+06 mode-stages/cpu-sec\n"
     ]
    }
   ],
   "source": [
    "# Main loop\n",
    "startup_iter = 10\n",
    "try:\n",
    "    logger.info('Starting main loop')\n",
    "    while solver.proceed:\n",
    "        timestep = CFL.compute_timestep()\n",
    "        solver.step(timestep)\n",
    "        if (solver.iteration-1) % 10 == 0:\n",
    "            max_Re = flow.max('Re')\n",
    "            logger.info('Iteration=%i, Time=%e, dt=%e, max(Re)=%f' %(solver.iteration, solver.sim_time, timestep, max_Re))\n",
    "except:\n",
    "    logger.error('Exception raised, triggering end of main loop.')\n",
    "    raise\n",
    "finally:\n",
    "    solver.log_stats()"
   ]
  },
  {
   "cell_type": "code",
   "execution_count": null,
   "metadata": {},
   "outputs": [],
   "source": []
  }
 ],
 "metadata": {
  "kernelspec": {
   "display_name": "dedalus3",
   "language": "python",
   "name": "dedalus3"
  },
  "language_info": {
   "codemirror_mode": {
    "name": "ipython",
    "version": 3
   },
   "file_extension": ".py",
   "mimetype": "text/x-python",
   "name": "python",
   "nbconvert_exporter": "python",
   "pygments_lexer": "ipython3",
   "version": "3.10.12"
  }
 },
 "nbformat": 4,
 "nbformat_minor": 4
}
