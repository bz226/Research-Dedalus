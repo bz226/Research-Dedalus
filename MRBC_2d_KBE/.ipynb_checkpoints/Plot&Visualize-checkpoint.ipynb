{
 "cells": [
  {
   "cell_type": "code",
   "execution_count": null,
   "metadata": {},
   "outputs": [],
   "source": [
    "import matplotlib\n",
    "import matplotlib.pyplot as plt\n",
    "matplotlib.use('Agg')\n",
    "import matplotlib.animation as Animation\n",
    "from PIL import Image\n",
    "import os\n",
    "from os import listdir\n",
    "\n",
    "folder_dir = 'frames'\n",
    "\n",
    "# Get a list of PNG file paths from the directory\n",
    "file_paths = [os.path.join(folder_dir, f) for f in listdir(folder_dir) if os.path.isfile(os.path.join(folder_dir, f)) and f.endswith('.png')]\n",
    "\n",
    "# Sort the list of file paths\n",
    "file_paths.sort()\n",
    "\n",
    "# Read the images using PIL\n",
    "imgs = [Image.open(f) for f in file_paths]\n",
    "\n",
    "fig = plt.figure()\n",
    "\n",
    "# Wrap each image in a list to create a list of sequences of artists\n",
    "imgs = [[plt.imshow(img, animated=True)] for img in imgs]\n",
    "\n",
    "ani = Animation.ArtistAnimation(fig, imgs, interval=250, blit=True, repeat_delay=1000)\n",
    "\n",
    "# Save the animation to a file\n",
    "ani.save('dynamic_images.mp4')\n"
   ]
  },
  {
   "cell_type": "code",
   "execution_count": null,
   "metadata": {},
   "outputs": [],
   "source": []
  }
 ],
 "metadata": {
  "kernelspec": {
   "display_name": "dedalus3",
   "language": "python",
   "name": "dedalus3"
  },
  "language_info": {
   "codemirror_mode": {
    "name": "ipython",
    "version": 3
   },
   "file_extension": ".py",
   "mimetype": "text/x-python",
   "name": "python",
   "nbconvert_exporter": "python",
   "pygments_lexer": "ipython3",
   "version": "3.10.10"
  }
 },
 "nbformat": 4,
 "nbformat_minor": 4
}
