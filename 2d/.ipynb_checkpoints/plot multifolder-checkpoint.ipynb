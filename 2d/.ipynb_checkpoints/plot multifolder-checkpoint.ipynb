{
 "cells": [
  {
   "cell_type": "code",
   "execution_count": 1,
   "metadata": {},
   "outputs": [
    {
     "ename": "NameError",
     "evalue": "name 'listdir' is not defined",
     "output_type": "error",
     "traceback": [
      "\u001b[0;31m---------------------------------------------------------------------------\u001b[0m",
      "\u001b[0;31mNameError\u001b[0m                                 Traceback (most recent call last)",
      "Cell \u001b[0;32mIn[1], line 34\u001b[0m\n\u001b[1;32m     31\u001b[0m plot_dir\u001b[38;5;241m=\u001b[39mplot_dirlist[i]\n\u001b[1;32m     32\u001b[0m folder_dir \u001b[38;5;241m=\u001b[39m save_dir\u001b[38;5;241m+\u001b[39m\u001b[38;5;124m\"\u001b[39m\u001b[38;5;124m/snapshots\u001b[39m\u001b[38;5;124m\"\u001b[39m\n\u001b[0;32m---> 34\u001b[0m file_paths \u001b[38;5;241m=\u001b[39m [os\u001b[38;5;241m.\u001b[39mpath\u001b[38;5;241m.\u001b[39mjoin(folder_dir, file) \u001b[38;5;28;01mfor\u001b[39;00m file \u001b[38;5;129;01min\u001b[39;00m \u001b[43mlistdir\u001b[49m(folder_dir) \u001b[38;5;28;01mif\u001b[39;00m os\u001b[38;5;241m.\u001b[39mpath\u001b[38;5;241m.\u001b[39misfile(os\u001b[38;5;241m.\u001b[39mpath\u001b[38;5;241m.\u001b[39mjoin(folder_dir, file)) \u001b[38;5;129;01mand\u001b[39;00m file\u001b[38;5;241m.\u001b[39mendswith(\u001b[38;5;124m'\u001b[39m\u001b[38;5;124m.h5\u001b[39m\u001b[38;5;124m'\u001b[39m)]\n\u001b[1;32m     35\u001b[0m \u001b[38;5;66;03m#sort by the number in the file name\u001b[39;00m\n\u001b[1;32m     36\u001b[0m file_paths\u001b[38;5;241m.\u001b[39msort(key\u001b[38;5;241m=\u001b[39m\u001b[38;5;28;01mlambda\u001b[39;00m f: \u001b[38;5;28mint\u001b[39m(re\u001b[38;5;241m.\u001b[39msub(\u001b[38;5;124m'\u001b[39m\u001b[38;5;124m\\\u001b[39m\u001b[38;5;124mD\u001b[39m\u001b[38;5;124m'\u001b[39m, \u001b[38;5;124m'\u001b[39m\u001b[38;5;124m'\u001b[39m, f)))\n",
      "\u001b[0;31mNameError\u001b[0m: name 'listdir' is not defined"
     ]
    }
   ],
   "source": [
    "import numpy as np\n",
    "import dedalus.public as d3\n",
    "import logging\n",
    "logger = logging.getLogger(__name__)\n",
    "import copy\n",
    "import h5py\n",
    "import numpy as np\n",
    "import matplotlib\n",
    "import re\n",
    "\n",
    "import matplotlib.pyplot as plt\n",
    "from dedalus.extras import plot_tools\n",
    "\n",
    "from mpl_toolkits.mplot3d import Axes3D\n",
    "from matplotlib.colors import Normalize\n",
    "\n",
    "import os\n",
    "from os import listdir\n",
    "\n",
    "#list\n",
    "RaMlist=[1e5,4e5,8e5,1.6e5]\n",
    "D_Hlist=[0.33]\n",
    "Qlist=[0.0014,0.0028,0.0069]\n",
    "#list of dir with name RaM+D_H+'Q='+Q\n",
    "save_dirlist=[]\n",
    "plot_dirlist=[]\n",
    "for RaM in RaMlist:\n",
    "    for D_H in D_Hlist:\n",
    "        for Q in Qlist:\n",
    "            save_dirlist.append(\"/scratch/zb2113/DedalusData/\"+str(RaM)+str(D_H)+'Q='+str(Q))\n",
    "            plot_dirlist.append(\"/home/zb2113/Dedalus-Postanalysis/2D/\"+str(RaM)+str(D_H)+'Q='+str(Q))\n",
    "\n",
    "#plot\n",
    "for i in range(len(save_dirlist)):\n",
    "    save_dir=save_dirlist[i]\n",
    "    plot_dir=plot_dirlist[i]\n",
    "    folder_dir = save_dir+\"/snapshots\"\n",
    "\n",
    "    file_paths = [os.path.join(folder_dir, file) for file in listdir(folder_dir) if os.path.isfile(os.path.join(folder_dir, file)) and file.endswith('.h5')]\n",
    "    #sort by the number in the file name\n",
    "    file_paths.sort(key=lambda f: int(re.sub('\\D', '', f)))\n",
    "\n",
    "    #plot the function of total KE\n",
    "    all_tot_ke = []\n",
    "\n",
    "    for file in file_paths:\n",
    "        with h5py.File(file, mode='r') as file:\n",
    "            tot_ke = file['tasks']['total KE']\n",
    "            st = file['scales/sim_time']\n",
    "            simtime = np.array(st)\n",
    "            for t in range(0, len(simtime)):\n",
    "                all_tot_ke.append(np.sum(tot_ke[t]))\n",
    "    print(all_tot_ke[:10])\n",
    "    print(max(all_tot_ke))\n",
    "\n",
    "    print(len(all_tot_ke))\n",
    "    figure_x_axis = np.array([(x*nu/(1**2)) for x in range(1, len(all_tot_ke)+1)])\n",
    "    print(len(figure_x_axis))\n",
    "    #create label with RaM, D_H, Q\n",
    "    pltlabel = save_dir.split('/')[-1]\n",
    "    plt.plot(figure_x_axis, np.log(all_tot_ke), label=pltlabel)\n",
    "\n",
    "plt.legend()  \n",
    "plt.xlabel('Normalized Time')\n",
    "plt.ylabel('Total Kinetic Energy')\n",
    "plt.title('Total Kinetic Energy vs normalized time')\n",
    "plt.savefig(plot_dir+'/Total norm KE.png', dpi=200, bbox_inches='tight')\n",
    "plt.show()\n",
    "plt.clf()"
   ]
  }
 ],
 "metadata": {
  "kernelspec": {
   "display_name": "dedalus3",
   "language": "python",
   "name": "python3"
  },
  "language_info": {
   "codemirror_mode": {
    "name": "ipython",
    "version": 3
   },
   "file_extension": ".py",
   "mimetype": "text/x-python",
   "name": "python",
   "nbconvert_exporter": "python",
   "pygments_lexer": "ipython3",
   "version": "3.11.3"
  }
 },
 "nbformat": 4,
 "nbformat_minor": 2
}
