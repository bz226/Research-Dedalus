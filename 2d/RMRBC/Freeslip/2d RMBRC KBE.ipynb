{
 "cells": [
  {
   "cell_type": "code",
   "execution_count": 8,
   "metadata": {},
   "outputs": [
    {
     "data": {
      "text/plain": [
       "'\\nDedalus script simulating 2D horizontally-periodic Rayleigh-Benard convection.\\nThis script demonstrates solving a 2D Cartesian initial value problem. It can\\nbe ran serially or in parallel, and uses the built-in analysis framework to save\\ndata snapshots to HDF5 files. The `plot_snapshots.py` script can be used to\\nproduce plots from the saved data. It should take about 5 cpu-minutes to run.\\n\\nFor incompressible hydro with two boundaries, we need two tau terms for each the\\nvelocity and buoyancy. Here we choose to use a first-order formulation, putting\\none tau term each on auxiliary first-order gradient variables and the others in\\nthe PDE, and lifting them all to the first derivative basis. This formulation puts\\na tau term in the divergence constraint, as required for this geometry.\\n\\nTo run and plot using e.g. 4 processes:\\n    $ mpiexec -n 4 python3 rayleigh_benard.py\\n    $ mpiexec -n 4 python3 plot_snapshots.py snapshots/*.h5\\n'"
      ]
     },
     "execution_count": 8,
     "metadata": {},
     "output_type": "execute_result"
    }
   ],
   "source": [
    "\"\"\"\n",
    "Dedalus script simulating 2D horizontally-periodic Rayleigh-Benard convection.\n",
    "This script demonstrates solving a 2D Cartesian initial value problem. It can\n",
    "be ran serially or in parallel, and uses the built-in analysis framework to save\n",
    "data snapshots to HDF5 files. The `plot_snapshots.py` script can be used to\n",
    "produce plots from the saved data. It should take about 5 cpu-minutes to run.\n",
    "\n",
    "For incompressible hydro with two boundaries, we need two tau terms for each the\n",
    "velocity and buoyancy. Here we choose to use a first-order formulation, putting\n",
    "one tau term each on auxiliary first-order gradient variables and the others in\n",
    "the PDE, and lifting them all to the first derivative basis. This formulation puts\n",
    "a tau term in the divergence constraint, as required for this geometry.\n",
    "\n",
    "To run and plot using e.g. 4 processes:\n",
    "    $ mpiexec -n 4 python3 rayleigh_benard.py\n",
    "    $ mpiexec -n 4 python3 plot_snapshots.py snapshots/*.h5\n",
    "\"\"\"\n"
   ]
  },
  {
   "cell_type": "code",
   "execution_count": null,
   "metadata": {},
   "outputs": [],
   "source": [
    "import numpy as np\n",
    "import dedalus.public as d3\n",
    "import logging\n",
    "logger = logging.getLogger(__name__)\n",
    "import copy\n",
    "import h5py\n",
    "import numpy as np\n",
    "import matplotlib\n",
    "import re\n",
    "\n",
    "import matplotlib.pyplot as plt\n",
    "from dedalus.extras import plot_tools\n",
    "\n",
    "from mpl_toolkits.mplot3d import Axes3D\n",
    "from matplotlib.colors import Normalize\n",
    "\n",
    "import os\n",
    "from os import listdir"
   ]
  },
  {
   "cell_type": "code",
   "execution_count": 10,
   "metadata": {},
   "outputs": [],
   "source": [
    "# Parameters\n",
    "Lx, Lz = 20,1\n",
    "Nx, Nz = 640, 32\n",
    "Ra_M = 4.5e5\n",
    "D_0 = 1/3\n",
    "D_H = 1\n",
    "M_0 = 0\n",
    "M_H = -1\n",
    "N_s2=4/3\n",
    "f=0.05\n",
    "\n",
    "Prandtl = 0.7\n",
    "dealias = 3/2\n",
    "stop_sim_time = 50\n",
    "timestepper = d3.RK222\n",
    "max_timestep = 0.125\n",
    "dtype = np.float64"
   ]
  },
  {
   "cell_type": "code",
   "execution_count": 11,
   "metadata": {},
   "outputs": [],
   "source": [
    "# Bases\n",
    "coords = d3.CartesianCoordinates('x','z')\n",
    "dist = d3.Distributor(coords, dtype=dtype)\n",
    "xbasis = d3.RealFourier(coords['x'], size=Nx, bounds=(0, Lx), dealias=dealias)\n",
    "zbasis = d3.ChebyshevT(coords['z'], size=Nz, bounds=(0, Lz), dealias=dealias)"
   ]
  },
  {
   "cell_type": "code",
   "execution_count": 12,
   "metadata": {},
   "outputs": [
    {
     "name": "stdout",
     "output_type": "stream",
     "text": [
      "kappa 0.001781741612749496\n",
      "nu 0.0012472191289246471\n",
      "R_0 20.0\n"
     ]
    }
   ],
   "source": [
    "# Fields\n",
    "p = dist.Field(name='p', bases=(xbasis,zbasis))\n",
    "D = dist.Field(name='D', bases=(xbasis,zbasis))\n",
    "M = dist.Field(name='M', bases=(xbasis,zbasis))\n",
    "u = dist.VectorField(coords, name='u', bases=(xbasis,zbasis))\n",
    "Z = dist.Field(name='Z', bases=zbasis)\n",
    "tau_p = dist.Field(name='tau_p')\n",
    "tau_B1 = dist.Field(name='tau_B1', bases=xbasis)\n",
    "tau_B2 = dist.Field(name='tau_B2', bases=xbasis)\n",
    "tau_D1 = dist.Field(name='tau_D1', bases=xbasis)\n",
    "tau_D2 = dist.Field(name='tau_D2', bases=xbasis)\n",
    "tau_M1 = dist.Field(name='tau_M1', bases=xbasis)\n",
    "tau_M2 = dist.Field(name='tau_M2', bases=xbasis)\n",
    "tau_u1 = dist.Field(name='tau_u1', bases=xbasis)\n",
    "tau_u2 = dist.Field(name='tau_u2', bases=xbasis)\n",
    "tau_u3 = dist.Field(name='tau_u3', bases=xbasis)\n",
    "tau_u4 = dist.Field(name='tau_u4', bases=xbasis)\n",
    "tau_u5 = dist.VectorField(coords, name='tau_u5', bases=xbasis)\n",
    "\n",
    "# Substitutions    \n",
    "#Kuo_Bretherton Equilibrium\n",
    "kappa = (Ra_M * Prandtl/((M_0-M_H)*Lz**3))**(-1/2)\n",
    "nu = (Ra_M / (Prandtl*(M_0-M_H)*Lz**3))**(-1/2)\n",
    "print('kappa',kappa)\n",
    "print('nu',nu)\n",
    "Td=Lz**2/(nu*kappa)**(1/2)\n",
    "Tc=(Lz/(M_0-M_H))**(1/2)\n",
    "Tr=1/f\n",
    "R_0=Tr/Tc\n",
    "print('R_0',R_0)\n",
    "\n",
    "x,z = dist.local_grids(xbasis,zbasis)\n",
    "Z['g']=z\n",
    "Z.change_scales(3/2)\n",
    "\n",
    "ex,ez = coords.unit_vector_fields(dist)\n",
    "lift_basis = zbasis.derivative_basis(1)\n",
    "lift = lambda A: d3.Lift(A, lift_basis, -1)\n",
    "\n",
    "B_op = (np.absolute(D - M - N_s2*Z)+ M + D - N_s2*Z)/2\n",
    "\n",
    "Max = lambda A,B: (abs(A-N_s2*Z-B)+A-N_s2*Z+B)/2\n",
    "eva = lambda A: A.evaluate()\n",
    "\n",
    "dz= lambda A: d3.Differentiate(A, coords['z'])\n",
    "dx= lambda A: d3.Differentiate(A, coords['x'])\n",
    "\n",
    "ux=u@ex\n",
    "uz=u@ez\n",
    "dxux=dx(ux)\n",
    "dzux=dz(ux)\n",
    "dxuz=dx(uz)\n",
    "dzuz=dz(uz)\n",
    "\n",
    "\n",
    "grad_ux = d3.grad(ux) + ez * lift(tau_u1) # First-order reduction\n",
    "grad_uz = d3.grad(uz) + ez * lift(tau_u2) # First-order reduction\n",
    "grad_M = d3.grad(M) + ez*lift(tau_M1) # First-order reduction\n",
    "grad_D = d3.grad(D) + ez*lift(tau_D1) # First-order reduction"
   ]
  },
  {
   "cell_type": "code",
   "execution_count": 13,
   "metadata": {},
   "outputs": [
    {
     "data": {
      "text/plain": [
       "{'LHS': Integrate(Integrate(<Field 5292708304>)),\n",
       " 'RHS': 0,\n",
       " 'condition': 'True',\n",
       " 'tensorsig': (),\n",
       " 'dtype': numpy.float64,\n",
       " 'M': 0,\n",
       " 'L': Integrate(Integrate(<Field 5292708304>)),\n",
       " 'F': <Field 5288257680>,\n",
       " 'domain': <dedalus.core.domain.Domain at 0x13b786610>,\n",
       " 'matrix_dependence': array([ True,  True]),\n",
       " 'matrix_coupling': array([False,  True])}"
      ]
     },
     "execution_count": 13,
     "metadata": {},
     "output_type": "execute_result"
    }
   ],
   "source": [
    "# Problem\n",
    "# First-order form: \"div(f)\" becomes \"trace(grad_f)\"\n",
    "# First-order form: \"lap(f)\" becomes \"div(grad_f)\"\n",
    "problem = d3.IVP([p, M, D, u, tau_p, tau_M1, tau_M2, tau_D1, tau_D2, tau_u1, tau_u2], namespace=locals())\n",
    "problem.add_equation(\"trace(d3.grad(u)) + tau_p= 0\")\n",
    "problem.add_equation(\"dt(M) - kappa*div(grad_M) + lift(tau_M2) = - u@grad(M)\")\n",
    "problem.add_equation(\"dt(D) - kappa*div(grad_D) + lift(tau_D2) = - u@grad(D)\")\n",
    "problem.add_equation(\"dt(ux) + dx(p) - nu*div(grad_ux) = - u@grad(ux) + f*uz \")\n",
    "problem.add_equation(\"dt(uz) + dz(p) - nu*div(grad_uz) = - u@grad(uz) + B_op - f*ux \")\n",
    "problem.add_equation(\"M(z=0) = M_0\")\n",
    "problem.add_equation(\"D(z=0) = D_0\")\n",
    "problem.add_equation(\"ux(z=Lz) = 0\")\n",
    "problem.add_equation(\"ux(z=0) = 0\")\n",
    "problem.add_equation(\"uz(z=Lz) = 0\")\n",
    "problem.add_equation(\"uz(z=0) = 0\")\n",
    "problem.add_equation(\"M(z=Lz) = M_H\")\n",
    "problem.add_equation(\"D(z=Lz) = D_H\")\n",
    "problem.add_equation(\"integ(p) = 0\") # Pressure gauge"
   ]
  },
  {
   "cell_type": "code",
   "execution_count": 15,
   "metadata": {},
   "outputs": [
    {
     "ename": "ValueError",
     "evalue": "Non-square system: group=(0, None), I=169, J=167",
     "output_type": "error",
     "traceback": [
      "\u001b[0;31m---------------------------------------------------------------------------\u001b[0m",
      "\u001b[0;31mValueError\u001b[0m                                Traceback (most recent call last)",
      "\u001b[1;32m/Users/bobby/Documents/GitHub/Research-Dedalus/2d/MRBC/Freeslip/2d MBRC KBE.ipynb Cell 7\u001b[0m line \u001b[0;36m2\n\u001b[1;32m      <a href='vscode-notebook-cell:/Users/bobby/Documents/GitHub/Research-Dedalus/2d/MRBC/Freeslip/2d%20MBRC%20KBE.ipynb#W6sZmlsZQ%3D%3D?line=0'>1</a>\u001b[0m \u001b[39m# Solver\u001b[39;00m\n\u001b[0;32m----> <a href='vscode-notebook-cell:/Users/bobby/Documents/GitHub/Research-Dedalus/2d/MRBC/Freeslip/2d%20MBRC%20KBE.ipynb#W6sZmlsZQ%3D%3D?line=1'>2</a>\u001b[0m solver \u001b[39m=\u001b[39m problem\u001b[39m.\u001b[39;49mbuild_solver(timestepper)\n\u001b[1;32m      <a href='vscode-notebook-cell:/Users/bobby/Documents/GitHub/Research-Dedalus/2d/MRBC/Freeslip/2d%20MBRC%20KBE.ipynb#W6sZmlsZQ%3D%3D?line=2'>3</a>\u001b[0m solver\u001b[39m.\u001b[39mstop_sim_time \u001b[39m=\u001b[39m stop_sim_time\n",
      "File \u001b[0;32m~/opt/anaconda3/envs/dedalus3/lib/python3.11/site-packages/dedalus/core/problems.py:95\u001b[0m, in \u001b[0;36mProblemBase.build_solver\u001b[0;34m(self, *args, **kw)\u001b[0m\n\u001b[1;32m     93\u001b[0m \u001b[39mdef\u001b[39;00m \u001b[39mbuild_solver\u001b[39m(\u001b[39mself\u001b[39m, \u001b[39m*\u001b[39margs, \u001b[39m*\u001b[39m\u001b[39m*\u001b[39mkw):\n\u001b[1;32m     94\u001b[0m \u001b[39m    \u001b[39m\u001b[39m\"\"\"Build corresponding solver class.\"\"\"\u001b[39;00m\n\u001b[0;32m---> 95\u001b[0m     \u001b[39mreturn\u001b[39;00m \u001b[39mself\u001b[39;49m\u001b[39m.\u001b[39;49msolver_class(\u001b[39mself\u001b[39;49m, \u001b[39m*\u001b[39;49margs, \u001b[39m*\u001b[39;49m\u001b[39m*\u001b[39;49mkw)\n",
      "File \u001b[0;32m~/opt/anaconda3/envs/dedalus3/lib/python3.11/site-packages/dedalus/core/solvers.py:520\u001b[0m, in \u001b[0;36mInitialValueSolver.__init__\u001b[0;34m(self, problem, timestepper, enforce_real_cadence, warmup_iterations, **kw)\u001b[0m\n\u001b[1;32m    518\u001b[0m \u001b[39mself\u001b[39m\u001b[39m.\u001b[39minit_time \u001b[39m=\u001b[39m \u001b[39mself\u001b[39m\u001b[39m.\u001b[39mworld_time\n\u001b[1;32m    519\u001b[0m \u001b[39m# Build LHS matrices\u001b[39;00m\n\u001b[0;32m--> 520\u001b[0m subsystems\u001b[39m.\u001b[39;49mbuild_subproblem_matrices(\u001b[39mself\u001b[39;49m, \u001b[39mself\u001b[39;49m\u001b[39m.\u001b[39;49msubproblems, [\u001b[39m'\u001b[39;49m\u001b[39mM\u001b[39;49m\u001b[39m'\u001b[39;49m, \u001b[39m'\u001b[39;49m\u001b[39mL\u001b[39;49m\u001b[39m'\u001b[39;49m])\n\u001b[1;32m    521\u001b[0m \u001b[39m# Compute total modes\u001b[39;00m\n\u001b[1;32m    522\u001b[0m local_modes \u001b[39m=\u001b[39m \u001b[39msum\u001b[39m(ss\u001b[39m.\u001b[39msubproblem\u001b[39m.\u001b[39mpre_right\u001b[39m.\u001b[39mshape[\u001b[39m1\u001b[39m] \u001b[39mfor\u001b[39;00m ss \u001b[39min\u001b[39;00m \u001b[39mself\u001b[39m\u001b[39m.\u001b[39msubsystems)\n",
      "File \u001b[0;32m~/opt/anaconda3/envs/dedalus3/lib/python3.11/site-packages/dedalus/core/subsystems.py:80\u001b[0m, in \u001b[0;36mbuild_subproblem_matrices\u001b[0;34m(solver, subproblems, matrices)\u001b[0m\n\u001b[1;32m     78\u001b[0m \u001b[39m# Build matrices\u001b[39;00m\n\u001b[1;32m     79\u001b[0m \u001b[39mfor\u001b[39;00m subproblem \u001b[39min\u001b[39;00m log_progress(subproblems, logger, \u001b[39m'\u001b[39m\u001b[39minfo\u001b[39m\u001b[39m'\u001b[39m, desc\u001b[39m=\u001b[39m\u001b[39m'\u001b[39m\u001b[39mBuilding subproblem matrices\u001b[39m\u001b[39m'\u001b[39m, \u001b[39miter\u001b[39m\u001b[39m=\u001b[39mnp\u001b[39m.\u001b[39minf, frac\u001b[39m=\u001b[39m\u001b[39m0.1\u001b[39m, dt\u001b[39m=\u001b[39m\u001b[39m10\u001b[39m):\n\u001b[0;32m---> 80\u001b[0m      subproblem\u001b[39m.\u001b[39;49mbuild_matrices(matrices)\n",
      "File \u001b[0;32m~/opt/anaconda3/envs/dedalus3/lib/python3.11/site-packages/dedalus/core/subsystems.py:489\u001b[0m, in \u001b[0;36mSubproblem.build_matrices\u001b[0;34m(self, names)\u001b[0m\n\u001b[1;32m    487\u001b[0m \u001b[39m# Check squareness of restricted system\u001b[39;00m\n\u001b[1;32m    488\u001b[0m \u001b[39mif\u001b[39;00m valid_eqn\u001b[39m.\u001b[39mnnz \u001b[39m!=\u001b[39m valid_var\u001b[39m.\u001b[39mnnz:\n\u001b[0;32m--> 489\u001b[0m     \u001b[39mraise\u001b[39;00m \u001b[39mValueError\u001b[39;00m(\u001b[39m\"\u001b[39m\u001b[39mNon-square system: group=\u001b[39m\u001b[39m{}\u001b[39;00m\u001b[39m, I=\u001b[39m\u001b[39m{}\u001b[39;00m\u001b[39m, J=\u001b[39m\u001b[39m{}\u001b[39;00m\u001b[39m\"\u001b[39m\u001b[39m.\u001b[39mformat(\u001b[39mself\u001b[39m\u001b[39m.\u001b[39mgroup, valid_eqn\u001b[39m.\u001b[39mnnz, valid_var\u001b[39m.\u001b[39mnnz))\n\u001b[1;32m    491\u001b[0m \u001b[39m# Permutations\u001b[39;00m\n\u001b[1;32m    492\u001b[0m left_perm \u001b[39m=\u001b[39m left_permutation(\u001b[39mself\u001b[39m, eqns, bc_top\u001b[39m=\u001b[39msolver\u001b[39m.\u001b[39mbc_top, interleave_components\u001b[39m=\u001b[39msolver\u001b[39m.\u001b[39minterleave_components)\u001b[39m.\u001b[39mtocsr()\n",
      "\u001b[0;31mValueError\u001b[0m: Non-square system: group=(0, None), I=169, J=167"
     ]
    }
   ],
   "source": [
    "# Solver\n",
    "solver = problem.build_solver(timestepper)\n",
    "solver.stop_sim_time = stop_sim_time\n"
   ]
  },
  {
   "cell_type": "code",
   "execution_count": null,
   "metadata": {},
   "outputs": [],
   "source": [
    "# Initial condition\n",
    "D.fill_random('g', seed=42, distribution='normal', scale=1e-3) # Random noise\n",
    "D['g'] *= z * (Lz - z) # Damp noise at walls\n",
    "D['g'] += (D_H-D_0)*z # Add linear background\n",
    "M.fill_random('g', seed=28, distribution='normal', scale=1e-3) # Random noise\n",
    "M['g'] *= z * (Lz - z) # Damp noise at walls\n",
    "M['g'] += (M_H-M_0)*z # Add linear background"
   ]
  },
  {
   "cell_type": "code",
   "execution_count": null,
   "metadata": {},
   "outputs": [],
   "source": [
    "# Analysis\n",
    "snapshots = solver.evaluator.add_file_handler('snapshots', sim_dt=0.25, max_writes=50)\n",
    "snapshots.add_tasks(solver.state,layout='g')"
   ]
  },
  {
   "cell_type": "code",
   "execution_count": null,
   "metadata": {},
   "outputs": [],
   "source": [
    "# CFL\n",
    "CFL = d3.CFL(solver, initial_dt=0.0001, cadence=10, safety=0.5, threshold=0.05,\n",
    "             max_change=1.1, min_change=0.5, max_dt=max_timestep)\n",
    "CFL.add_velocity(u)"
   ]
  },
  {
   "cell_type": "code",
   "execution_count": null,
   "metadata": {},
   "outputs": [],
   "source": [
    "# Flow properties\n",
    "flow = d3.GlobalFlowProperty(solver, cadence=10)\n",
    "flow.add_property(np.sqrt(u@u)/nu, name='Re')\n"
   ]
  },
  {
   "cell_type": "code",
   "execution_count": null,
   "metadata": {},
   "outputs": [
    {
     "name": "stdout",
     "output_type": "stream",
     "text": [
      "2023-09-20 18:04:01,051 __main__ 0/1 INFO :: Starting main loop\n",
      "2023-09-20 18:04:01,237 __main__ 0/1 ERROR :: Exception raised, triggering end of main loop.\n",
      "2023-09-20 18:04:01,237 solvers 0/1 INFO :: Final iteration: 0\n",
      "2023-09-20 18:04:01,237 solvers 0/1 INFO :: Final sim time: 0.0\n",
      "2023-09-20 18:04:01,238 solvers 0/1 INFO :: Setup time (init - iter 0): 14.1 sec\n",
      "2023-09-20 18:04:01,238 solvers 0/1 INFO :: Timings unavailable because warmup did not complete.\n"
     ]
    },
    {
     "ename": "RuntimeError",
     "evalue": "Factor is exactly singular",
     "output_type": "error",
     "traceback": [
      "\u001b[0;31m---------------------------------------------------------------------------\u001b[0m",
      "\u001b[0;31mRuntimeError\u001b[0m                              Traceback (most recent call last)",
      "\u001b[1;32m/Users/bobby/Documents/GitHub/Research-Dedalus/2d/MRBC/Freeslip/2d MBRC KBE.ipynb Cell 12\u001b[0m line \u001b[0;36m7\n\u001b[1;32m      <a href='vscode-notebook-cell:/Users/bobby/Documents/GitHub/Research-Dedalus/2d/MRBC/Freeslip/2d%20MBRC%20KBE.ipynb#X14sZmlsZQ%3D%3D?line=4'>5</a>\u001b[0m \u001b[39mwhile\u001b[39;00m solver\u001b[39m.\u001b[39mproceed:\n\u001b[1;32m      <a href='vscode-notebook-cell:/Users/bobby/Documents/GitHub/Research-Dedalus/2d/MRBC/Freeslip/2d%20MBRC%20KBE.ipynb#X14sZmlsZQ%3D%3D?line=5'>6</a>\u001b[0m     timestep \u001b[39m=\u001b[39m CFL\u001b[39m.\u001b[39mcompute_timestep()\n\u001b[0;32m----> <a href='vscode-notebook-cell:/Users/bobby/Documents/GitHub/Research-Dedalus/2d/MRBC/Freeslip/2d%20MBRC%20KBE.ipynb#X14sZmlsZQ%3D%3D?line=6'>7</a>\u001b[0m     solver\u001b[39m.\u001b[39;49mstep(timestep)\n\u001b[1;32m      <a href='vscode-notebook-cell:/Users/bobby/Documents/GitHub/Research-Dedalus/2d/MRBC/Freeslip/2d%20MBRC%20KBE.ipynb#X14sZmlsZQ%3D%3D?line=7'>8</a>\u001b[0m     \u001b[39mif\u001b[39;00m (solver\u001b[39m.\u001b[39miteration\u001b[39m-\u001b[39m\u001b[39m1\u001b[39m) \u001b[39m%\u001b[39m \u001b[39m10\u001b[39m \u001b[39m==\u001b[39m \u001b[39m0\u001b[39m:\n\u001b[1;32m      <a href='vscode-notebook-cell:/Users/bobby/Documents/GitHub/Research-Dedalus/2d/MRBC/Freeslip/2d%20MBRC%20KBE.ipynb#X14sZmlsZQ%3D%3D?line=8'>9</a>\u001b[0m         max_Re \u001b[39m=\u001b[39m flow\u001b[39m.\u001b[39mmax(\u001b[39m'\u001b[39m\u001b[39mRe\u001b[39m\u001b[39m'\u001b[39m)\n",
      "File \u001b[0;32m~/opt/anaconda3/envs/dedalus3/lib/python3.11/site-packages/dedalus/core/solvers.py:642\u001b[0m, in \u001b[0;36mInitialValueSolver.step\u001b[0;34m(self, dt)\u001b[0m\n\u001b[1;32m    640\u001b[0m     \u001b[39mself\u001b[39m\u001b[39m.\u001b[39mwarmup_time \u001b[39m=\u001b[39m wall_time\n\u001b[1;32m    641\u001b[0m \u001b[39m# Advance using timestepper\u001b[39;00m\n\u001b[0;32m--> 642\u001b[0m \u001b[39mself\u001b[39;49m\u001b[39m.\u001b[39;49mtimestepper\u001b[39m.\u001b[39;49mstep(dt, wall_time)\n\u001b[1;32m    643\u001b[0m \u001b[39m# Update iteration\u001b[39;00m\n\u001b[1;32m    644\u001b[0m \u001b[39mself\u001b[39m\u001b[39m.\u001b[39miteration \u001b[39m+\u001b[39m\u001b[39m=\u001b[39m \u001b[39m1\u001b[39m\n",
      "File \u001b[0;32m~/opt/anaconda3/envs/dedalus3/lib/python3.11/site-packages/dedalus/core/timesteppers.py:626\u001b[0m, in \u001b[0;36mRungeKuttaIMEX.step\u001b[0;34m(self, dt, wall_time)\u001b[0m\n\u001b[1;32m    624\u001b[0m     \u001b[39melse\u001b[39;00m:\n\u001b[1;32m    625\u001b[0m         sp\u001b[39m.\u001b[39mLHS \u001b[39m=\u001b[39m (sp\u001b[39m.\u001b[39mM_min \u001b[39m+\u001b[39m (k\u001b[39m*\u001b[39mH[i,i])\u001b[39m*\u001b[39msp\u001b[39m.\u001b[39mL_min) \u001b[39m@\u001b[39m sp\u001b[39m.\u001b[39mpre_right  \u001b[39m# CREATES TEMPORARY\u001b[39;00m\n\u001b[0;32m--> 626\u001b[0m     sp\u001b[39m.\u001b[39mLHS_solvers[i] \u001b[39m=\u001b[39m solver\u001b[39m.\u001b[39;49mmatsolver(sp\u001b[39m.\u001b[39;49mLHS, solver)\n\u001b[1;32m    627\u001b[0m \u001b[39m# Slice out valid subdata, skipping invalid components\u001b[39;00m\n\u001b[1;32m    628\u001b[0m spRHS \u001b[39m=\u001b[39m RHS\u001b[39m.\u001b[39mget_subdata(sp)[:sp\u001b[39m.\u001b[39mLHS\u001b[39m.\u001b[39mshape[\u001b[39m0\u001b[39m]]\n",
      "File \u001b[0;32m~/opt/anaconda3/envs/dedalus3/lib/python3.11/site-packages/dedalus/libraries/matsolvers.py:129\u001b[0m, in \u001b[0;36mSuperluNaturalFactorizedTranspose.__init__\u001b[0;34m(self, matrix, solver)\u001b[0m\n\u001b[1;32m    128\u001b[0m \u001b[39mdef\u001b[39;00m \u001b[39m__init__\u001b[39m(\u001b[39mself\u001b[39m, matrix, solver\u001b[39m=\u001b[39m\u001b[39mNone\u001b[39;00m):\n\u001b[0;32m--> 129\u001b[0m     \u001b[39mself\u001b[39m\u001b[39m.\u001b[39mLU \u001b[39m=\u001b[39m spla\u001b[39m.\u001b[39;49msplu(matrix\u001b[39m.\u001b[39;49mT\u001b[39m.\u001b[39;49mtocsc(), permc_spec\u001b[39m=\u001b[39;49m\u001b[39m'\u001b[39;49m\u001b[39mNATURAL\u001b[39;49m\u001b[39m'\u001b[39;49m)\n",
      "File \u001b[0;32m~/opt/anaconda3/envs/dedalus3/lib/python3.11/site-packages/scipy/sparse/linalg/_dsolve/linsolve.py:413\u001b[0m, in \u001b[0;36msplu\u001b[0;34m(A, permc_spec, diag_pivot_thresh, relax, panel_size, options)\u001b[0m\n\u001b[1;32m    410\u001b[0m \u001b[39mif\u001b[39;00m (_options[\u001b[39m\"\u001b[39m\u001b[39mColPerm\u001b[39m\u001b[39m\"\u001b[39m] \u001b[39m==\u001b[39m \u001b[39m\"\u001b[39m\u001b[39mNATURAL\u001b[39m\u001b[39m\"\u001b[39m):\n\u001b[1;32m    411\u001b[0m     _options[\u001b[39m\"\u001b[39m\u001b[39mSymmetricMode\u001b[39m\u001b[39m\"\u001b[39m] \u001b[39m=\u001b[39m \u001b[39mTrue\u001b[39;00m\n\u001b[0;32m--> 413\u001b[0m \u001b[39mreturn\u001b[39;00m _superlu\u001b[39m.\u001b[39;49mgstrf(N, A\u001b[39m.\u001b[39;49mnnz, A\u001b[39m.\u001b[39;49mdata, A\u001b[39m.\u001b[39;49mindices, A\u001b[39m.\u001b[39;49mindptr,\n\u001b[1;32m    414\u001b[0m                       csc_construct_func\u001b[39m=\u001b[39;49mcsc_construct_func,\n\u001b[1;32m    415\u001b[0m                       ilu\u001b[39m=\u001b[39;49m\u001b[39mFalse\u001b[39;49;00m, options\u001b[39m=\u001b[39;49m_options)\n",
      "\u001b[0;31mRuntimeError\u001b[0m: Factor is exactly singular"
     ]
    }
   ],
   "source": [
    "# Main loop\n",
    "startup_iter = 10\n",
    "try:\n",
    "    logger.info('Starting main loop')\n",
    "    while solver.proceed:\n",
    "        timestep = CFL.compute_timestep()\n",
    "        solver.step(timestep)\n",
    "        if (solver.iteration-1) % 10 == 0:\n",
    "            max_Re = flow.max('Re')\n",
    "            logger.info('Iteration=%i, Time=%e, dt=%e, max(Re)=%f' %(solver.iteration, solver.sim_time, timestep, max_Re))\n",
    "except:\n",
    "    logger.error('Exception raised, triggering end of main loop.')\n",
    "    raise\n",
    "finally:\n",
    "    solver.log_stats()"
   ]
  }
 ],
 "metadata": {
  "kernelspec": {
   "display_name": "dedalus3",
   "language": "python",
   "name": "python3"
  },
  "language_info": {
   "codemirror_mode": {
    "name": "ipython",
    "version": 3
   },
   "file_extension": ".py",
   "mimetype": "text/x-python",
   "name": "python",
   "nbconvert_exporter": "python",
   "pygments_lexer": "ipython3",
   "version": "3.11.3"
  }
 },
 "nbformat": 4,
 "nbformat_minor": 4
}
