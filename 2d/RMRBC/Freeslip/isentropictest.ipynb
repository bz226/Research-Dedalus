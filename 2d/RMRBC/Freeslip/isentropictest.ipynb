{
 "cells": [
  {
   "cell_type": "code",
   "execution_count": 1,
   "metadata": {},
   "outputs": [],
   "source": [
    "import numpy as np\n",
    "import logging\n",
    "logger = logging.getLogger(__name__)\n",
    "import copy\n",
    "import h5py\n",
    "import numpy as np\n",
    "import matplotlib\n",
    "import re\n",
    "\n",
    "import matplotlib.pyplot as plt\n",
    "\n",
    "from mpl_toolkits.mplot3d import Axes3D\n",
    "from matplotlib.colors import Normalize\n",
    "\n",
    "import os\n",
    "from os import listdir"
   ]
  },
  {
   "cell_type": "code",
   "execution_count": 19,
   "metadata": {},
   "outputs": [],
   "source": [
    "# Parameters\n",
    "Lx, Lz = 4,1\n",
    "Nx, Nz = 128, 32\n",
    "Ra_M = 4.5e5\n",
    "D_0 = 0\n",
    "D_H = 1/3\n",
    "M_0 = 0\n",
    "M_H = -1\n",
    "N_s2=4/3\n",
    "f=0.05\n",
    "\n",
    "Prandtl = 0.7\n",
    "dealias = 3/2"
   ]
  },
  {
   "cell_type": "code",
   "execution_count": 20,
   "metadata": {},
   "outputs": [
    {
     "name": "stdout",
     "output_type": "stream",
     "text": [
      "['snapshots/snapshots_s1.h5', 'snapshots/snapshots_s2.h5', 'snapshots/snapshots_s3.h5', 'snapshots/snapshots_s4.h5']\n"
     ]
    }
   ],
   "source": [
    "folder_dir = \"snapshots\"\n",
    "\n",
    "file_paths = [os.path.join(folder_dir, file) for file in listdir(folder_dir) if os.path.isfile(os.path.join(folder_dir, file)) and file.endswith('.h5')]\n",
    "#sort by the number in the file name\n",
    "file_paths.sort(key=lambda f: int(re.sub('\\D', '', f)))\n",
    "print(file_paths)"
   ]
  },
  {
   "cell_type": "code",
   "execution_count": 25,
   "metadata": {},
   "outputs": [
    {
     "name": "stdout",
     "output_type": "stream",
     "text": [
      "['scales', 'tasks']\n",
      "['constant', 'iteration', 'sim_time', 'timestep', 'wall_time', 'write_number', 'x_hash_e879951bed887acb6bcc55bce5faf13406e7c2c3', 'z_hash_379a9dade55ae037045163625e8eb5bc152eeb8d']\n",
      "['D', 'M', 'horizontal avg B', 'horizontal avg D', 'horizontal avg M', 'horizontal avg liquid', 'horizontal avg uy', 'p', 'tau_D1', 'tau_D2', 'tau_M1', 'tau_M2', 'tau_p', 'tau_u1', 'tau_u2', 'tau_u3', 'tau_u4', 'temp Nu', 'u', 'uy']\n"
     ]
    }
   ],
   "source": [
    "#read coordinates\n",
    "with h5py.File('snapshots/snapshots_s1.h5', mode='r') as file:\n",
    "    print(list(file.keys()))\n",
    "    scalekeys=list(file['scales'].keys())\n",
    "    taskkeys=list(file['tasks'].keys())\n",
    "    print(scalekeys)\n",
    "    print(taskkeys)\n",
    "    #automatic read x y zhash: testing feature\n",
    "    xhash=scalekeys[-2]\n",
    "    zhash=scalekeys[-1]\n",
    "    x=file['scales'][xhash]\n",
    "    z=file['scales'][zhash]\n",
    "    x=np.array(x)\n",
    "    z=np.array(z)\n"
   ]
  },
  {
   "cell_type": "code",
   "execution_count": 26,
   "metadata": {},
   "outputs": [
    {
     "name": "stdout",
     "output_type": "stream",
     "text": [
      "['snapshots/snapshots_s1.h5', 'snapshots/snapshots_s2.h5', 'snapshots/snapshots_s3.h5', 'snapshots/snapshots_s4.h5']\n",
      "[-0.995 -0.985 -0.975 -0.965 -0.955 -0.945 -0.935 -0.925 -0.915 -0.905\n",
      " -0.895 -0.885 -0.875 -0.865 -0.855 -0.845 -0.835 -0.825 -0.815 -0.805\n",
      " -0.795 -0.785 -0.775 -0.765 -0.755 -0.745 -0.735 -0.725 -0.715 -0.705\n",
      " -0.695 -0.685 -0.675 -0.665 -0.655 -0.645 -0.635 -0.625 -0.615 -0.605\n",
      " -0.595 -0.585 -0.575 -0.565 -0.555 -0.545 -0.535 -0.525 -0.515 -0.505\n",
      " -0.495 -0.485 -0.475 -0.465 -0.455 -0.445 -0.435 -0.425 -0.415 -0.405\n",
      " -0.395 -0.385 -0.375 -0.365 -0.355 -0.345 -0.335 -0.325 -0.315 -0.305\n",
      " -0.295 -0.285 -0.275 -0.265 -0.255 -0.245 -0.235 -0.225 -0.215 -0.205\n",
      " -0.195 -0.185 -0.175 -0.165 -0.155 -0.145 -0.135 -0.125 -0.115 -0.105\n",
      " -0.095 -0.085 -0.075 -0.065 -0.055 -0.045 -0.035 -0.025 -0.015 -0.005]\n",
      "0\n"
     ]
    },
    {
     "name": "stderr",
     "output_type": "stream",
     "text": [
      "/var/folders/3j/9b_qh0z13pv__zzfxvd58x_r0000gn/T/ipykernel_34386/3151868310.py:51: RuntimeWarning: divide by zero encountered in log\n",
      "  logiPav=np.log(iPav)\n"
     ]
    }
   ],
   "source": [
    "#Implement Isentropic Analysis\n",
    "folder_dir = \"snapshots\"\n",
    "\n",
    "file_paths = [os.path.join(folder_dir, file) for file in listdir(folder_dir) if os.path.isfile(os.path.join(folder_dir, file)) and file.endswith('.h5')]\n",
    "#sort by the number in the file name\n",
    "file_paths.sort(key=lambda f: int(re.sub('\\D', '', f)))\n",
    "print(file_paths)\n",
    "file_paths=file_paths[3:]\n",
    "\n",
    "if not os.path.exists('isentropic'):\n",
    "    os.mkdir('isentropic')\n",
    "\n",
    "#Preparation of bins and lists\n",
    "Msize=(M_0-M_H)/100\n",
    "bin=np.arange(M_H,M_0,Msize)\n",
    "Mlist=bin+Msize/2\n",
    "print(Mlist)\n",
    "timelist=[]\n",
    "for file in file_paths:\n",
    "    with h5py.File(file, mode='r') as file:\n",
    "        st = file['scales/sim_time']\n",
    "        simtime = np.array(st)\n",
    "        timelist.append(simtime)\n",
    "timelist=np.array(timelist)\n",
    "\n",
    "#Isentropic functions define\n",
    "iP=np.zeros((Nz,len(Mlist),timelist.size))\n",
    "iM=np.zeros((Nz,len(Mlist),timelist.size))\n",
    "\n",
    "n=-1\n",
    "#Calcultion\n",
    "for file in file_paths:\n",
    "    n=n+1\n",
    "    print(n)\n",
    "    with h5py.File(file, mode='r') as file:\n",
    "        M = file['tasks']['M']\n",
    "        st = file['scales/sim_time']\n",
    "        simtime=np.array(st)\n",
    "        for t in range(0, len(simtime)):\n",
    "            for z1 in range(0,Nz):\n",
    "                for m1 in range(0,len(Mlist)):\n",
    "                    for x1 in range(0,Nx):\n",
    "                        if Mlist[m1]-Msize/2<=M[t,x1,z1]<=Mlist[m1]+Msize/2:\n",
    "                            iP[z1,m1,t+n*len(simtime)]+=1/Msize\n",
    "                            iM[z1,m1,t+n*len(simtime)]+=M[t,x1,z1]/Msize\n",
    "#time-average\n",
    "iPav=np.average(iP,axis=2)\n",
    "iMav=np.average(iM,axis=2)\n",
    "\n",
    "#Plotting (Incomplete)\n",
    "logiPav=np.log(iPav)\n",
    "plt.contourf(logiPav,cmap='RdBu_r')\n",
    "plt.colorbar(label='Isendist')\n",
    "plt.xlabel('M/(M_0-M_H)')\n",
    "plt.ylabel('z')\n",
    "plt.savefig(f'isentropic/Isendist.png', dpi=200, bbox_inches='tight')\n",
    "plt.close()\n",
    "\n",
    "#Isentropic Stream Function\n",
    "Psi_M=np.zeros((Nz,len(Mlist),timelist.size))\n",
    "for t in range(0,len(timelist)):\n",
    "    for z1 in range(0,Nz):\n",
    "        for m1 in range(0,len(Mlist)):\n",
    "            for madd in range(0,m1):\n",
    "                Psi_M[z1,m1,t]+=iM[z1,madd,t]\n",
    "\n",
    "#time-average\n",
    "Psi_Mav=np.average(Psi_M,axis=2)\n",
    "                \n",
    "#Plotting (Incomplete)\n",
    "plt.contourf(Psi_Mav,cmap='RdBu_r')\n",
    "plt.colorbar(label='Psi_M')\n",
    "plt.xlabel('M/(M_0-M_H)')\n",
    "plt.ylabel('z')\n",
    "plt.savefig(f'isentropic/Psi_M.png', dpi=200, bbox_inches='tight')\n",
    "plt.close()"
   ]
  }
 ],
 "metadata": {
  "kernelspec": {
   "display_name": "dedalus3",
   "language": "python",
   "name": "python3"
  },
  "language_info": {
   "codemirror_mode": {
    "name": "ipython",
    "version": 3
   },
   "file_extension": ".py",
   "mimetype": "text/x-python",
   "name": "python",
   "nbconvert_exporter": "python",
   "pygments_lexer": "ipython3",
   "version": "3.11.3"
  }
 },
 "nbformat": 4,
 "nbformat_minor": 2
}
