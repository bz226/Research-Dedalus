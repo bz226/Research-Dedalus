{
 "cells": [
  {
   "cell_type": "markdown",
   "metadata": {},
   "source": [
    "\"\"\"\n",
    "Dedalus script simulating 2D horizontally-periodic Rayleigh-Benard convection.\n",
    "This script demonstrates solving a 2D Cartesian initial value problem. It can\n",
    "be ran serially or in parallel, and uses the built-in analysis framework to save\n",
    "data snapshots to HDF5 files. The `plot_snapshots.py` script can be used to\n",
    "produce plots from the saved data. It should take about 5 cpu-minutes to run.\n",
    "\n",
    "The problem is non-dimensionalized using the box height and freefall time, so\n",
    "the resulting thermal diffusivity and viscosity are related to the Prandtl\n",
    "and Rayleigh numbers as:\n",
    "\n",
    "    kappa = (Rayleigh * Prandtl)**(-1/2)\n",
    "    nu = (Rayleigh / Prandtl)**(-1/2)\n",
    "\n",
    "For incompressible hydro with two boundaries, we need two tau terms for each the\n",
    "velocity and buoyancy. Here we choose to use a first-order formulation, putting\n",
    "one tau term each on auxiliary first-order gradient variables and the others in\n",
    "the PDE, and lifting them all to the first derivative basis. This formulation puts\n",
    "a tau term in the divergence constraint, as required for this geometry.\n",
    "\n",
    "To run and plot using e.g. 4 processes:\n",
    "    $ mpiexec -n 4 python3 rayleigh_benard.py\n",
    "    $ mpiexec -n 4 python3 plot_snapshots.py snapshots/*.h5\n",
    "\"\"\"\n"
   ]
  },
  {
   "cell_type": "code",
   "execution_count": 2,
   "metadata": {},
   "outputs": [],
   "source": [
    "import numpy as np\n",
    "import dedalus.public as d3\n",
    "import logging\n",
    "logger = logging.getLogger(__name__)"
   ]
  },
  {
   "cell_type": "code",
   "execution_count": 3,
   "metadata": {},
   "outputs": [],
   "source": [
    "# Parameters\n",
    "Lx, Lz = 4, 1\n",
    "Nx, Nz = 256, 64\n",
    "Rayleigh = 2e6\n",
    "Prandtl = 1\n",
    "dealias = 3/2\n",
    "stop_sim_time = 50\n",
    "timestepper = d3.RK222\n",
    "max_timestep = 0.125\n",
    "dtype = np.float64"
   ]
  },
  {
   "cell_type": "code",
   "execution_count": 4,
   "metadata": {},
   "outputs": [],
   "source": [
    "# Bases\n",
    "coords = d3.CartesianCoordinates('x', 'z')\n",
    "dist = d3.Distributor(coords, dtype=dtype)\n",
    "xbasis = d3.RealFourier(coords['x'], size=Nx, bounds=(0, Lx), dealias=dealias)\n",
    "zbasis = d3.ChebyshevT(coords['z'], size=Nz, bounds=(0, Lz), dealias=dealias)"
   ]
  },
  {
   "cell_type": "code",
   "execution_count": 5,
   "metadata": {},
   "outputs": [],
   "source": [
    "# Fields\n",
    "p = dist.Field(name='p', bases=(xbasis,zbasis))\n",
    "b = dist.Field(name='b', bases=(xbasis,zbasis))\n",
    "u = dist.VectorField(coords, name='u', bases=(xbasis,zbasis))\n",
    "tau_p = dist.Field(name='tau_p')\n",
    "tau_b1 = dist.Field(name='tau_b1', bases=xbasis)\n",
    "tau_b2 = dist.Field(name='tau_b2', bases=xbasis)\n",
    "tau_u1 = dist.VectorField(coords, name='tau_u1', bases=xbasis)\n",
    "tau_u2 = dist.VectorField(coords, name='tau_u2', bases=xbasis)\n",
    "tau_u3 = dist.VectorField(coords, name='tau_u3', bases=xbasis)\n",
    "# Substitutions\n",
    "kappa = (Rayleigh * Prandtl)**(-1/2)\n",
    "nu = (Rayleigh / Prandtl)**(-1/2)\n",
    "x, z = dist.local_grids(xbasis, zbasis)\n",
    "ex, ez = coords.unit_vector_fields(dist)\n",
    "lift_basis = zbasis.derivative_basis(1)\n",
    "lift = lambda A: d3.Lift(A, lift_basis, -1)\n",
    "grad_u = d3.grad(u) + ez*lift(tau_u1) # First-order reduction\n",
    "grad_b = d3.grad(b) + ez*lift(tau_b1) # First-order reduction\n",
    "dz= lambda A: d3.Differentiate(A, coords['z'])\n",
    "dx= lambda A: d3.Differentiate(A, coords['x'])"
   ]
  },
  {
   "cell_type": "code",
   "execution_count": 6,
   "metadata": {},
   "outputs": [
    {
     "data": {
      "text/plain": [
       "{'LHS': Integrate(Integrate(<Field 22472637055472>)),\n",
       " 'RHS': 0,\n",
       " 'condition': 'True',\n",
       " 'tensorsig': (),\n",
       " 'dtype': numpy.float64,\n",
       " 'M': 0,\n",
       " 'L': Integrate(Integrate(<Field 22472637055472>)),\n",
       " 'F': <Field 22472636824496>,\n",
       " 'domain': <dedalus.core.domain.Domain at 0x1470518c8550>,\n",
       " 'matrix_dependence': array([ True,  True]),\n",
       " 'matrix_coupling': array([False,  True])}"
      ]
     },
     "execution_count": 6,
     "metadata": {},
     "output_type": "execute_result"
    }
   ],
   "source": [
    "# Problem\n",
    "# First-order form: \"div(f)\" becomes \"trace(grad_f)\"\n",
    "# First-order form: \"lap(f)\" becomes \"div(grad_f)\"\n",
    "problem = d3.IVP([p, b, u, tau_p, tau_b1, tau_b2, tau_u1, tau_u2], namespace=locals())\n",
    "problem.add_equation(\"trace(grad_u)+ tau_p = 0\")\n",
    "problem.add_equation(\"dt(b) - kappa*div(grad_b) + lift(tau_b2) = - u@grad(b)\")\n",
    "problem.add_equation(\"dt(u) - nu*div(grad_u) + grad(p) - b*ez + lift(tau_u2) = - u@grad(u)-lift(tau_u3)\")\n",
    "problem.add_equation(\"b(z=0) = Lz\")\n",
    "problem.add_equation(\"u(z=0) = 0\")\n",
    "problem.add_equation(\"b(z=Lz) = 0\")\n",
    "problem.add_equation(\"u(z=Lz)@ez = 0\")\n",
    "problem.add_equation(\"dz(u)(z=Lz) = 0\")\n",
    "problem.add_equation(\"integ(p) = 0\") # Pressure gauge"
   ]
  },
  {
   "cell_type": "code",
   "execution_count": 9,
   "metadata": {},
   "outputs": [
    {
     "ename": "ValueError",
     "evalue": "Non-square system: group=(0, None), I=264, J=263",
     "output_type": "error",
     "traceback": [
      "\u001b[0;31m---------------------------------------------------------------------------\u001b[0m",
      "\u001b[0;31mValueError\u001b[0m                                Traceback (most recent call last)",
      "Cell \u001b[0;32mIn[9], line 2\u001b[0m\n\u001b[1;32m      1\u001b[0m \u001b[38;5;66;03m# Solver\u001b[39;00m\n\u001b[0;32m----> 2\u001b[0m solver \u001b[38;5;241m=\u001b[39m \u001b[43mproblem\u001b[49m\u001b[38;5;241;43m.\u001b[39;49m\u001b[43mbuild_solver\u001b[49m\u001b[43m(\u001b[49m\u001b[43mtimestepper\u001b[49m\u001b[43m)\u001b[49m\n\u001b[1;32m      3\u001b[0m solver\u001b[38;5;241m.\u001b[39mstop_sim_time \u001b[38;5;241m=\u001b[39m stop_sim_time\n",
      "File \u001b[0;32m/ext3/miniconda3/lib/python3.10/site-packages/dedalus/core/problems.py:95\u001b[0m, in \u001b[0;36mProblemBase.build_solver\u001b[0;34m(self, *args, **kw)\u001b[0m\n\u001b[1;32m     93\u001b[0m \u001b[38;5;28;01mdef\u001b[39;00m \u001b[38;5;21mbuild_solver\u001b[39m(\u001b[38;5;28mself\u001b[39m, \u001b[38;5;241m*\u001b[39margs, \u001b[38;5;241m*\u001b[39m\u001b[38;5;241m*\u001b[39mkw):\n\u001b[1;32m     94\u001b[0m \u001b[38;5;250m    \u001b[39m\u001b[38;5;124;03m\"\"\"Build corresponding solver class.\"\"\"\u001b[39;00m\n\u001b[0;32m---> 95\u001b[0m     \u001b[38;5;28;01mreturn\u001b[39;00m \u001b[38;5;28;43mself\u001b[39;49m\u001b[38;5;241;43m.\u001b[39;49m\u001b[43msolver_class\u001b[49m\u001b[43m(\u001b[49m\u001b[38;5;28;43mself\u001b[39;49m\u001b[43m,\u001b[49m\u001b[43m \u001b[49m\u001b[38;5;241;43m*\u001b[39;49m\u001b[43margs\u001b[49m\u001b[43m,\u001b[49m\u001b[43m \u001b[49m\u001b[38;5;241;43m*\u001b[39;49m\u001b[38;5;241;43m*\u001b[39;49m\u001b[43mkw\u001b[49m\u001b[43m)\u001b[49m\n",
      "File \u001b[0;32m/ext3/miniconda3/lib/python3.10/site-packages/dedalus/core/solvers.py:504\u001b[0m, in \u001b[0;36mInitialValueSolver.__init__\u001b[0;34m(self, problem, timestepper, enforce_real_cadence, warmup_iterations, **kw)\u001b[0m\n\u001b[1;32m    502\u001b[0m \u001b[38;5;28mself\u001b[39m\u001b[38;5;241m.\u001b[39minit_time \u001b[38;5;241m=\u001b[39m \u001b[38;5;28mself\u001b[39m\u001b[38;5;241m.\u001b[39mget_wall_time()\n\u001b[1;32m    503\u001b[0m \u001b[38;5;66;03m# Build LHS matrices\u001b[39;00m\n\u001b[0;32m--> 504\u001b[0m \u001b[43msubsystems\u001b[49m\u001b[38;5;241;43m.\u001b[39;49m\u001b[43mbuild_subproblem_matrices\u001b[49m\u001b[43m(\u001b[49m\u001b[38;5;28;43mself\u001b[39;49m\u001b[43m,\u001b[49m\u001b[43m \u001b[49m\u001b[38;5;28;43mself\u001b[39;49m\u001b[38;5;241;43m.\u001b[39;49m\u001b[43msubproblems\u001b[49m\u001b[43m,\u001b[49m\u001b[43m \u001b[49m\u001b[43m[\u001b[49m\u001b[38;5;124;43m'\u001b[39;49m\u001b[38;5;124;43mM\u001b[39;49m\u001b[38;5;124;43m'\u001b[39;49m\u001b[43m,\u001b[49m\u001b[43m \u001b[49m\u001b[38;5;124;43m'\u001b[39;49m\u001b[38;5;124;43mL\u001b[39;49m\u001b[38;5;124;43m'\u001b[39;49m\u001b[43m]\u001b[49m\u001b[43m)\u001b[49m\n\u001b[1;32m    505\u001b[0m \u001b[38;5;66;03m# Compute total modes\u001b[39;00m\n\u001b[1;32m    506\u001b[0m local_modes \u001b[38;5;241m=\u001b[39m \u001b[38;5;28msum\u001b[39m(ss\u001b[38;5;241m.\u001b[39msubproblem\u001b[38;5;241m.\u001b[39mpre_right\u001b[38;5;241m.\u001b[39mshape[\u001b[38;5;241m1\u001b[39m] \u001b[38;5;28;01mfor\u001b[39;00m ss \u001b[38;5;129;01min\u001b[39;00m \u001b[38;5;28mself\u001b[39m\u001b[38;5;241m.\u001b[39msubsystems)\n",
      "File \u001b[0;32m/ext3/miniconda3/lib/python3.10/site-packages/dedalus/core/subsystems.py:80\u001b[0m, in \u001b[0;36mbuild_subproblem_matrices\u001b[0;34m(solver, subproblems, matrices)\u001b[0m\n\u001b[1;32m     78\u001b[0m \u001b[38;5;66;03m# Build matrices\u001b[39;00m\n\u001b[1;32m     79\u001b[0m \u001b[38;5;28;01mfor\u001b[39;00m subproblem \u001b[38;5;129;01min\u001b[39;00m log_progress(subproblems, logger, \u001b[38;5;124m'\u001b[39m\u001b[38;5;124minfo\u001b[39m\u001b[38;5;124m'\u001b[39m, desc\u001b[38;5;241m=\u001b[39m\u001b[38;5;124m'\u001b[39m\u001b[38;5;124mBuilding subproblem matrices\u001b[39m\u001b[38;5;124m'\u001b[39m, \u001b[38;5;28miter\u001b[39m\u001b[38;5;241m=\u001b[39mnp\u001b[38;5;241m.\u001b[39minf, frac\u001b[38;5;241m=\u001b[39m\u001b[38;5;241m0.1\u001b[39m, dt\u001b[38;5;241m=\u001b[39m\u001b[38;5;241m10\u001b[39m):\n\u001b[0;32m---> 80\u001b[0m      \u001b[43msubproblem\u001b[49m\u001b[38;5;241;43m.\u001b[39;49m\u001b[43mbuild_matrices\u001b[49m\u001b[43m(\u001b[49m\u001b[43mmatrices\u001b[49m\u001b[43m)\u001b[49m\n",
      "File \u001b[0;32m/ext3/miniconda3/lib/python3.10/site-packages/dedalus/core/subsystems.py:489\u001b[0m, in \u001b[0;36mSubproblem.build_matrices\u001b[0;34m(self, names)\u001b[0m\n\u001b[1;32m    487\u001b[0m \u001b[38;5;66;03m# Check squareness of restricted system\u001b[39;00m\n\u001b[1;32m    488\u001b[0m \u001b[38;5;28;01mif\u001b[39;00m valid_eqn\u001b[38;5;241m.\u001b[39mnnz \u001b[38;5;241m!=\u001b[39m valid_var\u001b[38;5;241m.\u001b[39mnnz:\n\u001b[0;32m--> 489\u001b[0m     \u001b[38;5;28;01mraise\u001b[39;00m \u001b[38;5;167;01mValueError\u001b[39;00m(\u001b[38;5;124m\"\u001b[39m\u001b[38;5;124mNon-square system: group=\u001b[39m\u001b[38;5;132;01m{}\u001b[39;00m\u001b[38;5;124m, I=\u001b[39m\u001b[38;5;132;01m{}\u001b[39;00m\u001b[38;5;124m, J=\u001b[39m\u001b[38;5;132;01m{}\u001b[39;00m\u001b[38;5;124m\"\u001b[39m\u001b[38;5;241m.\u001b[39mformat(\u001b[38;5;28mself\u001b[39m\u001b[38;5;241m.\u001b[39mgroup, valid_eqn\u001b[38;5;241m.\u001b[39mnnz, valid_var\u001b[38;5;241m.\u001b[39mnnz))\n\u001b[1;32m    491\u001b[0m \u001b[38;5;66;03m# Permutations\u001b[39;00m\n\u001b[1;32m    492\u001b[0m left_perm \u001b[38;5;241m=\u001b[39m left_permutation(\u001b[38;5;28mself\u001b[39m, eqns, bc_top\u001b[38;5;241m=\u001b[39msolver\u001b[38;5;241m.\u001b[39mbc_top, interleave_components\u001b[38;5;241m=\u001b[39msolver\u001b[38;5;241m.\u001b[39minterleave_components)\u001b[38;5;241m.\u001b[39mtocsr()\n",
      "\u001b[0;31mValueError\u001b[0m: Non-square system: group=(0, None), I=264, J=263"
     ]
    }
   ],
   "source": [
    "# Solver\n",
    "solver = problem.build_solver(timestepper)\n",
    "solver.stop_sim_time = stop_sim_time\n"
   ]
  },
  {
   "cell_type": "code",
   "execution_count": null,
   "metadata": {},
   "outputs": [],
   "source": [
    "# Initial conditions\n",
    "b.fill_random('g', seed=42, distribution='normal', scale=1e-3) # Random noise\n",
    "b['g'] *= z * (Lz - z) # Damp noise at walls\n",
    "b['g'] += Lz - z # Add linear background"
   ]
  },
  {
   "cell_type": "code",
   "execution_count": 8,
   "metadata": {},
   "outputs": [
    {
     "ename": "NameError",
     "evalue": "name 'solver' is not defined",
     "output_type": "error",
     "traceback": [
      "\u001b[0;31m---------------------------------------------------------------------------\u001b[0m",
      "\u001b[0;31mNameError\u001b[0m                                 Traceback (most recent call last)",
      "Cell \u001b[0;32mIn[8], line 2\u001b[0m\n\u001b[1;32m      1\u001b[0m \u001b[38;5;66;03m# Analysis\u001b[39;00m\n\u001b[0;32m----> 2\u001b[0m snapshots \u001b[38;5;241m=\u001b[39m \u001b[43msolver\u001b[49m\u001b[38;5;241m.\u001b[39mevaluator\u001b[38;5;241m.\u001b[39madd_file_handler(\u001b[38;5;124m'\u001b[39m\u001b[38;5;124msnapshots\u001b[39m\u001b[38;5;124m'\u001b[39m, sim_dt\u001b[38;5;241m=\u001b[39m\u001b[38;5;241m0.25\u001b[39m, max_writes\u001b[38;5;241m=\u001b[39m\u001b[38;5;241m50\u001b[39m)\n\u001b[1;32m      3\u001b[0m snapshots\u001b[38;5;241m.\u001b[39madd_task(b, name\u001b[38;5;241m=\u001b[39m\u001b[38;5;124m'\u001b[39m\u001b[38;5;124mbuoyancy\u001b[39m\u001b[38;5;124m'\u001b[39m)\n\u001b[1;32m      4\u001b[0m snapshots\u001b[38;5;241m.\u001b[39madd_task(\u001b[38;5;241m-\u001b[39md3\u001b[38;5;241m.\u001b[39mdiv(d3\u001b[38;5;241m.\u001b[39mskew(u)), name\u001b[38;5;241m=\u001b[39m\u001b[38;5;124m'\u001b[39m\u001b[38;5;124mvorticity\u001b[39m\u001b[38;5;124m'\u001b[39m)\n",
      "\u001b[0;31mNameError\u001b[0m: name 'solver' is not defined"
     ]
    }
   ],
   "source": [
    "# Analysis\n",
    "snapshots = solver.evaluator.add_file_handler('snapshots', sim_dt=0.25, max_writes=50)\n",
    "snapshots.add_task(b, name='buoyancy')\n",
    "snapshots.add_task(-d3.div(d3.skew(u)), name='vorticity')"
   ]
  },
  {
   "cell_type": "code",
   "execution_count": 40,
   "metadata": {},
   "outputs": [
    {
     "ename": "NameError",
     "evalue": "name 'solver' is not defined",
     "output_type": "error",
     "traceback": [
      "\u001b[0;31m---------------------------------------------------------------------------\u001b[0m",
      "\u001b[0;31mNameError\u001b[0m                                 Traceback (most recent call last)",
      "Cell \u001b[0;32mIn[40], line 2\u001b[0m\n\u001b[1;32m      1\u001b[0m \u001b[38;5;66;03m# CFL\u001b[39;00m\n\u001b[0;32m----> 2\u001b[0m CFL \u001b[38;5;241m=\u001b[39m d3\u001b[38;5;241m.\u001b[39mCFL(\u001b[43msolver\u001b[49m, initial_dt\u001b[38;5;241m=\u001b[39mmax_timestep, cadence\u001b[38;5;241m=\u001b[39m\u001b[38;5;241m10\u001b[39m, safety\u001b[38;5;241m=\u001b[39m\u001b[38;5;241m0.5\u001b[39m, threshold\u001b[38;5;241m=\u001b[39m\u001b[38;5;241m0.05\u001b[39m,\n\u001b[1;32m      3\u001b[0m              max_change\u001b[38;5;241m=\u001b[39m\u001b[38;5;241m1.5\u001b[39m, min_change\u001b[38;5;241m=\u001b[39m\u001b[38;5;241m0.5\u001b[39m, max_dt\u001b[38;5;241m=\u001b[39mmax_timestep)\n\u001b[1;32m      4\u001b[0m CFL\u001b[38;5;241m.\u001b[39madd_velocity(u)\n",
      "\u001b[0;31mNameError\u001b[0m: name 'solver' is not defined"
     ]
    }
   ],
   "source": [
    "# CFL\n",
    "CFL = d3.CFL(solver, initial_dt=max_timestep, cadence=10, safety=0.5, threshold=0.05,\n",
    "             max_change=1.5, min_change=0.5, max_dt=max_timestep)\n",
    "CFL.add_velocity(u)"
   ]
  },
  {
   "cell_type": "code",
   "execution_count": 41,
   "metadata": {},
   "outputs": [
    {
     "ename": "NameError",
     "evalue": "name 'solver' is not defined",
     "output_type": "error",
     "traceback": [
      "\u001b[0;31m---------------------------------------------------------------------------\u001b[0m",
      "\u001b[0;31mNameError\u001b[0m                                 Traceback (most recent call last)",
      "Cell \u001b[0;32mIn[41], line 2\u001b[0m\n\u001b[1;32m      1\u001b[0m \u001b[38;5;66;03m# Flow properties\u001b[39;00m\n\u001b[0;32m----> 2\u001b[0m flow \u001b[38;5;241m=\u001b[39m d3\u001b[38;5;241m.\u001b[39mGlobalFlowProperty(\u001b[43msolver\u001b[49m, cadence\u001b[38;5;241m=\u001b[39m\u001b[38;5;241m10\u001b[39m)\n\u001b[1;32m      3\u001b[0m flow\u001b[38;5;241m.\u001b[39madd_property(np\u001b[38;5;241m.\u001b[39msqrt(u\u001b[38;5;129m@u\u001b[39m)\u001b[38;5;241m/\u001b[39mnu, name\u001b[38;5;241m=\u001b[39m\u001b[38;5;124m'\u001b[39m\u001b[38;5;124mRe\u001b[39m\u001b[38;5;124m'\u001b[39m)\n",
      "\u001b[0;31mNameError\u001b[0m: name 'solver' is not defined"
     ]
    }
   ],
   "source": [
    "# Flow properties\n",
    "flow = d3.GlobalFlowProperty(solver, cadence=10)\n",
    "flow.add_property(np.sqrt(u@u)/nu, name='Re')\n"
   ]
  },
  {
   "cell_type": "code",
   "execution_count": null,
   "metadata": {},
   "outputs": [],
   "source": [
    "# Main loop\n",
    "startup_iter = 10\n",
    "try:\n",
    "    logger.info('Starting main loop')\n",
    "    while solver.proceed:\n",
    "        timestep = CFL.compute_timestep()\n",
    "        solver.step(timestep)\n",
    "        if (solver.iteration-1) % 10 == 0:\n",
    "            max_Re = flow.max('Re')\n",
    "            logger.info('Iteration=%i, Time=%e, dt=%e, max(Re)=%f' %(solver.iteration, solver.sim_time, timestep, max_Re))\n",
    "except:\n",
    "    logger.error('Exception raised, triggering end of main loop.')\n",
    "    raise\n",
    "finally:\n",
    "    solver.log_stats()"
   ]
  }
 ],
 "metadata": {
  "kernelspec": {
   "display_name": "dedalus3",
   "language": "python",
   "name": "dedalus3"
  },
  "language_info": {
   "codemirror_mode": {
    "name": "ipython",
    "version": 3
   },
   "file_extension": ".py",
   "mimetype": "text/x-python",
   "name": "python",
   "nbconvert_exporter": "python",
   "pygments_lexer": "ipython3",
   "version": "3.10.10"
  }
 },
 "nbformat": 4,
 "nbformat_minor": 4
}
