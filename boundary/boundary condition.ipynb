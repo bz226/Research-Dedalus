{
 "cells": [
  {
   "cell_type": "markdown",
   "metadata": {},
   "source": [
    "\"\"\"\n",
    "Dedalus script simulating 2D horizontally-periodic Rayleigh-Benard convection.\n",
    "This script demonstrates solving a 2D Cartesian initial value problem. It can\n",
    "be ran serially or in parallel, and uses the built-in analysis framework to save\n",
    "data snapshots to HDF5 files. The `plot_snapshots.py` script can be used to\n",
    "produce plots from the saved data. It should take about 5 cpu-minutes to run.\n",
    "\n",
    "The problem is non-dimensionalized using the box height and freefall time, so\n",
    "the resulting thermal diffusivity and viscosity are related to the Prandtl\n",
    "and Rayleigh numbers as:\n",
    "\n",
    "    kappa = (Rayleigh * Prandtl)**(-1/2)\n",
    "    nu = (Rayleigh / Prandtl)**(-1/2)\n",
    "\n",
    "For incompressible hydro with two boundaries, we need two tau terms for each the\n",
    "velocity and buoyancy. Here we choose to use a first-order formulation, putting\n",
    "one tau term each on auxiliary first-order gradient variables and the others in\n",
    "the PDE, and lifting them all to the first derivative basis. This formulation puts\n",
    "a tau term in the divergence constraint, as required for this geometry.\n",
    "\n",
    "To run and plot using e.g. 4 processes:\n",
    "    $ mpiexec -n 4 python3 rayleigh_benard.py\n",
    "    $ mpiexec -n 4 python3 plot_snapshots.py snapshots/*.h5\n",
    "\"\"\"\n"
   ]
  },
  {
   "cell_type": "code",
   "execution_count": 2,
   "metadata": {},
   "outputs": [],
   "source": [
    "import numpy as np\n",
    "import dedalus.public as d3\n",
    "import logging\n",
    "logger = logging.getLogger(__name__)"
   ]
  },
  {
   "cell_type": "code",
   "execution_count": 3,
   "metadata": {},
   "outputs": [],
   "source": [
    "# Parameters\n",
    "Lx, Lz = 4, 1\n",
    "Nx, Nz = 256, 64\n",
    "Rayleigh = 2e6\n",
    "Prandtl = 1\n",
    "dealias = 3/2\n",
    "stop_sim_time = 50\n",
    "timestepper = d3.RK222\n",
    "max_timestep = 0.125\n",
    "dtype = np.float64"
   ]
  },
  {
   "cell_type": "code",
   "execution_count": 4,
   "metadata": {},
   "outputs": [],
   "source": [
    "# Bases\n",
    "coords = d3.CartesianCoordinates('x', 'z')\n",
    "dist = d3.Distributor(coords, dtype=dtype)\n",
    "xbasis = d3.RealFourier(coords['x'], size=Nx, bounds=(0, Lx), dealias=dealias)\n",
    "zbasis = d3.ChebyshevT(coords['z'], size=Nz, bounds=(0, Lz), dealias=dealias)"
   ]
  },
  {
   "cell_type": "code",
   "execution_count": 5,
   "metadata": {},
   "outputs": [],
   "source": [
    "# Fields\n",
    "p = dist.Field(name='p', bases=(xbasis,zbasis))\n",
    "b = dist.Field(name='b', bases=(xbasis,zbasis))\n",
    "u = dist.VectorField(coords, name='u', bases=(xbasis,zbasis))\n",
    "tau_p = dist.Field(name='tau_p')\n",
    "tau_b1 = dist.Field(name='tau_b1', bases=xbasis)\n",
    "tau_b2 = dist.Field(name='tau_b2', bases=xbasis)\n",
    "tau_u1 = dist.VectorField(coords, name='tau_u1', bases=xbasis)\n",
    "tau_u2 = dist.VectorField(coords, name='tau_u2', bases=xbasis)\n",
    "tau_u3 = dist.VectorField(coords, name='tau_u3', bases=xbasis)\n",
    "tau_u4 = dist.VectorField(coords, name='tau_u4', bases=xbasis)\n",
    "# Substitutions\n",
    "kappa = (Rayleigh * Prandtl)**(-1/2)\n",
    "nu = (Rayleigh / Prandtl)**(-1/2)\n",
    "x, z = dist.local_grids(xbasis, zbasis)\n",
    "ex, ez = coords.unit_vector_fields(dist)\n",
    "lift_basis = zbasis.derivative_basis(1)\n",
    "lift = lambda A: d3.Lift(A, lift_basis, -1)\n",
    "grad_u = d3.grad(u) + ez*lift(tau_u1) # First-order reduction\n",
    "grad_b = d3.grad(b) + ez*lift(tau_b1) # First-order reduction\n",
    "dz= lambda A: d3.Differentiate(A, coords['z'])\n",
    "dx= lambda A: d3.Differentiate(A, coords['x'])"
   ]
  },
  {
   "cell_type": "code",
   "execution_count": 6,
   "metadata": {},
   "outputs": [
    {
     "data": {
      "text/plain": [
       "{'LHS': Integrate(Integrate(<Field 22993958387136>)),\n",
       " 'RHS': 0,\n",
       " 'condition': 'True',\n",
       " 'tensorsig': (),\n",
       " 'dtype': numpy.float64,\n",
       " 'M': 0,\n",
       " 'L': Integrate(Integrate(<Field 22993958387136>)),\n",
       " 'F': <Field 22993958690032>,\n",
       " 'domain': <dedalus.core.domain.Domain at 0x14e9b2b8ae60>,\n",
       " 'matrix_dependence': array([ True,  True]),\n",
       " 'matrix_coupling': array([False,  True])}"
      ]
     },
     "execution_count": 6,
     "metadata": {},
     "output_type": "execute_result"
    }
   ],
   "source": [
    "# Problem\n",
    "# First-order form: \"div(f)\" becomes \"trace(grad_f)\"\n",
    "# First-order form: \"lap(f)\" becomes \"div(grad_f)\"\n",
    "problem = d3.IVP([p, b, u, tau_p, tau_b1, tau_b2, tau_u1, tau_u2, tau_u3, tau_u4], namespace=locals())\n",
    "problem.add_equation(\"trace(grad_u)+ tau_p = 0\")\n",
    "problem.add_equation(\"dt(b) - kappa*div(grad_b) + lift(tau_b2) = - u@grad(b)\")\n",
    "problem.add_equation(\"dt(u) - nu*div(grad_u) + grad(p) - b*ez + lift(tau_u2)= - u@grad(u)-lift(tau_u3)-lift(tau_u4)\")\n",
    "problem.add_equation(\"b(z=0) = Lz\")\n",
    "problem.add_equation(\"u(z=0) = 0\")\n",
    "problem.add_equation(\"b(z=Lz) = 0\")\n",
    "problem.add_equation(\"u(z=Lz)@ez = 0\")\n",
    "problem.add_equation(\"u(z=Lz)@ex = 5\")\n",
    "problem.add_equation(\"dz(u)(z=Lz) = 0\")\n",
    "problem.add_equation(\"dz(u)(z=0) = 2\")\n",
    "problem.add_equation(\"integ(p) = 0\") # Pressure gauge"
   ]
  },
  {
   "cell_type": "code",
   "execution_count": 7,
   "metadata": {},
   "outputs": [
    {
     "name": "stdout",
     "output_type": "stream",
     "text": [
      "2023-06-15 18:44:30,045 subsystems 0/1 INFO :: Building subproblem matrices 1/128 (~1%) Elapsed: 0s, Remaining: 23s, Rate: 5.5e+00/s\n",
      "2023-06-15 18:44:30,646 subsystems 0/1 INFO :: Building subproblem matrices 13/128 (~10%) Elapsed: 1s, Remaining: 7s, Rate: 1.7e+01/s\n",
      "2023-06-15 18:44:31,309 subsystems 0/1 INFO :: Building subproblem matrices 26/128 (~20%) Elapsed: 1s, Remaining: 6s, Rate: 1.8e+01/s\n",
      "2023-06-15 18:44:31,928 subsystems 0/1 INFO :: Building subproblem matrices 39/128 (~30%) Elapsed: 2s, Remaining: 5s, Rate: 1.9e+01/s\n",
      "2023-06-15 18:44:32,545 subsystems 0/1 INFO :: Building subproblem matrices 52/128 (~41%) Elapsed: 3s, Remaining: 4s, Rate: 1.9e+01/s\n",
      "2023-06-15 18:44:33,167 subsystems 0/1 INFO :: Building subproblem matrices 65/128 (~51%) Elapsed: 3s, Remaining: 3s, Rate: 2.0e+01/s\n",
      "2023-06-15 18:44:33,784 subsystems 0/1 INFO :: Building subproblem matrices 78/128 (~61%) Elapsed: 4s, Remaining: 3s, Rate: 2.0e+01/s\n",
      "2023-06-15 18:44:34,400 subsystems 0/1 INFO :: Building subproblem matrices 91/128 (~71%) Elapsed: 5s, Remaining: 2s, Rate: 2.0e+01/s\n",
      "2023-06-15 18:44:35,015 subsystems 0/1 INFO :: Building subproblem matrices 104/128 (~81%) Elapsed: 5s, Remaining: 1s, Rate: 2.0e+01/s\n",
      "2023-06-15 18:44:35,633 subsystems 0/1 INFO :: Building subproblem matrices 117/128 (~91%) Elapsed: 6s, Remaining: 1s, Rate: 2.0e+01/s\n",
      "2023-06-15 18:44:36,155 subsystems 0/1 INFO :: Building subproblem matrices 128/128 (~100%) Elapsed: 6s, Remaining: 0s, Rate: 2.0e+01/s\n"
     ]
    }
   ],
   "source": [
    "# Solver\n",
    "solver = problem.build_solver(timestepper)\n",
    "solver.stop_sim_time = stop_sim_time\n"
   ]
  },
  {
   "cell_type": "code",
   "execution_count": 8,
   "metadata": {},
   "outputs": [],
   "source": [
    "# Initial conditions\n",
    "b.fill_random('g', seed=42, distribution='normal', scale=1e-3) # Random noise\n",
    "b['g'] *= z * (Lz - z) # Damp noise at walls\n",
    "b['g'] += Lz - z # Add linear background"
   ]
  },
  {
   "cell_type": "code",
   "execution_count": 9,
   "metadata": {},
   "outputs": [],
   "source": [
    "# Analysis\n",
    "snapshots = solver.evaluator.add_file_handler('snapshots', sim_dt=0.25, max_writes=50)\n",
    "snapshots.add_task(b, name='buoyancy')\n",
    "snapshots.add_task(-d3.div(d3.skew(u)), name='vorticity')"
   ]
  },
  {
   "cell_type": "code",
   "execution_count": 10,
   "metadata": {},
   "outputs": [],
   "source": [
    "# CFL\n",
    "CFL = d3.CFL(solver, initial_dt=max_timestep, cadence=10, safety=0.5, threshold=0.05,\n",
    "             max_change=1.5, min_change=0.5, max_dt=max_timestep)\n",
    "CFL.add_velocity(u)"
   ]
  },
  {
   "cell_type": "code",
   "execution_count": 11,
   "metadata": {},
   "outputs": [],
   "source": [
    "# Flow properties\n",
    "flow = d3.GlobalFlowProperty(solver, cadence=10)\n",
    "flow.add_property(np.sqrt(u@u)/nu, name='Re')\n"
   ]
  },
  {
   "cell_type": "code",
   "execution_count": 12,
   "metadata": {},
   "outputs": [
    {
     "name": "stdout",
     "output_type": "stream",
     "text": [
      "2023-06-15 18:44:36,296 __main__ 0/1 INFO :: Starting main loop\n",
      "2023-06-15 18:44:36,953 __main__ 0/1 ERROR :: Exception raised, triggering end of main loop.\n",
      "2023-06-15 18:44:36,956 solvers 0/1 INFO :: Final iteration: 0\n",
      "2023-06-15 18:44:36,958 solvers 0/1 INFO :: Final sim time: 0.0\n",
      "2023-06-15 18:44:36,961 solvers 0/1 INFO :: Setup time (init - iter 0): 6.965 sec\n",
      "2023-06-15 18:44:36,963 solvers 0/1 INFO :: Timings unavailable because warmup did not complete.\n"
     ]
    },
    {
     "ename": "RuntimeError",
     "evalue": "Factor is exactly singular",
     "output_type": "error",
     "traceback": [
      "\u001b[0;31m---------------------------------------------------------------------------\u001b[0m",
      "\u001b[0;31mRuntimeError\u001b[0m                              Traceback (most recent call last)",
      "Cell \u001b[0;32mIn[12], line 7\u001b[0m\n\u001b[1;32m      5\u001b[0m \u001b[38;5;28;01mwhile\u001b[39;00m solver\u001b[38;5;241m.\u001b[39mproceed:\n\u001b[1;32m      6\u001b[0m     timestep \u001b[38;5;241m=\u001b[39m CFL\u001b[38;5;241m.\u001b[39mcompute_timestep()\n\u001b[0;32m----> 7\u001b[0m     \u001b[43msolver\u001b[49m\u001b[38;5;241;43m.\u001b[39;49m\u001b[43mstep\u001b[49m\u001b[43m(\u001b[49m\u001b[43mtimestep\u001b[49m\u001b[43m)\u001b[49m\n\u001b[1;32m      8\u001b[0m     \u001b[38;5;28;01mif\u001b[39;00m (solver\u001b[38;5;241m.\u001b[39miteration\u001b[38;5;241m-\u001b[39m\u001b[38;5;241m1\u001b[39m) \u001b[38;5;241m%\u001b[39m \u001b[38;5;241m10\u001b[39m \u001b[38;5;241m==\u001b[39m \u001b[38;5;241m0\u001b[39m:\n\u001b[1;32m      9\u001b[0m         max_Re \u001b[38;5;241m=\u001b[39m flow\u001b[38;5;241m.\u001b[39mmax(\u001b[38;5;124m'\u001b[39m\u001b[38;5;124mRe\u001b[39m\u001b[38;5;124m'\u001b[39m)\n",
      "File \u001b[0;32m/ext3/miniconda3/lib/python3.10/site-packages/dedalus/core/solvers.py:620\u001b[0m, in \u001b[0;36mInitialValueSolver.step\u001b[0;34m(self, dt)\u001b[0m\n\u001b[1;32m    618\u001b[0m \u001b[38;5;66;03m# Advance using timestepper\u001b[39;00m\n\u001b[1;32m    619\u001b[0m wall_elapsed \u001b[38;5;241m=\u001b[39m wall_time \u001b[38;5;241m-\u001b[39m \u001b[38;5;28mself\u001b[39m\u001b[38;5;241m.\u001b[39minit_time\n\u001b[0;32m--> 620\u001b[0m \u001b[38;5;28;43mself\u001b[39;49m\u001b[38;5;241;43m.\u001b[39;49m\u001b[43mtimestepper\u001b[49m\u001b[38;5;241;43m.\u001b[39;49m\u001b[43mstep\u001b[49m\u001b[43m(\u001b[49m\u001b[43mdt\u001b[49m\u001b[43m,\u001b[49m\u001b[43m \u001b[49m\u001b[43mwall_elapsed\u001b[49m\u001b[43m)\u001b[49m\n\u001b[1;32m    621\u001b[0m \u001b[38;5;66;03m# Update iteration\u001b[39;00m\n\u001b[1;32m    622\u001b[0m \u001b[38;5;28mself\u001b[39m\u001b[38;5;241m.\u001b[39miteration \u001b[38;5;241m+\u001b[39m\u001b[38;5;241m=\u001b[39m \u001b[38;5;241m1\u001b[39m\n",
      "File \u001b[0;32m/ext3/miniconda3/lib/python3.10/site-packages/dedalus/core/timesteppers.py:626\u001b[0m, in \u001b[0;36mRungeKuttaIMEX.step\u001b[0;34m(self, dt, wall_time)\u001b[0m\n\u001b[1;32m    624\u001b[0m     \u001b[38;5;28;01melse\u001b[39;00m:\n\u001b[1;32m    625\u001b[0m         sp\u001b[38;5;241m.\u001b[39mLHS \u001b[38;5;241m=\u001b[39m (sp\u001b[38;5;241m.\u001b[39mM_min \u001b[38;5;241m+\u001b[39m (k\u001b[38;5;241m*\u001b[39mH[i,i])\u001b[38;5;241m*\u001b[39msp\u001b[38;5;241m.\u001b[39mL_min) \u001b[38;5;241m@\u001b[39m sp\u001b[38;5;241m.\u001b[39mpre_right  \u001b[38;5;66;03m# CREATES TEMPORARY\u001b[39;00m\n\u001b[0;32m--> 626\u001b[0m     sp\u001b[38;5;241m.\u001b[39mLHS_solvers[i] \u001b[38;5;241m=\u001b[39m \u001b[43msolver\u001b[49m\u001b[38;5;241;43m.\u001b[39;49m\u001b[43mmatsolver\u001b[49m\u001b[43m(\u001b[49m\u001b[43msp\u001b[49m\u001b[38;5;241;43m.\u001b[39;49m\u001b[43mLHS\u001b[49m\u001b[43m,\u001b[49m\u001b[43m \u001b[49m\u001b[43msolver\u001b[49m\u001b[43m)\u001b[49m\n\u001b[1;32m    627\u001b[0m \u001b[38;5;66;03m# Slice out valid subdata, skipping invalid components\u001b[39;00m\n\u001b[1;32m    628\u001b[0m spRHS \u001b[38;5;241m=\u001b[39m RHS\u001b[38;5;241m.\u001b[39mget_subdata(sp)[:sp\u001b[38;5;241m.\u001b[39mLHS\u001b[38;5;241m.\u001b[39mshape[\u001b[38;5;241m0\u001b[39m]]\n",
      "File \u001b[0;32m/ext3/miniconda3/lib/python3.10/site-packages/dedalus/libraries/matsolvers.py:129\u001b[0m, in \u001b[0;36mSuperluNaturalFactorizedTranspose.__init__\u001b[0;34m(self, matrix, solver)\u001b[0m\n\u001b[1;32m    128\u001b[0m \u001b[38;5;28;01mdef\u001b[39;00m \u001b[38;5;21m__init__\u001b[39m(\u001b[38;5;28mself\u001b[39m, matrix, solver\u001b[38;5;241m=\u001b[39m\u001b[38;5;28;01mNone\u001b[39;00m):\n\u001b[0;32m--> 129\u001b[0m     \u001b[38;5;28mself\u001b[39m\u001b[38;5;241m.\u001b[39mLU \u001b[38;5;241m=\u001b[39m \u001b[43mspla\u001b[49m\u001b[38;5;241;43m.\u001b[39;49m\u001b[43msplu\u001b[49m\u001b[43m(\u001b[49m\u001b[43mmatrix\u001b[49m\u001b[38;5;241;43m.\u001b[39;49m\u001b[43mT\u001b[49m\u001b[38;5;241;43m.\u001b[39;49m\u001b[43mtocsc\u001b[49m\u001b[43m(\u001b[49m\u001b[43m)\u001b[49m\u001b[43m,\u001b[49m\u001b[43m \u001b[49m\u001b[43mpermc_spec\u001b[49m\u001b[38;5;241;43m=\u001b[39;49m\u001b[38;5;124;43m'\u001b[39;49m\u001b[38;5;124;43mNATURAL\u001b[39;49m\u001b[38;5;124;43m'\u001b[39;49m\u001b[43m)\u001b[49m\n",
      "File \u001b[0;32m/ext3/miniconda3/lib/python3.10/site-packages/scipy/sparse/linalg/_dsolve/linsolve.py:413\u001b[0m, in \u001b[0;36msplu\u001b[0;34m(A, permc_spec, diag_pivot_thresh, relax, panel_size, options)\u001b[0m\n\u001b[1;32m    410\u001b[0m \u001b[38;5;28;01mif\u001b[39;00m (_options[\u001b[38;5;124m\"\u001b[39m\u001b[38;5;124mColPerm\u001b[39m\u001b[38;5;124m\"\u001b[39m] \u001b[38;5;241m==\u001b[39m \u001b[38;5;124m\"\u001b[39m\u001b[38;5;124mNATURAL\u001b[39m\u001b[38;5;124m\"\u001b[39m):\n\u001b[1;32m    411\u001b[0m     _options[\u001b[38;5;124m\"\u001b[39m\u001b[38;5;124mSymmetricMode\u001b[39m\u001b[38;5;124m\"\u001b[39m] \u001b[38;5;241m=\u001b[39m \u001b[38;5;28;01mTrue\u001b[39;00m\n\u001b[0;32m--> 413\u001b[0m \u001b[38;5;28;01mreturn\u001b[39;00m \u001b[43m_superlu\u001b[49m\u001b[38;5;241;43m.\u001b[39;49m\u001b[43mgstrf\u001b[49m\u001b[43m(\u001b[49m\u001b[43mN\u001b[49m\u001b[43m,\u001b[49m\u001b[43m \u001b[49m\u001b[43mA\u001b[49m\u001b[38;5;241;43m.\u001b[39;49m\u001b[43mnnz\u001b[49m\u001b[43m,\u001b[49m\u001b[43m \u001b[49m\u001b[43mA\u001b[49m\u001b[38;5;241;43m.\u001b[39;49m\u001b[43mdata\u001b[49m\u001b[43m,\u001b[49m\u001b[43m \u001b[49m\u001b[43mA\u001b[49m\u001b[38;5;241;43m.\u001b[39;49m\u001b[43mindices\u001b[49m\u001b[43m,\u001b[49m\u001b[43m \u001b[49m\u001b[43mA\u001b[49m\u001b[38;5;241;43m.\u001b[39;49m\u001b[43mindptr\u001b[49m\u001b[43m,\u001b[49m\n\u001b[1;32m    414\u001b[0m \u001b[43m                      \u001b[49m\u001b[43mcsc_construct_func\u001b[49m\u001b[38;5;241;43m=\u001b[39;49m\u001b[43mcsc_construct_func\u001b[49m\u001b[43m,\u001b[49m\n\u001b[1;32m    415\u001b[0m \u001b[43m                      \u001b[49m\u001b[43milu\u001b[49m\u001b[38;5;241;43m=\u001b[39;49m\u001b[38;5;28;43;01mFalse\u001b[39;49;00m\u001b[43m,\u001b[49m\u001b[43m \u001b[49m\u001b[43moptions\u001b[49m\u001b[38;5;241;43m=\u001b[39;49m\u001b[43m_options\u001b[49m\u001b[43m)\u001b[49m\n",
      "\u001b[0;31mRuntimeError\u001b[0m: Factor is exactly singular"
     ]
    }
   ],
   "source": [
    "# Main loop\n",
    "startup_iter = 10\n",
    "try:\n",
    "    logger.info('Starting main loop')\n",
    "    while solver.proceed:\n",
    "        timestep = CFL.compute_timestep()\n",
    "        solver.step(timestep)\n",
    "        if (solver.iteration-1) % 10 == 0:\n",
    "            max_Re = flow.max('Re')\n",
    "            logger.info('Iteration=%i, Time=%e, dt=%e, max(Re)=%f' %(solver.iteration, solver.sim_time, timestep, max_Re))\n",
    "except:\n",
    "    logger.error('Exception raised, triggering end of main loop.')\n",
    "    raise\n",
    "finally:\n",
    "    solver.log_stats()"
   ]
  },
  {
   "cell_type": "code",
   "execution_count": null,
   "metadata": {},
   "outputs": [],
   "source": []
  }
 ],
 "metadata": {
  "kernelspec": {
   "display_name": "dedalus3",
   "language": "python",
   "name": "dedalus3"
  },
  "language_info": {
   "codemirror_mode": {
    "name": "ipython",
    "version": 3
   },
   "file_extension": ".py",
   "mimetype": "text/x-python",
   "name": "python",
   "nbconvert_exporter": "python",
   "pygments_lexer": "ipython3",
   "version": "3.10.10"
  }
 },
 "nbformat": 4,
 "nbformat_minor": 4
}
